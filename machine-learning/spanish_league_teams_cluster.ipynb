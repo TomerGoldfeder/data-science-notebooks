{
 "cells": [
  {
   "cell_type": "markdown",
   "metadata": {},
   "source": [
    "# Spanish League Teams Clustering"
   ]
  },
  {
   "cell_type": "markdown",
   "metadata": {},
   "source": [
    "In this notebook we will explore the teams in the Spanish League division 1, we will cluster them by away and home points they earned in a given seasons range."
   ]
  },
  {
   "cell_type": "code",
   "execution_count": 1,
   "metadata": {},
   "outputs": [],
   "source": [
    "import pandas as pd\n",
    "import numpy as np\n",
    "import matplotlib.pyplot as plt\n",
    "import seaborn as sns"
   ]
  },
  {
   "cell_type": "markdown",
   "metadata": {},
   "source": [
    "## Loading and exploring the data"
   ]
  },
  {
   "cell_type": "code",
   "execution_count": 2,
   "metadata": {},
   "outputs": [],
   "source": [
    "df = pd.read_csv(\"./data/spanish_league.csv\")"
   ]
  },
  {
   "cell_type": "code",
   "execution_count": 3,
   "metadata": {},
   "outputs": [
    {
     "data": {
      "text/html": [
       "<div>\n",
       "<style scoped>\n",
       "    .dataframe tbody tr th:only-of-type {\n",
       "        vertical-align: middle;\n",
       "    }\n",
       "\n",
       "    .dataframe tbody tr th {\n",
       "        vertical-align: top;\n",
       "    }\n",
       "\n",
       "    .dataframe thead th {\n",
       "        text-align: right;\n",
       "    }\n",
       "</style>\n",
       "<table border=\"1\" class=\"dataframe\">\n",
       "  <thead>\n",
       "    <tr style=\"text-align: right;\">\n",
       "      <th></th>\n",
       "      <th>id</th>\n",
       "      <th>season</th>\n",
       "      <th>division</th>\n",
       "      <th>round</th>\n",
       "      <th>localTeam</th>\n",
       "      <th>visitorTeam</th>\n",
       "      <th>localGoals</th>\n",
       "      <th>visitorGoals</th>\n",
       "      <th>date</th>\n",
       "      <th>timestamp</th>\n",
       "    </tr>\n",
       "  </thead>\n",
       "  <tbody>\n",
       "    <tr>\n",
       "      <th>0</th>\n",
       "      <td>1</td>\n",
       "      <td>1970-71</td>\n",
       "      <td>1</td>\n",
       "      <td>1</td>\n",
       "      <td>Atletico de Bilbao</td>\n",
       "      <td>Barcelona</td>\n",
       "      <td>1</td>\n",
       "      <td>1</td>\n",
       "      <td>12/09/1970</td>\n",
       "      <td>21938400</td>\n",
       "    </tr>\n",
       "    <tr>\n",
       "      <th>1</th>\n",
       "      <td>2</td>\n",
       "      <td>1970-71</td>\n",
       "      <td>1</td>\n",
       "      <td>1</td>\n",
       "      <td>Las Palmas</td>\n",
       "      <td>Atletico de Madrid</td>\n",
       "      <td>1</td>\n",
       "      <td>1</td>\n",
       "      <td>12/09/1970</td>\n",
       "      <td>21938400</td>\n",
       "    </tr>\n",
       "    <tr>\n",
       "      <th>2</th>\n",
       "      <td>3</td>\n",
       "      <td>1970-71</td>\n",
       "      <td>1</td>\n",
       "      <td>1</td>\n",
       "      <td>Real Madrid</td>\n",
       "      <td>Valencia</td>\n",
       "      <td>2</td>\n",
       "      <td>0</td>\n",
       "      <td>12/09/1970</td>\n",
       "      <td>21938400</td>\n",
       "    </tr>\n",
       "    <tr>\n",
       "      <th>3</th>\n",
       "      <td>4</td>\n",
       "      <td>1970-71</td>\n",
       "      <td>1</td>\n",
       "      <td>1</td>\n",
       "      <td>Celta de Vigo</td>\n",
       "      <td>Sporting de Gijon</td>\n",
       "      <td>2</td>\n",
       "      <td>0</td>\n",
       "      <td>13/09/1970</td>\n",
       "      <td>22024800</td>\n",
       "    </tr>\n",
       "    <tr>\n",
       "      <th>4</th>\n",
       "      <td>5</td>\n",
       "      <td>1970-71</td>\n",
       "      <td>1</td>\n",
       "      <td>1</td>\n",
       "      <td>Elche</td>\n",
       "      <td>Granada</td>\n",
       "      <td>1</td>\n",
       "      <td>1</td>\n",
       "      <td>13/09/1970</td>\n",
       "      <td>22024800</td>\n",
       "    </tr>\n",
       "  </tbody>\n",
       "</table>\n",
       "</div>"
      ],
      "text/plain": [
       "   id   season  division  round           localTeam         visitorTeam  \\\n",
       "0   1  1970-71         1      1  Atletico de Bilbao           Barcelona   \n",
       "1   2  1970-71         1      1          Las Palmas  Atletico de Madrid   \n",
       "2   3  1970-71         1      1         Real Madrid            Valencia   \n",
       "3   4  1970-71         1      1       Celta de Vigo   Sporting de Gijon   \n",
       "4   5  1970-71         1      1               Elche             Granada   \n",
       "\n",
       "   localGoals  visitorGoals        date  timestamp  \n",
       "0           1             1  12/09/1970   21938400  \n",
       "1           1             1  12/09/1970   21938400  \n",
       "2           2             0  12/09/1970   21938400  \n",
       "3           2             0  13/09/1970   22024800  \n",
       "4           1             1  13/09/1970   22024800  "
      ]
     },
     "execution_count": 3,
     "metadata": {},
     "output_type": "execute_result"
    }
   ],
   "source": [
    "df.head()"
   ]
  },
  {
   "cell_type": "code",
   "execution_count": 4,
   "metadata": {},
   "outputs": [
    {
     "data": {
      "text/html": [
       "<div>\n",
       "<style scoped>\n",
       "    .dataframe tbody tr th:only-of-type {\n",
       "        vertical-align: middle;\n",
       "    }\n",
       "\n",
       "    .dataframe tbody tr th {\n",
       "        vertical-align: top;\n",
       "    }\n",
       "\n",
       "    .dataframe thead th {\n",
       "        text-align: right;\n",
       "    }\n",
       "</style>\n",
       "<table border=\"1\" class=\"dataframe\">\n",
       "  <thead>\n",
       "    <tr style=\"text-align: right;\">\n",
       "      <th></th>\n",
       "      <th>id</th>\n",
       "      <th>season</th>\n",
       "      <th>division</th>\n",
       "      <th>round</th>\n",
       "      <th>localTeam</th>\n",
       "      <th>visitorTeam</th>\n",
       "      <th>localGoals</th>\n",
       "      <th>visitorGoals</th>\n",
       "      <th>date</th>\n",
       "      <th>timestamp</th>\n",
       "    </tr>\n",
       "  </thead>\n",
       "  <tbody>\n",
       "    <tr>\n",
       "      <th>37142</th>\n",
       "      <td>37143</td>\n",
       "      <td>2017-18</td>\n",
       "      <td>2</td>\n",
       "      <td>42</td>\n",
       "      <td>Valladolid</td>\n",
       "      <td>Osasuna</td>\n",
       "      <td>2</td>\n",
       "      <td>0</td>\n",
       "      <td>02/06/2018</td>\n",
       "      <td>1527890400</td>\n",
       "    </tr>\n",
       "    <tr>\n",
       "      <th>37143</th>\n",
       "      <td>37144</td>\n",
       "      <td>2017-18</td>\n",
       "      <td>2</td>\n",
       "      <td>42</td>\n",
       "      <td>Oviedo</td>\n",
       "      <td>Huesca</td>\n",
       "      <td>2</td>\n",
       "      <td>1</td>\n",
       "      <td>02/06/2018</td>\n",
       "      <td>1527890400</td>\n",
       "    </tr>\n",
       "    <tr>\n",
       "      <th>37144</th>\n",
       "      <td>37145</td>\n",
       "      <td>2017-18</td>\n",
       "      <td>2</td>\n",
       "      <td>42</td>\n",
       "      <td>Alcorcon</td>\n",
       "      <td>Reus</td>\n",
       "      <td>3</td>\n",
       "      <td>0</td>\n",
       "      <td>02/06/2018</td>\n",
       "      <td>1527890400</td>\n",
       "    </tr>\n",
       "    <tr>\n",
       "      <th>37145</th>\n",
       "      <td>37146</td>\n",
       "      <td>2017-18</td>\n",
       "      <td>2</td>\n",
       "      <td>42</td>\n",
       "      <td>Numancia</td>\n",
       "      <td>Cultural Leonesa</td>\n",
       "      <td>2</td>\n",
       "      <td>1</td>\n",
       "      <td>02/06/2018</td>\n",
       "      <td>1527890400</td>\n",
       "    </tr>\n",
       "    <tr>\n",
       "      <th>37146</th>\n",
       "      <td>37147</td>\n",
       "      <td>2017-18</td>\n",
       "      <td>2</td>\n",
       "      <td>42</td>\n",
       "      <td>Barcelona Atletic</td>\n",
       "      <td>Zaragoza</td>\n",
       "      <td>0</td>\n",
       "      <td>2</td>\n",
       "      <td>02/06/2018</td>\n",
       "      <td>1527890400</td>\n",
       "    </tr>\n",
       "  </tbody>\n",
       "</table>\n",
       "</div>"
      ],
      "text/plain": [
       "          id   season  division  round          localTeam       visitorTeam  \\\n",
       "37142  37143  2017-18         2     42         Valladolid           Osasuna   \n",
       "37143  37144  2017-18         2     42             Oviedo            Huesca   \n",
       "37144  37145  2017-18         2     42           Alcorcon              Reus   \n",
       "37145  37146  2017-18         2     42           Numancia  Cultural Leonesa   \n",
       "37146  37147  2017-18         2     42  Barcelona Atletic          Zaragoza   \n",
       "\n",
       "       localGoals  visitorGoals        date   timestamp  \n",
       "37142           2             0  02/06/2018  1527890400  \n",
       "37143           2             1  02/06/2018  1527890400  \n",
       "37144           3             0  02/06/2018  1527890400  \n",
       "37145           2             1  02/06/2018  1527890400  \n",
       "37146           0             2  02/06/2018  1527890400  "
      ]
     },
     "execution_count": 4,
     "metadata": {},
     "output_type": "execute_result"
    }
   ],
   "source": [
    "df.tail()"
   ]
  },
  {
   "cell_type": "code",
   "execution_count": 5,
   "metadata": {
    "scrolled": true
   },
   "outputs": [
    {
     "data": {
      "text/plain": [
       "Index(['id', 'season', 'division', 'round', 'localTeam', 'visitorTeam',\n",
       "       'localGoals', 'visitorGoals', 'date', 'timestamp'],\n",
       "      dtype='object')"
      ]
     },
     "execution_count": 5,
     "metadata": {},
     "output_type": "execute_result"
    }
   ],
   "source": [
    "df.columns"
   ]
  },
  {
   "cell_type": "code",
   "execution_count": 6,
   "metadata": {},
   "outputs": [
    {
     "data": {
      "text/plain": [
       "id              0\n",
       "season          0\n",
       "division        0\n",
       "round           0\n",
       "localTeam       0\n",
       "visitorTeam     0\n",
       "localGoals      0\n",
       "visitorGoals    0\n",
       "date            0\n",
       "timestamp       0\n",
       "dtype: int64"
      ]
     },
     "execution_count": 6,
     "metadata": {},
     "output_type": "execute_result"
    }
   ],
   "source": [
    "df.isnull().sum()"
   ]
  },
  {
   "cell_type": "code",
   "execution_count": 7,
   "metadata": {},
   "outputs": [
    {
     "data": {
      "text/html": [
       "<div>\n",
       "<style scoped>\n",
       "    .dataframe tbody tr th:only-of-type {\n",
       "        vertical-align: middle;\n",
       "    }\n",
       "\n",
       "    .dataframe tbody tr th {\n",
       "        vertical-align: top;\n",
       "    }\n",
       "\n",
       "    .dataframe thead th {\n",
       "        text-align: right;\n",
       "    }\n",
       "</style>\n",
       "<table border=\"1\" class=\"dataframe\">\n",
       "  <thead>\n",
       "    <tr style=\"text-align: right;\">\n",
       "      <th></th>\n",
       "      <th>id</th>\n",
       "      <th>division</th>\n",
       "      <th>round</th>\n",
       "      <th>localGoals</th>\n",
       "      <th>visitorGoals</th>\n",
       "      <th>timestamp</th>\n",
       "    </tr>\n",
       "  </thead>\n",
       "  <tbody>\n",
       "    <tr>\n",
       "      <th>count</th>\n",
       "      <td>37147.000000</td>\n",
       "      <td>37147.000000</td>\n",
       "      <td>37147.000000</td>\n",
       "      <td>37147.000000</td>\n",
       "      <td>37147.000000</td>\n",
       "      <td>3.714700e+04</td>\n",
       "    </tr>\n",
       "    <tr>\n",
       "      <th>mean</th>\n",
       "      <td>18574.000000</td>\n",
       "      <td>1.537809</td>\n",
       "      <td>19.862896</td>\n",
       "      <td>1.515385</td>\n",
       "      <td>0.936953</td>\n",
       "      <td>8.116889e+08</td>\n",
       "    </tr>\n",
       "    <tr>\n",
       "      <th>std</th>\n",
       "      <td>10723.559561</td>\n",
       "      <td>0.498575</td>\n",
       "      <td>11.282774</td>\n",
       "      <td>1.262742</td>\n",
       "      <td>1.010263</td>\n",
       "      <td>4.322134e+08</td>\n",
       "    </tr>\n",
       "    <tr>\n",
       "      <th>min</th>\n",
       "      <td>1.000000</td>\n",
       "      <td>1.000000</td>\n",
       "      <td>1.000000</td>\n",
       "      <td>0.000000</td>\n",
       "      <td>0.000000</td>\n",
       "      <td>2.133360e+07</td>\n",
       "    </tr>\n",
       "    <tr>\n",
       "      <th>25%</th>\n",
       "      <td>9287.500000</td>\n",
       "      <td>1.000000</td>\n",
       "      <td>10.000000</td>\n",
       "      <td>1.000000</td>\n",
       "      <td>0.000000</td>\n",
       "      <td>4.453884e+08</td>\n",
       "    </tr>\n",
       "    <tr>\n",
       "      <th>50%</th>\n",
       "      <td>18574.000000</td>\n",
       "      <td>2.000000</td>\n",
       "      <td>20.000000</td>\n",
       "      <td>1.000000</td>\n",
       "      <td>1.000000</td>\n",
       "      <td>8.317656e+08</td>\n",
       "    </tr>\n",
       "    <tr>\n",
       "      <th>75%</th>\n",
       "      <td>27860.500000</td>\n",
       "      <td>2.000000</td>\n",
       "      <td>29.000000</td>\n",
       "      <td>2.000000</td>\n",
       "      <td>1.000000</td>\n",
       "      <td>1.181426e+09</td>\n",
       "    </tr>\n",
       "    <tr>\n",
       "      <th>max</th>\n",
       "      <td>37147.000000</td>\n",
       "      <td>2.000000</td>\n",
       "      <td>44.000000</td>\n",
       "      <td>10.000000</td>\n",
       "      <td>8.000000</td>\n",
       "      <td>1.527890e+09</td>\n",
       "    </tr>\n",
       "  </tbody>\n",
       "</table>\n",
       "</div>"
      ],
      "text/plain": [
       "                 id      division         round    localGoals  visitorGoals  \\\n",
       "count  37147.000000  37147.000000  37147.000000  37147.000000  37147.000000   \n",
       "mean   18574.000000      1.537809     19.862896      1.515385      0.936953   \n",
       "std    10723.559561      0.498575     11.282774      1.262742      1.010263   \n",
       "min        1.000000      1.000000      1.000000      0.000000      0.000000   \n",
       "25%     9287.500000      1.000000     10.000000      1.000000      0.000000   \n",
       "50%    18574.000000      2.000000     20.000000      1.000000      1.000000   \n",
       "75%    27860.500000      2.000000     29.000000      2.000000      1.000000   \n",
       "max    37147.000000      2.000000     44.000000     10.000000      8.000000   \n",
       "\n",
       "          timestamp  \n",
       "count  3.714700e+04  \n",
       "mean   8.116889e+08  \n",
       "std    4.322134e+08  \n",
       "min    2.133360e+07  \n",
       "25%    4.453884e+08  \n",
       "50%    8.317656e+08  \n",
       "75%    1.181426e+09  \n",
       "max    1.527890e+09  "
      ]
     },
     "execution_count": 7,
     "metadata": {},
     "output_type": "execute_result"
    }
   ],
   "source": [
    "df.describe()"
   ]
  },
  {
   "cell_type": "code",
   "execution_count": 8,
   "metadata": {
    "scrolled": true
   },
   "outputs": [
    {
     "name": "stdout",
     "output_type": "stream",
     "text": [
      "<class 'pandas.core.frame.DataFrame'>\n",
      "RangeIndex: 37147 entries, 0 to 37146\n",
      "Data columns (total 10 columns):\n",
      " #   Column        Non-Null Count  Dtype \n",
      "---  ------        --------------  ----- \n",
      " 0   id            37147 non-null  int64 \n",
      " 1   season        37147 non-null  object\n",
      " 2   division      37147 non-null  int64 \n",
      " 3   round         37147 non-null  int64 \n",
      " 4   localTeam     37147 non-null  object\n",
      " 5   visitorTeam   37147 non-null  object\n",
      " 6   localGoals    37147 non-null  int64 \n",
      " 7   visitorGoals  37147 non-null  int64 \n",
      " 8   date          37147 non-null  object\n",
      " 9   timestamp     37147 non-null  int64 \n",
      "dtypes: int64(6), object(4)\n",
      "memory usage: 2.8+ MB\n"
     ]
    }
   ],
   "source": [
    "df.info()"
   ]
  },
  {
   "cell_type": "markdown",
   "metadata": {},
   "source": [
    "We can see that the `season` column is in a format of `'XX01-02'`, we also have `division` column which we will use to screen the other leagues.  \n",
    "Finally we have `localTeam`, `visitorTeam` columns and their respected goals, `localGoals`, `visitorGoals`.  \n",
    "\n",
    "We see that there are no null values and the columns we are going to use are in the right format and are clean.  \n",
    "\n",
    "The `date`, `timestamp` and `round` columns are not important for us at this point."
   ]
  },
  {
   "cell_type": "code",
   "execution_count": 9,
   "metadata": {},
   "outputs": [],
   "source": [
    "df = df.drop([\"date\", 'timestamp', 'round'], axis=1)"
   ]
  },
  {
   "cell_type": "code",
   "execution_count": 10,
   "metadata": {},
   "outputs": [
    {
     "data": {
      "text/html": [
       "<div>\n",
       "<style scoped>\n",
       "    .dataframe tbody tr th:only-of-type {\n",
       "        vertical-align: middle;\n",
       "    }\n",
       "\n",
       "    .dataframe tbody tr th {\n",
       "        vertical-align: top;\n",
       "    }\n",
       "\n",
       "    .dataframe thead th {\n",
       "        text-align: right;\n",
       "    }\n",
       "</style>\n",
       "<table border=\"1\" class=\"dataframe\">\n",
       "  <thead>\n",
       "    <tr style=\"text-align: right;\">\n",
       "      <th></th>\n",
       "      <th>id</th>\n",
       "      <th>season</th>\n",
       "      <th>division</th>\n",
       "      <th>localTeam</th>\n",
       "      <th>visitorTeam</th>\n",
       "      <th>localGoals</th>\n",
       "      <th>visitorGoals</th>\n",
       "    </tr>\n",
       "  </thead>\n",
       "  <tbody>\n",
       "    <tr>\n",
       "      <th>0</th>\n",
       "      <td>1</td>\n",
       "      <td>1970-71</td>\n",
       "      <td>1</td>\n",
       "      <td>Atletico de Bilbao</td>\n",
       "      <td>Barcelona</td>\n",
       "      <td>1</td>\n",
       "      <td>1</td>\n",
       "    </tr>\n",
       "    <tr>\n",
       "      <th>1</th>\n",
       "      <td>2</td>\n",
       "      <td>1970-71</td>\n",
       "      <td>1</td>\n",
       "      <td>Las Palmas</td>\n",
       "      <td>Atletico de Madrid</td>\n",
       "      <td>1</td>\n",
       "      <td>1</td>\n",
       "    </tr>\n",
       "    <tr>\n",
       "      <th>2</th>\n",
       "      <td>3</td>\n",
       "      <td>1970-71</td>\n",
       "      <td>1</td>\n",
       "      <td>Real Madrid</td>\n",
       "      <td>Valencia</td>\n",
       "      <td>2</td>\n",
       "      <td>0</td>\n",
       "    </tr>\n",
       "    <tr>\n",
       "      <th>3</th>\n",
       "      <td>4</td>\n",
       "      <td>1970-71</td>\n",
       "      <td>1</td>\n",
       "      <td>Celta de Vigo</td>\n",
       "      <td>Sporting de Gijon</td>\n",
       "      <td>2</td>\n",
       "      <td>0</td>\n",
       "    </tr>\n",
       "    <tr>\n",
       "      <th>4</th>\n",
       "      <td>5</td>\n",
       "      <td>1970-71</td>\n",
       "      <td>1</td>\n",
       "      <td>Elche</td>\n",
       "      <td>Granada</td>\n",
       "      <td>1</td>\n",
       "      <td>1</td>\n",
       "    </tr>\n",
       "  </tbody>\n",
       "</table>\n",
       "</div>"
      ],
      "text/plain": [
       "   id   season  division           localTeam         visitorTeam  localGoals  \\\n",
       "0   1  1970-71         1  Atletico de Bilbao           Barcelona           1   \n",
       "1   2  1970-71         1          Las Palmas  Atletico de Madrid           1   \n",
       "2   3  1970-71         1         Real Madrid            Valencia           2   \n",
       "3   4  1970-71         1       Celta de Vigo   Sporting de Gijon           2   \n",
       "4   5  1970-71         1               Elche             Granada           1   \n",
       "\n",
       "   visitorGoals  \n",
       "0             1  \n",
       "1             1  \n",
       "2             0  \n",
       "3             0  \n",
       "4             1  "
      ]
     },
     "execution_count": 10,
     "metadata": {},
     "output_type": "execute_result"
    }
   ],
   "source": [
    "df.head()"
   ]
  },
  {
   "cell_type": "markdown",
   "metadata": {},
   "source": [
    "## We will only look at the first division"
   ]
  },
  {
   "cell_type": "code",
   "execution_count": 11,
   "metadata": {},
   "outputs": [],
   "source": [
    "df = df[df['division'] == 1]"
   ]
  },
  {
   "cell_type": "markdown",
   "metadata": {},
   "source": [
    "checking that the teams are written ok and that the same away team are in the visitor teams (each team has away and home game with the other teams)"
   ]
  },
  {
   "cell_type": "code",
   "execution_count": 12,
   "metadata": {},
   "outputs": [
    {
     "data": {
      "text/plain": [
       "array(['Atletico de Bilbao', 'Las Palmas', 'Real Madrid', 'Celta de Vigo',\n",
       "       'Elche', 'Espanol', 'Sabadell', 'Zaragoza', 'Valencia',\n",
       "       'Atletico de Madrid', 'Barcelona', 'Sporting de Gijon', 'Granada',\n",
       "       'CD Malaga', 'Real Sociedad', 'Sevilla', 'Deportivo', 'Betis',\n",
       "       'Burgos', 'Cordoba', 'Castellon', 'Oviedo', 'Santander', 'Murcia',\n",
       "       'Hercules', 'Salamanca', 'Cadiz', 'Rayo Vallecano',\n",
       "       'Recreativo de Huelva', 'AD Almeria', 'Osasuna', 'Valladolid',\n",
       "       'Mallorca', 'Logrones', 'Tenerife', 'Real Burgos', 'Albacete',\n",
       "       'Lleida', 'Compostela', 'Merida', 'Extremadura', 'Alaves',\n",
       "       'Villarreal', 'Malaga', 'Numancia', 'Getafe', 'Levante',\n",
       "       'Gimnastic de Tarragona', 'Almeria', 'Xerez', 'Eibar', 'Leganes',\n",
       "       'Girona'], dtype=object)"
      ]
     },
     "execution_count": 12,
     "metadata": {},
     "output_type": "execute_result"
    }
   ],
   "source": [
    "local_teams = df['localTeam'].unique()\n",
    "visitor_teams = df['visitorTeam'].unique()\n",
    "local_teams"
   ]
  },
  {
   "cell_type": "code",
   "execution_count": 13,
   "metadata": {},
   "outputs": [
    {
     "data": {
      "text/plain": [
       "True"
      ]
     },
     "execution_count": 13,
     "metadata": {},
     "output_type": "execute_result"
    }
   ],
   "source": [
    "set(visitor_teams) == set(local_teams)"
   ]
  },
  {
   "cell_type": "markdown",
   "metadata": {},
   "source": [
    "## Screen the dataframe for the choosen seasons"
   ]
  },
  {
   "cell_type": "markdown",
   "metadata": {},
   "source": [
    "The dataset is ordered by date, so we will find the start and end seasons groups and take the first index of the start season and the last index of the end season.  \n",
    "Lets choose the seasons range:"
   ]
  },
  {
   "cell_type": "code",
   "execution_count": 14,
   "metadata": {},
   "outputs": [],
   "source": [
    "def get_df_by_seasons(start_season, end_season):\n",
    "    start_index = df[df['season'] == start_season]\n",
    "    end_index = df[df['season'] == end_season]\n",
    "\n",
    "    idx_end = end_index.iloc[-1]['id']\n",
    "    idx_start = start_index.iloc[0]['id']\n",
    "\n",
    "    _df_seasons = df[df['id'].isin(list(range(idx_start, idx_end+1)))]\n",
    "    return _df_seasons"
   ]
  },
  {
   "cell_type": "code",
   "execution_count": 15,
   "metadata": {},
   "outputs": [],
   "source": [
    "df_seasons = get_df_by_seasons(\"1974-75\", \"1990-91\")"
   ]
  },
  {
   "cell_type": "code",
   "execution_count": 16,
   "metadata": {
    "scrolled": true
   },
   "outputs": [
    {
     "data": {
      "text/html": [
       "<div>\n",
       "<style scoped>\n",
       "    .dataframe tbody tr th:only-of-type {\n",
       "        vertical-align: middle;\n",
       "    }\n",
       "\n",
       "    .dataframe tbody tr th {\n",
       "        vertical-align: top;\n",
       "    }\n",
       "\n",
       "    .dataframe thead th {\n",
       "        text-align: right;\n",
       "    }\n",
       "</style>\n",
       "<table border=\"1\" class=\"dataframe\">\n",
       "  <thead>\n",
       "    <tr style=\"text-align: right;\">\n",
       "      <th></th>\n",
       "      <th>id</th>\n",
       "      <th>season</th>\n",
       "      <th>division</th>\n",
       "      <th>localTeam</th>\n",
       "      <th>visitorTeam</th>\n",
       "      <th>localGoals</th>\n",
       "      <th>visitorGoals</th>\n",
       "    </tr>\n",
       "  </thead>\n",
       "  <tbody>\n",
       "    <tr>\n",
       "      <th>2678</th>\n",
       "      <td>2679</td>\n",
       "      <td>1974-75</td>\n",
       "      <td>1</td>\n",
       "      <td>Espanol</td>\n",
       "      <td>Celta de Vigo</td>\n",
       "      <td>2</td>\n",
       "      <td>0</td>\n",
       "    </tr>\n",
       "    <tr>\n",
       "      <th>2679</th>\n",
       "      <td>2680</td>\n",
       "      <td>1974-75</td>\n",
       "      <td>1</td>\n",
       "      <td>Sporting de Gijon</td>\n",
       "      <td>Zaragoza</td>\n",
       "      <td>2</td>\n",
       "      <td>0</td>\n",
       "    </tr>\n",
       "    <tr>\n",
       "      <th>2680</th>\n",
       "      <td>2681</td>\n",
       "      <td>1974-75</td>\n",
       "      <td>1</td>\n",
       "      <td>Hercules</td>\n",
       "      <td>Murcia</td>\n",
       "      <td>2</td>\n",
       "      <td>2</td>\n",
       "    </tr>\n",
       "    <tr>\n",
       "      <th>2681</th>\n",
       "      <td>2682</td>\n",
       "      <td>1974-75</td>\n",
       "      <td>1</td>\n",
       "      <td>Las Palmas</td>\n",
       "      <td>Betis</td>\n",
       "      <td>3</td>\n",
       "      <td>1</td>\n",
       "    </tr>\n",
       "    <tr>\n",
       "      <th>2682</th>\n",
       "      <td>2683</td>\n",
       "      <td>1974-75</td>\n",
       "      <td>1</td>\n",
       "      <td>CD Malaga</td>\n",
       "      <td>Atletico de Bilbao</td>\n",
       "      <td>2</td>\n",
       "      <td>0</td>\n",
       "    </tr>\n",
       "  </tbody>\n",
       "</table>\n",
       "</div>"
      ],
      "text/plain": [
       "        id   season  division          localTeam         visitorTeam  \\\n",
       "2678  2679  1974-75         1            Espanol       Celta de Vigo   \n",
       "2679  2680  1974-75         1  Sporting de Gijon            Zaragoza   \n",
       "2680  2681  1974-75         1           Hercules              Murcia   \n",
       "2681  2682  1974-75         1         Las Palmas               Betis   \n",
       "2682  2683  1974-75         1          CD Malaga  Atletico de Bilbao   \n",
       "\n",
       "      localGoals  visitorGoals  \n",
       "2678           2             0  \n",
       "2679           2             0  \n",
       "2680           2             2  \n",
       "2681           3             1  \n",
       "2682           2             0  "
      ]
     },
     "execution_count": 16,
     "metadata": {},
     "output_type": "execute_result"
    }
   ],
   "source": [
    "df_seasons.head()"
   ]
  },
  {
   "cell_type": "code",
   "execution_count": 17,
   "metadata": {},
   "outputs": [
    {
     "data": {
      "text/plain": [
       "(5587, 7)"
      ]
     },
     "execution_count": 17,
     "metadata": {},
     "output_type": "execute_result"
    }
   ],
   "source": [
    "df_seasons.shape"
   ]
  },
  {
   "cell_type": "markdown",
   "metadata": {},
   "source": [
    "How many teams we have:"
   ]
  },
  {
   "cell_type": "code",
   "execution_count": 18,
   "metadata": {
    "scrolled": true
   },
   "outputs": [
    {
     "data": {
      "text/plain": [
       "34"
      ]
     },
     "execution_count": 18,
     "metadata": {},
     "output_type": "execute_result"
    }
   ],
   "source": [
    "teams = sorted(df_seasons['localTeam'].unique())\n",
    "len(teams)"
   ]
  },
  {
   "cell_type": "markdown",
   "metadata": {},
   "source": [
    "### Adding local_win draw visitor_won columns"
   ]
  },
  {
   "cell_type": "markdown",
   "metadata": {},
   "source": [
    "Here we will take the `localGoals`, `visitorGoals` columns and we will check which of the teams won."
   ]
  },
  {
   "cell_type": "markdown",
   "metadata": {},
   "source": [
    "We will add 3 columns to use: `localWins` & `Draw` & `visitorWins`"
   ]
  },
  {
   "cell_type": "code",
   "execution_count": 19,
   "metadata": {
    "scrolled": false
   },
   "outputs": [
    {
     "name": "stderr",
     "output_type": "stream",
     "text": [
      "<ipython-input-19-4ca1b9835223>:5: SettingWithCopyWarning: \n",
      "A value is trying to be set on a copy of a slice from a DataFrame.\n",
      "Try using .loc[row_indexer,col_indexer] = value instead\n",
      "\n",
      "See the caveats in the documentation: https://pandas.pydata.org/pandas-docs/stable/user_guide/indexing.html#returning-a-view-versus-a-copy\n",
      "  df_seasons['localWins'] = localWins.apply(int)\n",
      "<ipython-input-19-4ca1b9835223>:6: SettingWithCopyWarning: \n",
      "A value is trying to be set on a copy of a slice from a DataFrame.\n",
      "Try using .loc[row_indexer,col_indexer] = value instead\n",
      "\n",
      "See the caveats in the documentation: https://pandas.pydata.org/pandas-docs/stable/user_guide/indexing.html#returning-a-view-versus-a-copy\n",
      "  df_seasons['localDraw'] = draws.apply(int)\n",
      "<ipython-input-19-4ca1b9835223>:10: SettingWithCopyWarning: \n",
      "A value is trying to be set on a copy of a slice from a DataFrame.\n",
      "Try using .loc[row_indexer,col_indexer] = value instead\n",
      "\n",
      "See the caveats in the documentation: https://pandas.pydata.org/pandas-docs/stable/user_guide/indexing.html#returning-a-view-versus-a-copy\n",
      "  df_seasons['visitorWins'] = visitorWins.apply(int)\n"
     ]
    }
   ],
   "source": [
    "# encoding the columns with 0 and 1\n",
    "# constructing the local wins\n",
    "localWins = df_seasons['localGoals'] > df_seasons['visitorGoals']\n",
    "draws = df_seasons['localGoals'] == df_seasons['visitorGoals']\n",
    "df_seasons['localWins'] = localWins.apply(int)\n",
    "df_seasons['localDraw'] = draws.apply(int)\n",
    "\n",
    "# construct the visitors wins\n",
    "visitorWins = df_seasons['localGoals'] < df_seasons['visitorGoals']\n",
    "df_seasons['visitorWins'] = visitorWins.apply(int)"
   ]
  },
  {
   "cell_type": "markdown",
   "metadata": {},
   "source": [
    "### Aggregating the 3 columns we added to form a histogram table"
   ]
  },
  {
   "cell_type": "markdown",
   "metadata": {},
   "source": [
    "Summing up the local wins and draws by each team:"
   ]
  },
  {
   "cell_type": "code",
   "execution_count": 20,
   "metadata": {
    "scrolled": false
   },
   "outputs": [
    {
     "data": {
      "text/html": [
       "<div>\n",
       "<style scoped>\n",
       "    .dataframe tbody tr th:only-of-type {\n",
       "        vertical-align: middle;\n",
       "    }\n",
       "\n",
       "    .dataframe tbody tr th {\n",
       "        vertical-align: top;\n",
       "    }\n",
       "\n",
       "    .dataframe thead th {\n",
       "        text-align: right;\n",
       "    }\n",
       "</style>\n",
       "<table border=\"1\" class=\"dataframe\">\n",
       "  <thead>\n",
       "    <tr style=\"text-align: right;\">\n",
       "      <th></th>\n",
       "      <th>localWins</th>\n",
       "      <th>localDraw</th>\n",
       "    </tr>\n",
       "    <tr>\n",
       "      <th>localTeam</th>\n",
       "      <th></th>\n",
       "      <th></th>\n",
       "    </tr>\n",
       "  </thead>\n",
       "  <tbody>\n",
       "    <tr>\n",
       "      <th>AD Almeria</th>\n",
       "      <td>15</td>\n",
       "      <td>14</td>\n",
       "    </tr>\n",
       "    <tr>\n",
       "      <th>Atletico de Bilbao</th>\n",
       "      <td>206</td>\n",
       "      <td>65</td>\n",
       "    </tr>\n",
       "    <tr>\n",
       "      <th>Atletico de Madrid</th>\n",
       "      <td>203</td>\n",
       "      <td>62</td>\n",
       "    </tr>\n",
       "    <tr>\n",
       "      <th>Barcelona</th>\n",
       "      <td>225</td>\n",
       "      <td>51</td>\n",
       "    </tr>\n",
       "    <tr>\n",
       "      <th>Betis</th>\n",
       "      <td>151</td>\n",
       "      <td>66</td>\n",
       "    </tr>\n",
       "  </tbody>\n",
       "</table>\n",
       "</div>"
      ],
      "text/plain": [
       "                    localWins  localDraw\n",
       "localTeam                               \n",
       "AD Almeria                 15         14\n",
       "Atletico de Bilbao        206         65\n",
       "Atletico de Madrid        203         62\n",
       "Barcelona                 225         51\n",
       "Betis                     151         66"
      ]
     },
     "execution_count": 20,
     "metadata": {},
     "output_type": "execute_result"
    }
   ],
   "source": [
    "# constructing the dataframe for the aggregated local games, summing the local wins and draws\n",
    "df_calc = df_seasons[['localTeam', 'localWins', 'localDraw', 'visitorWins']]\n",
    "df_local = df_calc.groupby(\"localTeam\").agg({\"localWins\":sum, \"localDraw\": sum})\n",
    "df_local.head()"
   ]
  },
  {
   "cell_type": "markdown",
   "metadata": {},
   "source": [
    "Summing up the visitor wins and draws by each team:"
   ]
  },
  {
   "cell_type": "code",
   "execution_count": 21,
   "metadata": {},
   "outputs": [
    {
     "data": {
      "text/html": [
       "<div>\n",
       "<style scoped>\n",
       "    .dataframe tbody tr th:only-of-type {\n",
       "        vertical-align: middle;\n",
       "    }\n",
       "\n",
       "    .dataframe tbody tr th {\n",
       "        vertical-align: top;\n",
       "    }\n",
       "\n",
       "    .dataframe thead th {\n",
       "        text-align: right;\n",
       "    }\n",
       "</style>\n",
       "<table border=\"1\" class=\"dataframe\">\n",
       "  <thead>\n",
       "    <tr style=\"text-align: right;\">\n",
       "      <th></th>\n",
       "      <th>visitorWins</th>\n",
       "      <th>visitorDraw</th>\n",
       "    </tr>\n",
       "    <tr>\n",
       "      <th>visitorTeam</th>\n",
       "      <th></th>\n",
       "      <th></th>\n",
       "    </tr>\n",
       "  </thead>\n",
       "  <tbody>\n",
       "    <tr>\n",
       "      <th>AD Almeria</th>\n",
       "      <td>1</td>\n",
       "      <td>4</td>\n",
       "    </tr>\n",
       "    <tr>\n",
       "      <th>Atletico de Bilbao</th>\n",
       "      <td>56</td>\n",
       "      <td>91</td>\n",
       "    </tr>\n",
       "    <tr>\n",
       "      <th>Atletico de Madrid</th>\n",
       "      <td>79</td>\n",
       "      <td>92</td>\n",
       "    </tr>\n",
       "    <tr>\n",
       "      <th>Barcelona</th>\n",
       "      <td>94</td>\n",
       "      <td>96</td>\n",
       "    </tr>\n",
       "    <tr>\n",
       "      <th>Betis</th>\n",
       "      <td>43</td>\n",
       "      <td>58</td>\n",
       "    </tr>\n",
       "  </tbody>\n",
       "</table>\n",
       "</div>"
      ],
      "text/plain": [
       "                    visitorWins  visitorDraw\n",
       "visitorTeam                                 \n",
       "AD Almeria                    1            4\n",
       "Atletico de Bilbao           56           91\n",
       "Atletico de Madrid           79           92\n",
       "Barcelona                    94           96\n",
       "Betis                        43           58"
      ]
     },
     "execution_count": 21,
     "metadata": {},
     "output_type": "execute_result"
    }
   ],
   "source": [
    "# constructing the dataframe for the aggregated visitors games, summing the visitors wins and draws\n",
    "df_calc1 = df_seasons[['visitorTeam', 'localDraw', 'visitorWins']]\n",
    "df_visitor = df_calc1.groupby(\"visitorTeam\").agg({\"visitorWins\":sum, \"localDraw\": sum})\n",
    "df_visitor.rename(columns={\"localDraw\": \"visitorDraw\"},inplace=True)\n",
    "df_visitor.head()"
   ]
  },
  {
   "cell_type": "markdown",
   "metadata": {},
   "source": [
    "Constructing the dataset by each team with the total points of away games and local games:"
   ]
  },
  {
   "cell_type": "code",
   "execution_count": 22,
   "metadata": {},
   "outputs": [
    {
     "data": {
      "text/html": [
       "<div>\n",
       "<style scoped>\n",
       "    .dataframe tbody tr th:only-of-type {\n",
       "        vertical-align: middle;\n",
       "    }\n",
       "\n",
       "    .dataframe tbody tr th {\n",
       "        vertical-align: top;\n",
       "    }\n",
       "\n",
       "    .dataframe thead th {\n",
       "        text-align: right;\n",
       "    }\n",
       "</style>\n",
       "<table border=\"1\" class=\"dataframe\">\n",
       "  <thead>\n",
       "    <tr style=\"text-align: right;\">\n",
       "      <th></th>\n",
       "      <th>local_points</th>\n",
       "      <th>visitor_points</th>\n",
       "      <th>total_points</th>\n",
       "    </tr>\n",
       "  </thead>\n",
       "  <tbody>\n",
       "    <tr>\n",
       "      <th>AD Almeria</th>\n",
       "      <td>59</td>\n",
       "      <td>7</td>\n",
       "      <td>66</td>\n",
       "    </tr>\n",
       "    <tr>\n",
       "      <th>Atletico de Bilbao</th>\n",
       "      <td>683</td>\n",
       "      <td>259</td>\n",
       "      <td>942</td>\n",
       "    </tr>\n",
       "    <tr>\n",
       "      <th>Atletico de Madrid</th>\n",
       "      <td>671</td>\n",
       "      <td>329</td>\n",
       "      <td>1000</td>\n",
       "    </tr>\n",
       "    <tr>\n",
       "      <th>Barcelona</th>\n",
       "      <td>726</td>\n",
       "      <td>378</td>\n",
       "      <td>1104</td>\n",
       "    </tr>\n",
       "    <tr>\n",
       "      <th>Betis</th>\n",
       "      <td>519</td>\n",
       "      <td>187</td>\n",
       "      <td>706</td>\n",
       "    </tr>\n",
       "  </tbody>\n",
       "</table>\n",
       "</div>"
      ],
      "text/plain": [
       "                    local_points  visitor_points  total_points\n",
       "AD Almeria                    59               7            66\n",
       "Atletico de Bilbao           683             259           942\n",
       "Atletico de Madrid           671             329          1000\n",
       "Barcelona                    726             378          1104\n",
       "Betis                        519             187           706"
      ]
     },
     "execution_count": 22,
     "metadata": {},
     "output_type": "execute_result"
    }
   ],
   "source": [
    "# constructing the total points per team for local and visitor games\n",
    "df_total = pd.concat([df_local, df_visitor], axis=1)\n",
    "# calculating the local points\n",
    "df_total['local_points'] = 3 * df_total['localWins'] + df_total['localDraw']\n",
    "df_total.drop(['localWins', 'localDraw'], axis=1, inplace=True)\n",
    "# calculating the visitor points\n",
    "df_total['visitor_points'] = 3 * df_total['visitorWins'] + df_total['visitorDraw']\n",
    "df_total.drop(['visitorWins', 'visitorDraw'], axis=1, inplace=True)\n",
    "\n",
    "# adding a total points column\n",
    "df_total['total_points'] = df_total['local_points'] + df_total['visitor_points']\n",
    "df_total.head()"
   ]
  },
  {
   "cell_type": "markdown",
   "metadata": {},
   "source": [
    "## Cluster teams with KMeans"
   ]
  },
  {
   "cell_type": "markdown",
   "metadata": {},
   "source": [
    "We want to see the ranks of teams within range of season so we will use KMeans to cluster those teams.  \n",
    "**First we will scale our data:**"
   ]
  },
  {
   "cell_type": "code",
   "execution_count": 23,
   "metadata": {
    "scrolled": true
   },
   "outputs": [
    {
     "data": {
      "text/html": [
       "<div>\n",
       "<style scoped>\n",
       "    .dataframe tbody tr th:only-of-type {\n",
       "        vertical-align: middle;\n",
       "    }\n",
       "\n",
       "    .dataframe tbody tr th {\n",
       "        vertical-align: top;\n",
       "    }\n",
       "\n",
       "    .dataframe thead th {\n",
       "        text-align: right;\n",
       "    }\n",
       "</style>\n",
       "<table border=\"1\" class=\"dataframe\">\n",
       "  <thead>\n",
       "    <tr style=\"text-align: right;\">\n",
       "      <th></th>\n",
       "      <th>local_points</th>\n",
       "      <th>visitor_points</th>\n",
       "      <th>total_points</th>\n",
       "    </tr>\n",
       "  </thead>\n",
       "  <tbody>\n",
       "    <tr>\n",
       "      <th>AD Almeria</th>\n",
       "      <td>0.047043</td>\n",
       "      <td>0.004545</td>\n",
       "      <td>0.031250</td>\n",
       "    </tr>\n",
       "    <tr>\n",
       "      <th>Atletico de Bilbao</th>\n",
       "      <td>0.885753</td>\n",
       "      <td>0.577273</td>\n",
       "      <td>0.771115</td>\n",
       "    </tr>\n",
       "    <tr>\n",
       "      <th>Atletico de Madrid</th>\n",
       "      <td>0.869624</td>\n",
       "      <td>0.736364</td>\n",
       "      <td>0.820101</td>\n",
       "    </tr>\n",
       "    <tr>\n",
       "      <th>Barcelona</th>\n",
       "      <td>0.943548</td>\n",
       "      <td>0.847727</td>\n",
       "      <td>0.907939</td>\n",
       "    </tr>\n",
       "    <tr>\n",
       "      <th>Betis</th>\n",
       "      <td>0.665323</td>\n",
       "      <td>0.413636</td>\n",
       "      <td>0.571791</td>\n",
       "    </tr>\n",
       "  </tbody>\n",
       "</table>\n",
       "</div>"
      ],
      "text/plain": [
       "                    local_points  visitor_points  total_points\n",
       "AD Almeria              0.047043        0.004545      0.031250\n",
       "Atletico de Bilbao      0.885753        0.577273      0.771115\n",
       "Atletico de Madrid      0.869624        0.736364      0.820101\n",
       "Barcelona               0.943548        0.847727      0.907939\n",
       "Betis                   0.665323        0.413636      0.571791"
      ]
     },
     "execution_count": 23,
     "metadata": {},
     "output_type": "execute_result"
    }
   ],
   "source": [
    "from sklearn.preprocessing import MinMaxScaler\n",
    "\n",
    "scaler = MinMaxScaler()\n",
    "df_total[['local_points', 'visitor_points', 'total_points']] = scaler.fit_transform(df_total[['local_points', 'visitor_points', 'total_points']])\n",
    "df_total.head()"
   ]
  },
  {
   "cell_type": "markdown",
   "metadata": {},
   "source": [
    "**Performing elbow method to determine the number of clusters**"
   ]
  },
  {
   "cell_type": "code",
   "execution_count": 24,
   "metadata": {},
   "outputs": [],
   "source": [
    "from sklearn.cluster import KMeans"
   ]
  },
  {
   "cell_type": "code",
   "execution_count": 25,
   "metadata": {},
   "outputs": [
    {
     "data": {
      "image/png": "[encoded data removed]",
      "text/plain": [
       "<Figure size 432x288 with 1 Axes>"
      ]
     },
     "metadata": {
      "needs_background": "light"
     },
     "output_type": "display_data"
    }
   ],
   "source": [
    "ks = np.arange(2,10)\n",
    "wcss = []\n",
    "for k in ks:\n",
    "    k_means = KMeans(n_clusters=k, random_state=11)\n",
    "    k_means.fit(df_total)\n",
    "    wcss.append(k_means.inertia_)\n",
    "\n",
    "plt.plot(ks, wcss)\n",
    "plt.title(\"Choosing K according to elbow method\")\n",
    "plt.xlabel(\"# Clusters\")\n",
    "plt.ylabel(\"WCSS\")\n",
    "plt.show()"
   ]
  },
  {
   "cell_type": "markdown",
   "metadata": {},
   "source": [
    "We see that the \"elbow\" is at `k=4`"
   ]
  },
  {
   "cell_type": "markdown",
   "metadata": {},
   "source": [
    "**Cluster the teams**"
   ]
  },
  {
   "cell_type": "code",
   "execution_count": 26,
   "metadata": {},
   "outputs": [],
   "source": [
    "k_means = KMeans(n_clusters=4, random_state=11)\n",
    "y = k_means.fit_predict(df_total)"
   ]
  },
  {
   "cell_type": "code",
   "execution_count": 27,
   "metadata": {},
   "outputs": [
    {
     "data": {
      "text/plain": [
       "array([1, 2, 0, 0, 2, 1, 3, 3, 1, 3, 1, 2, 1, 3, 3, 1, 1, 3, 3, 1, 1, 1,\n",
       "       0, 2, 1, 1, 3, 3, 2, 2, 1, 2, 3, 2], dtype=int32)"
      ]
     },
     "execution_count": 27,
     "metadata": {},
     "output_type": "execute_result"
    }
   ],
   "source": [
    "y"
   ]
  },
  {
   "cell_type": "markdown",
   "metadata": {},
   "source": [
    "**Show the clusters in 2D:**"
   ]
  },
  {
   "cell_type": "code",
   "execution_count": 28,
   "metadata": {},
   "outputs": [],
   "source": [
    "x = df_total.copy() # For easy use"
   ]
  },
  {
   "cell_type": "code",
   "execution_count": 29,
   "metadata": {
    "scrolled": false
   },
   "outputs": [],
   "source": [
    "def plot_2d(x,y):\n",
    "    plt.scatter(x.iloc[y == 0, 0], x.iloc[y == 0, 1], c='red')\n",
    "    plt.scatter(x.iloc[y == 1, 0], x.iloc[y == 1, 1], c='blue')\n",
    "    plt.scatter(x.iloc[y == 2, 0], x.iloc[y == 2, 1], c='green')\n",
    "    plt.scatter(x.iloc[y == 3, 0], x.iloc[y == 3, 1], c='yellow')\n",
    "    plt.scatter(k_means.cluster_centers_[:, 0], k_means.cluster_centers_[:, 1], c='black')\n",
    "    plt.xlabel(\"Total Local Points\")\n",
    "    plt.ylabel(\"Total Away Points\")\n",
    "    plt.show()\n"
   ]
  },
  {
   "cell_type": "code",
   "execution_count": 30,
   "metadata": {},
   "outputs": [
    {
     "data": {
      "image/png": "[encoded data removed]",
      "text/plain": [
       "<Figure size 432x288 with 1 Axes>"
      ]
     },
     "metadata": {
      "needs_background": "light"
     },
     "output_type": "display_data"
    }
   ],
   "source": [
    "plot_2d(x,y)"
   ]
  },
  {
   "cell_type": "markdown",
   "metadata": {},
   "source": [
    "Lets see who are the best teams over this period:"
   ]
  },
  {
   "cell_type": "code",
   "execution_count": 31,
   "metadata": {
    "scrolled": false
   },
   "outputs": [
    {
     "data": {
      "text/html": [
       "<div>\n",
       "<style scoped>\n",
       "    .dataframe tbody tr th:only-of-type {\n",
       "        vertical-align: middle;\n",
       "    }\n",
       "\n",
       "    .dataframe tbody tr th {\n",
       "        vertical-align: top;\n",
       "    }\n",
       "\n",
       "    .dataframe thead th {\n",
       "        text-align: right;\n",
       "    }\n",
       "</style>\n",
       "<table border=\"1\" class=\"dataframe\">\n",
       "  <thead>\n",
       "    <tr style=\"text-align: right;\">\n",
       "      <th></th>\n",
       "      <th>local_points</th>\n",
       "      <th>visitor_points</th>\n",
       "      <th>total_points</th>\n",
       "    </tr>\n",
       "  </thead>\n",
       "  <tbody>\n",
       "    <tr>\n",
       "      <th>Atletico de Madrid</th>\n",
       "      <td>0.869624</td>\n",
       "      <td>0.736364</td>\n",
       "      <td>0.820101</td>\n",
       "    </tr>\n",
       "    <tr>\n",
       "      <th>Barcelona</th>\n",
       "      <td>0.943548</td>\n",
       "      <td>0.847727</td>\n",
       "      <td>0.907939</td>\n",
       "    </tr>\n",
       "    <tr>\n",
       "      <th>Real Madrid</th>\n",
       "      <td>1.000000</td>\n",
       "      <td>1.000000</td>\n",
       "      <td>1.000000</td>\n",
       "    </tr>\n",
       "  </tbody>\n",
       "</table>\n",
       "</div>"
      ],
      "text/plain": [
       "                    local_points  visitor_points  total_points\n",
       "Atletico de Madrid      0.869624        0.736364      0.820101\n",
       "Barcelona               0.943548        0.847727      0.907939\n",
       "Real Madrid             1.000000        1.000000      1.000000"
      ]
     },
     "execution_count": 31,
     "metadata": {},
     "output_type": "execute_result"
    }
   ],
   "source": [
    "x.iloc[y==0]"
   ]
  },
  {
   "cell_type": "markdown",
   "metadata": {},
   "source": [
    "## Lets put everything together"
   ]
  },
  {
   "cell_type": "code",
   "execution_count": 32,
   "metadata": {},
   "outputs": [],
   "source": [
    "def plot_teams_by_ranks(start_season, end_season):\n",
    "    df_seasons = get_df_by_seasons(start_season, end_season)\n",
    "    \n",
    "    localWins = df_seasons['localGoals'] > df_seasons['visitorGoals']\n",
    "    draws = df_seasons['localGoals'] == df_seasons['visitorGoals']\n",
    "    df_seasons['localWins'] = localWins.apply(int)\n",
    "    df_seasons['localDraw'] = draws.apply(int)\n",
    "\n",
    "    # construct the visitors wins\n",
    "    visitorWins = df_seasons['localGoals'] < df_seasons['visitorGoals']\n",
    "    df_seasons['visitorWins'] = visitorWins.apply(int)\n",
    "    \n",
    "    df_calc = df_seasons[['localTeam', 'localWins', 'localDraw', 'visitorWins']]\n",
    "    df_local = df_calc.groupby(\"localTeam\").agg({\"localWins\":sum, \"localDraw\": sum})\n",
    "    \n",
    "    df_calc1 = df_seasons[['visitorTeam', 'localDraw', 'visitorWins']]\n",
    "    df_visitor = df_calc1.groupby(\"visitorTeam\").agg({\"visitorWins\":sum, \"localDraw\": sum})\n",
    "    df_visitor.rename(columns={\"localDraw\": \"visitorDraw\"},inplace=True)\n",
    "    \n",
    "    # constructing the total points per team for local and visitor games\n",
    "    df_total = pd.concat([df_local, df_visitor], axis=1)\n",
    "    # calculating the local points\n",
    "    df_total['local_points'] = 3 * df_total['localWins'] + df_total['localDraw']\n",
    "    df_total.drop(['localWins', 'localDraw'], axis=1, inplace=True)\n",
    "    # calculating the visitor points\n",
    "    df_total['visitor_points'] = 3 * df_total['visitorWins'] + df_total['visitorDraw']\n",
    "    df_total.drop(['visitorWins', 'visitorDraw'], axis=1, inplace=True)\n",
    "\n",
    "    # adding a total points column\n",
    "    df_total['total_points'] = df_total['local_points'] + df_total['visitor_points']\n",
    "    \n",
    "    # Scaling the data\n",
    "    scaler = MinMaxScaler()\n",
    "    df_total[['local_points', 'visitor_points', 'total_points']] = scaler.fit_transform(df_total[['local_points', 'visitor_points', 'total_points']])\n",
    "    \n",
    "    k_means = KMeans(n_clusters=4, random_state=11)\n",
    "    y = k_means.fit_predict(df_total)\n",
    "    #print(np.argmax(k_means.cluster_centers_.sum(axis=1)))\n",
    "    plot_2d(df_total,y)\n",
    "    y_best = np.argmax(k_means.cluster_centers_.sum(axis=1))\n",
    "    print(df_total[y==y_best].sort_values('total_points', ascending=False))\n",
    "    \n",
    "#     df_total['TeamName'] = df_total.index\n",
    "#     fig = px.scatter_3d(df_total, x='local_points', y='visitor_points', z='total_points', text='TeamName', color='total_points')\n",
    "#     fig.show()"
   ]
  },
  {
   "cell_type": "code",
   "execution_count": 33,
   "metadata": {
    "scrolled": false
   },
   "outputs": [
    {
     "data": {
      "image/png": "[encoded data removed]",
      "text/plain": [
       "<Figure size 432x288 with 1 Axes>"
      ]
     },
     "metadata": {
      "needs_background": "light"
     },
     "output_type": "display_data"
    },
    {
     "name": "stdout",
     "output_type": "stream",
     "text": [
      "             local_points  visitor_points  total_points\n",
      "Real Madrid       1.00000        1.000000      1.000000\n",
      "Barcelona         0.99439        0.975542      0.986816\n"
     ]
    }
   ],
   "source": [
    "start_season, end_season = \"1970-71\", \"2017-18\"\n",
    "plot_teams_by_ranks(start_season, end_season)"
   ]
  },
  {
   "cell_type": "code",
   "execution_count": 34,
   "metadata": {},
   "outputs": [
    {
     "name": "stderr",
     "output_type": "stream",
     "text": [
      "<ipython-input-32-3b435035c93c>:6: SettingWithCopyWarning: \n",
      "A value is trying to be set on a copy of a slice from a DataFrame.\n",
      "Try using .loc[row_indexer,col_indexer] = value instead\n",
      "\n",
      "See the caveats in the documentation: https://pandas.pydata.org/pandas-docs/stable/user_guide/indexing.html#returning-a-view-versus-a-copy\n",
      "  df_seasons['localWins'] = localWins.apply(int)\n",
      "<ipython-input-32-3b435035c93c>:7: SettingWithCopyWarning: \n",
      "A value is trying to be set on a copy of a slice from a DataFrame.\n",
      "Try using .loc[row_indexer,col_indexer] = value instead\n",
      "\n",
      "See the caveats in the documentation: https://pandas.pydata.org/pandas-docs/stable/user_guide/indexing.html#returning-a-view-versus-a-copy\n",
      "  df_seasons['localDraw'] = draws.apply(int)\n",
      "<ipython-input-32-3b435035c93c>:11: SettingWithCopyWarning: \n",
      "A value is trying to be set on a copy of a slice from a DataFrame.\n",
      "Try using .loc[row_indexer,col_indexer] = value instead\n",
      "\n",
      "See the caveats in the documentation: https://pandas.pydata.org/pandas-docs/stable/user_guide/indexing.html#returning-a-view-versus-a-copy\n",
      "  df_seasons['visitorWins'] = visitorWins.apply(int)\n"
     ]
    },
    {
     "data": {
      "image/png": "[encoded data removed]",
      "text/plain": [
       "<Figure size 432x288 with 1 Axes>"
      ]
     },
     "metadata": {
      "needs_background": "light"
     },
     "output_type": "display_data"
    },
    {
     "name": "stdout",
     "output_type": "stream",
     "text": [
      "             local_points  visitor_points  total_points\n",
      "Real Madrid      1.000000        1.000000      1.000000\n",
      "Barcelona        0.993653        0.992671      0.993223\n"
     ]
    }
   ],
   "source": [
    "start_season, end_season = \"1980-81\", \"2017-18\"\n",
    "plot_teams_by_ranks(start_season, end_season)"
   ]
  },
  {
   "cell_type": "code",
   "execution_count": 35,
   "metadata": {},
   "outputs": [
    {
     "name": "stderr",
     "output_type": "stream",
     "text": [
      "<ipython-input-32-3b435035c93c>:6: SettingWithCopyWarning: \n",
      "A value is trying to be set on a copy of a slice from a DataFrame.\n",
      "Try using .loc[row_indexer,col_indexer] = value instead\n",
      "\n",
      "See the caveats in the documentation: https://pandas.pydata.org/pandas-docs/stable/user_guide/indexing.html#returning-a-view-versus-a-copy\n",
      "  df_seasons['localWins'] = localWins.apply(int)\n",
      "<ipython-input-32-3b435035c93c>:7: SettingWithCopyWarning: \n",
      "A value is trying to be set on a copy of a slice from a DataFrame.\n",
      "Try using .loc[row_indexer,col_indexer] = value instead\n",
      "\n",
      "See the caveats in the documentation: https://pandas.pydata.org/pandas-docs/stable/user_guide/indexing.html#returning-a-view-versus-a-copy\n",
      "  df_seasons['localDraw'] = draws.apply(int)\n",
      "<ipython-input-32-3b435035c93c>:11: SettingWithCopyWarning: \n",
      "A value is trying to be set on a copy of a slice from a DataFrame.\n",
      "Try using .loc[row_indexer,col_indexer] = value instead\n",
      "\n",
      "See the caveats in the documentation: https://pandas.pydata.org/pandas-docs/stable/user_guide/indexing.html#returning-a-view-versus-a-copy\n",
      "  df_seasons['visitorWins'] = visitorWins.apply(int)\n"
     ]
    },
    {
     "data": {
      "image/png": "[encoded data removed]",
      "text/plain": [
       "<Figure size 432x288 with 1 Axes>"
      ]
     },
     "metadata": {
      "needs_background": "light"
     },
     "output_type": "display_data"
    },
    {
     "name": "stdout",
     "output_type": "stream",
     "text": [
      "             local_points  visitor_points  total_points\n",
      "Barcelona        1.000000        1.000000      1.000000\n",
      "Real Madrid      0.974596        0.980084      0.976858\n"
     ]
    }
   ],
   "source": [
    "start_season, end_season = \"1990-91\", \"2017-18\"\n",
    "plot_teams_by_ranks(start_season, end_season)"
   ]
  },
  {
   "cell_type": "code",
   "execution_count": 36,
   "metadata": {},
   "outputs": [
    {
     "name": "stderr",
     "output_type": "stream",
     "text": [
      "<ipython-input-32-3b435035c93c>:6: SettingWithCopyWarning: \n",
      "A value is trying to be set on a copy of a slice from a DataFrame.\n",
      "Try using .loc[row_indexer,col_indexer] = value instead\n",
      "\n",
      "See the caveats in the documentation: https://pandas.pydata.org/pandas-docs/stable/user_guide/indexing.html#returning-a-view-versus-a-copy\n",
      "  df_seasons['localWins'] = localWins.apply(int)\n",
      "<ipython-input-32-3b435035c93c>:7: SettingWithCopyWarning: \n",
      "A value is trying to be set on a copy of a slice from a DataFrame.\n",
      "Try using .loc[row_indexer,col_indexer] = value instead\n",
      "\n",
      "See the caveats in the documentation: https://pandas.pydata.org/pandas-docs/stable/user_guide/indexing.html#returning-a-view-versus-a-copy\n",
      "  df_seasons['localDraw'] = draws.apply(int)\n",
      "<ipython-input-32-3b435035c93c>:11: SettingWithCopyWarning: \n",
      "A value is trying to be set on a copy of a slice from a DataFrame.\n",
      "Try using .loc[row_indexer,col_indexer] = value instead\n",
      "\n",
      "See the caveats in the documentation: https://pandas.pydata.org/pandas-docs/stable/user_guide/indexing.html#returning-a-view-versus-a-copy\n",
      "  df_seasons['visitorWins'] = visitorWins.apply(int)\n"
     ]
    },
    {
     "data": {
      "image/png": "[encoded data removed]",
      "text/plain": [
       "<Figure size 432x288 with 1 Axes>"
      ]
     },
     "metadata": {
      "needs_background": "light"
     },
     "output_type": "display_data"
    },
    {
     "name": "stdout",
     "output_type": "stream",
     "text": [
      "             local_points  visitor_points  total_points\n",
      "Real Madrid      0.996394        1.000000      1.000000\n",
      "Barcelona        1.000000        0.992284      0.998643\n"
     ]
    }
   ],
   "source": [
    "start_season, end_season = \"2000-01\", \"2017-18\"\n",
    "plot_teams_by_ranks(start_season, end_season)"
   ]
  }
 ],
 "metadata": {
  "kernelspec": {
   "display_name": "Python 3",
   "language": "python",
   "name": "python3"
  },
  "language_info": {
   "codemirror_mode": {
    "name": "ipython",
    "version": 3
   },
   "file_extension": ".py",
   "mimetype": "text/x-python",
   "name": "python",
   "nbconvert_exporter": "python",
   "pygments_lexer": "ipython3",
   "version": "3.8.5"
  }
 },
 "nbformat": 4,
 "nbformat_minor": 4
}
