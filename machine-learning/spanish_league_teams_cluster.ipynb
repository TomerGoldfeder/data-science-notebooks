{
 "cells": [
  {
   "cell_type": "markdown",
   "metadata": {},
   "source": [
    "# Spanish League Teams Clustering"
   ]
  },
  {
   "cell_type": "markdown",
   "metadata": {},
   "source": [
    "In this notebook we will explore the teams in the Spanish League division 1, we will cluster them by away and home points they earned in a given seasons range."
   ]
  },
  {
   "cell_type": "code",
   "execution_count": 330,
   "metadata": {},
   "outputs": [],
   "source": [
    "import pandas as pd\n",
    "import numpy as np\n",
    "import matplotlib.pyplot as plt\n",
    "import seaborn as sns"
   ]
  },
  {
   "cell_type": "markdown",
   "metadata": {},
   "source": [
    "## Loading and exploring the data"
   ]
  },
  {
   "cell_type": "code",
   "execution_count": 331,
   "metadata": {},
   "outputs": [],
   "source": [
    "df = pd.read_csv(\"FMEL_Dataset.csv\")"
   ]
  },
  {
   "cell_type": "code",
   "execution_count": 332,
   "metadata": {},
   "outputs": [
    {
     "data": {
      "text/html": [
       "<div>\n",
       "<style scoped>\n",
       "    .dataframe tbody tr th:only-of-type {\n",
       "        vertical-align: middle;\n",
       "    }\n",
       "\n",
       "    .dataframe tbody tr th {\n",
       "        vertical-align: top;\n",
       "    }\n",
       "\n",
       "    .dataframe thead th {\n",
       "        text-align: right;\n",
       "    }\n",
       "</style>\n",
       "<table border=\"1\" class=\"dataframe\">\n",
       "  <thead>\n",
       "    <tr style=\"text-align: right;\">\n",
       "      <th></th>\n",
       "      <th>id</th>\n",
       "      <th>season</th>\n",
       "      <th>division</th>\n",
       "      <th>round</th>\n",
       "      <th>localTeam</th>\n",
       "      <th>visitorTeam</th>\n",
       "      <th>localGoals</th>\n",
       "      <th>visitorGoals</th>\n",
       "      <th>date</th>\n",
       "      <th>timestamp</th>\n",
       "    </tr>\n",
       "  </thead>\n",
       "  <tbody>\n",
       "    <tr>\n",
       "      <th>0</th>\n",
       "      <td>1</td>\n",
       "      <td>1970-71</td>\n",
       "      <td>1</td>\n",
       "      <td>1</td>\n",
       "      <td>Atletico de Bilbao</td>\n",
       "      <td>Barcelona</td>\n",
       "      <td>1</td>\n",
       "      <td>1</td>\n",
       "      <td>12/09/1970</td>\n",
       "      <td>21938400</td>\n",
       "    </tr>\n",
       "    <tr>\n",
       "      <th>1</th>\n",
       "      <td>2</td>\n",
       "      <td>1970-71</td>\n",
       "      <td>1</td>\n",
       "      <td>1</td>\n",
       "      <td>Las Palmas</td>\n",
       "      <td>Atletico de Madrid</td>\n",
       "      <td>1</td>\n",
       "      <td>1</td>\n",
       "      <td>12/09/1970</td>\n",
       "      <td>21938400</td>\n",
       "    </tr>\n",
       "    <tr>\n",
       "      <th>2</th>\n",
       "      <td>3</td>\n",
       "      <td>1970-71</td>\n",
       "      <td>1</td>\n",
       "      <td>1</td>\n",
       "      <td>Real Madrid</td>\n",
       "      <td>Valencia</td>\n",
       "      <td>2</td>\n",
       "      <td>0</td>\n",
       "      <td>12/09/1970</td>\n",
       "      <td>21938400</td>\n",
       "    </tr>\n",
       "    <tr>\n",
       "      <th>3</th>\n",
       "      <td>4</td>\n",
       "      <td>1970-71</td>\n",
       "      <td>1</td>\n",
       "      <td>1</td>\n",
       "      <td>Celta de Vigo</td>\n",
       "      <td>Sporting de Gijon</td>\n",
       "      <td>2</td>\n",
       "      <td>0</td>\n",
       "      <td>13/09/1970</td>\n",
       "      <td>22024800</td>\n",
       "    </tr>\n",
       "    <tr>\n",
       "      <th>4</th>\n",
       "      <td>5</td>\n",
       "      <td>1970-71</td>\n",
       "      <td>1</td>\n",
       "      <td>1</td>\n",
       "      <td>Elche</td>\n",
       "      <td>Granada</td>\n",
       "      <td>1</td>\n",
       "      <td>1</td>\n",
       "      <td>13/09/1970</td>\n",
       "      <td>22024800</td>\n",
       "    </tr>\n",
       "  </tbody>\n",
       "</table>\n",
       "</div>"
      ],
      "text/plain": [
       "   id   season  division  round           localTeam         visitorTeam  \\\n",
       "0   1  1970-71         1      1  Atletico de Bilbao           Barcelona   \n",
       "1   2  1970-71         1      1          Las Palmas  Atletico de Madrid   \n",
       "2   3  1970-71         1      1         Real Madrid            Valencia   \n",
       "3   4  1970-71         1      1       Celta de Vigo   Sporting de Gijon   \n",
       "4   5  1970-71         1      1               Elche             Granada   \n",
       "\n",
       "   localGoals  visitorGoals        date  timestamp  \n",
       "0           1             1  12/09/1970   21938400  \n",
       "1           1             1  12/09/1970   21938400  \n",
       "2           2             0  12/09/1970   21938400  \n",
       "3           2             0  13/09/1970   22024800  \n",
       "4           1             1  13/09/1970   22024800  "
      ]
     },
     "execution_count": 332,
     "metadata": {},
     "output_type": "execute_result"
    }
   ],
   "source": [
    "df.head()"
   ]
  },
  {
   "cell_type": "code",
   "execution_count": 333,
   "metadata": {},
   "outputs": [
    {
     "data": {
      "text/html": [
       "<div>\n",
       "<style scoped>\n",
       "    .dataframe tbody tr th:only-of-type {\n",
       "        vertical-align: middle;\n",
       "    }\n",
       "\n",
       "    .dataframe tbody tr th {\n",
       "        vertical-align: top;\n",
       "    }\n",
       "\n",
       "    .dataframe thead th {\n",
       "        text-align: right;\n",
       "    }\n",
       "</style>\n",
       "<table border=\"1\" class=\"dataframe\">\n",
       "  <thead>\n",
       "    <tr style=\"text-align: right;\">\n",
       "      <th></th>\n",
       "      <th>id</th>\n",
       "      <th>season</th>\n",
       "      <th>division</th>\n",
       "      <th>round</th>\n",
       "      <th>localTeam</th>\n",
       "      <th>visitorTeam</th>\n",
       "      <th>localGoals</th>\n",
       "      <th>visitorGoals</th>\n",
       "      <th>date</th>\n",
       "      <th>timestamp</th>\n",
       "    </tr>\n",
       "  </thead>\n",
       "  <tbody>\n",
       "    <tr>\n",
       "      <th>37142</th>\n",
       "      <td>37143</td>\n",
       "      <td>2017-18</td>\n",
       "      <td>2</td>\n",
       "      <td>42</td>\n",
       "      <td>Valladolid</td>\n",
       "      <td>Osasuna</td>\n",
       "      <td>2</td>\n",
       "      <td>0</td>\n",
       "      <td>02/06/2018</td>\n",
       "      <td>1527890400</td>\n",
       "    </tr>\n",
       "    <tr>\n",
       "      <th>37143</th>\n",
       "      <td>37144</td>\n",
       "      <td>2017-18</td>\n",
       "      <td>2</td>\n",
       "      <td>42</td>\n",
       "      <td>Oviedo</td>\n",
       "      <td>Huesca</td>\n",
       "      <td>2</td>\n",
       "      <td>1</td>\n",
       "      <td>02/06/2018</td>\n",
       "      <td>1527890400</td>\n",
       "    </tr>\n",
       "    <tr>\n",
       "      <th>37144</th>\n",
       "      <td>37145</td>\n",
       "      <td>2017-18</td>\n",
       "      <td>2</td>\n",
       "      <td>42</td>\n",
       "      <td>Alcorcon</td>\n",
       "      <td>Reus</td>\n",
       "      <td>3</td>\n",
       "      <td>0</td>\n",
       "      <td>02/06/2018</td>\n",
       "      <td>1527890400</td>\n",
       "    </tr>\n",
       "    <tr>\n",
       "      <th>37145</th>\n",
       "      <td>37146</td>\n",
       "      <td>2017-18</td>\n",
       "      <td>2</td>\n",
       "      <td>42</td>\n",
       "      <td>Numancia</td>\n",
       "      <td>Cultural Leonesa</td>\n",
       "      <td>2</td>\n",
       "      <td>1</td>\n",
       "      <td>02/06/2018</td>\n",
       "      <td>1527890400</td>\n",
       "    </tr>\n",
       "    <tr>\n",
       "      <th>37146</th>\n",
       "      <td>37147</td>\n",
       "      <td>2017-18</td>\n",
       "      <td>2</td>\n",
       "      <td>42</td>\n",
       "      <td>Barcelona Atletic</td>\n",
       "      <td>Zaragoza</td>\n",
       "      <td>0</td>\n",
       "      <td>2</td>\n",
       "      <td>02/06/2018</td>\n",
       "      <td>1527890400</td>\n",
       "    </tr>\n",
       "  </tbody>\n",
       "</table>\n",
       "</div>"
      ],
      "text/plain": [
       "          id   season  division  round          localTeam       visitorTeam  \\\n",
       "37142  37143  2017-18         2     42         Valladolid           Osasuna   \n",
       "37143  37144  2017-18         2     42             Oviedo            Huesca   \n",
       "37144  37145  2017-18         2     42           Alcorcon              Reus   \n",
       "37145  37146  2017-18         2     42           Numancia  Cultural Leonesa   \n",
       "37146  37147  2017-18         2     42  Barcelona Atletic          Zaragoza   \n",
       "\n",
       "       localGoals  visitorGoals        date   timestamp  \n",
       "37142           2             0  02/06/2018  1527890400  \n",
       "37143           2             1  02/06/2018  1527890400  \n",
       "37144           3             0  02/06/2018  1527890400  \n",
       "37145           2             1  02/06/2018  1527890400  \n",
       "37146           0             2  02/06/2018  1527890400  "
      ]
     },
     "execution_count": 333,
     "metadata": {},
     "output_type": "execute_result"
    }
   ],
   "source": [
    "df.tail()"
   ]
  },
  {
   "cell_type": "code",
   "execution_count": 334,
   "metadata": {
    "scrolled": true
   },
   "outputs": [
    {
     "data": {
      "text/plain": [
       "Index(['id', 'season', 'division', 'round', 'localTeam', 'visitorTeam',\n",
       "       'localGoals', 'visitorGoals', 'date', 'timestamp'],\n",
       "      dtype='object')"
      ]
     },
     "execution_count": 334,
     "metadata": {},
     "output_type": "execute_result"
    }
   ],
   "source": [
    "df.columns"
   ]
  },
  {
   "cell_type": "code",
   "execution_count": 335,
   "metadata": {},
   "outputs": [
    {
     "data": {
      "text/plain": [
       "id              0\n",
       "season          0\n",
       "division        0\n",
       "round           0\n",
       "localTeam       0\n",
       "visitorTeam     0\n",
       "localGoals      0\n",
       "visitorGoals    0\n",
       "date            0\n",
       "timestamp       0\n",
       "dtype: int64"
      ]
     },
     "execution_count": 335,
     "metadata": {},
     "output_type": "execute_result"
    }
   ],
   "source": [
    "df.isnull().sum()"
   ]
  },
  {
   "cell_type": "code",
   "execution_count": 336,
   "metadata": {},
   "outputs": [
    {
     "data": {
      "text/html": [
       "<div>\n",
       "<style scoped>\n",
       "    .dataframe tbody tr th:only-of-type {\n",
       "        vertical-align: middle;\n",
       "    }\n",
       "\n",
       "    .dataframe tbody tr th {\n",
       "        vertical-align: top;\n",
       "    }\n",
       "\n",
       "    .dataframe thead th {\n",
       "        text-align: right;\n",
       "    }\n",
       "</style>\n",
       "<table border=\"1\" class=\"dataframe\">\n",
       "  <thead>\n",
       "    <tr style=\"text-align: right;\">\n",
       "      <th></th>\n",
       "      <th>id</th>\n",
       "      <th>division</th>\n",
       "      <th>round</th>\n",
       "      <th>localGoals</th>\n",
       "      <th>visitorGoals</th>\n",
       "      <th>timestamp</th>\n",
       "    </tr>\n",
       "  </thead>\n",
       "  <tbody>\n",
       "    <tr>\n",
       "      <th>count</th>\n",
       "      <td>37147.000000</td>\n",
       "      <td>37147.000000</td>\n",
       "      <td>37147.000000</td>\n",
       "      <td>37147.000000</td>\n",
       "      <td>37147.000000</td>\n",
       "      <td>3.714700e+04</td>\n",
       "    </tr>\n",
       "    <tr>\n",
       "      <th>mean</th>\n",
       "      <td>18574.000000</td>\n",
       "      <td>1.537809</td>\n",
       "      <td>19.862896</td>\n",
       "      <td>1.515385</td>\n",
       "      <td>0.936953</td>\n",
       "      <td>8.116889e+08</td>\n",
       "    </tr>\n",
       "    <tr>\n",
       "      <th>std</th>\n",
       "      <td>10723.559561</td>\n",
       "      <td>0.498575</td>\n",
       "      <td>11.282774</td>\n",
       "      <td>1.262742</td>\n",
       "      <td>1.010263</td>\n",
       "      <td>4.322134e+08</td>\n",
       "    </tr>\n",
       "    <tr>\n",
       "      <th>min</th>\n",
       "      <td>1.000000</td>\n",
       "      <td>1.000000</td>\n",
       "      <td>1.000000</td>\n",
       "      <td>0.000000</td>\n",
       "      <td>0.000000</td>\n",
       "      <td>2.133360e+07</td>\n",
       "    </tr>\n",
       "    <tr>\n",
       "      <th>25%</th>\n",
       "      <td>9287.500000</td>\n",
       "      <td>1.000000</td>\n",
       "      <td>10.000000</td>\n",
       "      <td>1.000000</td>\n",
       "      <td>0.000000</td>\n",
       "      <td>4.453884e+08</td>\n",
       "    </tr>\n",
       "    <tr>\n",
       "      <th>50%</th>\n",
       "      <td>18574.000000</td>\n",
       "      <td>2.000000</td>\n",
       "      <td>20.000000</td>\n",
       "      <td>1.000000</td>\n",
       "      <td>1.000000</td>\n",
       "      <td>8.317656e+08</td>\n",
       "    </tr>\n",
       "    <tr>\n",
       "      <th>75%</th>\n",
       "      <td>27860.500000</td>\n",
       "      <td>2.000000</td>\n",
       "      <td>29.000000</td>\n",
       "      <td>2.000000</td>\n",
       "      <td>1.000000</td>\n",
       "      <td>1.181426e+09</td>\n",
       "    </tr>\n",
       "    <tr>\n",
       "      <th>max</th>\n",
       "      <td>37147.000000</td>\n",
       "      <td>2.000000</td>\n",
       "      <td>44.000000</td>\n",
       "      <td>10.000000</td>\n",
       "      <td>8.000000</td>\n",
       "      <td>1.527890e+09</td>\n",
       "    </tr>\n",
       "  </tbody>\n",
       "</table>\n",
       "</div>"
      ],
      "text/plain": [
       "                 id      division         round    localGoals  visitorGoals  \\\n",
       "count  37147.000000  37147.000000  37147.000000  37147.000000  37147.000000   \n",
       "mean   18574.000000      1.537809     19.862896      1.515385      0.936953   \n",
       "std    10723.559561      0.498575     11.282774      1.262742      1.010263   \n",
       "min        1.000000      1.000000      1.000000      0.000000      0.000000   \n",
       "25%     9287.500000      1.000000     10.000000      1.000000      0.000000   \n",
       "50%    18574.000000      2.000000     20.000000      1.000000      1.000000   \n",
       "75%    27860.500000      2.000000     29.000000      2.000000      1.000000   \n",
       "max    37147.000000      2.000000     44.000000     10.000000      8.000000   \n",
       "\n",
       "          timestamp  \n",
       "count  3.714700e+04  \n",
       "mean   8.116889e+08  \n",
       "std    4.322134e+08  \n",
       "min    2.133360e+07  \n",
       "25%    4.453884e+08  \n",
       "50%    8.317656e+08  \n",
       "75%    1.181426e+09  \n",
       "max    1.527890e+09  "
      ]
     },
     "execution_count": 336,
     "metadata": {},
     "output_type": "execute_result"
    }
   ],
   "source": [
    "df.describe()"
   ]
  },
  {
   "cell_type": "code",
   "execution_count": 337,
   "metadata": {
    "scrolled": true
   },
   "outputs": [
    {
     "name": "stdout",
     "output_type": "stream",
     "text": [
      "<class 'pandas.core.frame.DataFrame'>\n",
      "RangeIndex: 37147 entries, 0 to 37146\n",
      "Data columns (total 10 columns):\n",
      " #   Column        Non-Null Count  Dtype \n",
      "---  ------        --------------  ----- \n",
      " 0   id            37147 non-null  int64 \n",
      " 1   season        37147 non-null  object\n",
      " 2   division      37147 non-null  int64 \n",
      " 3   round         37147 non-null  int64 \n",
      " 4   localTeam     37147 non-null  object\n",
      " 5   visitorTeam   37147 non-null  object\n",
      " 6   localGoals    37147 non-null  int64 \n",
      " 7   visitorGoals  37147 non-null  int64 \n",
      " 8   date          37147 non-null  object\n",
      " 9   timestamp     37147 non-null  int64 \n",
      "dtypes: int64(6), object(4)\n",
      "memory usage: 2.8+ MB\n"
     ]
    }
   ],
   "source": [
    "df.info()"
   ]
  },
  {
   "cell_type": "markdown",
   "metadata": {},
   "source": [
    "We can see that the `season` column is in a format of `'XX01-02'`, we also have `division` column which we will use to screen the other leagues.  \n",
    "Finally we have `localTeam`, `visitorTeam` columns and their respected goals, `localGoals`, `visitorGoals`.  \n",
    "\n",
    "We see that there are no null values and the columns we are going to use are in the right format and are clean.  \n",
    "\n",
    "The `date`, `timestamp` and `round` columns are not important for us at this point."
   ]
  },
  {
   "cell_type": "code",
   "execution_count": 339,
   "metadata": {},
   "outputs": [],
   "source": [
    "df = df.drop([\"date\", 'timestamp', 'round'], axis=1)"
   ]
  },
  {
   "cell_type": "code",
   "execution_count": 340,
   "metadata": {},
   "outputs": [
    {
     "data": {
      "text/html": [
       "<div>\n",
       "<style scoped>\n",
       "    .dataframe tbody tr th:only-of-type {\n",
       "        vertical-align: middle;\n",
       "    }\n",
       "\n",
       "    .dataframe tbody tr th {\n",
       "        vertical-align: top;\n",
       "    }\n",
       "\n",
       "    .dataframe thead th {\n",
       "        text-align: right;\n",
       "    }\n",
       "</style>\n",
       "<table border=\"1\" class=\"dataframe\">\n",
       "  <thead>\n",
       "    <tr style=\"text-align: right;\">\n",
       "      <th></th>\n",
       "      <th>id</th>\n",
       "      <th>season</th>\n",
       "      <th>division</th>\n",
       "      <th>localTeam</th>\n",
       "      <th>visitorTeam</th>\n",
       "      <th>localGoals</th>\n",
       "      <th>visitorGoals</th>\n",
       "    </tr>\n",
       "  </thead>\n",
       "  <tbody>\n",
       "    <tr>\n",
       "      <th>0</th>\n",
       "      <td>1</td>\n",
       "      <td>1970-71</td>\n",
       "      <td>1</td>\n",
       "      <td>Atletico de Bilbao</td>\n",
       "      <td>Barcelona</td>\n",
       "      <td>1</td>\n",
       "      <td>1</td>\n",
       "    </tr>\n",
       "    <tr>\n",
       "      <th>1</th>\n",
       "      <td>2</td>\n",
       "      <td>1970-71</td>\n",
       "      <td>1</td>\n",
       "      <td>Las Palmas</td>\n",
       "      <td>Atletico de Madrid</td>\n",
       "      <td>1</td>\n",
       "      <td>1</td>\n",
       "    </tr>\n",
       "    <tr>\n",
       "      <th>2</th>\n",
       "      <td>3</td>\n",
       "      <td>1970-71</td>\n",
       "      <td>1</td>\n",
       "      <td>Real Madrid</td>\n",
       "      <td>Valencia</td>\n",
       "      <td>2</td>\n",
       "      <td>0</td>\n",
       "    </tr>\n",
       "    <tr>\n",
       "      <th>3</th>\n",
       "      <td>4</td>\n",
       "      <td>1970-71</td>\n",
       "      <td>1</td>\n",
       "      <td>Celta de Vigo</td>\n",
       "      <td>Sporting de Gijon</td>\n",
       "      <td>2</td>\n",
       "      <td>0</td>\n",
       "    </tr>\n",
       "    <tr>\n",
       "      <th>4</th>\n",
       "      <td>5</td>\n",
       "      <td>1970-71</td>\n",
       "      <td>1</td>\n",
       "      <td>Elche</td>\n",
       "      <td>Granada</td>\n",
       "      <td>1</td>\n",
       "      <td>1</td>\n",
       "    </tr>\n",
       "  </tbody>\n",
       "</table>\n",
       "</div>"
      ],
      "text/plain": [
       "   id   season  division           localTeam         visitorTeam  localGoals  \\\n",
       "0   1  1970-71         1  Atletico de Bilbao           Barcelona           1   \n",
       "1   2  1970-71         1          Las Palmas  Atletico de Madrid           1   \n",
       "2   3  1970-71         1         Real Madrid            Valencia           2   \n",
       "3   4  1970-71         1       Celta de Vigo   Sporting de Gijon           2   \n",
       "4   5  1970-71         1               Elche             Granada           1   \n",
       "\n",
       "   visitorGoals  \n",
       "0             1  \n",
       "1             1  \n",
       "2             0  \n",
       "3             0  \n",
       "4             1  "
      ]
     },
     "execution_count": 340,
     "metadata": {},
     "output_type": "execute_result"
    }
   ],
   "source": [
    "df.head()"
   ]
  },
  {
   "cell_type": "markdown",
   "metadata": {},
   "source": [
    "## We will only look at the first division"
   ]
  },
  {
   "cell_type": "code",
   "execution_count": 341,
   "metadata": {},
   "outputs": [],
   "source": [
    "df = df[df['division'] == 1]"
   ]
  },
  {
   "cell_type": "markdown",
   "metadata": {},
   "source": [
    "checking that the teams are written ok and that the same away team are in the visitor teams (each team has away and home game with the other teams)"
   ]
  },
  {
   "cell_type": "code",
   "execution_count": 343,
   "metadata": {},
   "outputs": [
    {
     "data": {
      "text/plain": [
       "array(['Atletico de Bilbao', 'Las Palmas', 'Real Madrid', 'Celta de Vigo',\n",
       "       'Elche', 'Espanol', 'Sabadell', 'Zaragoza', 'Valencia',\n",
       "       'Atletico de Madrid', 'Barcelona', 'Sporting de Gijon', 'Granada',\n",
       "       'CD Malaga', 'Real Sociedad', 'Sevilla', 'Deportivo', 'Betis',\n",
       "       'Burgos', 'Cordoba', 'Castellon', 'Oviedo', 'Santander', 'Murcia',\n",
       "       'Hercules', 'Salamanca', 'Cadiz', 'Rayo Vallecano',\n",
       "       'Recreativo de Huelva', 'AD Almeria', 'Osasuna', 'Valladolid',\n",
       "       'Mallorca', 'Logrones', 'Tenerife', 'Real Burgos', 'Albacete',\n",
       "       'Lleida', 'Compostela', 'Merida', 'Extremadura', 'Alaves',\n",
       "       'Villarreal', 'Malaga', 'Numancia', 'Getafe', 'Levante',\n",
       "       'Gimnastic de Tarragona', 'Almeria', 'Xerez', 'Eibar', 'Leganes',\n",
       "       'Girona'], dtype=object)"
      ]
     },
     "execution_count": 343,
     "metadata": {},
     "output_type": "execute_result"
    }
   ],
   "source": [
    "local_teams = df['localTeam'].unique()\n",
    "visitor_teams = df['visitorTeam'].unique()\n",
    "local_teams"
   ]
  },
  {
   "cell_type": "code",
   "execution_count": 344,
   "metadata": {},
   "outputs": [
    {
     "data": {
      "text/plain": [
       "True"
      ]
     },
     "execution_count": 344,
     "metadata": {},
     "output_type": "execute_result"
    }
   ],
   "source": [
    "set(visitor_teams) == set(local_teams)"
   ]
  },
  {
   "cell_type": "markdown",
   "metadata": {},
   "source": [
    "## Screen the dataframe for the choosen seasons"
   ]
  },
  {
   "cell_type": "markdown",
   "metadata": {},
   "source": [
    "The dataset is ordered by date, so we will find the start and end seasons groups and take the first index of the start season and the last index of the end season.  \n",
    "Lets choose the seasons range:"
   ]
  },
  {
   "cell_type": "code",
   "execution_count": 345,
   "metadata": {},
   "outputs": [],
   "source": [
    "def get_df_by_seasons(start_season, end_season):\n",
    "    start_index = df[df['season'] == start_season]\n",
    "    end_index = df[df['season'] == end_season]\n",
    "\n",
    "    idx_end = end_index.iloc[-1]['id']\n",
    "    idx_start = start_index.iloc[0]['id']\n",
    "\n",
    "    _df_seasons = df[df['id'].isin(list(range(idx_start, idx_end+1)))]\n",
    "    return _df_seasons"
   ]
  },
  {
   "cell_type": "code",
   "execution_count": 347,
   "metadata": {},
   "outputs": [],
   "source": [
    "df_seasons = get_df_by_seasons(\"1974-75\", \"1990-91\")"
   ]
  },
  {
   "cell_type": "code",
   "execution_count": 348,
   "metadata": {
    "scrolled": true
   },
   "outputs": [
    {
     "data": {
      "text/html": [
       "<div>\n",
       "<style scoped>\n",
       "    .dataframe tbody tr th:only-of-type {\n",
       "        vertical-align: middle;\n",
       "    }\n",
       "\n",
       "    .dataframe tbody tr th {\n",
       "        vertical-align: top;\n",
       "    }\n",
       "\n",
       "    .dataframe thead th {\n",
       "        text-align: right;\n",
       "    }\n",
       "</style>\n",
       "<table border=\"1\" class=\"dataframe\">\n",
       "  <thead>\n",
       "    <tr style=\"text-align: right;\">\n",
       "      <th></th>\n",
       "      <th>id</th>\n",
       "      <th>season</th>\n",
       "      <th>division</th>\n",
       "      <th>localTeam</th>\n",
       "      <th>visitorTeam</th>\n",
       "      <th>localGoals</th>\n",
       "      <th>visitorGoals</th>\n",
       "    </tr>\n",
       "  </thead>\n",
       "  <tbody>\n",
       "    <tr>\n",
       "      <th>2678</th>\n",
       "      <td>2679</td>\n",
       "      <td>1974-75</td>\n",
       "      <td>1</td>\n",
       "      <td>Espanol</td>\n",
       "      <td>Celta de Vigo</td>\n",
       "      <td>2</td>\n",
       "      <td>0</td>\n",
       "    </tr>\n",
       "    <tr>\n",
       "      <th>2679</th>\n",
       "      <td>2680</td>\n",
       "      <td>1974-75</td>\n",
       "      <td>1</td>\n",
       "      <td>Sporting de Gijon</td>\n",
       "      <td>Zaragoza</td>\n",
       "      <td>2</td>\n",
       "      <td>0</td>\n",
       "    </tr>\n",
       "    <tr>\n",
       "      <th>2680</th>\n",
       "      <td>2681</td>\n",
       "      <td>1974-75</td>\n",
       "      <td>1</td>\n",
       "      <td>Hercules</td>\n",
       "      <td>Murcia</td>\n",
       "      <td>2</td>\n",
       "      <td>2</td>\n",
       "    </tr>\n",
       "    <tr>\n",
       "      <th>2681</th>\n",
       "      <td>2682</td>\n",
       "      <td>1974-75</td>\n",
       "      <td>1</td>\n",
       "      <td>Las Palmas</td>\n",
       "      <td>Betis</td>\n",
       "      <td>3</td>\n",
       "      <td>1</td>\n",
       "    </tr>\n",
       "    <tr>\n",
       "      <th>2682</th>\n",
       "      <td>2683</td>\n",
       "      <td>1974-75</td>\n",
       "      <td>1</td>\n",
       "      <td>CD Malaga</td>\n",
       "      <td>Atletico de Bilbao</td>\n",
       "      <td>2</td>\n",
       "      <td>0</td>\n",
       "    </tr>\n",
       "  </tbody>\n",
       "</table>\n",
       "</div>"
      ],
      "text/plain": [
       "        id   season  division          localTeam         visitorTeam  \\\n",
       "2678  2679  1974-75         1            Espanol       Celta de Vigo   \n",
       "2679  2680  1974-75         1  Sporting de Gijon            Zaragoza   \n",
       "2680  2681  1974-75         1           Hercules              Murcia   \n",
       "2681  2682  1974-75         1         Las Palmas               Betis   \n",
       "2682  2683  1974-75         1          CD Malaga  Atletico de Bilbao   \n",
       "\n",
       "      localGoals  visitorGoals  \n",
       "2678           2             0  \n",
       "2679           2             0  \n",
       "2680           2             2  \n",
       "2681           3             1  \n",
       "2682           2             0  "
      ]
     },
     "execution_count": 348,
     "metadata": {},
     "output_type": "execute_result"
    }
   ],
   "source": [
    "df_seasons.head()"
   ]
  },
  {
   "cell_type": "code",
   "execution_count": 349,
   "metadata": {},
   "outputs": [
    {
     "data": {
      "text/plain": [
       "(5587, 7)"
      ]
     },
     "execution_count": 349,
     "metadata": {},
     "output_type": "execute_result"
    }
   ],
   "source": [
    "df_seasons.shape"
   ]
  },
  {
   "cell_type": "markdown",
   "metadata": {},
   "source": [
    "How many teams we have:"
   ]
  },
  {
   "cell_type": "code",
   "execution_count": 350,
   "metadata": {
    "scrolled": true
   },
   "outputs": [
    {
     "data": {
      "text/plain": [
       "34"
      ]
     },
     "execution_count": 350,
     "metadata": {},
     "output_type": "execute_result"
    }
   ],
   "source": [
    "teams = sorted(df_seasons['localTeam'].unique())\n",
    "len(teams)"
   ]
  },
  {
   "cell_type": "markdown",
   "metadata": {},
   "source": [
    "### Adding local_win draw visitor_won columns"
   ]
  },
  {
   "cell_type": "markdown",
   "metadata": {},
   "source": [
    "Here we will take the `localGoals`, `visitorGoals` columns and we will check which of the teams won."
   ]
  },
  {
   "cell_type": "markdown",
   "metadata": {},
   "source": [
    "We will add 3 columns to use: `localWins` & `Draw` & `visitorWins`"
   ]
  },
  {
   "cell_type": "code",
   "execution_count": 352,
   "metadata": {
    "scrolled": false
   },
   "outputs": [
    {
     "name": "stderr",
     "output_type": "stream",
     "text": [
      "<ipython-input-352-6994d57114e2>:5: SettingWithCopyWarning:\n",
      "\n",
      "\n",
      "A value is trying to be set on a copy of a slice from a DataFrame.\n",
      "Try using .loc[row_indexer,col_indexer] = value instead\n",
      "\n",
      "See the caveats in the documentation: https://pandas.pydata.org/pandas-docs/stable/user_guide/indexing.html#returning-a-view-versus-a-copy\n",
      "\n",
      "<ipython-input-352-6994d57114e2>:6: SettingWithCopyWarning:\n",
      "\n",
      "\n",
      "A value is trying to be set on a copy of a slice from a DataFrame.\n",
      "Try using .loc[row_indexer,col_indexer] = value instead\n",
      "\n",
      "See the caveats in the documentation: https://pandas.pydata.org/pandas-docs/stable/user_guide/indexing.html#returning-a-view-versus-a-copy\n",
      "\n",
      "<ipython-input-352-6994d57114e2>:12: SettingWithCopyWarning:\n",
      "\n",
      "\n",
      "A value is trying to be set on a copy of a slice from a DataFrame.\n",
      "Try using .loc[row_indexer,col_indexer] = value instead\n",
      "\n",
      "See the caveats in the documentation: https://pandas.pydata.org/pandas-docs/stable/user_guide/indexing.html#returning-a-view-versus-a-copy\n",
      "\n",
      "<ipython-input-352-6994d57114e2>:13: SettingWithCopyWarning:\n",
      "\n",
      "\n",
      "A value is trying to be set on a copy of a slice from a DataFrame.\n",
      "Try using .loc[row_indexer,col_indexer] = value instead\n",
      "\n",
      "See the caveats in the documentation: https://pandas.pydata.org/pandas-docs/stable/user_guide/indexing.html#returning-a-view-versus-a-copy\n",
      "\n"
     ]
    }
   ],
   "source": [
    "# encoding the columns with 0 and 1\n",
    "# constructing the local wins\n",
    "localWins = df_seasons['localGoals'] > df_seasons['visitorGoals']\n",
    "draws = df_seasons['localGoals'] == df_seasons['visitorGoals']\n",
    "df_seasons['localWins'] = localWins.apply(int)\n",
    "df_seasons['localDraw'] = draws.apply(int)\n",
    "\n",
    "# construct the visitors wins\n",
    "visitorWins = df_seasons['localGoals'] < df_seasons['visitorGoals']\n",
    "df_seasons['visitorWins'] = visitorWins.apply(int)"
   ]
  },
  {
   "cell_type": "markdown",
   "metadata": {},
   "source": [
    "### Aggregating the 3 columns we added to form a histogram table"
   ]
  },
  {
   "cell_type": "markdown",
   "metadata": {},
   "source": [
    "Summing up the local wins and draws by each team:"
   ]
  },
  {
   "cell_type": "code",
   "execution_count": 353,
   "metadata": {
    "scrolled": false
   },
   "outputs": [
    {
     "data": {
      "text/html": [
       "<div>\n",
       "<style scoped>\n",
       "    .dataframe tbody tr th:only-of-type {\n",
       "        vertical-align: middle;\n",
       "    }\n",
       "\n",
       "    .dataframe tbody tr th {\n",
       "        vertical-align: top;\n",
       "    }\n",
       "\n",
       "    .dataframe thead th {\n",
       "        text-align: right;\n",
       "    }\n",
       "</style>\n",
       "<table border=\"1\" class=\"dataframe\">\n",
       "  <thead>\n",
       "    <tr style=\"text-align: right;\">\n",
       "      <th></th>\n",
       "      <th>localWins</th>\n",
       "      <th>localDraw</th>\n",
       "    </tr>\n",
       "    <tr>\n",
       "      <th>localTeam</th>\n",
       "      <th></th>\n",
       "      <th></th>\n",
       "    </tr>\n",
       "  </thead>\n",
       "  <tbody>\n",
       "    <tr>\n",
       "      <th>AD Almeria</th>\n",
       "      <td>15</td>\n",
       "      <td>14</td>\n",
       "    </tr>\n",
       "    <tr>\n",
       "      <th>Atletico de Bilbao</th>\n",
       "      <td>206</td>\n",
       "      <td>65</td>\n",
       "    </tr>\n",
       "    <tr>\n",
       "      <th>Atletico de Madrid</th>\n",
       "      <td>203</td>\n",
       "      <td>62</td>\n",
       "    </tr>\n",
       "    <tr>\n",
       "      <th>Barcelona</th>\n",
       "      <td>225</td>\n",
       "      <td>51</td>\n",
       "    </tr>\n",
       "    <tr>\n",
       "      <th>Betis</th>\n",
       "      <td>151</td>\n",
       "      <td>66</td>\n",
       "    </tr>\n",
       "  </tbody>\n",
       "</table>\n",
       "</div>"
      ],
      "text/plain": [
       "                    localWins  localDraw\n",
       "localTeam                               \n",
       "AD Almeria                 15         14\n",
       "Atletico de Bilbao        206         65\n",
       "Atletico de Madrid        203         62\n",
       "Barcelona                 225         51\n",
       "Betis                     151         66"
      ]
     },
     "execution_count": 353,
     "metadata": {},
     "output_type": "execute_result"
    }
   ],
   "source": [
    "# constructing the dataframe for the aggregated local games, summing the local wins and draws\n",
    "df_calc = df_seasons[['localTeam', 'localWins', 'localDraw', 'visitorWins']]\n",
    "df_local = df_calc.groupby(\"localTeam\").agg({\"localWins\":sum, \"localDraw\": sum})\n",
    "df_local.head()"
   ]
  },
  {
   "cell_type": "markdown",
   "metadata": {},
   "source": [
    "Summing up the visitor wins and draws by each team:"
   ]
  },
  {
   "cell_type": "code",
   "execution_count": 354,
   "metadata": {},
   "outputs": [
    {
     "data": {
      "text/html": [
       "<div>\n",
       "<style scoped>\n",
       "    .dataframe tbody tr th:only-of-type {\n",
       "        vertical-align: middle;\n",
       "    }\n",
       "\n",
       "    .dataframe tbody tr th {\n",
       "        vertical-align: top;\n",
       "    }\n",
       "\n",
       "    .dataframe thead th {\n",
       "        text-align: right;\n",
       "    }\n",
       "</style>\n",
       "<table border=\"1\" class=\"dataframe\">\n",
       "  <thead>\n",
       "    <tr style=\"text-align: right;\">\n",
       "      <th></th>\n",
       "      <th>visitorWins</th>\n",
       "      <th>visitorDraw</th>\n",
       "    </tr>\n",
       "    <tr>\n",
       "      <th>visitorTeam</th>\n",
       "      <th></th>\n",
       "      <th></th>\n",
       "    </tr>\n",
       "  </thead>\n",
       "  <tbody>\n",
       "    <tr>\n",
       "      <th>AD Almeria</th>\n",
       "      <td>1</td>\n",
       "      <td>4</td>\n",
       "    </tr>\n",
       "    <tr>\n",
       "      <th>Atletico de Bilbao</th>\n",
       "      <td>56</td>\n",
       "      <td>91</td>\n",
       "    </tr>\n",
       "    <tr>\n",
       "      <th>Atletico de Madrid</th>\n",
       "      <td>79</td>\n",
       "      <td>92</td>\n",
       "    </tr>\n",
       "    <tr>\n",
       "      <th>Barcelona</th>\n",
       "      <td>94</td>\n",
       "      <td>96</td>\n",
       "    </tr>\n",
       "    <tr>\n",
       "      <th>Betis</th>\n",
       "      <td>43</td>\n",
       "      <td>58</td>\n",
       "    </tr>\n",
       "  </tbody>\n",
       "</table>\n",
       "</div>"
      ],
      "text/plain": [
       "                    visitorWins  visitorDraw\n",
       "visitorTeam                                 \n",
       "AD Almeria                    1            4\n",
       "Atletico de Bilbao           56           91\n",
       "Atletico de Madrid           79           92\n",
       "Barcelona                    94           96\n",
       "Betis                        43           58"
      ]
     },
     "execution_count": 354,
     "metadata": {},
     "output_type": "execute_result"
    }
   ],
   "source": [
    "# constructing the dataframe for the aggregated visitors games, summing the visitors wins and draws\n",
    "df_calc1 = df_seasons[['visitorTeam', 'localDraw', 'visitorWins']]\n",
    "df_visitor = df_calc1.groupby(\"visitorTeam\").agg({\"visitorWins\":sum, \"localDraw\": sum})\n",
    "df_visitor.rename(columns={\"localDraw\": \"visitorDraw\"},inplace=True)\n",
    "df_visitor.head()"
   ]
  },
  {
   "cell_type": "markdown",
   "metadata": {},
   "source": [
    "Constructing the dataset by each team with the total points of away games and local games:"
   ]
  },
  {
   "cell_type": "code",
   "execution_count": 355,
   "metadata": {},
   "outputs": [
    {
     "data": {
      "text/html": [
       "<div>\n",
       "<style scoped>\n",
       "    .dataframe tbody tr th:only-of-type {\n",
       "        vertical-align: middle;\n",
       "    }\n",
       "\n",
       "    .dataframe tbody tr th {\n",
       "        vertical-align: top;\n",
       "    }\n",
       "\n",
       "    .dataframe thead th {\n",
       "        text-align: right;\n",
       "    }\n",
       "</style>\n",
       "<table border=\"1\" class=\"dataframe\">\n",
       "  <thead>\n",
       "    <tr style=\"text-align: right;\">\n",
       "      <th></th>\n",
       "      <th>local_points</th>\n",
       "      <th>visitor_points</th>\n",
       "      <th>total_points</th>\n",
       "    </tr>\n",
       "  </thead>\n",
       "  <tbody>\n",
       "    <tr>\n",
       "      <th>AD Almeria</th>\n",
       "      <td>59</td>\n",
       "      <td>7</td>\n",
       "      <td>66</td>\n",
       "    </tr>\n",
       "    <tr>\n",
       "      <th>Atletico de Bilbao</th>\n",
       "      <td>683</td>\n",
       "      <td>259</td>\n",
       "      <td>942</td>\n",
       "    </tr>\n",
       "    <tr>\n",
       "      <th>Atletico de Madrid</th>\n",
       "      <td>671</td>\n",
       "      <td>329</td>\n",
       "      <td>1000</td>\n",
       "    </tr>\n",
       "    <tr>\n",
       "      <th>Barcelona</th>\n",
       "      <td>726</td>\n",
       "      <td>378</td>\n",
       "      <td>1104</td>\n",
       "    </tr>\n",
       "    <tr>\n",
       "      <th>Betis</th>\n",
       "      <td>519</td>\n",
       "      <td>187</td>\n",
       "      <td>706</td>\n",
       "    </tr>\n",
       "  </tbody>\n",
       "</table>\n",
       "</div>"
      ],
      "text/plain": [
       "                    local_points  visitor_points  total_points\n",
       "AD Almeria                    59               7            66\n",
       "Atletico de Bilbao           683             259           942\n",
       "Atletico de Madrid           671             329          1000\n",
       "Barcelona                    726             378          1104\n",
       "Betis                        519             187           706"
      ]
     },
     "execution_count": 355,
     "metadata": {},
     "output_type": "execute_result"
    }
   ],
   "source": [
    "# constructing the total points per team for local and visitor games\n",
    "df_total = pd.concat([df_local, df_visitor], axis=1)\n",
    "# calculating the local points\n",
    "df_total['local_points'] = 3 * df_total['localWins'] + df_total['localDraw']\n",
    "df_total.drop(['localWins', 'localDraw'], axis=1, inplace=True)\n",
    "# calculating the visitor points\n",
    "df_total['visitor_points'] = 3 * df_total['visitorWins'] + df_total['visitorDraw']\n",
    "df_total.drop(['visitorWins', 'visitorDraw'], axis=1, inplace=True)\n",
    "\n",
    "# adding a total points column\n",
    "df_total['total_points'] = df_total['local_points'] + df_total['visitor_points']\n",
    "df_total.head()"
   ]
  },
  {
   "cell_type": "markdown",
   "metadata": {},
   "source": [
    "## Cluster teams with KMeans"
   ]
  },
  {
   "cell_type": "markdown",
   "metadata": {},
   "source": [
    "We want to see the ranks of teams within range of season so we will use KMeans to cluster those teams.  \n",
    "**First we will scale our data:**"
   ]
  },
  {
   "cell_type": "code",
   "execution_count": 357,
   "metadata": {
    "scrolled": true
   },
   "outputs": [
    {
     "data": {
      "text/html": [
       "<div>\n",
       "<style scoped>\n",
       "    .dataframe tbody tr th:only-of-type {\n",
       "        vertical-align: middle;\n",
       "    }\n",
       "\n",
       "    .dataframe tbody tr th {\n",
       "        vertical-align: top;\n",
       "    }\n",
       "\n",
       "    .dataframe thead th {\n",
       "        text-align: right;\n",
       "    }\n",
       "</style>\n",
       "<table border=\"1\" class=\"dataframe\">\n",
       "  <thead>\n",
       "    <tr style=\"text-align: right;\">\n",
       "      <th></th>\n",
       "      <th>local_points</th>\n",
       "      <th>visitor_points</th>\n",
       "      <th>total_points</th>\n",
       "    </tr>\n",
       "  </thead>\n",
       "  <tbody>\n",
       "    <tr>\n",
       "      <th>AD Almeria</th>\n",
       "      <td>0.047043</td>\n",
       "      <td>0.004545</td>\n",
       "      <td>0.031250</td>\n",
       "    </tr>\n",
       "    <tr>\n",
       "      <th>Atletico de Bilbao</th>\n",
       "      <td>0.885753</td>\n",
       "      <td>0.577273</td>\n",
       "      <td>0.771115</td>\n",
       "    </tr>\n",
       "    <tr>\n",
       "      <th>Atletico de Madrid</th>\n",
       "      <td>0.869624</td>\n",
       "      <td>0.736364</td>\n",
       "      <td>0.820101</td>\n",
       "    </tr>\n",
       "    <tr>\n",
       "      <th>Barcelona</th>\n",
       "      <td>0.943548</td>\n",
       "      <td>0.847727</td>\n",
       "      <td>0.907939</td>\n",
       "    </tr>\n",
       "    <tr>\n",
       "      <th>Betis</th>\n",
       "      <td>0.665323</td>\n",
       "      <td>0.413636</td>\n",
       "      <td>0.571791</td>\n",
       "    </tr>\n",
       "  </tbody>\n",
       "</table>\n",
       "</div>"
      ],
      "text/plain": [
       "                    local_points  visitor_points  total_points\n",
       "AD Almeria              0.047043        0.004545      0.031250\n",
       "Atletico de Bilbao      0.885753        0.577273      0.771115\n",
       "Atletico de Madrid      0.869624        0.736364      0.820101\n",
       "Barcelona               0.943548        0.847727      0.907939\n",
       "Betis                   0.665323        0.413636      0.571791"
      ]
     },
     "execution_count": 357,
     "metadata": {},
     "output_type": "execute_result"
    }
   ],
   "source": [
    "from sklearn.preprocessing import MinMaxScaler\n",
    "\n",
    "scaler = MinMaxScaler()\n",
    "df_total[['local_points', 'visitor_points', 'total_points']] = scaler.fit_transform(df_total[['local_points', 'visitor_points', 'total_points']])\n",
    "df_total.head()"
   ]
  },
  {
   "cell_type": "markdown",
   "metadata": {},
   "source": [
    "**Performing elbow method to determine the number of clusters**"
   ]
  },
  {
   "cell_type": "code",
   "execution_count": 358,
   "metadata": {},
   "outputs": [],
   "source": [
    "from sklearn.cluster import KMeans"
   ]
  },
  {
   "cell_type": "code",
   "execution_count": 359,
   "metadata": {},
   "outputs": [
    {
     "data": {
      "image/png": "[encoded data removed]",
      "text/plain": [
       "<Figure size 432x288 with 1 Axes>"
      ]
     },
     "metadata": {
      "needs_background": "light"
     },
     "output_type": "display_data"
    }
   ],
   "source": [
    "ks = np.arange(2,10)\n",
    "wcss = []\n",
    "for k in ks:\n",
    "    k_means = KMeans(n_clusters=k, random_state=11)\n",
    "    k_means.fit(df_total)\n",
    "    wcss.append(k_means.inertia_)\n",
    "\n",
    "plt.plot(ks, wcss)\n",
    "plt.title(\"Choosing K according to elbow method\")\n",
    "plt.xlabel(\"# Clusters\")\n",
    "plt.ylabel(\"WCSS\")\n",
    "plt.show()"
   ]
  },
  {
   "cell_type": "markdown",
   "metadata": {},
   "source": [
    "We see that the \"elbow\" is at `k=4`"
   ]
  },
  {
   "cell_type": "markdown",
   "metadata": {},
   "source": [
    "**Cluster the teams**"
   ]
  },
  {
   "cell_type": "code",
   "execution_count": 360,
   "metadata": {},
   "outputs": [],
   "source": [
    "k_means = KMeans(n_clusters=4, random_state=11)\n",
    "y = k_means.fit_predict(df_total)"
   ]
  },
  {
   "cell_type": "code",
   "execution_count": 361,
   "metadata": {},
   "outputs": [
    {
     "data": {
      "text/plain": [
       "array([1, 2, 0, 0, 2, 1, 3, 3, 1, 3, 1, 2, 1, 3, 3, 1, 1, 3, 3, 1, 1, 1,\n",
       "       0, 2, 1, 1, 3, 3, 2, 2, 1, 2, 3, 2], dtype=int32)"
      ]
     },
     "execution_count": 361,
     "metadata": {},
     "output_type": "execute_result"
    }
   ],
   "source": [
    "y"
   ]
  },
  {
   "cell_type": "markdown",
   "metadata": {},
   "source": [
    "**Show the clusters in 2D:**"
   ]
  },
  {
   "cell_type": "code",
   "execution_count": 362,
   "metadata": {},
   "outputs": [],
   "source": [
    "x = df_total.copy() # For easy use"
   ]
  },
  {
   "cell_type": "code",
   "execution_count": 363,
   "metadata": {
    "scrolled": false
   },
   "outputs": [
    {
     "data": {
      "image/png": "[encoded data removed]",
      "text/plain": [
       "<Figure size 432x288 with 1 Axes>"
      ]
     },
     "metadata": {
      "needs_background": "light"
     },
     "output_type": "display_data"
    }
   ],
   "source": [
    "plt.scatter(x.iloc[y == 0, 0], x.iloc[y == 0, 1], c='red')\n",
    "plt.scatter(x.iloc[y == 1, 0], x.iloc[y == 1, 1], c='blue')\n",
    "plt.scatter(x.iloc[y == 2, 0], x.iloc[y == 2, 1], c='green')\n",
    "plt.scatter(x.iloc[y == 3, 0], x.iloc[y == 3, 1], c='yellow')\n",
    "plt.scatter(k_means.cluster_centers_[:, 0], k_means.cluster_centers_[:, 1], c='black')\n",
    "plt.xlabel(\"Total Local Points\")\n",
    "plt.ylabel(\"Total Away Points\")\n",
    "plt.show()\n"
   ]
  },
  {
   "cell_type": "markdown",
   "metadata": {},
   "source": [
    "Lets see who are the best teams over this period:"
   ]
  },
  {
   "cell_type": "code",
   "execution_count": 364,
   "metadata": {
    "scrolled": false
   },
   "outputs": [
    {
     "data": {
      "text/html": [
       "<div>\n",
       "<style scoped>\n",
       "    .dataframe tbody tr th:only-of-type {\n",
       "        vertical-align: middle;\n",
       "    }\n",
       "\n",
       "    .dataframe tbody tr th {\n",
       "        vertical-align: top;\n",
       "    }\n",
       "\n",
       "    .dataframe thead th {\n",
       "        text-align: right;\n",
       "    }\n",
       "</style>\n",
       "<table border=\"1\" class=\"dataframe\">\n",
       "  <thead>\n",
       "    <tr style=\"text-align: right;\">\n",
       "      <th></th>\n",
       "      <th>local_points</th>\n",
       "      <th>visitor_points</th>\n",
       "      <th>total_points</th>\n",
       "    </tr>\n",
       "  </thead>\n",
       "  <tbody>\n",
       "    <tr>\n",
       "      <th>Atletico de Madrid</th>\n",
       "      <td>0.869624</td>\n",
       "      <td>0.736364</td>\n",
       "      <td>0.820101</td>\n",
       "    </tr>\n",
       "    <tr>\n",
       "      <th>Barcelona</th>\n",
       "      <td>0.943548</td>\n",
       "      <td>0.847727</td>\n",
       "      <td>0.907939</td>\n",
       "    </tr>\n",
       "    <tr>\n",
       "      <th>Real Madrid</th>\n",
       "      <td>1.000000</td>\n",
       "      <td>1.000000</td>\n",
       "      <td>1.000000</td>\n",
       "    </tr>\n",
       "  </tbody>\n",
       "</table>\n",
       "</div>"
      ],
      "text/plain": [
       "                    local_points  visitor_points  total_points\n",
       "Atletico de Madrid      0.869624        0.736364      0.820101\n",
       "Barcelona               0.943548        0.847727      0.907939\n",
       "Real Madrid             1.000000        1.000000      1.000000"
      ]
     },
     "execution_count": 364,
     "metadata": {},
     "output_type": "execute_result"
    }
   ],
   "source": [
    "x.iloc[y==0]"
   ]
  },
  {
   "cell_type": "markdown",
   "metadata": {},
   "source": [
    "**Show the clusters in 3D**"
   ]
  },
  {
   "cell_type": "code",
   "execution_count": 365,
   "metadata": {},
   "outputs": [
    {
     "data": {
      "application/vnd.plotly.v1+json": {
       "config": {
        "plotlyServerURL": "https://plot.ly"
       },
       "data": [
        {
         "hovertemplate": "local_points=%{x}<br>visitor_points=%{y}<br>total_points=%{marker.color}<extra></extra>",
         "legendgroup": "",
         "marker": {
          "color": [
           0.03125,
           0.7711148648648649,
           0.8201013513513514,
           0.9079391891891893,
           0.5717905405405406,
           0.10557432432432433,
           0.22888513513513514,
           0.26182432432432434,
           0.05320945945945947,
           0.22888513513513514,
           0.1579391891891892,
           0.610641891891892,
           0.03885135135135136,
           0.31841216216216217,
           0.41976351351351354,
           0.14189189189189189,
           0.15540540540540543,
           0.19679054054054057,
           0.41385135135135137,
           0.13682432432432434,
           0.09628378378378379,
           0.015202702702702707,
           1,
           0.7685810810810811,
           0,
           0.049831081081081086,
           0.28716216216216217,
           0.2846283783783784,
           0.6427364864864865,
           0.6444256756756758,
           0.045608108108108114,
           0.6469594594594595,
           0.39949324324324326,
           0.6309121621621623
          ],
          "coloraxis": "coloraxis",
          "symbol": "circle"
         },
         "mode": "markers",
         "name": "",
         "scene": "scene",
         "showlegend": false,
         "type": "scatter3d",
         "x": [
          0.047043010752688186,
          0.8857526881720431,
          0.8696236559139786,
          0.9435483870967744,
          0.6653225806451614,
          0.13575268817204303,
          0.2620967741935484,
          0.31317204301075274,
          0.0631720430107527,
          0.282258064516129,
          0.20161290322580647,
          0.7379032258064517,
          0.049731182795698936,
          0.3709677419354839,
          0.495967741935484,
          0.1424731182795699,
          0.16666666666666669,
          0.22580645161290322,
          0.478494623655914,
          0.15188172043010753,
          0.12768817204301078,
          0.0053763440860215075,
          1,
          0.8454301075268819,
          0,
          0.05510752688172044,
          0.34005376344086025,
          0.37231182795698925,
          0.7473118279569894,
          0.7110215053763441,
          0.047043010752688186,
          0.7258064516129034,
          0.4731182795698925,
          0.6922043010752689
         ],
         "y": [
          0.0045454545454545435,
          0.5772727272727273,
          0.7363636363636363,
          0.8477272727272727,
          0.41363636363636364,
          0.054545454545454536,
          0.17272727272727273,
          0.175,
          0.03636363636363636,
          0.13863636363636364,
          0.08409090909090908,
          0.39545454545454545,
          0.02045454545454545,
          0.22954545454545455,
          0.2909090909090909,
          0.1409090909090909,
          0.13636363636363635,
          0.14772727272727273,
          0.30454545454545456,
          0.11136363636363636,
          0.04318181818181818,
          0.031818181818181815,
          0.9999999999999999,
          0.6386363636363637,
          0,
          0.04090909090909091,
          0.19772727272727272,
          0.13636363636363635,
          0.4659090909090909,
          0.5318181818181819,
          0.04318181818181818,
          0.5136363636363637,
          0.275,
          0.5272727272727272
         ],
         "z": [
          0.03125,
          0.7711148648648649,
          0.8201013513513514,
          0.9079391891891893,
          0.5717905405405406,
          0.10557432432432433,
          0.22888513513513514,
          0.26182432432432434,
          0.05320945945945947,
          0.22888513513513514,
          0.1579391891891892,
          0.610641891891892,
          0.03885135135135136,
          0.31841216216216217,
          0.41976351351351354,
          0.14189189189189189,
          0.15540540540540543,
          0.19679054054054057,
          0.41385135135135137,
          0.13682432432432434,
          0.09628378378378379,
          0.015202702702702707,
          1,
          0.7685810810810811,
          0,
          0.049831081081081086,
          0.28716216216216217,
          0.2846283783783784,
          0.6427364864864865,
          0.6444256756756758,
          0.045608108108108114,
          0.6469594594594595,
          0.39949324324324326,
          0.6309121621621623
         ]
        }
       ],
       "layout": {
        "coloraxis": {
         "colorbar": {
          "title": {
           "text": "total_points"
          }
         },
         "colorscale": [
          [
           0,
           "#0d0887"
          ],
          [
           0.1111111111111111,
           "#46039f"
          ],
          [
           0.2222222222222222,
           "#7201a8"
          ],
          [
           0.3333333333333333,
           "#9c179e"
          ],
          [
           0.4444444444444444,
           "#bd3786"
          ],
          [
           0.5555555555555556,
           "#d8576b"
          ],
          [
           0.6666666666666666,
           "#ed7953"
          ],
          [
           0.7777777777777778,
           "#fb9f3a"
          ],
          [
           0.8888888888888888,
           "#fdca26"
          ],
          [
           1,
           "#f0f921"
          ]
         ]
        },
        "legend": {
         "tracegroupgap": 0
        },
        "margin": {
         "t": 60
        },
        "scene": {
         "domain": {
          "x": [
           0,
           1
          ],
          "y": [
           0,
           1
          ]
         },
         "xaxis": {
          "title": {
           "text": "local_points"
          }
         },
         "yaxis": {
          "title": {
           "text": "visitor_points"
          }
         },
         "zaxis": {
          "title": {
           "text": "total_points"
          }
         }
        },
        "template": {
         "data": {
          "bar": [
           {
            "error_x": {
             "color": "#2a3f5f"
            },
            "error_y": {
             "color": "#2a3f5f"
            },
            "marker": {
             "line": {
              "color": "#E5ECF6",
              "width": 0.5
             }
            },
            "type": "bar"
           }
          ],
          "barpolar": [
           {
            "marker": {
             "line": {
              "color": "#E5ECF6",
              "width": 0.5
             }
            },
            "type": "barpolar"
           }
          ],
          "carpet": [
           {
            "aaxis": {
             "endlinecolor": "#2a3f5f",
             "gridcolor": "white",
             "linecolor": "white",
             "minorgridcolor": "white",
             "startlinecolor": "#2a3f5f"
            },
            "baxis": {
             "endlinecolor": "#2a3f5f",
             "gridcolor": "white",
             "linecolor": "white",
             "minorgridcolor": "white",
             "startlinecolor": "#2a3f5f"
            },
            "type": "carpet"
           }
          ],
          "choropleth": [
           {
            "colorbar": {
             "outlinewidth": 0,
             "ticks": ""
            },
            "type": "choropleth"
           }
          ],
          "contour": [
           {
            "colorbar": {
             "outlinewidth": 0,
             "ticks": ""
            },
            "colorscale": [
             [
              0,
              "#0d0887"
             ],
             [
              0.1111111111111111,
              "#46039f"
             ],
             [
              0.2222222222222222,
              "#7201a8"
             ],
             [
              0.3333333333333333,
              "#9c179e"
             ],
             [
              0.4444444444444444,
              "#bd3786"
             ],
             [
              0.5555555555555556,
              "#d8576b"
             ],
             [
              0.6666666666666666,
              "#ed7953"
             ],
             [
              0.7777777777777778,
              "#fb9f3a"
             ],
             [
              0.8888888888888888,
              "#fdca26"
             ],
             [
              1,
              "#f0f921"
             ]
            ],
            "type": "contour"
           }
          ],
          "contourcarpet": [
           {
            "colorbar": {
             "outlinewidth": 0,
             "ticks": ""
            },
            "type": "contourcarpet"
           }
          ],
          "heatmap": [
           {
            "colorbar": {
             "outlinewidth": 0,
             "ticks": ""
            },
            "colorscale": [
             [
              0,
              "#0d0887"
             ],
             [
              0.1111111111111111,
              "#46039f"
             ],
             [
              0.2222222222222222,
              "#7201a8"
             ],
             [
              0.3333333333333333,
              "#9c179e"
             ],
             [
              0.4444444444444444,
              "#bd3786"
             ],
             [
              0.5555555555555556,
              "#d8576b"
             ],
             [
              0.6666666666666666,
              "#ed7953"
             ],
             [
              0.7777777777777778,
              "#fb9f3a"
             ],
             [
              0.8888888888888888,
              "#fdca26"
             ],
             [
              1,
              "#f0f921"
             ]
            ],
            "type": "heatmap"
           }
          ],
          "heatmapgl": [
           {
            "colorbar": {
             "outlinewidth": 0,
             "ticks": ""
            },
            "colorscale": [
             [
              0,
              "#0d0887"
             ],
             [
              0.1111111111111111,
              "#46039f"
             ],
             [
              0.2222222222222222,
              "#7201a8"
             ],
             [
              0.3333333333333333,
              "#9c179e"
             ],
             [
              0.4444444444444444,
              "#bd3786"
             ],
             [
              0.5555555555555556,
              "#d8576b"
             ],
             [
              0.6666666666666666,
              "#ed7953"
             ],
             [
              0.7777777777777778,
              "#fb9f3a"
             ],
             [
              0.8888888888888888,
              "#fdca26"
             ],
             [
              1,
              "#f0f921"
             ]
            ],
            "type": "heatmapgl"
           }
          ],
          "histogram": [
           {
            "marker": {
             "colorbar": {
              "outlinewidth": 0,
              "ticks": ""
             }
            },
            "type": "histogram"
           }
          ],
          "histogram2d": [
           {
            "colorbar": {
             "outlinewidth": 0,
             "ticks": ""
            },
            "colorscale": [
             [
              0,
              "#0d0887"
             ],
             [
              0.1111111111111111,
              "#46039f"
             ],
             [
              0.2222222222222222,
              "#7201a8"
             ],
             [
              0.3333333333333333,
              "#9c179e"
             ],
             [
              0.4444444444444444,
              "#bd3786"
             ],
             [
              0.5555555555555556,
              "#d8576b"
             ],
             [
              0.6666666666666666,
              "#ed7953"
             ],
             [
              0.7777777777777778,
              "#fb9f3a"
             ],
             [
              0.8888888888888888,
              "#fdca26"
             ],
             [
              1,
              "#f0f921"
             ]
            ],
            "type": "histogram2d"
           }
          ],
          "histogram2dcontour": [
           {
            "colorbar": {
             "outlinewidth": 0,
             "ticks": ""
            },
            "colorscale": [
             [
              0,
              "#0d0887"
             ],
             [
              0.1111111111111111,
              "#46039f"
             ],
             [
              0.2222222222222222,
              "#7201a8"
             ],
             [
              0.3333333333333333,
              "#9c179e"
             ],
             [
              0.4444444444444444,
              "#bd3786"
             ],
             [
              0.5555555555555556,
              "#d8576b"
             ],
             [
              0.6666666666666666,
              "#ed7953"
             ],
             [
              0.7777777777777778,
              "#fb9f3a"
             ],
             [
              0.8888888888888888,
              "#fdca26"
             ],
             [
              1,
              "#f0f921"
             ]
            ],
            "type": "histogram2dcontour"
           }
          ],
          "mesh3d": [
           {
            "colorbar": {
             "outlinewidth": 0,
             "ticks": ""
            },
            "type": "mesh3d"
           }
          ],
          "parcoords": [
           {
            "line": {
             "colorbar": {
              "outlinewidth": 0,
              "ticks": ""
             }
            },
            "type": "parcoords"
           }
          ],
          "pie": [
           {
            "automargin": true,
            "type": "pie"
           }
          ],
          "scatter": [
           {
            "marker": {
             "colorbar": {
              "outlinewidth": 0,
              "ticks": ""
             }
            },
            "type": "scatter"
           }
          ],
          "scatter3d": [
           {
            "line": {
             "colorbar": {
              "outlinewidth": 0,
              "ticks": ""
             }
            },
            "marker": {
             "colorbar": {
              "outlinewidth": 0,
              "ticks": ""
             }
            },
            "type": "scatter3d"
           }
          ],
          "scattercarpet": [
           {
            "marker": {
             "colorbar": {
              "outlinewidth": 0,
              "ticks": ""
             }
            },
            "type": "scattercarpet"
           }
          ],
          "scattergeo": [
           {
            "marker": {
             "colorbar": {
              "outlinewidth": 0,
              "ticks": ""
             }
            },
            "type": "scattergeo"
           }
          ],
          "scattergl": [
           {
            "marker": {
             "colorbar": {
              "outlinewidth": 0,
              "ticks": ""
             }
            },
            "type": "scattergl"
           }
          ],
          "scattermapbox": [
           {
            "marker": {
             "colorbar": {
              "outlinewidth": 0,
              "ticks": ""
             }
            },
            "type": "scattermapbox"
           }
          ],
          "scatterpolar": [
           {
            "marker": {
             "colorbar": {
              "outlinewidth": 0,
              "ticks": ""
             }
            },
            "type": "scatterpolar"
           }
          ],
          "scatterpolargl": [
           {
            "marker": {
             "colorbar": {
              "outlinewidth": 0,
              "ticks": ""
             }
            },
            "type": "scatterpolargl"
           }
          ],
          "scatterternary": [
           {
            "marker": {
             "colorbar": {
              "outlinewidth": 0,
              "ticks": ""
             }
            },
            "type": "scatterternary"
           }
          ],
          "surface": [
           {
            "colorbar": {
             "outlinewidth": 0,
             "ticks": ""
            },
            "colorscale": [
             [
              0,
              "#0d0887"
             ],
             [
              0.1111111111111111,
              "#46039f"
             ],
             [
              0.2222222222222222,
              "#7201a8"
             ],
             [
              0.3333333333333333,
              "#9c179e"
             ],
             [
              0.4444444444444444,
              "#bd3786"
             ],
             [
              0.5555555555555556,
              "#d8576b"
             ],
             [
              0.6666666666666666,
              "#ed7953"
             ],
             [
              0.7777777777777778,
              "#fb9f3a"
             ],
             [
              0.8888888888888888,
              "#fdca26"
             ],
             [
              1,
              "#f0f921"
             ]
            ],
            "type": "surface"
           }
          ],
          "table": [
           {
            "cells": {
             "fill": {
              "color": "#EBF0F8"
             },
             "line": {
              "color": "white"
             }
            },
            "header": {
             "fill": {
              "color": "#C8D4E3"
             },
             "line": {
              "color": "white"
             }
            },
            "type": "table"
           }
          ]
         },
         "layout": {
          "annotationdefaults": {
           "arrowcolor": "#2a3f5f",
           "arrowhead": 0,
           "arrowwidth": 1
          },
          "coloraxis": {
           "colorbar": {
            "outlinewidth": 0,
            "ticks": ""
           }
          },
          "colorscale": {
           "diverging": [
            [
             0,
             "#8e0152"
            ],
            [
             0.1,
             "#c51b7d"
            ],
            [
             0.2,
             "#de77ae"
            ],
            [
             0.3,
             "#f1b6da"
            ],
            [
             0.4,
             "#fde0ef"
            ],
            [
             0.5,
             "#f7f7f7"
            ],
            [
             0.6,
             "#e6f5d0"
            ],
            [
             0.7,
             "#b8e186"
            ],
            [
             0.8,
             "#7fbc41"
            ],
            [
             0.9,
             "#4d9221"
            ],
            [
             1,
             "#276419"
            ]
           ],
           "sequential": [
            [
             0,
             "#0d0887"
            ],
            [
             0.1111111111111111,
             "#46039f"
            ],
            [
             0.2222222222222222,
             "#7201a8"
            ],
            [
             0.3333333333333333,
             "#9c179e"
            ],
            [
             0.4444444444444444,
             "#bd3786"
            ],
            [
             0.5555555555555556,
             "#d8576b"
            ],
            [
             0.6666666666666666,
             "#ed7953"
            ],
            [
             0.7777777777777778,
             "#fb9f3a"
            ],
            [
             0.8888888888888888,
             "#fdca26"
            ],
            [
             1,
             "#f0f921"
            ]
           ],
           "sequentialminus": [
            [
             0,
             "#0d0887"
            ],
            [
             0.1111111111111111,
             "#46039f"
            ],
            [
             0.2222222222222222,
             "#7201a8"
            ],
            [
             0.3333333333333333,
             "#9c179e"
            ],
            [
             0.4444444444444444,
             "#bd3786"
            ],
            [
             0.5555555555555556,
             "#d8576b"
            ],
            [
             0.6666666666666666,
             "#ed7953"
            ],
            [
             0.7777777777777778,
             "#fb9f3a"
            ],
            [
             0.8888888888888888,
             "#fdca26"
            ],
            [
             1,
             "#f0f921"
            ]
           ]
          },
          "colorway": [
           "#636efa",
           "#EF553B",
           "#00cc96",
           "#ab63fa",
           "#FFA15A",
           "#19d3f3",
           "#FF6692",
           "#B6E880",
           "#FF97FF",
           "#FECB52"
          ],
          "font": {
           "color": "#2a3f5f"
          },
          "geo": {
           "bgcolor": "white",
           "lakecolor": "white",
           "landcolor": "#E5ECF6",
           "showlakes": true,
           "showland": true,
           "subunitcolor": "white"
          },
          "hoverlabel": {
           "align": "left"
          },
          "hovermode": "closest",
          "mapbox": {
           "style": "light"
          },
          "paper_bgcolor": "white",
          "plot_bgcolor": "#E5ECF6",
          "polar": {
           "angularaxis": {
            "gridcolor": "white",
            "linecolor": "white",
            "ticks": ""
           },
           "bgcolor": "#E5ECF6",
           "radialaxis": {
            "gridcolor": "white",
            "linecolor": "white",
            "ticks": ""
           }
          },
          "scene": {
           "xaxis": {
            "backgroundcolor": "#E5ECF6",
            "gridcolor": "white",
            "gridwidth": 2,
            "linecolor": "white",
            "showbackground": true,
            "ticks": "",
            "zerolinecolor": "white"
           },
           "yaxis": {
            "backgroundcolor": "#E5ECF6",
            "gridcolor": "white",
            "gridwidth": 2,
            "linecolor": "white",
            "showbackground": true,
            "ticks": "",
            "zerolinecolor": "white"
           },
           "zaxis": {
            "backgroundcolor": "#E5ECF6",
            "gridcolor": "white",
            "gridwidth": 2,
            "linecolor": "white",
            "showbackground": true,
            "ticks": "",
            "zerolinecolor": "white"
           }
          },
          "shapedefaults": {
           "line": {
            "color": "#2a3f5f"
           }
          },
          "ternary": {
           "aaxis": {
            "gridcolor": "white",
            "linecolor": "white",
            "ticks": ""
           },
           "baxis": {
            "gridcolor": "white",
            "linecolor": "white",
            "ticks": ""
           },
           "bgcolor": "#E5ECF6",
           "caxis": {
            "gridcolor": "white",
            "linecolor": "white",
            "ticks": ""
           }
          },
          "title": {
           "x": 0.05
          },
          "xaxis": {
           "automargin": true,
           "gridcolor": "white",
           "linecolor": "white",
           "ticks": "",
           "title": {
            "standoff": 15
           },
           "zerolinecolor": "white",
           "zerolinewidth": 2
          },
          "yaxis": {
           "automargin": true,
           "gridcolor": "white",
           "linecolor": "white",
           "ticks": "",
           "title": {
            "standoff": 15
           },
           "zerolinecolor": "white",
           "zerolinewidth": 2
          }
         }
        }
       }
      },
      "text/html": [
       "<div>                            <div id=\"232a79e4-0f97-4de4-808a-8ad79e740ab3\" class=\"plotly-graph-div\" style=\"height:525px; width:100%;\"></div>            <script type=\"text/javascript\">                require([\"plotly\"], function(Plotly) {                    window.PLOTLYENV=window.PLOTLYENV || {};                                    if (document.getElementById(\"232a79e4-0f97-4de4-808a-8ad79e740ab3\")) {                    Plotly.newPlot(                        \"232a79e4-0f97-4de4-808a-8ad79e740ab3\",                        [{\"hovertemplate\": \"local_points=%{x}<br>visitor_points=%{y}<br>total_points=%{marker.color}<extra></extra>\", \"legendgroup\": \"\", \"marker\": {\"color\": [0.03125, 0.7711148648648649, 0.8201013513513514, 0.9079391891891893, 0.5717905405405406, 0.10557432432432433, 0.22888513513513514, 0.26182432432432434, 0.05320945945945947, 0.22888513513513514, 0.1579391891891892, 0.610641891891892, 0.03885135135135136, 0.31841216216216217, 0.41976351351351354, 0.14189189189189189, 0.15540540540540543, 0.19679054054054057, 0.41385135135135137, 0.13682432432432434, 0.09628378378378379, 0.015202702702702707, 1.0, 0.7685810810810811, 0.0, 0.049831081081081086, 0.28716216216216217, 0.2846283783783784, 0.6427364864864865, 0.6444256756756758, 0.045608108108108114, 0.6469594594594595, 0.39949324324324326, 0.6309121621621623], \"coloraxis\": \"coloraxis\", \"symbol\": \"circle\"}, \"mode\": \"markers\", \"name\": \"\", \"scene\": \"scene\", \"showlegend\": false, \"type\": \"scatter3d\", \"x\": [0.047043010752688186, 0.8857526881720431, 0.8696236559139786, 0.9435483870967744, 0.6653225806451614, 0.13575268817204303, 0.2620967741935484, 0.31317204301075274, 0.0631720430107527, 0.282258064516129, 0.20161290322580647, 0.7379032258064517, 0.049731182795698936, 0.3709677419354839, 0.495967741935484, 0.1424731182795699, 0.16666666666666669, 0.22580645161290322, 0.478494623655914, 0.15188172043010753, 0.12768817204301078, 0.0053763440860215075, 1.0, 0.8454301075268819, 0.0, 0.05510752688172044, 0.34005376344086025, 0.37231182795698925, 0.7473118279569894, 0.7110215053763441, 0.047043010752688186, 0.7258064516129034, 0.4731182795698925, 0.6922043010752689], \"y\": [0.0045454545454545435, 0.5772727272727273, 0.7363636363636363, 0.8477272727272727, 0.41363636363636364, 0.054545454545454536, 0.17272727272727273, 0.175, 0.03636363636363636, 0.13863636363636364, 0.08409090909090908, 0.39545454545454545, 0.02045454545454545, 0.22954545454545455, 0.2909090909090909, 0.1409090909090909, 0.13636363636363635, 0.14772727272727273, 0.30454545454545456, 0.11136363636363636, 0.04318181818181818, 0.031818181818181815, 0.9999999999999999, 0.6386363636363637, 0.0, 0.04090909090909091, 0.19772727272727272, 0.13636363636363635, 0.4659090909090909, 0.5318181818181819, 0.04318181818181818, 0.5136363636363637, 0.275, 0.5272727272727272], \"z\": [0.03125, 0.7711148648648649, 0.8201013513513514, 0.9079391891891893, 0.5717905405405406, 0.10557432432432433, 0.22888513513513514, 0.26182432432432434, 0.05320945945945947, 0.22888513513513514, 0.1579391891891892, 0.610641891891892, 0.03885135135135136, 0.31841216216216217, 0.41976351351351354, 0.14189189189189189, 0.15540540540540543, 0.19679054054054057, 0.41385135135135137, 0.13682432432432434, 0.09628378378378379, 0.015202702702702707, 1.0, 0.7685810810810811, 0.0, 0.049831081081081086, 0.28716216216216217, 0.2846283783783784, 0.6427364864864865, 0.6444256756756758, 0.045608108108108114, 0.6469594594594595, 0.39949324324324326, 0.6309121621621623]}],                        {\"coloraxis\": {\"colorbar\": {\"title\": {\"text\": \"total_points\"}}, \"colorscale\": [[0.0, \"#0d0887\"], [0.1111111111111111, \"#46039f\"], [0.2222222222222222, \"#7201a8\"], [0.3333333333333333, \"#9c179e\"], [0.4444444444444444, \"#bd3786\"], [0.5555555555555556, \"#d8576b\"], [0.6666666666666666, \"#ed7953\"], [0.7777777777777778, \"#fb9f3a\"], [0.8888888888888888, \"#fdca26\"], [1.0, \"#f0f921\"]]}, \"legend\": {\"tracegroupgap\": 0}, \"margin\": {\"t\": 60}, \"scene\": {\"domain\": {\"x\": [0.0, 1.0], \"y\": [0.0, 1.0]}, \"xaxis\": {\"title\": {\"text\": \"local_points\"}}, \"yaxis\": {\"title\": {\"text\": \"visitor_points\"}}, \"zaxis\": {\"title\": {\"text\": \"total_points\"}}}, \"template\": {\"data\": {\"bar\": [{\"error_x\": {\"color\": \"#2a3f5f\"}, \"error_y\": {\"color\": \"#2a3f5f\"}, \"marker\": {\"line\": {\"color\": \"#E5ECF6\", \"width\": 0.5}}, \"type\": \"bar\"}], \"barpolar\": [{\"marker\": {\"line\": {\"color\": \"#E5ECF6\", \"width\": 0.5}}, \"type\": \"barpolar\"}], \"carpet\": [{\"aaxis\": {\"endlinecolor\": \"#2a3f5f\", \"gridcolor\": \"white\", \"linecolor\": \"white\", \"minorgridcolor\": \"white\", \"startlinecolor\": \"#2a3f5f\"}, \"baxis\": {\"endlinecolor\": \"#2a3f5f\", \"gridcolor\": \"white\", \"linecolor\": \"white\", \"minorgridcolor\": \"white\", \"startlinecolor\": \"#2a3f5f\"}, \"type\": \"carpet\"}], \"choropleth\": [{\"colorbar\": {\"outlinewidth\": 0, \"ticks\": \"\"}, \"type\": \"choropleth\"}], \"contour\": [{\"colorbar\": {\"outlinewidth\": 0, \"ticks\": \"\"}, \"colorscale\": [[0.0, \"#0d0887\"], [0.1111111111111111, \"#46039f\"], [0.2222222222222222, \"#7201a8\"], [0.3333333333333333, \"#9c179e\"], [0.4444444444444444, \"#bd3786\"], [0.5555555555555556, \"#d8576b\"], [0.6666666666666666, \"#ed7953\"], [0.7777777777777778, \"#fb9f3a\"], [0.8888888888888888, \"#fdca26\"], [1.0, \"#f0f921\"]], \"type\": \"contour\"}], \"contourcarpet\": [{\"colorbar\": {\"outlinewidth\": 0, \"ticks\": \"\"}, \"type\": \"contourcarpet\"}], \"heatmap\": [{\"colorbar\": {\"outlinewidth\": 0, \"ticks\": \"\"}, \"colorscale\": [[0.0, \"#0d0887\"], [0.1111111111111111, \"#46039f\"], [0.2222222222222222, \"#7201a8\"], [0.3333333333333333, \"#9c179e\"], [0.4444444444444444, \"#bd3786\"], [0.5555555555555556, \"#d8576b\"], [0.6666666666666666, \"#ed7953\"], [0.7777777777777778, \"#fb9f3a\"], [0.8888888888888888, \"#fdca26\"], [1.0, \"#f0f921\"]], \"type\": \"heatmap\"}], \"heatmapgl\": [{\"colorbar\": {\"outlinewidth\": 0, \"ticks\": \"\"}, \"colorscale\": [[0.0, \"#0d0887\"], [0.1111111111111111, \"#46039f\"], [0.2222222222222222, \"#7201a8\"], [0.3333333333333333, \"#9c179e\"], [0.4444444444444444, \"#bd3786\"], [0.5555555555555556, \"#d8576b\"], [0.6666666666666666, \"#ed7953\"], [0.7777777777777778, \"#fb9f3a\"], [0.8888888888888888, \"#fdca26\"], [1.0, \"#f0f921\"]], \"type\": \"heatmapgl\"}], \"histogram\": [{\"marker\": {\"colorbar\": {\"outlinewidth\": 0, \"ticks\": \"\"}}, \"type\": \"histogram\"}], \"histogram2d\": [{\"colorbar\": {\"outlinewidth\": 0, \"ticks\": \"\"}, \"colorscale\": [[0.0, \"#0d0887\"], [0.1111111111111111, \"#46039f\"], [0.2222222222222222, \"#7201a8\"], [0.3333333333333333, \"#9c179e\"], [0.4444444444444444, \"#bd3786\"], [0.5555555555555556, \"#d8576b\"], [0.6666666666666666, \"#ed7953\"], [0.7777777777777778, \"#fb9f3a\"], [0.8888888888888888, \"#fdca26\"], [1.0, \"#f0f921\"]], \"type\": \"histogram2d\"}], \"histogram2dcontour\": [{\"colorbar\": {\"outlinewidth\": 0, \"ticks\": \"\"}, \"colorscale\": [[0.0, \"#0d0887\"], [0.1111111111111111, \"#46039f\"], [0.2222222222222222, \"#7201a8\"], [0.3333333333333333, \"#9c179e\"], [0.4444444444444444, \"#bd3786\"], [0.5555555555555556, \"#d8576b\"], [0.6666666666666666, \"#ed7953\"], [0.7777777777777778, \"#fb9f3a\"], [0.8888888888888888, \"#fdca26\"], [1.0, \"#f0f921\"]], \"type\": \"histogram2dcontour\"}], \"mesh3d\": [{\"colorbar\": {\"outlinewidth\": 0, \"ticks\": \"\"}, \"type\": \"mesh3d\"}], \"parcoords\": [{\"line\": {\"colorbar\": {\"outlinewidth\": 0, \"ticks\": \"\"}}, \"type\": \"parcoords\"}], \"pie\": [{\"automargin\": true, \"type\": \"pie\"}], \"scatter\": [{\"marker\": {\"colorbar\": {\"outlinewidth\": 0, \"ticks\": \"\"}}, \"type\": \"scatter\"}], \"scatter3d\": [{\"line\": {\"colorbar\": {\"outlinewidth\": 0, \"ticks\": \"\"}}, \"marker\": {\"colorbar\": {\"outlinewidth\": 0, \"ticks\": \"\"}}, \"type\": \"scatter3d\"}], \"scattercarpet\": [{\"marker\": {\"colorbar\": {\"outlinewidth\": 0, \"ticks\": \"\"}}, \"type\": \"scattercarpet\"}], \"scattergeo\": [{\"marker\": {\"colorbar\": {\"outlinewidth\": 0, \"ticks\": \"\"}}, \"type\": \"scattergeo\"}], \"scattergl\": [{\"marker\": {\"colorbar\": {\"outlinewidth\": 0, \"ticks\": \"\"}}, \"type\": \"scattergl\"}], \"scattermapbox\": [{\"marker\": {\"colorbar\": {\"outlinewidth\": 0, \"ticks\": \"\"}}, \"type\": \"scattermapbox\"}], \"scatterpolar\": [{\"marker\": {\"colorbar\": {\"outlinewidth\": 0, \"ticks\": \"\"}}, \"type\": \"scatterpolar\"}], \"scatterpolargl\": [{\"marker\": {\"colorbar\": {\"outlinewidth\": 0, \"ticks\": \"\"}}, \"type\": \"scatterpolargl\"}], \"scatterternary\": [{\"marker\": {\"colorbar\": {\"outlinewidth\": 0, \"ticks\": \"\"}}, \"type\": \"scatterternary\"}], \"surface\": [{\"colorbar\": {\"outlinewidth\": 0, \"ticks\": \"\"}, \"colorscale\": [[0.0, \"#0d0887\"], [0.1111111111111111, \"#46039f\"], [0.2222222222222222, \"#7201a8\"], [0.3333333333333333, \"#9c179e\"], [0.4444444444444444, \"#bd3786\"], [0.5555555555555556, \"#d8576b\"], [0.6666666666666666, \"#ed7953\"], [0.7777777777777778, \"#fb9f3a\"], [0.8888888888888888, \"#fdca26\"], [1.0, \"#f0f921\"]], \"type\": \"surface\"}], \"table\": [{\"cells\": {\"fill\": {\"color\": \"#EBF0F8\"}, \"line\": {\"color\": \"white\"}}, \"header\": {\"fill\": {\"color\": \"#C8D4E3\"}, \"line\": {\"color\": \"white\"}}, \"type\": \"table\"}]}, \"layout\": {\"annotationdefaults\": {\"arrowcolor\": \"#2a3f5f\", \"arrowhead\": 0, \"arrowwidth\": 1}, \"coloraxis\": {\"colorbar\": {\"outlinewidth\": 0, \"ticks\": \"\"}}, \"colorscale\": {\"diverging\": [[0, \"#8e0152\"], [0.1, \"#c51b7d\"], [0.2, \"#de77ae\"], [0.3, \"#f1b6da\"], [0.4, \"#fde0ef\"], [0.5, \"#f7f7f7\"], [0.6, \"#e6f5d0\"], [0.7, \"#b8e186\"], [0.8, \"#7fbc41\"], [0.9, \"#4d9221\"], [1, \"#276419\"]], \"sequential\": [[0.0, \"#0d0887\"], [0.1111111111111111, \"#46039f\"], [0.2222222222222222, \"#7201a8\"], [0.3333333333333333, \"#9c179e\"], [0.4444444444444444, \"#bd3786\"], [0.5555555555555556, \"#d8576b\"], [0.6666666666666666, \"#ed7953\"], [0.7777777777777778, \"#fb9f3a\"], [0.8888888888888888, \"#fdca26\"], [1.0, \"#f0f921\"]], \"sequentialminus\": [[0.0, \"#0d0887\"], [0.1111111111111111, \"#46039f\"], [0.2222222222222222, \"#7201a8\"], [0.3333333333333333, \"#9c179e\"], [0.4444444444444444, \"#bd3786\"], [0.5555555555555556, \"#d8576b\"], [0.6666666666666666, \"#ed7953\"], [0.7777777777777778, \"#fb9f3a\"], [0.8888888888888888, \"#fdca26\"], [1.0, \"#f0f921\"]]}, \"colorway\": [\"#636efa\", \"#EF553B\", \"#00cc96\", \"#ab63fa\", \"#FFA15A\", \"#19d3f3\", \"#FF6692\", \"#B6E880\", \"#FF97FF\", \"#FECB52\"], \"font\": {\"color\": \"#2a3f5f\"}, \"geo\": {\"bgcolor\": \"white\", \"lakecolor\": \"white\", \"landcolor\": \"#E5ECF6\", \"showlakes\": true, \"showland\": true, \"subunitcolor\": \"white\"}, \"hoverlabel\": {\"align\": \"left\"}, \"hovermode\": \"closest\", \"mapbox\": {\"style\": \"light\"}, \"paper_bgcolor\": \"white\", \"plot_bgcolor\": \"#E5ECF6\", \"polar\": {\"angularaxis\": {\"gridcolor\": \"white\", \"linecolor\": \"white\", \"ticks\": \"\"}, \"bgcolor\": \"#E5ECF6\", \"radialaxis\": {\"gridcolor\": \"white\", \"linecolor\": \"white\", \"ticks\": \"\"}}, \"scene\": {\"xaxis\": {\"backgroundcolor\": \"#E5ECF6\", \"gridcolor\": \"white\", \"gridwidth\": 2, \"linecolor\": \"white\", \"showbackground\": true, \"ticks\": \"\", \"zerolinecolor\": \"white\"}, \"yaxis\": {\"backgroundcolor\": \"#E5ECF6\", \"gridcolor\": \"white\", \"gridwidth\": 2, \"linecolor\": \"white\", \"showbackground\": true, \"ticks\": \"\", \"zerolinecolor\": \"white\"}, \"zaxis\": {\"backgroundcolor\": \"#E5ECF6\", \"gridcolor\": \"white\", \"gridwidth\": 2, \"linecolor\": \"white\", \"showbackground\": true, \"ticks\": \"\", \"zerolinecolor\": \"white\"}}, \"shapedefaults\": {\"line\": {\"color\": \"#2a3f5f\"}}, \"ternary\": {\"aaxis\": {\"gridcolor\": \"white\", \"linecolor\": \"white\", \"ticks\": \"\"}, \"baxis\": {\"gridcolor\": \"white\", \"linecolor\": \"white\", \"ticks\": \"\"}, \"bgcolor\": \"#E5ECF6\", \"caxis\": {\"gridcolor\": \"white\", \"linecolor\": \"white\", \"ticks\": \"\"}}, \"title\": {\"x\": 0.05}, \"xaxis\": {\"automargin\": true, \"gridcolor\": \"white\", \"linecolor\": \"white\", \"ticks\": \"\", \"title\": {\"standoff\": 15}, \"zerolinecolor\": \"white\", \"zerolinewidth\": 2}, \"yaxis\": {\"automargin\": true, \"gridcolor\": \"white\", \"linecolor\": \"white\", \"ticks\": \"\", \"title\": {\"standoff\": 15}, \"zerolinecolor\": \"white\", \"zerolinewidth\": 2}}}},                        {\"responsive\": true}                    ).then(function(){\n",
       "                            \n",
       "var gd = document.getElementById('232a79e4-0f97-4de4-808a-8ad79e740ab3');\n",
       "var x = new MutationObserver(function (mutations, observer) {{\n",
       "        var display = window.getComputedStyle(gd).display;\n",
       "        if (!display || display === 'none') {{\n",
       "            console.log([gd, 'removed!']);\n",
       "            Plotly.purge(gd);\n",
       "            observer.disconnect();\n",
       "        }}\n",
       "}});\n",
       "\n",
       "// Listen for the removal of the full notebook cells\n",
       "var notebookContainer = gd.closest('#notebook-container');\n",
       "if (notebookContainer) {{\n",
       "    x.observe(notebookContainer, {childList: true});\n",
       "}}\n",
       "\n",
       "// Listen for the clearing of the current output cell\n",
       "var outputEl = gd.closest('.output');\n",
       "if (outputEl) {{\n",
       "    x.observe(outputEl, {childList: true});\n",
       "}}\n",
       "\n",
       "                        })                };                });            </script>        </div>"
      ]
     },
     "metadata": {},
     "output_type": "display_data"
    }
   ],
   "source": [
    "import plotly.express as px\n",
    "\n",
    "fig = px.scatter_3d(x, x='local_points', y='visitor_points', z='total_points', color='total_points')\n",
    "fig.show()"
   ]
  },
  {
   "cell_type": "markdown",
   "metadata": {},
   "source": [
    "## Lets put everything together"
   ]
  },
  {
   "cell_type": "code",
   "execution_count": 373,
   "metadata": {},
   "outputs": [],
   "source": [
    "def plot_teams_by_ranks(start_season, end_season):\n",
    "    df_seasons = get_df_by_seasons(start_season, end_season)\n",
    "    \n",
    "    localWins = df_seasons['localGoals'] > df_seasons['visitorGoals']\n",
    "    draws = df_seasons['localGoals'] == df_seasons['visitorGoals']\n",
    "    df_seasons['localWins'] = localWins.apply(int)\n",
    "    df_seasons['localDraw'] = draws.apply(int)\n",
    "\n",
    "    # construct the visitors wins\n",
    "    visitorWins = df_seasons['localGoals'] < df_seasons['visitorGoals']\n",
    "    df_seasons['visitorWins'] = visitorWins.apply(int)\n",
    "    \n",
    "    df_calc = df_seasons[['localTeam', 'localWins', 'localDraw', 'visitorWins']]\n",
    "    df_local = df_calc.groupby(\"localTeam\").agg({\"localWins\":sum, \"localDraw\": sum})\n",
    "    \n",
    "    df_calc1 = df_seasons[['visitorTeam', 'localDraw', 'visitorWins']]\n",
    "    df_visitor = df_calc1.groupby(\"visitorTeam\").agg({\"visitorWins\":sum, \"localDraw\": sum})\n",
    "    df_visitor.rename(columns={\"localDraw\": \"visitorDraw\"},inplace=True)\n",
    "    \n",
    "    # constructing the total points per team for local and visitor games\n",
    "    df_total = pd.concat([df_local, df_visitor], axis=1)\n",
    "    # calculating the local points\n",
    "    df_total['local_points'] = 3 * df_total['localWins'] + df_total['localDraw']\n",
    "    df_total.drop(['localWins', 'localDraw'], axis=1, inplace=True)\n",
    "    # calculating the visitor points\n",
    "    df_total['visitor_points'] = 3 * df_total['visitorWins'] + df_total['visitorDraw']\n",
    "    df_total.drop(['visitorWins', 'visitorDraw'], axis=1, inplace=True)\n",
    "\n",
    "    # adding a total points column\n",
    "    df_total['total_points'] = df_total['local_points'] + df_total['visitor_points']\n",
    "    \n",
    "    # Scaling the data\n",
    "    scaler = MinMaxScaler()\n",
    "    df_total[['local_points', 'visitor_points', 'total_points']] = scaler.fit_transform(df_total[['local_points', 'visitor_points', 'total_points']])\n",
    "    \n",
    "    k_means = KMeans(n_clusters=4, random_state=11)\n",
    "    y = k_means.fit_predict(df_total)\n",
    "    \n",
    "    df_total['TeamName'] = df_total.index\n",
    "    fig = px.scatter_3d(df_total, x='local_points', y='visitor_points', z='total_points', text='TeamName', color='total_points')\n",
    "    fig.show()"
   ]
  },
  {
   "cell_type": "code",
   "execution_count": 376,
   "metadata": {
    "scrolled": false
   },
   "outputs": [
    {
     "name": "stderr",
     "output_type": "stream",
     "text": [
      "<ipython-input-373-642b1f78c922>:6: SettingWithCopyWarning:\n",
      "\n",
      "\n",
      "A value is trying to be set on a copy of a slice from a DataFrame.\n",
      "Try using .loc[row_indexer,col_indexer] = value instead\n",
      "\n",
      "See the caveats in the documentation: https://pandas.pydata.org/pandas-docs/stable/user_guide/indexing.html#returning-a-view-versus-a-copy\n",
      "\n",
      "<ipython-input-373-642b1f78c922>:7: SettingWithCopyWarning:\n",
      "\n",
      "\n",
      "A value is trying to be set on a copy of a slice from a DataFrame.\n",
      "Try using .loc[row_indexer,col_indexer] = value instead\n",
      "\n",
      "See the caveats in the documentation: https://pandas.pydata.org/pandas-docs/stable/user_guide/indexing.html#returning-a-view-versus-a-copy\n",
      "\n",
      "<ipython-input-373-642b1f78c922>:11: SettingWithCopyWarning:\n",
      "\n",
      "\n",
      "A value is trying to be set on a copy of a slice from a DataFrame.\n",
      "Try using .loc[row_indexer,col_indexer] = value instead\n",
      "\n",
      "See the caveats in the documentation: https://pandas.pydata.org/pandas-docs/stable/user_guide/indexing.html#returning-a-view-versus-a-copy\n",
      "\n"
     ]
    },
    {
     "data": {
      "application/vnd.plotly.v1+json": {
       "config": {
        "plotlyServerURL": "https://plot.ly"
       },
       "data": [
        {
         "hovertemplate": "local_points=%{x}<br>visitor_points=%{y}<br>total_points=%{marker.color}<br>TeamName=%{text}<extra></extra>",
         "legendgroup": "",
         "marker": {
          "color": [
           0.16021361815754337,
           0.12639074321317312,
           0.09879839786381842,
           0.655985758789497,
           0.7222963951935915,
           1,
           0.45883400089007564,
           0.050734312416555405,
           0.007120605251446371,
           0.44726301735647533,
           0.08055184690698709,
           0,
           0.6128170894526034,
           0.07254116599910991,
           0.0271473075211393,
           0.5794392523364486,
           0.028037383177570097,
           0.26168224299065423,
           0.0035603026257231864,
           0.013796172674677346,
           0.08856252781486426,
           0.024922118380062308,
           0.07610146862483311,
           0.025812194036493104,
           0.17534490431686692,
           0.006230529595015575,
           0.09479305740987984,
           0.3431241655540721,
           0.3956386292834891,
           0.0271473075211393,
           0.016021361815754337,
           0.05696484201157099,
           0.3702714730752114,
           0.22073876279483756,
           0.24566088117489984,
           0.04539385847797063,
           0.9768580329327993,
           0.5696484201157098,
           0.06542056074766354,
           0.037828215398308856,
           0.3515798842901647,
           0.6266132621272807,
           0.253671562082777,
           0.22874944370271472,
           0.772140631953716,
           0.3453493546951491,
           0.4499332443257677,
           0.006230529595015575,
           0.4485981308411215
          ],
          "coloraxis": "coloraxis",
          "symbol": "circle"
         },
         "mode": "markers+text",
         "name": "",
         "scene": "scene",
         "showlegend": false,
         "text": [
          "Alaves",
          "Albacete",
          "Almeria",
          "Atletico de Bilbao",
          "Atletico de Madrid",
          "Barcelona",
          "Betis",
          "Cadiz",
          "Castellon",
          "Celta de Vigo",
          "Compostela",
          "Cordoba",
          "Deportivo",
          "Eibar",
          "Elche",
          "Espanol",
          "Extremadura",
          "Getafe",
          "Gimnastic de Tarragona",
          "Girona",
          "Granada",
          "Hercules",
          "Las Palmas",
          "Leganes",
          "Levante",
          "Lleida",
          "Logrones",
          "Malaga",
          "Mallorca",
          "Merida",
          "Murcia",
          "Numancia",
          "Osasuna",
          "Oviedo",
          "Rayo Vallecano",
          "Real Burgos",
          "Real Madrid",
          "Real Sociedad",
          "Recreativo de Huelva",
          "Salamanca",
          "Santander",
          "Sevilla",
          "Sporting de Gijon",
          "Tenerife",
          "Valencia",
          "Valladolid",
          "Villarreal",
          "Xerez",
          "Zaragoza"
         ],
         "type": "scatter3d",
         "x": [
          0.1739799846035412,
          0.14857582755966126,
          0.11470361816782139,
          0.720554272517321,
          0.7567359507313317,
          1,
          0.46728252501924555,
          0.06466512702078521,
          0.016936104695919937,
          0.4780600461893764,
          0.09314857582755966,
          0,
          0.6466512702078522,
          0.07621247113163972,
          0.029253271747498075,
          0.6520400307929176,
          0.03849114703618168,
          0.2902232486528098,
          0.005388760585065435,
          0.013856812933025403,
          0.09776751347190146,
          0.03849114703618168,
          0.09930715935334872,
          0.03310238645111624,
          0.19861431870669743,
          0.006158583525789069,
          0.10777521170130869,
          0.36951501154734406,
          0.4349499615088529,
          0.04003079291762894,
          0.026943802925327172,
          0.08006158583525788,
          0.41493456505003845,
          0.2678983833718244,
          0.262509622786759,
          0.05542725173210161,
          0.97459584295612,
          0.6366435719784449,
          0.06620477290223248,
          0.056197074672825253,
          0.3610469591993841,
          0.6866820631254811,
          0.28637413394919164,
          0.27020785219399535,
          0.8144726712856043,
          0.39645881447267123,
          0.48729792147806,
          0.010007698229407235,
          0.5080831408775981
         ],
         "y": [
          0.14675052410901468,
          0.10167714884696018,
          0.0828092243186583,
          0.570230607966457,
          0.6771488469601677,
          1,
          0.4507337526205451,
          0.03773584905660377,
          0,
          0.4088050314465409,
          0.06918238993710693,
          0.006289308176100628,
          0.5691823899371069,
          0.07337526205450735,
          0.030398322851153042,
          0.48322851153039836,
          0.019916142557651992,
          0.22746331236897274,
          0.007337526205450734,
          0.019916142557651992,
          0.08176100628930819,
          0.012578616352201259,
          0.050314465408805034,
          0.022012578616352203,
          0.1488469601677149,
          0.012578616352201259,
          0.0828092243186583,
          0.3113207547169812,
          0.3459119496855346,
          0.015723270440251572,
          0.007337526205450734,
          0.031446540880503145,
          0.31341719077568136,
          0.16142557651991615,
          0.22746331236897274,
          0.03773584905660377,
          0.980083857442348,
          0.4811320754716982,
          0.07023060796645704,
          0.018867924528301886,
          0.3427672955974843,
          0.5471698113207547,
          0.2138364779874214,
          0.17714884696016772,
          0.7159329140461216,
          0.27987421383647804,
          0.4025157232704403,
          0.007337526205450734,
          0.37106918238993714
         ],
         "z": [
          0.16021361815754337,
          0.12639074321317312,
          0.09879839786381842,
          0.655985758789497,
          0.7222963951935915,
          1,
          0.45883400089007564,
          0.050734312416555405,
          0.007120605251446371,
          0.44726301735647533,
          0.08055184690698709,
          0,
          0.6128170894526034,
          0.07254116599910991,
          0.0271473075211393,
          0.5794392523364486,
          0.028037383177570097,
          0.26168224299065423,
          0.0035603026257231864,
          0.013796172674677346,
          0.08856252781486426,
          0.024922118380062308,
          0.07610146862483311,
          0.025812194036493104,
          0.17534490431686692,
          0.006230529595015575,
          0.09479305740987984,
          0.3431241655540721,
          0.3956386292834891,
          0.0271473075211393,
          0.016021361815754337,
          0.05696484201157099,
          0.3702714730752114,
          0.22073876279483756,
          0.24566088117489984,
          0.04539385847797063,
          0.9768580329327993,
          0.5696484201157098,
          0.06542056074766354,
          0.037828215398308856,
          0.3515798842901647,
          0.6266132621272807,
          0.253671562082777,
          0.22874944370271472,
          0.772140631953716,
          0.3453493546951491,
          0.4499332443257677,
          0.006230529595015575,
          0.4485981308411215
         ]
        }
       ],
       "layout": {
        "coloraxis": {
         "colorbar": {
          "title": {
           "text": "total_points"
          }
         },
         "colorscale": [
          [
           0,
           "#0d0887"
          ],
          [
           0.1111111111111111,
           "#46039f"
          ],
          [
           0.2222222222222222,
           "#7201a8"
          ],
          [
           0.3333333333333333,
           "#9c179e"
          ],
          [
           0.4444444444444444,
           "#bd3786"
          ],
          [
           0.5555555555555556,
           "#d8576b"
          ],
          [
           0.6666666666666666,
           "#ed7953"
          ],
          [
           0.7777777777777778,
           "#fb9f3a"
          ],
          [
           0.8888888888888888,
           "#fdca26"
          ],
          [
           1,
           "#f0f921"
          ]
         ]
        },
        "legend": {
         "tracegroupgap": 0
        },
        "margin": {
         "t": 60
        },
        "scene": {
         "domain": {
          "x": [
           0,
           1
          ],
          "y": [
           0,
           1
          ]
         },
         "xaxis": {
          "title": {
           "text": "local_points"
          }
         },
         "yaxis": {
          "title": {
           "text": "visitor_points"
          }
         },
         "zaxis": {
          "title": {
           "text": "total_points"
          }
         }
        },
        "template": {
         "data": {
          "bar": [
           {
            "error_x": {
             "color": "#2a3f5f"
            },
            "error_y": {
             "color": "#2a3f5f"
            },
            "marker": {
             "line": {
              "color": "#E5ECF6",
              "width": 0.5
             }
            },
            "type": "bar"
           }
          ],
          "barpolar": [
           {
            "marker": {
             "line": {
              "color": "#E5ECF6",
              "width": 0.5
             }
            },
            "type": "barpolar"
           }
          ],
          "carpet": [
           {
            "aaxis": {
             "endlinecolor": "#2a3f5f",
             "gridcolor": "white",
             "linecolor": "white",
             "minorgridcolor": "white",
             "startlinecolor": "#2a3f5f"
            },
            "baxis": {
             "endlinecolor": "#2a3f5f",
             "gridcolor": "white",
             "linecolor": "white",
             "minorgridcolor": "white",
             "startlinecolor": "#2a3f5f"
            },
            "type": "carpet"
           }
          ],
          "choropleth": [
           {
            "colorbar": {
             "outlinewidth": 0,
             "ticks": ""
            },
            "type": "choropleth"
           }
          ],
          "contour": [
           {
            "colorbar": {
             "outlinewidth": 0,
             "ticks": ""
            },
            "colorscale": [
             [
              0,
              "#0d0887"
             ],
             [
              0.1111111111111111,
              "#46039f"
             ],
             [
              0.2222222222222222,
              "#7201a8"
             ],
             [
              0.3333333333333333,
              "#9c179e"
             ],
             [
              0.4444444444444444,
              "#bd3786"
             ],
             [
              0.5555555555555556,
              "#d8576b"
             ],
             [
              0.6666666666666666,
              "#ed7953"
             ],
             [
              0.7777777777777778,
              "#fb9f3a"
             ],
             [
              0.8888888888888888,
              "#fdca26"
             ],
             [
              1,
              "#f0f921"
             ]
            ],
            "type": "contour"
           }
          ],
          "contourcarpet": [
           {
            "colorbar": {
             "outlinewidth": 0,
             "ticks": ""
            },
            "type": "contourcarpet"
           }
          ],
          "heatmap": [
           {
            "colorbar": {
             "outlinewidth": 0,
             "ticks": ""
            },
            "colorscale": [
             [
              0,
              "#0d0887"
             ],
             [
              0.1111111111111111,
              "#46039f"
             ],
             [
              0.2222222222222222,
              "#7201a8"
             ],
             [
              0.3333333333333333,
              "#9c179e"
             ],
             [
              0.4444444444444444,
              "#bd3786"
             ],
             [
              0.5555555555555556,
              "#d8576b"
             ],
             [
              0.6666666666666666,
              "#ed7953"
             ],
             [
              0.7777777777777778,
              "#fb9f3a"
             ],
             [
              0.8888888888888888,
              "#fdca26"
             ],
             [
              1,
              "#f0f921"
             ]
            ],
            "type": "heatmap"
           }
          ],
          "heatmapgl": [
           {
            "colorbar": {
             "outlinewidth": 0,
             "ticks": ""
            },
            "colorscale": [
             [
              0,
              "#0d0887"
             ],
             [
              0.1111111111111111,
              "#46039f"
             ],
             [
              0.2222222222222222,
              "#7201a8"
             ],
             [
              0.3333333333333333,
              "#9c179e"
             ],
             [
              0.4444444444444444,
              "#bd3786"
             ],
             [
              0.5555555555555556,
              "#d8576b"
             ],
             [
              0.6666666666666666,
              "#ed7953"
             ],
             [
              0.7777777777777778,
              "#fb9f3a"
             ],
             [
              0.8888888888888888,
              "#fdca26"
             ],
             [
              1,
              "#f0f921"
             ]
            ],
            "type": "heatmapgl"
           }
          ],
          "histogram": [
           {
            "marker": {
             "colorbar": {
              "outlinewidth": 0,
              "ticks": ""
             }
            },
            "type": "histogram"
           }
          ],
          "histogram2d": [
           {
            "colorbar": {
             "outlinewidth": 0,
             "ticks": ""
            },
            "colorscale": [
             [
              0,
              "#0d0887"
             ],
             [
              0.1111111111111111,
              "#46039f"
             ],
             [
              0.2222222222222222,
              "#7201a8"
             ],
             [
              0.3333333333333333,
              "#9c179e"
             ],
             [
              0.4444444444444444,
              "#bd3786"
             ],
             [
              0.5555555555555556,
              "#d8576b"
             ],
             [
              0.6666666666666666,
              "#ed7953"
             ],
             [
              0.7777777777777778,
              "#fb9f3a"
             ],
             [
              0.8888888888888888,
              "#fdca26"
             ],
             [
              1,
              "#f0f921"
             ]
            ],
            "type": "histogram2d"
           }
          ],
          "histogram2dcontour": [
           {
            "colorbar": {
             "outlinewidth": 0,
             "ticks": ""
            },
            "colorscale": [
             [
              0,
              "#0d0887"
             ],
             [
              0.1111111111111111,
              "#46039f"
             ],
             [
              0.2222222222222222,
              "#7201a8"
             ],
             [
              0.3333333333333333,
              "#9c179e"
             ],
             [
              0.4444444444444444,
              "#bd3786"
             ],
             [
              0.5555555555555556,
              "#d8576b"
             ],
             [
              0.6666666666666666,
              "#ed7953"
             ],
             [
              0.7777777777777778,
              "#fb9f3a"
             ],
             [
              0.8888888888888888,
              "#fdca26"
             ],
             [
              1,
              "#f0f921"
             ]
            ],
            "type": "histogram2dcontour"
           }
          ],
          "mesh3d": [
           {
            "colorbar": {
             "outlinewidth": 0,
             "ticks": ""
            },
            "type": "mesh3d"
           }
          ],
          "parcoords": [
           {
            "line": {
             "colorbar": {
              "outlinewidth": 0,
              "ticks": ""
             }
            },
            "type": "parcoords"
           }
          ],
          "pie": [
           {
            "automargin": true,
            "type": "pie"
           }
          ],
          "scatter": [
           {
            "marker": {
             "colorbar": {
              "outlinewidth": 0,
              "ticks": ""
             }
            },
            "type": "scatter"
           }
          ],
          "scatter3d": [
           {
            "line": {
             "colorbar": {
              "outlinewidth": 0,
              "ticks": ""
             }
            },
            "marker": {
             "colorbar": {
              "outlinewidth": 0,
              "ticks": ""
             }
            },
            "type": "scatter3d"
           }
          ],
          "scattercarpet": [
           {
            "marker": {
             "colorbar": {
              "outlinewidth": 0,
              "ticks": ""
             }
            },
            "type": "scattercarpet"
           }
          ],
          "scattergeo": [
           {
            "marker": {
             "colorbar": {
              "outlinewidth": 0,
              "ticks": ""
             }
            },
            "type": "scattergeo"
           }
          ],
          "scattergl": [
           {
            "marker": {
             "colorbar": {
              "outlinewidth": 0,
              "ticks": ""
             }
            },
            "type": "scattergl"
           }
          ],
          "scattermapbox": [
           {
            "marker": {
             "colorbar": {
              "outlinewidth": 0,
              "ticks": ""
             }
            },
            "type": "scattermapbox"
           }
          ],
          "scatterpolar": [
           {
            "marker": {
             "colorbar": {
              "outlinewidth": 0,
              "ticks": ""
             }
            },
            "type": "scatterpolar"
           }
          ],
          "scatterpolargl": [
           {
            "marker": {
             "colorbar": {
              "outlinewidth": 0,
              "ticks": ""
             }
            },
            "type": "scatterpolargl"
           }
          ],
          "scatterternary": [
           {
            "marker": {
             "colorbar": {
              "outlinewidth": 0,
              "ticks": ""
             }
            },
            "type": "scatterternary"
           }
          ],
          "surface": [
           {
            "colorbar": {
             "outlinewidth": 0,
             "ticks": ""
            },
            "colorscale": [
             [
              0,
              "#0d0887"
             ],
             [
              0.1111111111111111,
              "#46039f"
             ],
             [
              0.2222222222222222,
              "#7201a8"
             ],
             [
              0.3333333333333333,
              "#9c179e"
             ],
             [
              0.4444444444444444,
              "#bd3786"
             ],
             [
              0.5555555555555556,
              "#d8576b"
             ],
             [
              0.6666666666666666,
              "#ed7953"
             ],
             [
              0.7777777777777778,
              "#fb9f3a"
             ],
             [
              0.8888888888888888,
              "#fdca26"
             ],
             [
              1,
              "#f0f921"
             ]
            ],
            "type": "surface"
           }
          ],
          "table": [
           {
            "cells": {
             "fill": {
              "color": "#EBF0F8"
             },
             "line": {
              "color": "white"
             }
            },
            "header": {
             "fill": {
              "color": "#C8D4E3"
             },
             "line": {
              "color": "white"
             }
            },
            "type": "table"
           }
          ]
         },
         "layout": {
          "annotationdefaults": {
           "arrowcolor": "#2a3f5f",
           "arrowhead": 0,
           "arrowwidth": 1
          },
          "coloraxis": {
           "colorbar": {
            "outlinewidth": 0,
            "ticks": ""
           }
          },
          "colorscale": {
           "diverging": [
            [
             0,
             "#8e0152"
            ],
            [
             0.1,
             "#c51b7d"
            ],
            [
             0.2,
             "#de77ae"
            ],
            [
             0.3,
             "#f1b6da"
            ],
            [
             0.4,
             "#fde0ef"
            ],
            [
             0.5,
             "#f7f7f7"
            ],
            [
             0.6,
             "#e6f5d0"
            ],
            [
             0.7,
             "#b8e186"
            ],
            [
             0.8,
             "#7fbc41"
            ],
            [
             0.9,
             "#4d9221"
            ],
            [
             1,
             "#276419"
            ]
           ],
           "sequential": [
            [
             0,
             "#0d0887"
            ],
            [
             0.1111111111111111,
             "#46039f"
            ],
            [
             0.2222222222222222,
             "#7201a8"
            ],
            [
             0.3333333333333333,
             "#9c179e"
            ],
            [
             0.4444444444444444,
             "#bd3786"
            ],
            [
             0.5555555555555556,
             "#d8576b"
            ],
            [
             0.6666666666666666,
             "#ed7953"
            ],
            [
             0.7777777777777778,
             "#fb9f3a"
            ],
            [
             0.8888888888888888,
             "#fdca26"
            ],
            [
             1,
             "#f0f921"
            ]
           ],
           "sequentialminus": [
            [
             0,
             "#0d0887"
            ],
            [
             0.1111111111111111,
             "#46039f"
            ],
            [
             0.2222222222222222,
             "#7201a8"
            ],
            [
             0.3333333333333333,
             "#9c179e"
            ],
            [
             0.4444444444444444,
             "#bd3786"
            ],
            [
             0.5555555555555556,
             "#d8576b"
            ],
            [
             0.6666666666666666,
             "#ed7953"
            ],
            [
             0.7777777777777778,
             "#fb9f3a"
            ],
            [
             0.8888888888888888,
             "#fdca26"
            ],
            [
             1,
             "#f0f921"
            ]
           ]
          },
          "colorway": [
           "#636efa",
           "#EF553B",
           "#00cc96",
           "#ab63fa",
           "#FFA15A",
           "#19d3f3",
           "#FF6692",
           "#B6E880",
           "#FF97FF",
           "#FECB52"
          ],
          "font": {
           "color": "#2a3f5f"
          },
          "geo": {
           "bgcolor": "white",
           "lakecolor": "white",
           "landcolor": "#E5ECF6",
           "showlakes": true,
           "showland": true,
           "subunitcolor": "white"
          },
          "hoverlabel": {
           "align": "left"
          },
          "hovermode": "closest",
          "mapbox": {
           "style": "light"
          },
          "paper_bgcolor": "white",
          "plot_bgcolor": "#E5ECF6",
          "polar": {
           "angularaxis": {
            "gridcolor": "white",
            "linecolor": "white",
            "ticks": ""
           },
           "bgcolor": "#E5ECF6",
           "radialaxis": {
            "gridcolor": "white",
            "linecolor": "white",
            "ticks": ""
           }
          },
          "scene": {
           "xaxis": {
            "backgroundcolor": "#E5ECF6",
            "gridcolor": "white",
            "gridwidth": 2,
            "linecolor": "white",
            "showbackground": true,
            "ticks": "",
            "zerolinecolor": "white"
           },
           "yaxis": {
            "backgroundcolor": "#E5ECF6",
            "gridcolor": "white",
            "gridwidth": 2,
            "linecolor": "white",
            "showbackground": true,
            "ticks": "",
            "zerolinecolor": "white"
           },
           "zaxis": {
            "backgroundcolor": "#E5ECF6",
            "gridcolor": "white",
            "gridwidth": 2,
            "linecolor": "white",
            "showbackground": true,
            "ticks": "",
            "zerolinecolor": "white"
           }
          },
          "shapedefaults": {
           "line": {
            "color": "#2a3f5f"
           }
          },
          "ternary": {
           "aaxis": {
            "gridcolor": "white",
            "linecolor": "white",
            "ticks": ""
           },
           "baxis": {
            "gridcolor": "white",
            "linecolor": "white",
            "ticks": ""
           },
           "bgcolor": "#E5ECF6",
           "caxis": {
            "gridcolor": "white",
            "linecolor": "white",
            "ticks": ""
           }
          },
          "title": {
           "x": 0.05
          },
          "xaxis": {
           "automargin": true,
           "gridcolor": "white",
           "linecolor": "white",
           "ticks": "",
           "title": {
            "standoff": 15
           },
           "zerolinecolor": "white",
           "zerolinewidth": 2
          },
          "yaxis": {
           "automargin": true,
           "gridcolor": "white",
           "linecolor": "white",
           "ticks": "",
           "title": {
            "standoff": 15
           },
           "zerolinecolor": "white",
           "zerolinewidth": 2
          }
         }
        }
       }
      },
      "text/html": [
       "<div>                            <div id=\"0488cf77-484b-4075-9a3e-72c64cbb6b26\" class=\"plotly-graph-div\" style=\"height:525px; width:100%;\"></div>            <script type=\"text/javascript\">                require([\"plotly\"], function(Plotly) {                    window.PLOTLYENV=window.PLOTLYENV || {};                                    if (document.getElementById(\"0488cf77-484b-4075-9a3e-72c64cbb6b26\")) {                    Plotly.newPlot(                        \"0488cf77-484b-4075-9a3e-72c64cbb6b26\",                        [{\"hovertemplate\": \"local_points=%{x}<br>visitor_points=%{y}<br>total_points=%{marker.color}<br>TeamName=%{text}<extra></extra>\", \"legendgroup\": \"\", \"marker\": {\"color\": [0.16021361815754337, 0.12639074321317312, 0.09879839786381842, 0.655985758789497, 0.7222963951935915, 1.0, 0.45883400089007564, 0.050734312416555405, 0.007120605251446371, 0.44726301735647533, 0.08055184690698709, 0.0, 0.6128170894526034, 0.07254116599910991, 0.0271473075211393, 0.5794392523364486, 0.028037383177570097, 0.26168224299065423, 0.0035603026257231864, 0.013796172674677346, 0.08856252781486426, 0.024922118380062308, 0.07610146862483311, 0.025812194036493104, 0.17534490431686692, 0.006230529595015575, 0.09479305740987984, 0.3431241655540721, 0.3956386292834891, 0.0271473075211393, 0.016021361815754337, 0.05696484201157099, 0.3702714730752114, 0.22073876279483756, 0.24566088117489984, 0.04539385847797063, 0.9768580329327993, 0.5696484201157098, 0.06542056074766354, 0.037828215398308856, 0.3515798842901647, 0.6266132621272807, 0.253671562082777, 0.22874944370271472, 0.772140631953716, 0.3453493546951491, 0.4499332443257677, 0.006230529595015575, 0.4485981308411215], \"coloraxis\": \"coloraxis\", \"symbol\": \"circle\"}, \"mode\": \"markers+text\", \"name\": \"\", \"scene\": \"scene\", \"showlegend\": false, \"text\": [\"Alaves\", \"Albacete\", \"Almeria\", \"Atletico de Bilbao\", \"Atletico de Madrid\", \"Barcelona\", \"Betis\", \"Cadiz\", \"Castellon\", \"Celta de Vigo\", \"Compostela\", \"Cordoba\", \"Deportivo\", \"Eibar\", \"Elche\", \"Espanol\", \"Extremadura\", \"Getafe\", \"Gimnastic de Tarragona\", \"Girona\", \"Granada\", \"Hercules\", \"Las Palmas\", \"Leganes\", \"Levante\", \"Lleida\", \"Logrones\", \"Malaga\", \"Mallorca\", \"Merida\", \"Murcia\", \"Numancia\", \"Osasuna\", \"Oviedo\", \"Rayo Vallecano\", \"Real Burgos\", \"Real Madrid\", \"Real Sociedad\", \"Recreativo de Huelva\", \"Salamanca\", \"Santander\", \"Sevilla\", \"Sporting de Gijon\", \"Tenerife\", \"Valencia\", \"Valladolid\", \"Villarreal\", \"Xerez\", \"Zaragoza\"], \"type\": \"scatter3d\", \"x\": [0.1739799846035412, 0.14857582755966126, 0.11470361816782139, 0.720554272517321, 0.7567359507313317, 1.0, 0.46728252501924555, 0.06466512702078521, 0.016936104695919937, 0.4780600461893764, 0.09314857582755966, 0.0, 0.6466512702078522, 0.07621247113163972, 0.029253271747498075, 0.6520400307929176, 0.03849114703618168, 0.2902232486528098, 0.005388760585065435, 0.013856812933025403, 0.09776751347190146, 0.03849114703618168, 0.09930715935334872, 0.03310238645111624, 0.19861431870669743, 0.006158583525789069, 0.10777521170130869, 0.36951501154734406, 0.4349499615088529, 0.04003079291762894, 0.026943802925327172, 0.08006158583525788, 0.41493456505003845, 0.2678983833718244, 0.262509622786759, 0.05542725173210161, 0.97459584295612, 0.6366435719784449, 0.06620477290223248, 0.056197074672825253, 0.3610469591993841, 0.6866820631254811, 0.28637413394919164, 0.27020785219399535, 0.8144726712856043, 0.39645881447267123, 0.48729792147806, 0.010007698229407235, 0.5080831408775981], \"y\": [0.14675052410901468, 0.10167714884696018, 0.0828092243186583, 0.570230607966457, 0.6771488469601677, 1.0, 0.4507337526205451, 0.03773584905660377, 0.0, 0.4088050314465409, 0.06918238993710693, 0.006289308176100628, 0.5691823899371069, 0.07337526205450735, 0.030398322851153042, 0.48322851153039836, 0.019916142557651992, 0.22746331236897274, 0.007337526205450734, 0.019916142557651992, 0.08176100628930819, 0.012578616352201259, 0.050314465408805034, 0.022012578616352203, 0.1488469601677149, 0.012578616352201259, 0.0828092243186583, 0.3113207547169812, 0.3459119496855346, 0.015723270440251572, 0.007337526205450734, 0.031446540880503145, 0.31341719077568136, 0.16142557651991615, 0.22746331236897274, 0.03773584905660377, 0.980083857442348, 0.4811320754716982, 0.07023060796645704, 0.018867924528301886, 0.3427672955974843, 0.5471698113207547, 0.2138364779874214, 0.17714884696016772, 0.7159329140461216, 0.27987421383647804, 0.4025157232704403, 0.007337526205450734, 0.37106918238993714], \"z\": [0.16021361815754337, 0.12639074321317312, 0.09879839786381842, 0.655985758789497, 0.7222963951935915, 1.0, 0.45883400089007564, 0.050734312416555405, 0.007120605251446371, 0.44726301735647533, 0.08055184690698709, 0.0, 0.6128170894526034, 0.07254116599910991, 0.0271473075211393, 0.5794392523364486, 0.028037383177570097, 0.26168224299065423, 0.0035603026257231864, 0.013796172674677346, 0.08856252781486426, 0.024922118380062308, 0.07610146862483311, 0.025812194036493104, 0.17534490431686692, 0.006230529595015575, 0.09479305740987984, 0.3431241655540721, 0.3956386292834891, 0.0271473075211393, 0.016021361815754337, 0.05696484201157099, 0.3702714730752114, 0.22073876279483756, 0.24566088117489984, 0.04539385847797063, 0.9768580329327993, 0.5696484201157098, 0.06542056074766354, 0.037828215398308856, 0.3515798842901647, 0.6266132621272807, 0.253671562082777, 0.22874944370271472, 0.772140631953716, 0.3453493546951491, 0.4499332443257677, 0.006230529595015575, 0.4485981308411215]}],                        {\"coloraxis\": {\"colorbar\": {\"title\": {\"text\": \"total_points\"}}, \"colorscale\": [[0.0, \"#0d0887\"], [0.1111111111111111, \"#46039f\"], [0.2222222222222222, \"#7201a8\"], [0.3333333333333333, \"#9c179e\"], [0.4444444444444444, \"#bd3786\"], [0.5555555555555556, \"#d8576b\"], [0.6666666666666666, \"#ed7953\"], [0.7777777777777778, \"#fb9f3a\"], [0.8888888888888888, \"#fdca26\"], [1.0, \"#f0f921\"]]}, \"legend\": {\"tracegroupgap\": 0}, \"margin\": {\"t\": 60}, \"scene\": {\"domain\": {\"x\": [0.0, 1.0], \"y\": [0.0, 1.0]}, \"xaxis\": {\"title\": {\"text\": \"local_points\"}}, \"yaxis\": {\"title\": {\"text\": \"visitor_points\"}}, \"zaxis\": {\"title\": {\"text\": \"total_points\"}}}, \"template\": {\"data\": {\"bar\": [{\"error_x\": {\"color\": \"#2a3f5f\"}, \"error_y\": {\"color\": \"#2a3f5f\"}, \"marker\": {\"line\": {\"color\": \"#E5ECF6\", \"width\": 0.5}}, \"type\": \"bar\"}], \"barpolar\": [{\"marker\": {\"line\": {\"color\": \"#E5ECF6\", \"width\": 0.5}}, \"type\": \"barpolar\"}], \"carpet\": [{\"aaxis\": {\"endlinecolor\": \"#2a3f5f\", \"gridcolor\": \"white\", \"linecolor\": \"white\", \"minorgridcolor\": \"white\", \"startlinecolor\": \"#2a3f5f\"}, \"baxis\": {\"endlinecolor\": \"#2a3f5f\", \"gridcolor\": \"white\", \"linecolor\": \"white\", \"minorgridcolor\": \"white\", \"startlinecolor\": \"#2a3f5f\"}, \"type\": \"carpet\"}], \"choropleth\": [{\"colorbar\": {\"outlinewidth\": 0, \"ticks\": \"\"}, \"type\": \"choropleth\"}], \"contour\": [{\"colorbar\": {\"outlinewidth\": 0, \"ticks\": \"\"}, \"colorscale\": [[0.0, \"#0d0887\"], [0.1111111111111111, \"#46039f\"], [0.2222222222222222, \"#7201a8\"], [0.3333333333333333, \"#9c179e\"], [0.4444444444444444, \"#bd3786\"], [0.5555555555555556, \"#d8576b\"], [0.6666666666666666, \"#ed7953\"], [0.7777777777777778, \"#fb9f3a\"], [0.8888888888888888, \"#fdca26\"], [1.0, \"#f0f921\"]], \"type\": \"contour\"}], \"contourcarpet\": [{\"colorbar\": {\"outlinewidth\": 0, \"ticks\": \"\"}, \"type\": \"contourcarpet\"}], \"heatmap\": [{\"colorbar\": {\"outlinewidth\": 0, \"ticks\": \"\"}, \"colorscale\": [[0.0, \"#0d0887\"], [0.1111111111111111, \"#46039f\"], [0.2222222222222222, \"#7201a8\"], [0.3333333333333333, \"#9c179e\"], [0.4444444444444444, \"#bd3786\"], [0.5555555555555556, \"#d8576b\"], [0.6666666666666666, \"#ed7953\"], [0.7777777777777778, \"#fb9f3a\"], [0.8888888888888888, \"#fdca26\"], [1.0, \"#f0f921\"]], \"type\": \"heatmap\"}], \"heatmapgl\": [{\"colorbar\": {\"outlinewidth\": 0, \"ticks\": \"\"}, \"colorscale\": [[0.0, \"#0d0887\"], [0.1111111111111111, \"#46039f\"], [0.2222222222222222, \"#7201a8\"], [0.3333333333333333, \"#9c179e\"], [0.4444444444444444, \"#bd3786\"], [0.5555555555555556, \"#d8576b\"], [0.6666666666666666, \"#ed7953\"], [0.7777777777777778, \"#fb9f3a\"], [0.8888888888888888, \"#fdca26\"], [1.0, \"#f0f921\"]], \"type\": \"heatmapgl\"}], \"histogram\": [{\"marker\": {\"colorbar\": {\"outlinewidth\": 0, \"ticks\": \"\"}}, \"type\": \"histogram\"}], \"histogram2d\": [{\"colorbar\": {\"outlinewidth\": 0, \"ticks\": \"\"}, \"colorscale\": [[0.0, \"#0d0887\"], [0.1111111111111111, \"#46039f\"], [0.2222222222222222, \"#7201a8\"], [0.3333333333333333, \"#9c179e\"], [0.4444444444444444, \"#bd3786\"], [0.5555555555555556, \"#d8576b\"], [0.6666666666666666, \"#ed7953\"], [0.7777777777777778, \"#fb9f3a\"], [0.8888888888888888, \"#fdca26\"], [1.0, \"#f0f921\"]], \"type\": \"histogram2d\"}], \"histogram2dcontour\": [{\"colorbar\": {\"outlinewidth\": 0, \"ticks\": \"\"}, \"colorscale\": [[0.0, \"#0d0887\"], [0.1111111111111111, \"#46039f\"], [0.2222222222222222, \"#7201a8\"], [0.3333333333333333, \"#9c179e\"], [0.4444444444444444, \"#bd3786\"], [0.5555555555555556, \"#d8576b\"], [0.6666666666666666, \"#ed7953\"], [0.7777777777777778, \"#fb9f3a\"], [0.8888888888888888, \"#fdca26\"], [1.0, \"#f0f921\"]], \"type\": \"histogram2dcontour\"}], \"mesh3d\": [{\"colorbar\": {\"outlinewidth\": 0, \"ticks\": \"\"}, \"type\": \"mesh3d\"}], \"parcoords\": [{\"line\": {\"colorbar\": {\"outlinewidth\": 0, \"ticks\": \"\"}}, \"type\": \"parcoords\"}], \"pie\": [{\"automargin\": true, \"type\": \"pie\"}], \"scatter\": [{\"marker\": {\"colorbar\": {\"outlinewidth\": 0, \"ticks\": \"\"}}, \"type\": \"scatter\"}], \"scatter3d\": [{\"line\": {\"colorbar\": {\"outlinewidth\": 0, \"ticks\": \"\"}}, \"marker\": {\"colorbar\": {\"outlinewidth\": 0, \"ticks\": \"\"}}, \"type\": \"scatter3d\"}], \"scattercarpet\": [{\"marker\": {\"colorbar\": {\"outlinewidth\": 0, \"ticks\": \"\"}}, \"type\": \"scattercarpet\"}], \"scattergeo\": [{\"marker\": {\"colorbar\": {\"outlinewidth\": 0, \"ticks\": \"\"}}, \"type\": \"scattergeo\"}], \"scattergl\": [{\"marker\": {\"colorbar\": {\"outlinewidth\": 0, \"ticks\": \"\"}}, \"type\": \"scattergl\"}], \"scattermapbox\": [{\"marker\": {\"colorbar\": {\"outlinewidth\": 0, \"ticks\": \"\"}}, \"type\": \"scattermapbox\"}], \"scatterpolar\": [{\"marker\": {\"colorbar\": {\"outlinewidth\": 0, \"ticks\": \"\"}}, \"type\": \"scatterpolar\"}], \"scatterpolargl\": [{\"marker\": {\"colorbar\": {\"outlinewidth\": 0, \"ticks\": \"\"}}, \"type\": \"scatterpolargl\"}], \"scatterternary\": [{\"marker\": {\"colorbar\": {\"outlinewidth\": 0, \"ticks\": \"\"}}, \"type\": \"scatterternary\"}], \"surface\": [{\"colorbar\": {\"outlinewidth\": 0, \"ticks\": \"\"}, \"colorscale\": [[0.0, \"#0d0887\"], [0.1111111111111111, \"#46039f\"], [0.2222222222222222, \"#7201a8\"], [0.3333333333333333, \"#9c179e\"], [0.4444444444444444, \"#bd3786\"], [0.5555555555555556, \"#d8576b\"], [0.6666666666666666, \"#ed7953\"], [0.7777777777777778, \"#fb9f3a\"], [0.8888888888888888, \"#fdca26\"], [1.0, \"#f0f921\"]], \"type\": \"surface\"}], \"table\": [{\"cells\": {\"fill\": {\"color\": \"#EBF0F8\"}, \"line\": {\"color\": \"white\"}}, \"header\": {\"fill\": {\"color\": \"#C8D4E3\"}, \"line\": {\"color\": \"white\"}}, \"type\": \"table\"}]}, \"layout\": {\"annotationdefaults\": {\"arrowcolor\": \"#2a3f5f\", \"arrowhead\": 0, \"arrowwidth\": 1}, \"coloraxis\": {\"colorbar\": {\"outlinewidth\": 0, \"ticks\": \"\"}}, \"colorscale\": {\"diverging\": [[0, \"#8e0152\"], [0.1, \"#c51b7d\"], [0.2, \"#de77ae\"], [0.3, \"#f1b6da\"], [0.4, \"#fde0ef\"], [0.5, \"#f7f7f7\"], [0.6, \"#e6f5d0\"], [0.7, \"#b8e186\"], [0.8, \"#7fbc41\"], [0.9, \"#4d9221\"], [1, \"#276419\"]], \"sequential\": [[0.0, \"#0d0887\"], [0.1111111111111111, \"#46039f\"], [0.2222222222222222, \"#7201a8\"], [0.3333333333333333, \"#9c179e\"], [0.4444444444444444, \"#bd3786\"], [0.5555555555555556, \"#d8576b\"], [0.6666666666666666, \"#ed7953\"], [0.7777777777777778, \"#fb9f3a\"], [0.8888888888888888, \"#fdca26\"], [1.0, \"#f0f921\"]], \"sequentialminus\": [[0.0, \"#0d0887\"], [0.1111111111111111, \"#46039f\"], [0.2222222222222222, \"#7201a8\"], [0.3333333333333333, \"#9c179e\"], [0.4444444444444444, \"#bd3786\"], [0.5555555555555556, \"#d8576b\"], [0.6666666666666666, \"#ed7953\"], [0.7777777777777778, \"#fb9f3a\"], [0.8888888888888888, \"#fdca26\"], [1.0, \"#f0f921\"]]}, \"colorway\": [\"#636efa\", \"#EF553B\", \"#00cc96\", \"#ab63fa\", \"#FFA15A\", \"#19d3f3\", \"#FF6692\", \"#B6E880\", \"#FF97FF\", \"#FECB52\"], \"font\": {\"color\": \"#2a3f5f\"}, \"geo\": {\"bgcolor\": \"white\", \"lakecolor\": \"white\", \"landcolor\": \"#E5ECF6\", \"showlakes\": true, \"showland\": true, \"subunitcolor\": \"white\"}, \"hoverlabel\": {\"align\": \"left\"}, \"hovermode\": \"closest\", \"mapbox\": {\"style\": \"light\"}, \"paper_bgcolor\": \"white\", \"plot_bgcolor\": \"#E5ECF6\", \"polar\": {\"angularaxis\": {\"gridcolor\": \"white\", \"linecolor\": \"white\", \"ticks\": \"\"}, \"bgcolor\": \"#E5ECF6\", \"radialaxis\": {\"gridcolor\": \"white\", \"linecolor\": \"white\", \"ticks\": \"\"}}, \"scene\": {\"xaxis\": {\"backgroundcolor\": \"#E5ECF6\", \"gridcolor\": \"white\", \"gridwidth\": 2, \"linecolor\": \"white\", \"showbackground\": true, \"ticks\": \"\", \"zerolinecolor\": \"white\"}, \"yaxis\": {\"backgroundcolor\": \"#E5ECF6\", \"gridcolor\": \"white\", \"gridwidth\": 2, \"linecolor\": \"white\", \"showbackground\": true, \"ticks\": \"\", \"zerolinecolor\": \"white\"}, \"zaxis\": {\"backgroundcolor\": \"#E5ECF6\", \"gridcolor\": \"white\", \"gridwidth\": 2, \"linecolor\": \"white\", \"showbackground\": true, \"ticks\": \"\", \"zerolinecolor\": \"white\"}}, \"shapedefaults\": {\"line\": {\"color\": \"#2a3f5f\"}}, \"ternary\": {\"aaxis\": {\"gridcolor\": \"white\", \"linecolor\": \"white\", \"ticks\": \"\"}, \"baxis\": {\"gridcolor\": \"white\", \"linecolor\": \"white\", \"ticks\": \"\"}, \"bgcolor\": \"#E5ECF6\", \"caxis\": {\"gridcolor\": \"white\", \"linecolor\": \"white\", \"ticks\": \"\"}}, \"title\": {\"x\": 0.05}, \"xaxis\": {\"automargin\": true, \"gridcolor\": \"white\", \"linecolor\": \"white\", \"ticks\": \"\", \"title\": {\"standoff\": 15}, \"zerolinecolor\": \"white\", \"zerolinewidth\": 2}, \"yaxis\": {\"automargin\": true, \"gridcolor\": \"white\", \"linecolor\": \"white\", \"ticks\": \"\", \"title\": {\"standoff\": 15}, \"zerolinecolor\": \"white\", \"zerolinewidth\": 2}}}},                        {\"responsive\": true}                    ).then(function(){\n",
       "                            \n",
       "var gd = document.getElementById('0488cf77-484b-4075-9a3e-72c64cbb6b26');\n",
       "var x = new MutationObserver(function (mutations, observer) {{\n",
       "        var display = window.getComputedStyle(gd).display;\n",
       "        if (!display || display === 'none') {{\n",
       "            console.log([gd, 'removed!']);\n",
       "            Plotly.purge(gd);\n",
       "            observer.disconnect();\n",
       "        }}\n",
       "}});\n",
       "\n",
       "// Listen for the removal of the full notebook cells\n",
       "var notebookContainer = gd.closest('#notebook-container');\n",
       "if (notebookContainer) {{\n",
       "    x.observe(notebookContainer, {childList: true});\n",
       "}}\n",
       "\n",
       "// Listen for the clearing of the current output cell\n",
       "var outputEl = gd.closest('.output');\n",
       "if (outputEl) {{\n",
       "    x.observe(outputEl, {childList: true});\n",
       "}}\n",
       "\n",
       "                        })                };                });            </script>        </div>"
      ]
     },
     "metadata": {},
     "output_type": "display_data"
    }
   ],
   "source": [
    "start_season, end_season = \"1990-91\", \"2017-18\"\n",
    "plot_teams_by_ranks(start_season, end_season)"
   ]
  }
 ],
 "metadata": {
  "kernelspec": {
   "display_name": "Python 3",
   "language": "python",
   "name": "python3"
  },
  "language_info": {
   "codemirror_mode": {
    "name": "ipython",
    "version": 3
   },
   "file_extension": ".py",
   "mimetype": "text/x-python",
   "name": "python",
   "nbconvert_exporter": "python",
   "pygments_lexer": "ipython3",
   "version": "3.8.5"
  }
 },
 "nbformat": 4,
 "nbformat_minor": 4
}
