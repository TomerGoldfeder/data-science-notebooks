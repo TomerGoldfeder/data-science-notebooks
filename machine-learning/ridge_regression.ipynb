{
 "cells": [
  {
   "cell_type": "code",
   "execution_count": 1,
   "metadata": {},
   "outputs": [],
   "source": [
    "import pandas as pd\n",
    "import numpy as np\n",
    "import matplotlib.pyplot as plt"
   ]
  },
  {
   "cell_type": "code",
   "execution_count": 2,
   "metadata": {},
   "outputs": [],
   "source": [
    "df = pd.read_csv(\"./data/cars.csv\")"
   ]
  },
  {
   "cell_type": "code",
   "execution_count": 3,
   "metadata": {},
   "outputs": [
    {
     "data": {
      "text/html": [
       "<div>\n",
       "<style scoped>\n",
       "    .dataframe tbody tr th:only-of-type {\n",
       "        vertical-align: middle;\n",
       "    }\n",
       "\n",
       "    .dataframe tbody tr th {\n",
       "        vertical-align: top;\n",
       "    }\n",
       "\n",
       "    .dataframe thead th {\n",
       "        text-align: right;\n",
       "    }\n",
       "</style>\n",
       "<table border=\"1\" class=\"dataframe\">\n",
       "  <thead>\n",
       "    <tr style=\"text-align: right;\">\n",
       "      <th></th>\n",
       "      <th>car_ID</th>\n",
       "      <th>symboling</th>\n",
       "      <th>CarName</th>\n",
       "      <th>fueltype</th>\n",
       "      <th>aspiration</th>\n",
       "      <th>doornumber</th>\n",
       "      <th>carbody</th>\n",
       "      <th>drivewheel</th>\n",
       "      <th>enginelocation</th>\n",
       "      <th>wheelbase</th>\n",
       "      <th>...</th>\n",
       "      <th>enginesize</th>\n",
       "      <th>fuelsystem</th>\n",
       "      <th>boreratio</th>\n",
       "      <th>stroke</th>\n",
       "      <th>compressionratio</th>\n",
       "      <th>horsepower</th>\n",
       "      <th>peakrpm</th>\n",
       "      <th>citympg</th>\n",
       "      <th>highwaympg</th>\n",
       "      <th>price</th>\n",
       "    </tr>\n",
       "  </thead>\n",
       "  <tbody>\n",
       "    <tr>\n",
       "      <th>0</th>\n",
       "      <td>1</td>\n",
       "      <td>3</td>\n",
       "      <td>alfa-romero giulia</td>\n",
       "      <td>gas</td>\n",
       "      <td>std</td>\n",
       "      <td>two</td>\n",
       "      <td>convertible</td>\n",
       "      <td>rwd</td>\n",
       "      <td>front</td>\n",
       "      <td>88.6</td>\n",
       "      <td>...</td>\n",
       "      <td>130</td>\n",
       "      <td>mpfi</td>\n",
       "      <td>3.47</td>\n",
       "      <td>2.68</td>\n",
       "      <td>9.0</td>\n",
       "      <td>111</td>\n",
       "      <td>5000</td>\n",
       "      <td>21</td>\n",
       "      <td>27</td>\n",
       "      <td>13495.0</td>\n",
       "    </tr>\n",
       "    <tr>\n",
       "      <th>1</th>\n",
       "      <td>2</td>\n",
       "      <td>3</td>\n",
       "      <td>alfa-romero stelvio</td>\n",
       "      <td>gas</td>\n",
       "      <td>std</td>\n",
       "      <td>two</td>\n",
       "      <td>convertible</td>\n",
       "      <td>rwd</td>\n",
       "      <td>front</td>\n",
       "      <td>88.6</td>\n",
       "      <td>...</td>\n",
       "      <td>130</td>\n",
       "      <td>mpfi</td>\n",
       "      <td>3.47</td>\n",
       "      <td>2.68</td>\n",
       "      <td>9.0</td>\n",
       "      <td>111</td>\n",
       "      <td>5000</td>\n",
       "      <td>21</td>\n",
       "      <td>27</td>\n",
       "      <td>16500.0</td>\n",
       "    </tr>\n",
       "    <tr>\n",
       "      <th>2</th>\n",
       "      <td>3</td>\n",
       "      <td>1</td>\n",
       "      <td>alfa-romero Quadrifoglio</td>\n",
       "      <td>gas</td>\n",
       "      <td>std</td>\n",
       "      <td>two</td>\n",
       "      <td>hatchback</td>\n",
       "      <td>rwd</td>\n",
       "      <td>front</td>\n",
       "      <td>94.5</td>\n",
       "      <td>...</td>\n",
       "      <td>152</td>\n",
       "      <td>mpfi</td>\n",
       "      <td>2.68</td>\n",
       "      <td>3.47</td>\n",
       "      <td>9.0</td>\n",
       "      <td>154</td>\n",
       "      <td>5000</td>\n",
       "      <td>19</td>\n",
       "      <td>26</td>\n",
       "      <td>16500.0</td>\n",
       "    </tr>\n",
       "    <tr>\n",
       "      <th>3</th>\n",
       "      <td>4</td>\n",
       "      <td>2</td>\n",
       "      <td>audi 100 ls</td>\n",
       "      <td>gas</td>\n",
       "      <td>std</td>\n",
       "      <td>four</td>\n",
       "      <td>sedan</td>\n",
       "      <td>fwd</td>\n",
       "      <td>front</td>\n",
       "      <td>99.8</td>\n",
       "      <td>...</td>\n",
       "      <td>109</td>\n",
       "      <td>mpfi</td>\n",
       "      <td>3.19</td>\n",
       "      <td>3.40</td>\n",
       "      <td>10.0</td>\n",
       "      <td>102</td>\n",
       "      <td>5500</td>\n",
       "      <td>24</td>\n",
       "      <td>30</td>\n",
       "      <td>13950.0</td>\n",
       "    </tr>\n",
       "    <tr>\n",
       "      <th>4</th>\n",
       "      <td>5</td>\n",
       "      <td>2</td>\n",
       "      <td>audi 100ls</td>\n",
       "      <td>gas</td>\n",
       "      <td>std</td>\n",
       "      <td>four</td>\n",
       "      <td>sedan</td>\n",
       "      <td>4wd</td>\n",
       "      <td>front</td>\n",
       "      <td>99.4</td>\n",
       "      <td>...</td>\n",
       "      <td>136</td>\n",
       "      <td>mpfi</td>\n",
       "      <td>3.19</td>\n",
       "      <td>3.40</td>\n",
       "      <td>8.0</td>\n",
       "      <td>115</td>\n",
       "      <td>5500</td>\n",
       "      <td>18</td>\n",
       "      <td>22</td>\n",
       "      <td>17450.0</td>\n",
       "    </tr>\n",
       "  </tbody>\n",
       "</table>\n",
       "<p>5 rows × 26 columns</p>\n",
       "</div>"
      ],
      "text/plain": [
       "   car_ID  symboling                   CarName fueltype aspiration doornumber  \\\n",
       "0       1          3        alfa-romero giulia      gas        std        two   \n",
       "1       2          3       alfa-romero stelvio      gas        std        two   \n",
       "2       3          1  alfa-romero Quadrifoglio      gas        std        two   \n",
       "3       4          2               audi 100 ls      gas        std       four   \n",
       "4       5          2                audi 100ls      gas        std       four   \n",
       "\n",
       "       carbody drivewheel enginelocation  wheelbase  ...  enginesize  \\\n",
       "0  convertible        rwd          front       88.6  ...         130   \n",
       "1  convertible        rwd          front       88.6  ...         130   \n",
       "2    hatchback        rwd          front       94.5  ...         152   \n",
       "3        sedan        fwd          front       99.8  ...         109   \n",
       "4        sedan        4wd          front       99.4  ...         136   \n",
       "\n",
       "   fuelsystem  boreratio  stroke compressionratio horsepower  peakrpm citympg  \\\n",
       "0        mpfi       3.47    2.68              9.0        111     5000      21   \n",
       "1        mpfi       3.47    2.68              9.0        111     5000      21   \n",
       "2        mpfi       2.68    3.47              9.0        154     5000      19   \n",
       "3        mpfi       3.19    3.40             10.0        102     5500      24   \n",
       "4        mpfi       3.19    3.40              8.0        115     5500      18   \n",
       "\n",
       "   highwaympg    price  \n",
       "0          27  13495.0  \n",
       "1          27  16500.0  \n",
       "2          26  16500.0  \n",
       "3          30  13950.0  \n",
       "4          22  17450.0  \n",
       "\n",
       "[5 rows x 26 columns]"
      ]
     },
     "execution_count": 3,
     "metadata": {},
     "output_type": "execute_result"
    }
   ],
   "source": [
    "df.head()"
   ]
  },
  {
   "cell_type": "code",
   "execution_count": 4,
   "metadata": {},
   "outputs": [
    {
     "data": {
      "text/html": [
       "<div>\n",
       "<style scoped>\n",
       "    .dataframe tbody tr th:only-of-type {\n",
       "        vertical-align: middle;\n",
       "    }\n",
       "\n",
       "    .dataframe tbody tr th {\n",
       "        vertical-align: top;\n",
       "    }\n",
       "\n",
       "    .dataframe thead th {\n",
       "        text-align: right;\n",
       "    }\n",
       "</style>\n",
       "<table border=\"1\" class=\"dataframe\">\n",
       "  <thead>\n",
       "    <tr style=\"text-align: right;\">\n",
       "      <th></th>\n",
       "      <th>car_ID</th>\n",
       "      <th>symboling</th>\n",
       "      <th>wheelbase</th>\n",
       "      <th>carlength</th>\n",
       "      <th>carwidth</th>\n",
       "      <th>carheight</th>\n",
       "      <th>curbweight</th>\n",
       "      <th>enginesize</th>\n",
       "      <th>boreratio</th>\n",
       "      <th>stroke</th>\n",
       "      <th>compressionratio</th>\n",
       "      <th>horsepower</th>\n",
       "      <th>peakrpm</th>\n",
       "      <th>citympg</th>\n",
       "      <th>highwaympg</th>\n",
       "      <th>price</th>\n",
       "    </tr>\n",
       "  </thead>\n",
       "  <tbody>\n",
       "    <tr>\n",
       "      <th>count</th>\n",
       "      <td>205.000000</td>\n",
       "      <td>205.000000</td>\n",
       "      <td>205.000000</td>\n",
       "      <td>205.000000</td>\n",
       "      <td>205.000000</td>\n",
       "      <td>205.000000</td>\n",
       "      <td>205.000000</td>\n",
       "      <td>205.000000</td>\n",
       "      <td>205.000000</td>\n",
       "      <td>205.000000</td>\n",
       "      <td>205.000000</td>\n",
       "      <td>205.000000</td>\n",
       "      <td>205.000000</td>\n",
       "      <td>205.000000</td>\n",
       "      <td>205.000000</td>\n",
       "      <td>205.000000</td>\n",
       "    </tr>\n",
       "    <tr>\n",
       "      <th>mean</th>\n",
       "      <td>103.000000</td>\n",
       "      <td>0.834146</td>\n",
       "      <td>98.756585</td>\n",
       "      <td>174.049268</td>\n",
       "      <td>65.907805</td>\n",
       "      <td>53.724878</td>\n",
       "      <td>2555.565854</td>\n",
       "      <td>126.907317</td>\n",
       "      <td>3.329756</td>\n",
       "      <td>3.255415</td>\n",
       "      <td>10.142537</td>\n",
       "      <td>104.117073</td>\n",
       "      <td>5125.121951</td>\n",
       "      <td>25.219512</td>\n",
       "      <td>30.751220</td>\n",
       "      <td>13276.710571</td>\n",
       "    </tr>\n",
       "    <tr>\n",
       "      <th>std</th>\n",
       "      <td>59.322565</td>\n",
       "      <td>1.245307</td>\n",
       "      <td>6.021776</td>\n",
       "      <td>12.337289</td>\n",
       "      <td>2.145204</td>\n",
       "      <td>2.443522</td>\n",
       "      <td>520.680204</td>\n",
       "      <td>41.642693</td>\n",
       "      <td>0.270844</td>\n",
       "      <td>0.313597</td>\n",
       "      <td>3.972040</td>\n",
       "      <td>39.544167</td>\n",
       "      <td>476.985643</td>\n",
       "      <td>6.542142</td>\n",
       "      <td>6.886443</td>\n",
       "      <td>7988.852332</td>\n",
       "    </tr>\n",
       "    <tr>\n",
       "      <th>min</th>\n",
       "      <td>1.000000</td>\n",
       "      <td>-2.000000</td>\n",
       "      <td>86.600000</td>\n",
       "      <td>141.100000</td>\n",
       "      <td>60.300000</td>\n",
       "      <td>47.800000</td>\n",
       "      <td>1488.000000</td>\n",
       "      <td>61.000000</td>\n",
       "      <td>2.540000</td>\n",
       "      <td>2.070000</td>\n",
       "      <td>7.000000</td>\n",
       "      <td>48.000000</td>\n",
       "      <td>4150.000000</td>\n",
       "      <td>13.000000</td>\n",
       "      <td>16.000000</td>\n",
       "      <td>5118.000000</td>\n",
       "    </tr>\n",
       "    <tr>\n",
       "      <th>25%</th>\n",
       "      <td>52.000000</td>\n",
       "      <td>0.000000</td>\n",
       "      <td>94.500000</td>\n",
       "      <td>166.300000</td>\n",
       "      <td>64.100000</td>\n",
       "      <td>52.000000</td>\n",
       "      <td>2145.000000</td>\n",
       "      <td>97.000000</td>\n",
       "      <td>3.150000</td>\n",
       "      <td>3.110000</td>\n",
       "      <td>8.600000</td>\n",
       "      <td>70.000000</td>\n",
       "      <td>4800.000000</td>\n",
       "      <td>19.000000</td>\n",
       "      <td>25.000000</td>\n",
       "      <td>7788.000000</td>\n",
       "    </tr>\n",
       "    <tr>\n",
       "      <th>50%</th>\n",
       "      <td>103.000000</td>\n",
       "      <td>1.000000</td>\n",
       "      <td>97.000000</td>\n",
       "      <td>173.200000</td>\n",
       "      <td>65.500000</td>\n",
       "      <td>54.100000</td>\n",
       "      <td>2414.000000</td>\n",
       "      <td>120.000000</td>\n",
       "      <td>3.310000</td>\n",
       "      <td>3.290000</td>\n",
       "      <td>9.000000</td>\n",
       "      <td>95.000000</td>\n",
       "      <td>5200.000000</td>\n",
       "      <td>24.000000</td>\n",
       "      <td>30.000000</td>\n",
       "      <td>10295.000000</td>\n",
       "    </tr>\n",
       "    <tr>\n",
       "      <th>75%</th>\n",
       "      <td>154.000000</td>\n",
       "      <td>2.000000</td>\n",
       "      <td>102.400000</td>\n",
       "      <td>183.100000</td>\n",
       "      <td>66.900000</td>\n",
       "      <td>55.500000</td>\n",
       "      <td>2935.000000</td>\n",
       "      <td>141.000000</td>\n",
       "      <td>3.580000</td>\n",
       "      <td>3.410000</td>\n",
       "      <td>9.400000</td>\n",
       "      <td>116.000000</td>\n",
       "      <td>5500.000000</td>\n",
       "      <td>30.000000</td>\n",
       "      <td>34.000000</td>\n",
       "      <td>16503.000000</td>\n",
       "    </tr>\n",
       "    <tr>\n",
       "      <th>max</th>\n",
       "      <td>205.000000</td>\n",
       "      <td>3.000000</td>\n",
       "      <td>120.900000</td>\n",
       "      <td>208.100000</td>\n",
       "      <td>72.300000</td>\n",
       "      <td>59.800000</td>\n",
       "      <td>4066.000000</td>\n",
       "      <td>326.000000</td>\n",
       "      <td>3.940000</td>\n",
       "      <td>4.170000</td>\n",
       "      <td>23.000000</td>\n",
       "      <td>288.000000</td>\n",
       "      <td>6600.000000</td>\n",
       "      <td>49.000000</td>\n",
       "      <td>54.000000</td>\n",
       "      <td>45400.000000</td>\n",
       "    </tr>\n",
       "  </tbody>\n",
       "</table>\n",
       "</div>"
      ],
      "text/plain": [
       "           car_ID   symboling   wheelbase   carlength    carwidth   carheight  \\\n",
       "count  205.000000  205.000000  205.000000  205.000000  205.000000  205.000000   \n",
       "mean   103.000000    0.834146   98.756585  174.049268   65.907805   53.724878   \n",
       "std     59.322565    1.245307    6.021776   12.337289    2.145204    2.443522   \n",
       "min      1.000000   -2.000000   86.600000  141.100000   60.300000   47.800000   \n",
       "25%     52.000000    0.000000   94.500000  166.300000   64.100000   52.000000   \n",
       "50%    103.000000    1.000000   97.000000  173.200000   65.500000   54.100000   \n",
       "75%    154.000000    2.000000  102.400000  183.100000   66.900000   55.500000   \n",
       "max    205.000000    3.000000  120.900000  208.100000   72.300000   59.800000   \n",
       "\n",
       "        curbweight  enginesize   boreratio      stroke  compressionratio  \\\n",
       "count   205.000000  205.000000  205.000000  205.000000        205.000000   \n",
       "mean   2555.565854  126.907317    3.329756    3.255415         10.142537   \n",
       "std     520.680204   41.642693    0.270844    0.313597          3.972040   \n",
       "min    1488.000000   61.000000    2.540000    2.070000          7.000000   \n",
       "25%    2145.000000   97.000000    3.150000    3.110000          8.600000   \n",
       "50%    2414.000000  120.000000    3.310000    3.290000          9.000000   \n",
       "75%    2935.000000  141.000000    3.580000    3.410000          9.400000   \n",
       "max    4066.000000  326.000000    3.940000    4.170000         23.000000   \n",
       "\n",
       "       horsepower      peakrpm     citympg  highwaympg         price  \n",
       "count  205.000000   205.000000  205.000000  205.000000    205.000000  \n",
       "mean   104.117073  5125.121951   25.219512   30.751220  13276.710571  \n",
       "std     39.544167   476.985643    6.542142    6.886443   7988.852332  \n",
       "min     48.000000  4150.000000   13.000000   16.000000   5118.000000  \n",
       "25%     70.000000  4800.000000   19.000000   25.000000   7788.000000  \n",
       "50%     95.000000  5200.000000   24.000000   30.000000  10295.000000  \n",
       "75%    116.000000  5500.000000   30.000000   34.000000  16503.000000  \n",
       "max    288.000000  6600.000000   49.000000   54.000000  45400.000000  "
      ]
     },
     "execution_count": 4,
     "metadata": {},
     "output_type": "execute_result"
    }
   ],
   "source": [
    "df.describe()"
   ]
  },
  {
   "cell_type": "code",
   "execution_count": 5,
   "metadata": {},
   "outputs": [
    {
     "name": "stdout",
     "output_type": "stream",
     "text": [
      "<class 'pandas.core.frame.DataFrame'>\n",
      "RangeIndex: 205 entries, 0 to 204\n",
      "Data columns (total 26 columns):\n",
      " #   Column            Non-Null Count  Dtype  \n",
      "---  ------            --------------  -----  \n",
      " 0   car_ID            205 non-null    int64  \n",
      " 1   symboling         205 non-null    int64  \n",
      " 2   CarName           205 non-null    object \n",
      " 3   fueltype          205 non-null    object \n",
      " 4   aspiration        205 non-null    object \n",
      " 5   doornumber        205 non-null    object \n",
      " 6   carbody           205 non-null    object \n",
      " 7   drivewheel        205 non-null    object \n",
      " 8   enginelocation    205 non-null    object \n",
      " 9   wheelbase         205 non-null    float64\n",
      " 10  carlength         205 non-null    float64\n",
      " 11  carwidth          205 non-null    float64\n",
      " 12  carheight         205 non-null    float64\n",
      " 13  curbweight        205 non-null    int64  \n",
      " 14  enginetype        205 non-null    object \n",
      " 15  cylindernumber    205 non-null    object \n",
      " 16  enginesize        205 non-null    int64  \n",
      " 17  fuelsystem        205 non-null    object \n",
      " 18  boreratio         205 non-null    float64\n",
      " 19  stroke            205 non-null    float64\n",
      " 20  compressionratio  205 non-null    float64\n",
      " 21  horsepower        205 non-null    int64  \n",
      " 22  peakrpm           205 non-null    int64  \n",
      " 23  citympg           205 non-null    int64  \n",
      " 24  highwaympg        205 non-null    int64  \n",
      " 25  price             205 non-null    float64\n",
      "dtypes: float64(8), int64(8), object(10)\n",
      "memory usage: 41.8+ KB\n"
     ]
    }
   ],
   "source": [
    "df.info()"
   ]
  },
  {
   "cell_type": "code",
   "execution_count": 6,
   "metadata": {},
   "outputs": [
    {
     "data": {
      "text/plain": [
       "False"
      ]
     },
     "execution_count": 6,
     "metadata": {},
     "output_type": "execute_result"
    }
   ],
   "source": [
    "df.isnull().any().any()"
   ]
  },
  {
   "cell_type": "code",
   "execution_count": 7,
   "metadata": {},
   "outputs": [],
   "source": [
    "cars = df.copy()"
   ]
  },
  {
   "cell_type": "markdown",
   "metadata": {},
   "source": [
    "# Exploration, Feature Engineering"
   ]
  },
  {
   "cell_type": "markdown",
   "metadata": {},
   "source": [
    "In previous notebook on [linear-regression](https://github.com/TomerGoldfeder/data-science-notebooks/blob/main/machine-learning/car_price_predictions.ipynb) we already analyzed the data and done the exploration where we saw the correlation between the features and also feature engineering using the `RFE` method to find the best features for predicting the data.  \n",
    "\n",
    "After selecting the features for the dataset we got:\n",
    "1. enginesize\n",
    "2. horsepower\n",
    "3. carwidth\n",
    "4. curbweight\n",
    "5. five\n",
    "6. four\n",
    "7. six\n",
    "8. twelve\n",
    "9. dohcv\n",
    "10. ohcv"
   ]
  },
  {
   "cell_type": "markdown",
   "metadata": {},
   "source": [
    "We will not transform the data as we did in the notebook:"
   ]
  },
  {
   "cell_type": "markdown",
   "metadata": {},
   "source": [
    "**CarName column**"
   ]
  },
  {
   "cell_type": "code",
   "execution_count": 8,
   "metadata": {},
   "outputs": [
    {
     "data": {
      "text/html": [
       "<div>\n",
       "<style scoped>\n",
       "    .dataframe tbody tr th:only-of-type {\n",
       "        vertical-align: middle;\n",
       "    }\n",
       "\n",
       "    .dataframe tbody tr th {\n",
       "        vertical-align: top;\n",
       "    }\n",
       "\n",
       "    .dataframe thead th {\n",
       "        text-align: right;\n",
       "    }\n",
       "</style>\n",
       "<table border=\"1\" class=\"dataframe\">\n",
       "  <thead>\n",
       "    <tr style=\"text-align: right;\">\n",
       "      <th></th>\n",
       "      <th>car_ID</th>\n",
       "      <th>symboling</th>\n",
       "      <th>Company</th>\n",
       "      <th>fueltype</th>\n",
       "      <th>aspiration</th>\n",
       "      <th>doornumber</th>\n",
       "      <th>carbody</th>\n",
       "      <th>drivewheel</th>\n",
       "      <th>enginelocation</th>\n",
       "      <th>wheelbase</th>\n",
       "      <th>...</th>\n",
       "      <th>enginesize</th>\n",
       "      <th>fuelsystem</th>\n",
       "      <th>boreratio</th>\n",
       "      <th>stroke</th>\n",
       "      <th>compressionratio</th>\n",
       "      <th>horsepower</th>\n",
       "      <th>peakrpm</th>\n",
       "      <th>citympg</th>\n",
       "      <th>highwaympg</th>\n",
       "      <th>price</th>\n",
       "    </tr>\n",
       "  </thead>\n",
       "  <tbody>\n",
       "    <tr>\n",
       "      <th>0</th>\n",
       "      <td>1</td>\n",
       "      <td>3</td>\n",
       "      <td>alfa-romero</td>\n",
       "      <td>gas</td>\n",
       "      <td>std</td>\n",
       "      <td>two</td>\n",
       "      <td>convertible</td>\n",
       "      <td>rwd</td>\n",
       "      <td>front</td>\n",
       "      <td>88.6</td>\n",
       "      <td>...</td>\n",
       "      <td>130</td>\n",
       "      <td>mpfi</td>\n",
       "      <td>3.47</td>\n",
       "      <td>2.68</td>\n",
       "      <td>9.0</td>\n",
       "      <td>111</td>\n",
       "      <td>5000</td>\n",
       "      <td>21</td>\n",
       "      <td>27</td>\n",
       "      <td>13495.0</td>\n",
       "    </tr>\n",
       "    <tr>\n",
       "      <th>1</th>\n",
       "      <td>2</td>\n",
       "      <td>3</td>\n",
       "      <td>alfa-romero</td>\n",
       "      <td>gas</td>\n",
       "      <td>std</td>\n",
       "      <td>two</td>\n",
       "      <td>convertible</td>\n",
       "      <td>rwd</td>\n",
       "      <td>front</td>\n",
       "      <td>88.6</td>\n",
       "      <td>...</td>\n",
       "      <td>130</td>\n",
       "      <td>mpfi</td>\n",
       "      <td>3.47</td>\n",
       "      <td>2.68</td>\n",
       "      <td>9.0</td>\n",
       "      <td>111</td>\n",
       "      <td>5000</td>\n",
       "      <td>21</td>\n",
       "      <td>27</td>\n",
       "      <td>16500.0</td>\n",
       "    </tr>\n",
       "    <tr>\n",
       "      <th>2</th>\n",
       "      <td>3</td>\n",
       "      <td>1</td>\n",
       "      <td>alfa-romero</td>\n",
       "      <td>gas</td>\n",
       "      <td>std</td>\n",
       "      <td>two</td>\n",
       "      <td>hatchback</td>\n",
       "      <td>rwd</td>\n",
       "      <td>front</td>\n",
       "      <td>94.5</td>\n",
       "      <td>...</td>\n",
       "      <td>152</td>\n",
       "      <td>mpfi</td>\n",
       "      <td>2.68</td>\n",
       "      <td>3.47</td>\n",
       "      <td>9.0</td>\n",
       "      <td>154</td>\n",
       "      <td>5000</td>\n",
       "      <td>19</td>\n",
       "      <td>26</td>\n",
       "      <td>16500.0</td>\n",
       "    </tr>\n",
       "    <tr>\n",
       "      <th>3</th>\n",
       "      <td>4</td>\n",
       "      <td>2</td>\n",
       "      <td>audi</td>\n",
       "      <td>gas</td>\n",
       "      <td>std</td>\n",
       "      <td>four</td>\n",
       "      <td>sedan</td>\n",
       "      <td>fwd</td>\n",
       "      <td>front</td>\n",
       "      <td>99.8</td>\n",
       "      <td>...</td>\n",
       "      <td>109</td>\n",
       "      <td>mpfi</td>\n",
       "      <td>3.19</td>\n",
       "      <td>3.40</td>\n",
       "      <td>10.0</td>\n",
       "      <td>102</td>\n",
       "      <td>5500</td>\n",
       "      <td>24</td>\n",
       "      <td>30</td>\n",
       "      <td>13950.0</td>\n",
       "    </tr>\n",
       "    <tr>\n",
       "      <th>4</th>\n",
       "      <td>5</td>\n",
       "      <td>2</td>\n",
       "      <td>audi</td>\n",
       "      <td>gas</td>\n",
       "      <td>std</td>\n",
       "      <td>four</td>\n",
       "      <td>sedan</td>\n",
       "      <td>4wd</td>\n",
       "      <td>front</td>\n",
       "      <td>99.4</td>\n",
       "      <td>...</td>\n",
       "      <td>136</td>\n",
       "      <td>mpfi</td>\n",
       "      <td>3.19</td>\n",
       "      <td>3.40</td>\n",
       "      <td>8.0</td>\n",
       "      <td>115</td>\n",
       "      <td>5500</td>\n",
       "      <td>18</td>\n",
       "      <td>22</td>\n",
       "      <td>17450.0</td>\n",
       "    </tr>\n",
       "  </tbody>\n",
       "</table>\n",
       "<p>5 rows × 26 columns</p>\n",
       "</div>"
      ],
      "text/plain": [
       "   car_ID  symboling      Company fueltype aspiration doornumber      carbody  \\\n",
       "0       1          3  alfa-romero      gas        std        two  convertible   \n",
       "1       2          3  alfa-romero      gas        std        two  convertible   \n",
       "2       3          1  alfa-romero      gas        std        two    hatchback   \n",
       "3       4          2         audi      gas        std       four        sedan   \n",
       "4       5          2         audi      gas        std       four        sedan   \n",
       "\n",
       "  drivewheel enginelocation  wheelbase  ...  enginesize  fuelsystem  \\\n",
       "0        rwd          front       88.6  ...         130        mpfi   \n",
       "1        rwd          front       88.6  ...         130        mpfi   \n",
       "2        rwd          front       94.5  ...         152        mpfi   \n",
       "3        fwd          front       99.8  ...         109        mpfi   \n",
       "4        4wd          front       99.4  ...         136        mpfi   \n",
       "\n",
       "   boreratio  stroke compressionratio horsepower  peakrpm citympg  highwaympg  \\\n",
       "0       3.47    2.68              9.0        111     5000      21          27   \n",
       "1       3.47    2.68              9.0        111     5000      21          27   \n",
       "2       2.68    3.47              9.0        154     5000      19          26   \n",
       "3       3.19    3.40             10.0        102     5500      24          30   \n",
       "4       3.19    3.40              8.0        115     5500      18          22   \n",
       "\n",
       "     price  \n",
       "0  13495.0  \n",
       "1  16500.0  \n",
       "2  16500.0  \n",
       "3  13950.0  \n",
       "4  17450.0  \n",
       "\n",
       "[5 rows x 26 columns]"
      ]
     },
     "execution_count": 8,
     "metadata": {},
     "output_type": "execute_result"
    }
   ],
   "source": [
    "cars['CarName'] = cars['CarName'].apply(lambda x: x.split()[0])\n",
    "cars.rename(columns={\"CarName\": \"Company\"}, inplace=True)\n",
    "cars.head()"
   ]
  },
  {
   "cell_type": "markdown",
   "metadata": {},
   "source": [
    "**Fix companies names**"
   ]
  },
  {
   "cell_type": "code",
   "execution_count": 9,
   "metadata": {},
   "outputs": [],
   "source": [
    "cars['Company'].replace('maxda', 'mazda', inplace=True)\n",
    "cars['Company'].replace('porcshce', 'porsche', inplace=True)\n",
    "cars['Company'].replace('Nissan', 'nissan', inplace=True)\n",
    "cars['Company'].replace('toyouta', 'toyota', inplace=True)\n",
    "cars['Company'].replace('vokswagen', 'volkswagen', inplace=True)\n",
    "cars['Company'].replace('vw', 'volkswagen', inplace=True)"
   ]
  },
  {
   "cell_type": "markdown",
   "metadata": {},
   "source": [
    "**Taking the features we will consider during the training**"
   ]
  },
  {
   "cell_type": "code",
   "execution_count": 599,
   "metadata": {},
   "outputs": [],
   "source": [
    "cars_df = cars[['fueltype', 'carbody', 'enginesize', 'horsepower', \n",
    "                'cylindernumber', 'carlength', 'carwidth', 'curbweight', 'enginetype', 'price']]"
   ]
  },
  {
   "cell_type": "markdown",
   "metadata": {},
   "source": [
    "**Making dummies for features**"
   ]
  },
  {
   "cell_type": "markdown",
   "metadata": {},
   "source": [
    "The function for making dummies and appending to the dataframe:"
   ]
  },
  {
   "cell_type": "code",
   "execution_count": 288,
   "metadata": {},
   "outputs": [],
   "source": [
    "def transform_column(_cars, columns_names):\n",
    "    for column_name in columns_names:\n",
    "        temp = pd.get_dummies(_cars[column_name], drop_first = True)\n",
    "        _cars = pd.concat([_cars, temp], axis = 1)\n",
    "        _cars.drop([column_name], axis = 1, inplace = True)\n",
    "    return _cars"
   ]
  },
  {
   "cell_type": "markdown",
   "metadata": {},
   "source": [
    "Transforming the following features:"
   ]
  },
  {
   "cell_type": "code",
   "execution_count": 600,
   "metadata": {},
   "outputs": [
    {
     "data": {
      "text/html": [
       "<div>\n",
       "<style scoped>\n",
       "    .dataframe tbody tr th:only-of-type {\n",
       "        vertical-align: middle;\n",
       "    }\n",
       "\n",
       "    .dataframe tbody tr th {\n",
       "        vertical-align: top;\n",
       "    }\n",
       "\n",
       "    .dataframe thead th {\n",
       "        text-align: right;\n",
       "    }\n",
       "</style>\n",
       "<table border=\"1\" class=\"dataframe\">\n",
       "  <thead>\n",
       "    <tr style=\"text-align: right;\">\n",
       "      <th></th>\n",
       "      <th>enginesize</th>\n",
       "      <th>horsepower</th>\n",
       "      <th>carlength</th>\n",
       "      <th>carwidth</th>\n",
       "      <th>curbweight</th>\n",
       "      <th>price</th>\n",
       "      <th>gas</th>\n",
       "      <th>hardtop</th>\n",
       "      <th>hatchback</th>\n",
       "      <th>sedan</th>\n",
       "      <th>...</th>\n",
       "      <th>six</th>\n",
       "      <th>three</th>\n",
       "      <th>twelve</th>\n",
       "      <th>two</th>\n",
       "      <th>dohcv</th>\n",
       "      <th>l</th>\n",
       "      <th>ohc</th>\n",
       "      <th>ohcf</th>\n",
       "      <th>ohcv</th>\n",
       "      <th>rotor</th>\n",
       "    </tr>\n",
       "  </thead>\n",
       "  <tbody>\n",
       "    <tr>\n",
       "      <th>0</th>\n",
       "      <td>130</td>\n",
       "      <td>111</td>\n",
       "      <td>168.8</td>\n",
       "      <td>64.1</td>\n",
       "      <td>2548</td>\n",
       "      <td>13495.0</td>\n",
       "      <td>1</td>\n",
       "      <td>0</td>\n",
       "      <td>0</td>\n",
       "      <td>0</td>\n",
       "      <td>...</td>\n",
       "      <td>0</td>\n",
       "      <td>0</td>\n",
       "      <td>0</td>\n",
       "      <td>0</td>\n",
       "      <td>0</td>\n",
       "      <td>0</td>\n",
       "      <td>0</td>\n",
       "      <td>0</td>\n",
       "      <td>0</td>\n",
       "      <td>0</td>\n",
       "    </tr>\n",
       "    <tr>\n",
       "      <th>1</th>\n",
       "      <td>130</td>\n",
       "      <td>111</td>\n",
       "      <td>168.8</td>\n",
       "      <td>64.1</td>\n",
       "      <td>2548</td>\n",
       "      <td>16500.0</td>\n",
       "      <td>1</td>\n",
       "      <td>0</td>\n",
       "      <td>0</td>\n",
       "      <td>0</td>\n",
       "      <td>...</td>\n",
       "      <td>0</td>\n",
       "      <td>0</td>\n",
       "      <td>0</td>\n",
       "      <td>0</td>\n",
       "      <td>0</td>\n",
       "      <td>0</td>\n",
       "      <td>0</td>\n",
       "      <td>0</td>\n",
       "      <td>0</td>\n",
       "      <td>0</td>\n",
       "    </tr>\n",
       "    <tr>\n",
       "      <th>2</th>\n",
       "      <td>152</td>\n",
       "      <td>154</td>\n",
       "      <td>171.2</td>\n",
       "      <td>65.5</td>\n",
       "      <td>2823</td>\n",
       "      <td>16500.0</td>\n",
       "      <td>1</td>\n",
       "      <td>0</td>\n",
       "      <td>1</td>\n",
       "      <td>0</td>\n",
       "      <td>...</td>\n",
       "      <td>1</td>\n",
       "      <td>0</td>\n",
       "      <td>0</td>\n",
       "      <td>0</td>\n",
       "      <td>0</td>\n",
       "      <td>0</td>\n",
       "      <td>0</td>\n",
       "      <td>0</td>\n",
       "      <td>1</td>\n",
       "      <td>0</td>\n",
       "    </tr>\n",
       "    <tr>\n",
       "      <th>3</th>\n",
       "      <td>109</td>\n",
       "      <td>102</td>\n",
       "      <td>176.6</td>\n",
       "      <td>66.2</td>\n",
       "      <td>2337</td>\n",
       "      <td>13950.0</td>\n",
       "      <td>1</td>\n",
       "      <td>0</td>\n",
       "      <td>0</td>\n",
       "      <td>1</td>\n",
       "      <td>...</td>\n",
       "      <td>0</td>\n",
       "      <td>0</td>\n",
       "      <td>0</td>\n",
       "      <td>0</td>\n",
       "      <td>0</td>\n",
       "      <td>0</td>\n",
       "      <td>1</td>\n",
       "      <td>0</td>\n",
       "      <td>0</td>\n",
       "      <td>0</td>\n",
       "    </tr>\n",
       "    <tr>\n",
       "      <th>4</th>\n",
       "      <td>136</td>\n",
       "      <td>115</td>\n",
       "      <td>176.6</td>\n",
       "      <td>66.4</td>\n",
       "      <td>2824</td>\n",
       "      <td>17450.0</td>\n",
       "      <td>1</td>\n",
       "      <td>0</td>\n",
       "      <td>0</td>\n",
       "      <td>1</td>\n",
       "      <td>...</td>\n",
       "      <td>0</td>\n",
       "      <td>0</td>\n",
       "      <td>0</td>\n",
       "      <td>0</td>\n",
       "      <td>0</td>\n",
       "      <td>0</td>\n",
       "      <td>1</td>\n",
       "      <td>0</td>\n",
       "      <td>0</td>\n",
       "      <td>0</td>\n",
       "    </tr>\n",
       "  </tbody>\n",
       "</table>\n",
       "<p>5 rows × 23 columns</p>\n",
       "</div>"
      ],
      "text/plain": [
       "   enginesize  horsepower  carlength  carwidth  curbweight    price  gas  \\\n",
       "0         130         111      168.8      64.1        2548  13495.0    1   \n",
       "1         130         111      168.8      64.1        2548  16500.0    1   \n",
       "2         152         154      171.2      65.5        2823  16500.0    1   \n",
       "3         109         102      176.6      66.2        2337  13950.0    1   \n",
       "4         136         115      176.6      66.4        2824  17450.0    1   \n",
       "\n",
       "   hardtop  hatchback  sedan  ...  six  three  twelve  two  dohcv  l  ohc  \\\n",
       "0        0          0      0  ...    0      0       0    0      0  0    0   \n",
       "1        0          0      0  ...    0      0       0    0      0  0    0   \n",
       "2        0          1      0  ...    1      0       0    0      0  0    0   \n",
       "3        0          0      1  ...    0      0       0    0      0  0    1   \n",
       "4        0          0      1  ...    0      0       0    0      0  0    1   \n",
       "\n",
       "   ohcf  ohcv  rotor  \n",
       "0     0     0      0  \n",
       "1     0     0      0  \n",
       "2     0     1      0  \n",
       "3     0     0      0  \n",
       "4     0     0      0  \n",
       "\n",
       "[5 rows x 23 columns]"
      ]
     },
     "execution_count": 600,
     "metadata": {},
     "output_type": "execute_result"
    }
   ],
   "source": [
    "features_to_transform = ['fueltype', 'carbody', 'cylindernumber', 'enginetype']\n",
    "cars_df = transform_column(cars_df, features_to_transform)\n",
    "cars_df.head()"
   ]
  },
  {
   "cell_type": "markdown",
   "metadata": {},
   "source": [
    "Number of columns in the new dataset:"
   ]
  },
  {
   "cell_type": "code",
   "execution_count": 250,
   "metadata": {},
   "outputs": [
    {
     "data": {
      "text/plain": [
       "(205, 23)"
      ]
     },
     "execution_count": 250,
     "metadata": {},
     "output_type": "execute_result"
    }
   ],
   "source": [
    "cars_df.shape"
   ]
  },
  {
   "cell_type": "markdown",
   "metadata": {},
   "source": [
    "Columns names in the new dataset:"
   ]
  },
  {
   "cell_type": "code",
   "execution_count": 251,
   "metadata": {
    "scrolled": true
   },
   "outputs": [
    {
     "data": {
      "text/plain": [
       "Index(['enginesize', 'horsepower', 'carlength', 'carwidth', 'curbweight',\n",
       "       'price', 'gas', 'hardtop', 'hatchback', 'sedan', 'wagon', 'five',\n",
       "       'four', 'six', 'three', 'twelve', 'two', 'dohcv', 'l', 'ohc', 'ohcf',\n",
       "       'ohcv', 'rotor'],\n",
       "      dtype='object')"
      ]
     },
     "execution_count": 251,
     "metadata": {},
     "output_type": "execute_result"
    }
   ],
   "source": [
    "cars_df.columns"
   ]
  },
  {
   "cell_type": "code",
   "execution_count": 622,
   "metadata": {
    "scrolled": false
   },
   "outputs": [
    {
     "name": "stderr",
     "output_type": "stream",
     "text": [
      "/usr/local/lib/python3.8/site-packages/seaborn/distributions.py:2551: FutureWarning: `distplot` is a deprecated function and will be removed in a future version. Please adapt your code to use either `displot` (a figure-level function with similar flexibility) or `histplot` (an axes-level function for histograms).\n",
      "  warnings.warn(msg, FutureWarning)\n"
     ]
    },
    {
     "data": {
      "text/plain": [
       "<AxesSubplot:ylabel='Density'>"
      ]
     },
     "execution_count": 622,
     "metadata": {},
     "output_type": "execute_result"
    },
    {
     "data": {
      "image/png": "[encoded data removed]",
      "text/plain": [
       "<Figure size 432x288 with 1 Axes>"
      ]
     },
     "metadata": {
      "needs_background": "light"
     },
     "output_type": "display_data"
    }
   ],
   "source": [
    "features_to_scale = ['enginesize', 'horsepower', 'carlength', 'carwidth', 'curbweight']\n",
    "_cars_df  = cars_df[features_to_scale]\n",
    "sns.distplot(_cars_df)"
   ]
  },
  {
   "cell_type": "markdown",
   "metadata": {},
   "source": [
    "**After running `RFE` we selected the following features:**"
   ]
  },
  {
   "cell_type": "code",
   "execution_count": 604,
   "metadata": {},
   "outputs": [],
   "source": [
    "selected_features = ['enginesize', 'horsepower', 'carwidth', 'curbweight', 'five','four', 'six', 'twelve', 'dohcv', 'ohcv']\n",
    "X = cars_df[selected_features]\n",
    "y = cars_df['price']"
   ]
  },
  {
   "cell_type": "markdown",
   "metadata": {},
   "source": [
    "## Split the data into train and test datasets"
   ]
  },
  {
   "cell_type": "code",
   "execution_count": 382,
   "metadata": {},
   "outputs": [],
   "source": [
    "from sklearn.model_selection import train_test_split"
   ]
  },
  {
   "cell_type": "code",
   "execution_count": 605,
   "metadata": {},
   "outputs": [],
   "source": [
    "X_train, X_test, y_train, y_test = train_test_split(X, y, train_size = 0.7, random_state = 100)"
   ]
  },
  {
   "cell_type": "code",
   "execution_count": 606,
   "metadata": {},
   "outputs": [
    {
     "data": {
      "text/plain": [
       "((143, 10), (62, 10), (143,), (62,))"
      ]
     },
     "execution_count": 606,
     "metadata": {},
     "output_type": "execute_result"
    }
   ],
   "source": [
    "X_train.shape, X_test.shape, y_train.shape, y_test.shape"
   ]
  },
  {
   "cell_type": "markdown",
   "metadata": {},
   "source": [
    "## Choosing the right hyperparameters"
   ]
  },
  {
   "cell_type": "markdown",
   "metadata": {},
   "source": [
    "We will apply polinomal transformation on the data, so we will have to try variuos of `degree` for the function.  \n",
    "We will also tune the parameters of the Ridge regression, which are `alpha` and `solver`."
   ]
  },
  {
   "cell_type": "code",
   "execution_count": 512,
   "metadata": {},
   "outputs": [],
   "source": [
    "from sklearn.linear_model import Lasso, Ridge"
   ]
  },
  {
   "cell_type": "markdown",
   "metadata": {},
   "source": [
    "We will find the best parameters for our dataset:"
   ]
  },
  {
   "cell_type": "code",
   "execution_count": 607,
   "metadata": {},
   "outputs": [],
   "source": [
    "alphas = np.arange(0.1,1, 0.1)"
   ]
  },
  {
   "cell_type": "code",
   "execution_count": 608,
   "metadata": {},
   "outputs": [],
   "source": [
    "solvers = ['auto', 'svd', 'cholesky', 'lsqr', 'sparse_cg']"
   ]
  },
  {
   "cell_type": "code",
   "execution_count": 609,
   "metadata": {},
   "outputs": [],
   "source": [
    "degrees = list(range(4, 10))"
   ]
  },
  {
   "cell_type": "markdown",
   "metadata": {},
   "source": [
    "Looping over the solvers, alphas and degrees to get the accuracy of the model with those parameters:"
   ]
  },
  {
   "cell_type": "code",
   "execution_count": 610,
   "metadata": {},
   "outputs": [
    {
     "name": "stdout",
     "output_type": "stream",
     "text": [
      "1/270 - solver, alpha, degree : auto, 0.1, 4 - time: 0.015316009521484375 - acc: 0.9326856461273069\n",
      "2/270 - solver, alpha, degree : auto, 0.1, 5 - time: 0.01856398582458496 - acc: 0.9149552173819498\n",
      "3/270 - solver, alpha, degree : auto, 0.1, 6 - time: 0.0333561897277832 - acc: 0.8671519927363196\n",
      "4/270 - solver, alpha, degree : auto, 0.1, 7 - time: 0.0585780143737793 - acc: 0.8071967258706444\n",
      "5/270 - solver, alpha, degree : auto, 0.1, 8 - time: 0.11595296859741211 - acc: 0.7570202505962703\n",
      "6/270 - solver, alpha, degree : auto, 0.1, 9 - time: 0.23458623886108398 - acc: 0.726021281831323\n",
      "7/270 - solver, alpha, degree : auto, 0.2, 4 - time: 0.02950906753540039 - acc: 0.9303771387639658\n",
      "8/270 - solver, alpha, degree : auto, 0.2, 5 - time: 0.021908998489379883 - acc: 0.9323015614792445\n",
      "9/270 - solver, alpha, degree : auto, 0.2, 6 - time: 0.0366671085357666 - acc: 0.921712537626167\n",
      "10/270 - solver, alpha, degree : auto, 0.2, 7 - time: 0.06156611442565918 - acc: 0.8975669535875248\n",
      "11/270 - solver, alpha, degree : auto, 0.2, 8 - time: 0.11658906936645508 - acc: 0.8670314093809667\n",
      "12/270 - solver, alpha, degree : auto, 0.2, 9 - time: 0.2616720199584961 - acc: 0.8385316459463017\n",
      "13/270 - solver, alpha, degree : auto, 0.30000000000000004, 4 - time: 0.030006885528564453 - acc: 0.926651399747667\n",
      "14/270 - solver, alpha, degree : auto, 0.30000000000000004, 5 - time: 0.021322011947631836 - acc: 0.9317805454810095\n",
      "15/270 - solver, alpha, degree : auto, 0.30000000000000004, 6 - time: 0.03553915023803711 - acc: 0.9305577252743286\n",
      "16/270 - solver, alpha, degree : auto, 0.30000000000000004, 7 - time: 0.06246805191040039 - acc: 0.9204368274416377\n",
      "17/270 - solver, alpha, degree : auto, 0.30000000000000004, 8 - time: 0.11613273620605469 - acc: 0.9032328674404992\n",
      "18/270 - solver, alpha, degree : auto, 0.30000000000000004, 9 - time: 0.23498010635375977 - acc: 0.8835874869848466\n",
      "19/270 - solver, alpha, degree : auto, 0.4, 4 - time: 0.029777050018310547 - acc: 0.9234874502938557\n",
      "20/270 - solver, alpha, degree : auto, 0.4, 5 - time: 0.021959781646728516 - acc: 0.9296409956415692\n",
      "21/270 - solver, alpha, degree : auto, 0.4, 6 - time: 0.036427974700927734 - acc: 0.9317483717614824\n",
      "22/270 - solver, alpha, degree : auto, 0.4, 7 - time: 0.06278419494628906 - acc: 0.9278674201328744\n",
      "23/270 - solver, alpha, degree : auto, 0.4, 8 - time: 0.1175239086151123 - acc: 0.918067833419985\n",
      "24/270 - solver, alpha, degree : auto, 0.4, 9 - time: 0.24489998817443848 - acc: 0.904828848032351\n",
      "25/270 - solver, alpha, degree : auto, 0.5, 4 - time: 0.03849983215332031 - acc: 0.9207553205690178\n",
      "26/270 - solver, alpha, degree : auto, 0.5, 5 - time: 0.02594780921936035 - acc: 0.9274303020896837\n",
      "27/270 - solver, alpha, degree : auto, 0.5, 6 - time: 0.042144060134887695 - acc: 0.9310135259094343\n",
      "28/270 - solver, alpha, degree : auto, 0.5, 7 - time: 0.06255793571472168 - acc: 0.9303016533945119\n",
      "29/270 - solver, alpha, degree : auto, 0.5, 8 - time: 0.16334104537963867 - acc: 0.9248265343279847\n",
      "30/270 - solver, alpha, degree : auto, 0.5, 9 - time: 0.2602970600128174 - acc: 0.9159019613246193\n",
      "31/270 - solver, alpha, degree : auto, 0.6, 4 - time: 0.034835100173950195 - acc: 0.9183322552412985\n",
      "32/270 - solver, alpha, degree : auto, 0.6, 5 - time: 0.022345304489135742 - acc: 0.9253686088295967\n",
      "33/270 - solver, alpha, degree : auto, 0.6, 6 - time: 0.03924083709716797 - acc: 0.929720427232333\n",
      "34/270 - solver, alpha, degree : auto, 0.6, 7 - time: 0.06424117088317871 - acc: 0.9307857096515824\n",
      "35/270 - solver, alpha, degree : auto, 0.6, 8 - time: 0.1273789405822754 - acc: 0.9279927194613131\n",
      "36/270 - solver, alpha, degree : auto, 0.6, 9 - time: 0.25512099266052246 - acc: 0.9220168462321104\n",
      "37/270 - solver, alpha, degree : auto, 0.7000000000000001, 4 - time: 0.032776832580566406 - acc: 0.9161395837932941\n",
      "38/270 - solver, alpha, degree : auto, 0.7000000000000001, 5 - time: 0.0205991268157959 - acc: 0.923472797411921\n",
      "39/270 - solver, alpha, degree : auto, 0.7000000000000001, 6 - time: 0.03752589225769043 - acc: 0.9282810920457509\n",
      "40/270 - solver, alpha, degree : auto, 0.7000000000000001, 7 - time: 0.060778141021728516 - acc: 0.9304216729633222\n",
      "41/270 - solver, alpha, degree : auto, 0.7000000000000001, 8 - time: 0.11734724044799805 - acc: 0.9293802025268357\n",
      "42/270 - solver, alpha, degree : auto, 0.7000000000000001, 9 - time: 0.2392420768737793 - acc: 0.9254770523931838\n",
      "43/270 - solver, alpha, degree : auto, 0.8, 4 - time: 0.02889704704284668 - acc: 0.9141256886983558\n",
      "44/270 - solver, alpha, degree : auto, 0.8, 5 - time: 0.02283191680908203 - acc: 0.9217241817770245\n",
      "45/270 - solver, alpha, degree : auto, 0.8, 6 - time: 0.03500699996948242 - acc: 0.9268357752312737\n",
      "46/270 - solver, alpha, degree : auto, 0.8, 7 - time: 0.06302905082702637 - acc: 0.9296678560136836\n",
      "47/270 - solver, alpha, degree : auto, 0.8, 8 - time: 0.11995506286621094 - acc: 0.9298199155520368\n",
      "48/270 - solver, alpha, degree : auto, 0.8, 9 - time: 0.22942399978637695 - acc: 0.927415407186207\n",
      "49/270 - solver, alpha, degree : auto, 0.9, 4 - time: 0.028951168060302734 - acc: 0.91225504373853\n",
      "50/270 - solver, alpha, degree : auto, 0.9, 5 - time: 0.02293992042541504 - acc: 0.9201005945104618\n",
      "51/270 - solver, alpha, degree : auto, 0.9, 6 - time: 0.03596806526184082 - acc: 0.9254339144425142\n",
      "52/270 - solver, alpha, degree : auto, 0.9, 7 - time: 0.061312198638916016 - acc: 0.9287339090968341\n",
      "53/270 - solver, alpha, degree : auto, 0.9, 8 - time: 0.12404608726501465 - acc: 0.9297284655842668\n",
      "54/270 - solver, alpha, degree : auto, 0.9, 9 - time: 0.25192999839782715 - acc: 0.928435435885308\n",
      "55/270 - solver, alpha, degree : svd, 0.1, 4 - time: 0.051299095153808594 - acc: 0.9326856461273126\n",
      "56/270 - solver, alpha, degree : svd, 0.1, 5 - time: 0.06878900527954102 - acc: 0.9149552173819585\n",
      "57/270 - solver, alpha, degree : svd, 0.1, 6 - time: 0.13458895683288574 - acc: 0.8671519927363067\n",
      "58/270 - solver, alpha, degree : svd, 0.1, 7 - time: 0.46008992195129395 - acc: 0.8071967258705641\n",
      "59/270 - solver, alpha, degree : svd, 0.1, 8 - time: 1.507108211517334 - acc: 0.7570202505962982\n",
      "60/270 - solver, alpha, degree : svd, 0.1, 9 - time: 4.000932931900024 - acc: 0.726021281831349\n",
      "61/270 - solver, alpha, degree : svd, 0.2, 4 - time: 0.06094002723693848 - acc: 0.9303771387639689\n",
      "62/270 - solver, alpha, degree : svd, 0.2, 5 - time: 0.07348132133483887 - acc: 0.9323015614792477\n",
      "63/270 - solver, alpha, degree : svd, 0.2, 6 - time: 0.1448829174041748 - acc: 0.9217125376261589\n",
      "64/270 - solver, alpha, degree : svd, 0.2, 7 - time: 0.5279989242553711 - acc: 0.8975669535875193\n",
      "65/270 - solver, alpha, degree : svd, 0.2, 8 - time: 1.5530390739440918 - acc: 0.8670314093809485\n",
      "66/270 - solver, alpha, degree : svd, 0.2, 9 - time: 4.041347026824951 - acc: 0.8385316459462515\n",
      "67/270 - solver, alpha, degree : svd, 0.30000000000000004, 4 - time: 0.054837942123413086 - acc: 0.9266513997476696\n",
      "68/270 - solver, alpha, degree : svd, 0.30000000000000004, 5 - time: 0.07042789459228516 - acc: 0.9317805454810115\n",
      "69/270 - solver, alpha, degree : svd, 0.30000000000000004, 6 - time: 0.13315200805664062 - acc: 0.9305577252743287\n",
      "70/270 - solver, alpha, degree : svd, 0.30000000000000004, 7 - time: 0.41474318504333496 - acc: 0.9204368274416371\n",
      "71/270 - solver, alpha, degree : svd, 0.30000000000000004, 8 - time: 1.4531431198120117 - acc: 0.9032328674405019\n",
      "72/270 - solver, alpha, degree : svd, 0.30000000000000004, 9 - time: 3.831735134124756 - acc: 0.8835874869848371\n",
      "73/270 - solver, alpha, degree : svd, 0.4, 4 - time: 0.0549159049987793 - acc: 0.9234874502938574\n",
      "74/270 - solver, alpha, degree : svd, 0.4, 5 - time: 0.07004117965698242 - acc: 0.9296409956415701\n",
      "75/270 - solver, alpha, degree : svd, 0.4, 6 - time: 0.1349630355834961 - acc: 0.931748371761482\n",
      "76/270 - solver, alpha, degree : svd, 0.4, 7 - time: 0.4257049560546875 - acc: 0.9278674201328732\n",
      "77/270 - solver, alpha, degree : svd, 0.4, 8 - time: 1.485426902770996 - acc: 0.9180678334199837\n",
      "78/270 - solver, alpha, degree : svd, 0.4, 9 - time: 3.8349950313568115 - acc: 0.9048288480323512\n",
      "79/270 - solver, alpha, degree : svd, 0.5, 4 - time: 0.05341792106628418 - acc: 0.9207553205690189\n",
      "80/270 - solver, alpha, degree : svd, 0.5, 5 - time: 0.06988024711608887 - acc: 0.9274303020896856\n"
     ]
    },
    {
     "name": "stdout",
     "output_type": "stream",
     "text": [
      "81/270 - solver, alpha, degree : svd, 0.5, 6 - time: 0.13453102111816406 - acc: 0.9310135259094348\n",
      "82/270 - solver, alpha, degree : svd, 0.5, 7 - time: 0.4208040237426758 - acc: 0.9303016533945123\n",
      "83/270 - solver, alpha, degree : svd, 0.5, 8 - time: 1.5071098804473877 - acc: 0.9248265343279877\n",
      "84/270 - solver, alpha, degree : svd, 0.5, 9 - time: 3.9821503162384033 - acc: 0.915901961324617\n",
      "85/270 - solver, alpha, degree : svd, 0.6, 4 - time: 0.05535292625427246 - acc: 0.9183322552412998\n",
      "86/270 - solver, alpha, degree : svd, 0.6, 5 - time: 0.0702657699584961 - acc: 0.925368608829598\n",
      "87/270 - solver, alpha, degree : svd, 0.6, 6 - time: 0.13335895538330078 - acc: 0.9297204272323332\n",
      "88/270 - solver, alpha, degree : svd, 0.6, 7 - time: 0.4489579200744629 - acc: 0.9307857096515821\n",
      "89/270 - solver, alpha, degree : svd, 0.6, 8 - time: 1.7898528575897217 - acc: 0.927992719461314\n",
      "90/270 - solver, alpha, degree : svd, 0.6, 9 - time: 4.022507905960083 - acc: 0.9220168462321079\n",
      "91/270 - solver, alpha, degree : svd, 0.7000000000000001, 4 - time: 0.05544590950012207 - acc: 0.9161395837932952\n",
      "92/270 - solver, alpha, degree : svd, 0.7000000000000001, 5 - time: 0.0708608627319336 - acc: 0.9234727974119215\n",
      "93/270 - solver, alpha, degree : svd, 0.7000000000000001, 6 - time: 0.1344130039215088 - acc: 0.9282810920457512\n",
      "94/270 - solver, alpha, degree : svd, 0.7000000000000001, 7 - time: 0.41350698471069336 - acc: 0.9304216729633216\n",
      "95/270 - solver, alpha, degree : svd, 0.7000000000000001, 8 - time: 1.4596850872039795 - acc: 0.9293802025268362\n",
      "96/270 - solver, alpha, degree : svd, 0.7000000000000001, 9 - time: 3.850912094116211 - acc: 0.9254770523931848\n",
      "97/270 - solver, alpha, degree : svd, 0.8, 4 - time: 0.053318023681640625 - acc: 0.9141256886983568\n",
      "98/270 - solver, alpha, degree : svd, 0.8, 5 - time: 0.06820392608642578 - acc: 0.9217241817770258\n",
      "99/270 - solver, alpha, degree : svd, 0.8, 6 - time: 0.1355888843536377 - acc: 0.9268357752312741\n",
      "100/270 - solver, alpha, degree : svd, 0.8, 7 - time: 0.41353893280029297 - acc: 0.9296678560136825\n",
      "101/270 - solver, alpha, degree : svd, 0.8, 8 - time: 1.4521429538726807 - acc: 0.9298199155520382\n",
      "102/270 - solver, alpha, degree : svd, 0.8, 9 - time: 3.8469948768615723 - acc: 0.927415407186209\n",
      "103/270 - solver, alpha, degree : svd, 0.9, 4 - time: 0.05521988868713379 - acc: 0.9122550437385307\n",
      "104/270 - solver, alpha, degree : svd, 0.9, 5 - time: 0.06954002380371094 - acc: 0.9201005945104633\n",
      "105/270 - solver, alpha, degree : svd, 0.9, 6 - time: 0.14423394203186035 - acc: 0.9254339144425142\n",
      "106/270 - solver, alpha, degree : svd, 0.9, 7 - time: 0.4158327579498291 - acc: 0.9287339090968354\n",
      "107/270 - solver, alpha, degree : svd, 0.9, 8 - time: 1.5858609676361084 - acc: 0.929728465584267\n",
      "108/270 - solver, alpha, degree : svd, 0.9, 9 - time: 3.9108219146728516 - acc: 0.928435435885311\n",
      "109/270 - solver, alpha, degree : cholesky, 0.1, 4 - time: 0.03814411163330078 - acc: 0.9326856461273069\n",
      "110/270 - solver, alpha, degree : cholesky, 0.1, 5 - time: 0.024744272232055664 - acc: 0.9149552173819498\n",
      "111/270 - solver, alpha, degree : cholesky, 0.1, 6 - time: 0.03501105308532715 - acc: 0.8671519927363196\n",
      "112/270 - solver, alpha, degree : cholesky, 0.1, 7 - time: 0.07633209228515625 - acc: 0.8071967258706444\n",
      "113/270 - solver, alpha, degree : cholesky, 0.1, 8 - time: 0.135206937789917 - acc: 0.7570202505962703\n",
      "114/270 - solver, alpha, degree : cholesky, 0.1, 9 - time: 0.23413300514221191 - acc: 0.726021281831323\n",
      "115/270 - solver, alpha, degree : cholesky, 0.2, 4 - time: 0.02820301055908203 - acc: 0.9303771387639658\n",
      "116/270 - solver, alpha, degree : cholesky, 0.2, 5 - time: 0.022127151489257812 - acc: 0.9323015614792445\n",
      "117/270 - solver, alpha, degree : cholesky, 0.2, 6 - time: 0.03298616409301758 - acc: 0.921712537626167\n",
      "118/270 - solver, alpha, degree : cholesky, 0.2, 7 - time: 0.07727694511413574 - acc: 0.8975669535875248\n",
      "119/270 - solver, alpha, degree : cholesky, 0.2, 8 - time: 0.13117408752441406 - acc: 0.8670314093809667\n",
      "120/270 - solver, alpha, degree : cholesky, 0.2, 9 - time: 0.26630473136901855 - acc: 0.8385316459463017\n",
      "121/270 - solver, alpha, degree : cholesky, 0.30000000000000004, 4 - time: 0.032377004623413086 - acc: 0.926651399747667\n",
      "122/270 - solver, alpha, degree : cholesky, 0.30000000000000004, 5 - time: 0.02169179916381836 - acc: 0.9317805454810095\n",
      "123/270 - solver, alpha, degree : cholesky, 0.30000000000000004, 6 - time: 0.03407907485961914 - acc: 0.9305577252743286\n",
      "124/270 - solver, alpha, degree : cholesky, 0.30000000000000004, 7 - time: 0.07410407066345215 - acc: 0.9204368274416377\n",
      "125/270 - solver, alpha, degree : cholesky, 0.30000000000000004, 8 - time: 0.14097166061401367 - acc: 0.9032328674404992\n",
      "126/270 - solver, alpha, degree : cholesky, 0.30000000000000004, 9 - time: 0.25509119033813477 - acc: 0.8835874869848466\n",
      "127/270 - solver, alpha, degree : cholesky, 0.4, 4 - time: 0.03853893280029297 - acc: 0.9234874502938557\n",
      "128/270 - solver, alpha, degree : cholesky, 0.4, 5 - time: 0.0294189453125 - acc: 0.9296409956415692\n",
      "129/270 - solver, alpha, degree : cholesky, 0.4, 6 - time: 0.031365156173706055 - acc: 0.9317483717614824\n",
      "130/270 - solver, alpha, degree : cholesky, 0.4, 7 - time: 0.07859110832214355 - acc: 0.9278674201328744\n",
      "131/270 - solver, alpha, degree : cholesky, 0.4, 8 - time: 0.12895512580871582 - acc: 0.918067833419985\n",
      "132/270 - solver, alpha, degree : cholesky, 0.4, 9 - time: 0.24564313888549805 - acc: 0.904828848032351\n",
      "133/270 - solver, alpha, degree : cholesky, 0.5, 4 - time: 0.028963804244995117 - acc: 0.9207553205690178\n",
      "134/270 - solver, alpha, degree : cholesky, 0.5, 5 - time: 0.023694753646850586 - acc: 0.9274303020896837\n",
      "135/270 - solver, alpha, degree : cholesky, 0.5, 6 - time: 0.029731035232543945 - acc: 0.9310135259094343\n",
      "136/270 - solver, alpha, degree : cholesky, 0.5, 7 - time: 0.0695948600769043 - acc: 0.9303016533945119\n",
      "137/270 - solver, alpha, degree : cholesky, 0.5, 8 - time: 0.1186521053314209 - acc: 0.9248265343279847\n",
      "138/270 - solver, alpha, degree : cholesky, 0.5, 9 - time: 0.23226523399353027 - acc: 0.9159019613246193\n",
      "139/270 - solver, alpha, degree : cholesky, 0.6, 4 - time: 0.028699159622192383 - acc: 0.9183322552412985\n",
      "140/270 - solver, alpha, degree : cholesky, 0.6, 5 - time: 0.021232128143310547 - acc: 0.9253686088295967\n",
      "141/270 - solver, alpha, degree : cholesky, 0.6, 6 - time: 0.03201794624328613 - acc: 0.929720427232333\n",
      "142/270 - solver, alpha, degree : cholesky, 0.6, 7 - time: 0.07674694061279297 - acc: 0.9307857096515824\n",
      "143/270 - solver, alpha, degree : cholesky, 0.6, 8 - time: 0.11893510818481445 - acc: 0.9279927194613131\n",
      "144/270 - solver, alpha, degree : cholesky, 0.6, 9 - time: 0.25075793266296387 - acc: 0.9220168462321104\n",
      "145/270 - solver, alpha, degree : cholesky, 0.7000000000000001, 4 - time: 0.028199195861816406 - acc: 0.9161395837932941\n",
      "146/270 - solver, alpha, degree : cholesky, 0.7000000000000001, 5 - time: 0.022162914276123047 - acc: 0.923472797411921\n",
      "147/270 - solver, alpha, degree : cholesky, 0.7000000000000001, 6 - time: 0.030605077743530273 - acc: 0.9282810920457509\n",
      "148/270 - solver, alpha, degree : cholesky, 0.7000000000000001, 7 - time: 0.06927800178527832 - acc: 0.9304216729633222\n",
      "149/270 - solver, alpha, degree : cholesky, 0.7000000000000001, 8 - time: 0.11641407012939453 - acc: 0.9293802025268357\n",
      "150/270 - solver, alpha, degree : cholesky, 0.7000000000000001, 9 - time: 0.23245906829833984 - acc: 0.9254770523931838\n",
      "151/270 - solver, alpha, degree : cholesky, 0.8, 4 - time: 0.028012752532958984 - acc: 0.9141256886983558\n",
      "152/270 - solver, alpha, degree : cholesky, 0.8, 5 - time: 0.021739959716796875 - acc: 0.9217241817770245\n",
      "153/270 - solver, alpha, degree : cholesky, 0.8, 6 - time: 0.028610944747924805 - acc: 0.9268357752312737\n",
      "154/270 - solver, alpha, degree : cholesky, 0.8, 7 - time: 0.0698397159576416 - acc: 0.9296678560136836\n",
      "155/270 - solver, alpha, degree : cholesky, 0.8, 8 - time: 0.11536097526550293 - acc: 0.9298199155520368\n",
      "156/270 - solver, alpha, degree : cholesky, 0.8, 9 - time: 0.23494482040405273 - acc: 0.927415407186207\n",
      "157/270 - solver, alpha, degree : cholesky, 0.9, 4 - time: 0.027374267578125 - acc: 0.91225504373853\n",
      "158/270 - solver, alpha, degree : cholesky, 0.9, 5 - time: 0.021680116653442383 - acc: 0.9201005945104618\n",
      "159/270 - solver, alpha, degree : cholesky, 0.9, 6 - time: 0.02981090545654297 - acc: 0.9254339144425142\n",
      "160/270 - solver, alpha, degree : cholesky, 0.9, 7 - time: 0.0684359073638916 - acc: 0.9287339090968341\n"
     ]
    },
    {
     "name": "stdout",
     "output_type": "stream",
     "text": [
      "161/270 - solver, alpha, degree : cholesky, 0.9, 8 - time: 0.11701560020446777 - acc: 0.9297284655842668\n",
      "162/270 - solver, alpha, degree : cholesky, 0.9, 9 - time: 0.22787976264953613 - acc: 0.928435435885308\n",
      "163/270 - solver, alpha, degree : lsqr, 0.1, 4 - time: 0.030082225799560547 - acc: 0.9340577702200096\n",
      "164/270 - solver, alpha, degree : lsqr, 0.1, 5 - time: 0.017948150634765625 - acc: 0.9303713328567836\n",
      "165/270 - solver, alpha, degree : lsqr, 0.1, 6 - time: 0.038847923278808594 - acc: 0.8762010564848454\n",
      "166/270 - solver, alpha, degree : lsqr, 0.1, 7 - time: 0.0876011848449707 - acc: 0.8348105361308193\n",
      "167/270 - solver, alpha, degree : lsqr, 0.1, 8 - time: 0.26186394691467285 - acc: 0.7954601254442053\n",
      "168/270 - solver, alpha, degree : lsqr, 0.1, 9 - time: 0.5720260143280029 - acc: 0.7594069914303274\n",
      "169/270 - solver, alpha, degree : lsqr, 0.2, 4 - time: 0.028097867965698242 - acc: 0.9301576130715421\n",
      "170/270 - solver, alpha, degree : lsqr, 0.2, 5 - time: 0.017529964447021484 - acc: 0.933505130229991\n",
      "171/270 - solver, alpha, degree : lsqr, 0.2, 6 - time: 0.03412795066833496 - acc: 0.9297388914100386\n",
      "172/270 - solver, alpha, degree : lsqr, 0.2, 7 - time: 0.08430886268615723 - acc: 0.9071382291338916\n",
      "173/270 - solver, alpha, degree : lsqr, 0.2, 8 - time: 0.21648597717285156 - acc: 0.8919057808422726\n",
      "174/270 - solver, alpha, degree : lsqr, 0.2, 9 - time: 0.5566761493682861 - acc: 0.8617181064397417\n",
      "175/270 - solver, alpha, degree : lsqr, 0.30000000000000004, 4 - time: 0.029773950576782227 - acc: 0.9275018646657767\n",
      "176/270 - solver, alpha, degree : lsqr, 0.30000000000000004, 5 - time: 0.01834416389465332 - acc: 0.9331293667264524\n",
      "177/270 - solver, alpha, degree : lsqr, 0.30000000000000004, 6 - time: 0.04738783836364746 - acc: 0.934828511177831\n",
      "178/270 - solver, alpha, degree : lsqr, 0.30000000000000004, 7 - time: 0.11422514915466309 - acc: 0.9265602853764556\n",
      "179/270 - solver, alpha, degree : lsqr, 0.30000000000000004, 8 - time: 0.2531428337097168 - acc: 0.9129196705216727\n",
      "180/270 - solver, alpha, degree : lsqr, 0.30000000000000004, 9 - time: 0.4941070079803467 - acc: 0.9001297036303394\n",
      "181/270 - solver, alpha, degree : lsqr, 0.4, 4 - time: 0.030521869659423828 - acc: 0.9234978397096979\n",
      "182/270 - solver, alpha, degree : lsqr, 0.4, 5 - time: 0.020778894424438477 - acc: 0.9303634074100148\n",
      "183/270 - solver, alpha, degree : lsqr, 0.4, 6 - time: 0.051122188568115234 - acc: 0.9335905657803621\n",
      "184/270 - solver, alpha, degree : lsqr, 0.4, 7 - time: 0.10835504531860352 - acc: 0.9300366852708306\n",
      "185/270 - solver, alpha, degree : lsqr, 0.4, 8 - time: 0.20288610458374023 - acc: 0.9239890033426187\n",
      "186/270 - solver, alpha, degree : lsqr, 0.4, 9 - time: 0.488753080368042 - acc: 0.9139293482553152\n",
      "187/270 - solver, alpha, degree : lsqr, 0.5, 4 - time: 0.02757096290588379 - acc: 0.9203385777710876\n",
      "188/270 - solver, alpha, degree : lsqr, 0.5, 5 - time: 0.0992269515991211 - acc: 0.9279467431390432\n",
      "189/270 - solver, alpha, degree : lsqr, 0.5, 6 - time: 0.03510713577270508 - acc: 0.9319620619177538\n",
      "190/270 - solver, alpha, degree : lsqr, 0.5, 7 - time: 0.07436585426330566 - acc: 0.9327706677315867\n",
      "191/270 - solver, alpha, degree : lsqr, 0.5, 8 - time: 0.19807195663452148 - acc: 0.9278477947990783\n",
      "192/270 - solver, alpha, degree : lsqr, 0.5, 9 - time: 0.4752049446105957 - acc: 0.920834747550159\n",
      "193/270 - solver, alpha, degree : lsqr, 0.6, 4 - time: 0.027460813522338867 - acc: 0.9180139362203628\n",
      "194/270 - solver, alpha, degree : lsqr, 0.6, 5 - time: 0.017156124114990234 - acc: 0.924960784543139\n",
      "195/270 - solver, alpha, degree : lsqr, 0.6, 6 - time: 0.03412508964538574 - acc: 0.9302762633613239\n",
      "196/270 - solver, alpha, degree : lsqr, 0.6, 7 - time: 0.07318902015686035 - acc: 0.9321870078330865\n",
      "197/270 - solver, alpha, degree : lsqr, 0.6, 8 - time: 0.19060683250427246 - acc: 0.929009868951499\n",
      "198/270 - solver, alpha, degree : lsqr, 0.6, 9 - time: 0.44721484184265137 - acc: 0.9248082349086468\n",
      "199/270 - solver, alpha, degree : lsqr, 0.7000000000000001, 4 - time: 0.03169512748718262 - acc: 0.9165401803165623\n",
      "200/270 - solver, alpha, degree : lsqr, 0.7000000000000001, 5 - time: 0.01867818832397461 - acc: 0.9231519637559275\n",
      "201/270 - solver, alpha, degree : lsqr, 0.7000000000000001, 6 - time: 0.03159809112548828 - acc: 0.9286396185245258\n",
      "202/270 - solver, alpha, degree : lsqr, 0.7000000000000001, 7 - time: 0.07786202430725098 - acc: 0.9307383961484342\n",
      "203/270 - solver, alpha, degree : lsqr, 0.7000000000000001, 8 - time: 0.19397783279418945 - acc: 0.9297075546217202\n",
      "204/270 - solver, alpha, degree : lsqr, 0.7000000000000001, 9 - time: 0.45412611961364746 - acc: 0.9270958130997247\n",
      "205/270 - solver, alpha, degree : lsqr, 0.8, 4 - time: 0.02735304832458496 - acc: 0.9144771195269169\n",
      "206/270 - solver, alpha, degree : lsqr, 0.8, 5 - time: 0.017033815383911133 - acc: 0.9216454032958109\n",
      "207/270 - solver, alpha, degree : lsqr, 0.8, 6 - time: 0.033928871154785156 - acc: 0.9263846468749773\n",
      "208/270 - solver, alpha, degree : lsqr, 0.8, 7 - time: 0.07758212089538574 - acc: 0.9297480323645468\n",
      "209/270 - solver, alpha, degree : lsqr, 0.8, 8 - time: 0.20314383506774902 - acc: 0.9310245728492405\n",
      "210/270 - solver, alpha, degree : lsqr, 0.8, 9 - time: 0.4705522060394287 - acc: 0.9283614280844279\n",
      "211/270 - solver, alpha, degree : lsqr, 0.9, 4 - time: 0.02894115447998047 - acc: 0.9125611538202563\n",
      "212/270 - solver, alpha, degree : lsqr, 0.9, 5 - time: 0.020546913146972656 - acc: 0.920040591767402\n",
      "213/270 - solver, alpha, degree : lsqr, 0.9, 6 - time: 0.042222023010253906 - acc: 0.9250365561537527\n",
      "214/270 - solver, alpha, degree : lsqr, 0.9, 7 - time: 0.08028578758239746 - acc: 0.92869599426589\n",
      "215/270 - solver, alpha, degree : lsqr, 0.9, 8 - time: 0.19208073616027832 - acc: 0.9305241709381783\n",
      "216/270 - solver, alpha, degree : lsqr, 0.9, 9 - time: 0.43756794929504395 - acc: 0.9284473967186622\n",
      "217/270 - solver, alpha, degree : sparse_cg, 0.1, 4 - time: 0.029844999313354492 - acc: 0.9326424758079461\n",
      "218/270 - solver, alpha, degree : sparse_cg, 0.1, 5 - time: 0.019730806350708008 - acc: 0.9148363038342702\n",
      "219/270 - solver, alpha, degree : sparse_cg, 0.1, 6 - time: 0.02979111671447754 - acc: 0.8671268749286207\n",
      "220/270 - solver, alpha, degree : sparse_cg, 0.1, 7 - time: 0.12243294715881348 - acc: 0.8075805781395548\n",
      "221/270 - solver, alpha, degree : sparse_cg, 0.1, 8 - time: 0.4126582145690918 - acc: 0.7568281046316748\n",
      "222/270 - solver, alpha, degree : sparse_cg, 0.1, 9 - time: 0.9665248394012451 - acc: 0.7255456508800411\n",
      "223/270 - solver, alpha, degree : sparse_cg, 0.2, 4 - time: 0.028327226638793945 - acc: 0.9303891485383871\n",
      "224/270 - solver, alpha, degree : sparse_cg, 0.2, 5 - time: 0.017231225967407227 - acc: 0.9323005859733605\n",
      "225/270 - solver, alpha, degree : sparse_cg, 0.2, 6 - time: 0.026467084884643555 - acc: 0.921620926260626\n",
      "226/270 - solver, alpha, degree : sparse_cg, 0.2, 7 - time: 0.09946680068969727 - acc: 0.8975416604048962\n",
      "227/270 - solver, alpha, degree : sparse_cg, 0.2, 8 - time: 0.34479808807373047 - acc: 0.8673403013586806\n",
      "228/270 - solver, alpha, degree : sparse_cg, 0.2, 9 - time: 0.7707898616790771 - acc: 0.8388238460601818\n",
      "229/270 - solver, alpha, degree : sparse_cg, 0.30000000000000004, 4 - time: 0.028512954711914062 - acc: 0.9267066694861148\n",
      "230/270 - solver, alpha, degree : sparse_cg, 0.30000000000000004, 5 - time: 0.01834702491760254 - acc: 0.9318341174426527\n",
      "231/270 - solver, alpha, degree : sparse_cg, 0.30000000000000004, 6 - time: 0.027569055557250977 - acc: 0.9304870200466684\n",
      "232/270 - solver, alpha, degree : sparse_cg, 0.30000000000000004, 7 - time: 0.0849919319152832 - acc: 0.920469831712436\n",
      "233/270 - solver, alpha, degree : sparse_cg, 0.30000000000000004, 8 - time: 0.3016011714935303 - acc: 0.9029969139028805\n",
      "234/270 - solver, alpha, degree : sparse_cg, 0.30000000000000004, 9 - time: 0.771737813949585 - acc: 0.8836597872760868\n",
      "235/270 - solver, alpha, degree : sparse_cg, 0.4, 4 - time: 0.028474092483520508 - acc: 0.923510465783567\n",
      "236/270 - solver, alpha, degree : sparse_cg, 0.4, 5 - time: 0.018123149871826172 - acc: 0.9296620246886895\n",
      "237/270 - solver, alpha, degree : sparse_cg, 0.4, 6 - time: 0.027189016342163086 - acc: 0.9317163770800786\n",
      "238/270 - solver, alpha, degree : sparse_cg, 0.4, 7 - time: 0.08793377876281738 - acc: 0.9278783873994998\n"
     ]
    },
    {
     "name": "stdout",
     "output_type": "stream",
     "text": [
      "239/270 - solver, alpha, degree : sparse_cg, 0.4, 8 - time: 0.3070218563079834 - acc: 0.9180935203870264\n",
      "240/270 - solver, alpha, degree : sparse_cg, 0.4, 9 - time: 0.6861410140991211 - acc: 0.9045496342596389\n",
      "241/270 - solver, alpha, degree : sparse_cg, 0.5, 4 - time: 0.027811050415039062 - acc: 0.9206707179808604\n",
      "242/270 - solver, alpha, degree : sparse_cg, 0.5, 5 - time: 0.0162050724029541 - acc: 0.9274683791043576\n",
      "243/270 - solver, alpha, degree : sparse_cg, 0.5, 6 - time: 0.02492213249206543 - acc: 0.9310670217819638\n",
      "244/270 - solver, alpha, degree : sparse_cg, 0.5, 7 - time: 0.07975411415100098 - acc: 0.9302233893024927\n",
      "245/270 - solver, alpha, degree : sparse_cg, 0.5, 8 - time: 0.29618191719055176 - acc: 0.924838592988555\n",
      "246/270 - solver, alpha, degree : sparse_cg, 0.5, 9 - time: 0.6839678287506104 - acc: 0.9159577922940844\n",
      "247/270 - solver, alpha, degree : sparse_cg, 0.6, 4 - time: 0.027841806411743164 - acc: 0.9183163876839954\n",
      "248/270 - solver, alpha, degree : sparse_cg, 0.6, 5 - time: 0.017326831817626953 - acc: 0.925383645281968\n",
      "249/270 - solver, alpha, degree : sparse_cg, 0.6, 6 - time: 0.028010129928588867 - acc: 0.9297478062644523\n",
      "250/270 - solver, alpha, degree : sparse_cg, 0.6, 7 - time: 0.08314704895019531 - acc: 0.9307236635280162\n",
      "251/270 - solver, alpha, degree : sparse_cg, 0.6, 8 - time: 0.29416584968566895 - acc: 0.9280076854901393\n",
      "252/270 - solver, alpha, degree : sparse_cg, 0.6, 9 - time: 0.6771759986877441 - acc: 0.9220524401881125\n",
      "253/270 - solver, alpha, degree : sparse_cg, 0.7000000000000001, 4 - time: 0.028720855712890625 - acc: 0.9160134156578803\n",
      "254/270 - solver, alpha, degree : sparse_cg, 0.7000000000000001, 5 - time: 0.01834893226623535 - acc: 0.9234873421547785\n",
      "255/270 - solver, alpha, degree : sparse_cg, 0.7000000000000001, 6 - time: 0.025472164154052734 - acc: 0.9282345962907497\n",
      "256/270 - solver, alpha, degree : sparse_cg, 0.7000000000000001, 7 - time: 0.08584809303283691 - acc: 0.9304411338713677\n",
      "257/270 - solver, alpha, degree : sparse_cg, 0.7000000000000001, 8 - time: 0.28001832962036133 - acc: 0.9293661369443996\n",
      "258/270 - solver, alpha, degree : sparse_cg, 0.7000000000000001, 9 - time: 0.6099331378936768 - acc: 0.925461086417311\n",
      "259/270 - solver, alpha, degree : sparse_cg, 0.8, 4 - time: 0.027351856231689453 - acc: 0.9140516989191108\n",
      "260/270 - solver, alpha, degree : sparse_cg, 0.8, 5 - time: 0.01565098762512207 - acc: 0.9217637059307279\n",
      "261/270 - solver, alpha, degree : sparse_cg, 0.8, 6 - time: 0.0319828987121582 - acc: 0.9267920291992168\n",
      "262/270 - solver, alpha, degree : sparse_cg, 0.8, 7 - time: 0.08685421943664551 - acc: 0.9296942432370909\n",
      "263/270 - solver, alpha, degree : sparse_cg, 0.8, 8 - time: 0.2703828811645508 - acc: 0.9297761420007197\n",
      "264/270 - solver, alpha, degree : sparse_cg, 0.8, 9 - time: 0.6304900646209717 - acc: 0.927412327337979\n",
      "265/270 - solver, alpha, degree : sparse_cg, 0.9, 4 - time: 0.030128955841064453 - acc: 0.9123871722405642\n",
      "266/270 - solver, alpha, degree : sparse_cg, 0.9, 5 - time: 0.01869487762451172 - acc: 0.9201147241773417\n",
      "267/270 - solver, alpha, degree : sparse_cg, 0.9, 6 - time: 0.028237104415893555 - acc: 0.9254226273349061\n",
      "268/270 - solver, alpha, degree : sparse_cg, 0.9, 7 - time: 0.07667303085327148 - acc: 0.9286113829875131\n",
      "269/270 - solver, alpha, degree : sparse_cg, 0.9, 8 - time: 0.25983500480651855 - acc: 0.9297007312982878\n",
      "270/270 - solver, alpha, degree : sparse_cg, 0.9, 9 - time: 0.6303250789642334 - acc: 0.9284342929532291\n",
      "Totla time took: 83.48983716964722\n"
     ]
    }
   ],
   "source": [
    "from sklearn.metrics import r2_score\n",
    "from sklearn.preprocessing import PolynomialFeatures\n",
    "import time\n",
    "results = {\"solver\": [], 'alpha': [], 'degree': [], 'score': []}\n",
    "counter = 1\n",
    "total = len(solvers) * len(alphas) * len(degrees)\n",
    "start = time.time()\n",
    "for solver in solvers:\n",
    "    for alpha in alphas:\n",
    "        ridge = Ridge(alpha=alpha, solver=solver)\n",
    "        for degree in degrees:\n",
    "            in_start = time.time()\n",
    "            # init polinom function\n",
    "            poly = PolynomialFeatures(degree=degree)\n",
    "            # apply function to data\n",
    "            X_train_poly = poly.fit_transform(X_train)\n",
    "            # init the ridge classifier and fit\n",
    "            ridge.fit(X_train_poly, y_train)\n",
    "            # apply polinom function to the data\n",
    "            X_test_poly = poly.fit_transform(X_test)\n",
    "            # predict the test data\n",
    "            preds = ridge.predict(X_test_poly)\n",
    "            acc = r2_score(y_test, preds)\n",
    "            results['solver'].append(solver)\n",
    "            results['alpha'].append(alpha)\n",
    "            results['degree'].append(degree)\n",
    "            results['score'].append(acc)\n",
    "            in_end = time.time()\n",
    "            print(\"{}/{} - solver, alpha, degree : {}, {}, {} - time: {} - acc: {}\".format(counter, total, solver, alpha, degree, in_end-in_start, acc))\n",
    "            counter+=1\n",
    "print(\"Totla time took: {}\".format(time.time() - start))"
   ]
  },
  {
   "cell_type": "markdown",
   "metadata": {},
   "source": [
    "## Results of search"
   ]
  },
  {
   "cell_type": "markdown",
   "metadata": {},
   "source": [
    "Max scores for every solver:"
   ]
  },
  {
   "cell_type": "code",
   "execution_count": 611,
   "metadata": {},
   "outputs": [
    {
     "data": {
      "text/plain": [
       "solver\n",
       "auto         0.932686\n",
       "cholesky     0.932686\n",
       "lsqr         0.934829\n",
       "sparse_cg    0.932642\n",
       "svd          0.932686\n",
       "Name: score, dtype: float64"
      ]
     },
     "execution_count": 611,
     "metadata": {},
     "output_type": "execute_result"
    }
   ],
   "source": [
    "df = pd.DataFrame(results)\n",
    "max_scores = df.groupby(\"solver\")['score'].apply(max)\n",
    "max_scores"
   ]
  },
  {
   "cell_type": "markdown",
   "metadata": {},
   "source": [
    "Getting the `degree` and `alpha` parameters for the configuration of the Ridge regression model:"
   ]
  },
  {
   "cell_type": "code",
   "execution_count": 612,
   "metadata": {},
   "outputs": [
    {
     "data": {
      "text/html": [
       "<div>\n",
       "<style scoped>\n",
       "    .dataframe tbody tr th:only-of-type {\n",
       "        vertical-align: middle;\n",
       "    }\n",
       "\n",
       "    .dataframe tbody tr th {\n",
       "        vertical-align: top;\n",
       "    }\n",
       "\n",
       "    .dataframe thead th {\n",
       "        text-align: right;\n",
       "    }\n",
       "</style>\n",
       "<table border=\"1\" class=\"dataframe\">\n",
       "  <thead>\n",
       "    <tr style=\"text-align: right;\">\n",
       "      <th></th>\n",
       "      <th>solver</th>\n",
       "      <th>alpha</th>\n",
       "      <th>degree</th>\n",
       "      <th>score</th>\n",
       "    </tr>\n",
       "  </thead>\n",
       "  <tbody>\n",
       "    <tr>\n",
       "      <th>176</th>\n",
       "      <td>lsqr</td>\n",
       "      <td>0.3</td>\n",
       "      <td>6</td>\n",
       "      <td>0.934829</td>\n",
       "    </tr>\n",
       "  </tbody>\n",
       "</table>\n",
       "</div>"
      ],
      "text/plain": [
       "    solver  alpha  degree     score\n",
       "176   lsqr    0.3       6  0.934829"
      ]
     },
     "execution_count": 612,
     "metadata": {},
     "output_type": "execute_result"
    }
   ],
   "source": [
    "df[df['score'] == max_scores.max()]"
   ]
  },
  {
   "cell_type": "markdown",
   "metadata": {},
   "source": [
    "## Testing the new model with selected parameters"
   ]
  },
  {
   "cell_type": "markdown",
   "metadata": {},
   "source": [
    "**Setting the parameters we found and train the model**"
   ]
  },
  {
   "cell_type": "code",
   "execution_count": 613,
   "metadata": {},
   "outputs": [
    {
     "name": "stdout",
     "output_type": "stream",
     "text": [
      "0.9348285111778308\n"
     ]
    },
    {
     "name": "stderr",
     "output_type": "stream",
     "text": [
      "/usr/local/lib/python3.8/site-packages/seaborn/distributions.py:2551: FutureWarning: `distplot` is a deprecated function and will be removed in a future version. Please adapt your code to use either `displot` (a figure-level function with similar flexibility) or `histplot` (an axes-level function for histograms).\n",
      "  warnings.warn(msg, FutureWarning)\n"
     ]
    },
    {
     "data": {
      "image/png": "[encoded data removed]",
      "text/plain": [
       "<Figure size 432x288 with 1 Axes>"
      ]
     },
     "metadata": {
      "needs_background": "light"
     },
     "output_type": "display_data"
    }
   ],
   "source": [
    "solver = 'lsqr'\n",
    "degree = 6\n",
    "alpha = 0.3\n",
    "poly = PolynomialFeatures(degree=degree)\n",
    "X_train_poly = poly.fit_transform(X_train)\n",
    "ridge = Ridge(solver=solver, alpha=alpha)\n",
    "ridge.fit(X_train_poly, y_train)\n",
    "\n",
    "X_test_poly = poly.fit_transform(X_test)\n",
    "preds = ridge.predict(X_test_poly)\n",
    "print(r2_score(y_test, preds))\n",
    "sns.distplot(y_test - preds)\n",
    "plt.title(\"Distribution Error\")\n",
    "plt.xlabel(\"Error from ground truth\")\n",
    "plt.show()"
   ]
  },
  {
   "cell_type": "code",
   "execution_count": 614,
   "metadata": {},
   "outputs": [
    {
     "data": {
      "image/png": "[encoded data removed]",
      "text/plain": [
       "<Figure size 432x288 with 1 Axes>"
      ]
     },
     "metadata": {
      "needs_background": "light"
     },
     "output_type": "display_data"
    }
   ],
   "source": [
    "plt.scatter(range(len(y_test)), y_test, label=\"True\")\n",
    "plt.scatter(range(len(preds)), preds, label=\"Prediction\")\n",
    "plt.legend()\n",
    "plt.show()"
   ]
  }
 ],
 "metadata": {
  "kernelspec": {
   "display_name": "Python 3",
   "language": "python",
   "name": "python3"
  },
  "language_info": {
   "codemirror_mode": {
    "name": "ipython",
    "version": 3
   },
   "file_extension": ".py",
   "mimetype": "text/x-python",
   "name": "python",
   "nbconvert_exporter": "python",
   "pygments_lexer": "ipython3",
   "version": "3.8.5"
  }
 },
 "nbformat": 4,
 "nbformat_minor": 4
}
