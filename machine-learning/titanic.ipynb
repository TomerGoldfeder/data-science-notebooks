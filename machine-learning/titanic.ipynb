{
 "cells": [
  {
   "cell_type": "markdown",
   "metadata": {},
   "source": [
    "# Titanic disaster"
   ]
  },
  {
   "cell_type": "code",
   "execution_count": 677,
   "metadata": {},
   "outputs": [],
   "source": [
    "import pandas as pd\n",
    "import numpy as np\n",
    "import matplotlib.pyplot as plt\n",
    "import seaborn as sns"
   ]
  },
  {
   "cell_type": "markdown",
   "metadata": {},
   "source": [
    "## Data Exploration"
   ]
  },
  {
   "cell_type": "code",
   "execution_count": 678,
   "metadata": {},
   "outputs": [],
   "source": [
    "df = pd.read_csv(\"./data/titanic_train.csv\")\n",
    "df_test = pd.read_csv(\"./data/titanic_test.csv\")"
   ]
  },
  {
   "cell_type": "markdown",
   "metadata": {},
   "source": [
    "### First look at the data:"
   ]
  },
  {
   "cell_type": "code",
   "execution_count": 679,
   "metadata": {
    "scrolled": false
   },
   "outputs": [
    {
     "data": {
      "text/html": [
       "<div>\n",
       "<style scoped>\n",
       "    .dataframe tbody tr th:only-of-type {\n",
       "        vertical-align: middle;\n",
       "    }\n",
       "\n",
       "    .dataframe tbody tr th {\n",
       "        vertical-align: top;\n",
       "    }\n",
       "\n",
       "    .dataframe thead th {\n",
       "        text-align: right;\n",
       "    }\n",
       "</style>\n",
       "<table border=\"1\" class=\"dataframe\">\n",
       "  <thead>\n",
       "    <tr style=\"text-align: right;\">\n",
       "      <th></th>\n",
       "      <th>PassengerId</th>\n",
       "      <th>Survived</th>\n",
       "      <th>Pclass</th>\n",
       "      <th>Name</th>\n",
       "      <th>Sex</th>\n",
       "      <th>Age</th>\n",
       "      <th>SibSp</th>\n",
       "      <th>Parch</th>\n",
       "      <th>Ticket</th>\n",
       "      <th>Fare</th>\n",
       "      <th>Cabin</th>\n",
       "      <th>Embarked</th>\n",
       "    </tr>\n",
       "  </thead>\n",
       "  <tbody>\n",
       "    <tr>\n",
       "      <th>0</th>\n",
       "      <td>1</td>\n",
       "      <td>0</td>\n",
       "      <td>3</td>\n",
       "      <td>Braund, Mr. Owen Harris</td>\n",
       "      <td>male</td>\n",
       "      <td>22.0</td>\n",
       "      <td>1</td>\n",
       "      <td>0</td>\n",
       "      <td>A/5 21171</td>\n",
       "      <td>7.2500</td>\n",
       "      <td>NaN</td>\n",
       "      <td>S</td>\n",
       "    </tr>\n",
       "    <tr>\n",
       "      <th>1</th>\n",
       "      <td>2</td>\n",
       "      <td>1</td>\n",
       "      <td>1</td>\n",
       "      <td>Cumings, Mrs. John Bradley (Florence Briggs Th...</td>\n",
       "      <td>female</td>\n",
       "      <td>38.0</td>\n",
       "      <td>1</td>\n",
       "      <td>0</td>\n",
       "      <td>PC 17599</td>\n",
       "      <td>71.2833</td>\n",
       "      <td>C85</td>\n",
       "      <td>C</td>\n",
       "    </tr>\n",
       "    <tr>\n",
       "      <th>2</th>\n",
       "      <td>3</td>\n",
       "      <td>1</td>\n",
       "      <td>3</td>\n",
       "      <td>Heikkinen, Miss. Laina</td>\n",
       "      <td>female</td>\n",
       "      <td>26.0</td>\n",
       "      <td>0</td>\n",
       "      <td>0</td>\n",
       "      <td>STON/O2. 3101282</td>\n",
       "      <td>7.9250</td>\n",
       "      <td>NaN</td>\n",
       "      <td>S</td>\n",
       "    </tr>\n",
       "    <tr>\n",
       "      <th>3</th>\n",
       "      <td>4</td>\n",
       "      <td>1</td>\n",
       "      <td>1</td>\n",
       "      <td>Futrelle, Mrs. Jacques Heath (Lily May Peel)</td>\n",
       "      <td>female</td>\n",
       "      <td>35.0</td>\n",
       "      <td>1</td>\n",
       "      <td>0</td>\n",
       "      <td>113803</td>\n",
       "      <td>53.1000</td>\n",
       "      <td>C123</td>\n",
       "      <td>S</td>\n",
       "    </tr>\n",
       "    <tr>\n",
       "      <th>4</th>\n",
       "      <td>5</td>\n",
       "      <td>0</td>\n",
       "      <td>3</td>\n",
       "      <td>Allen, Mr. William Henry</td>\n",
       "      <td>male</td>\n",
       "      <td>35.0</td>\n",
       "      <td>0</td>\n",
       "      <td>0</td>\n",
       "      <td>373450</td>\n",
       "      <td>8.0500</td>\n",
       "      <td>NaN</td>\n",
       "      <td>S</td>\n",
       "    </tr>\n",
       "  </tbody>\n",
       "</table>\n",
       "</div>"
      ],
      "text/plain": [
       "   PassengerId  Survived  Pclass  \\\n",
       "0            1         0       3   \n",
       "1            2         1       1   \n",
       "2            3         1       3   \n",
       "3            4         1       1   \n",
       "4            5         0       3   \n",
       "\n",
       "                                                Name     Sex   Age  SibSp  \\\n",
       "0                            Braund, Mr. Owen Harris    male  22.0      1   \n",
       "1  Cumings, Mrs. John Bradley (Florence Briggs Th...  female  38.0      1   \n",
       "2                             Heikkinen, Miss. Laina  female  26.0      0   \n",
       "3       Futrelle, Mrs. Jacques Heath (Lily May Peel)  female  35.0      1   \n",
       "4                           Allen, Mr. William Henry    male  35.0      0   \n",
       "\n",
       "   Parch            Ticket     Fare Cabin Embarked  \n",
       "0      0         A/5 21171   7.2500   NaN        S  \n",
       "1      0          PC 17599  71.2833   C85        C  \n",
       "2      0  STON/O2. 3101282   7.9250   NaN        S  \n",
       "3      0            113803  53.1000  C123        S  \n",
       "4      0            373450   8.0500   NaN        S  "
      ]
     },
     "execution_count": 679,
     "metadata": {},
     "output_type": "execute_result"
    }
   ],
   "source": [
    "df.head()"
   ]
  },
  {
   "cell_type": "markdown",
   "metadata": {},
   "source": [
    "From the initial look at the data we will do the followings:\n",
    "1. `Cabin` has missing values, we will need to take care of that.\n",
    "2. `Name` we will transform into more informative data.\n",
    "3. `Sex` we will assign `0` for `male` and `1` for `female`.\n",
    "4. `Ticket` find a pattern so we can interpret it."
   ]
  },
  {
   "cell_type": "markdown",
   "metadata": {},
   "source": [
    "From the variables description we will interpret the following features:\n",
    "1. `Pclass` - which class of the passenger, int in range of 1-3, (1st, 2nd, 3rd).\n",
    "2. `SubSp` - # of siblings and spouses\n",
    "3. `Parch` - # of parents and children"
   ]
  },
  {
   "cell_type": "code",
   "execution_count": 680,
   "metadata": {},
   "outputs": [
    {
     "data": {
      "text/html": [
       "<div>\n",
       "<style scoped>\n",
       "    .dataframe tbody tr th:only-of-type {\n",
       "        vertical-align: middle;\n",
       "    }\n",
       "\n",
       "    .dataframe tbody tr th {\n",
       "        vertical-align: top;\n",
       "    }\n",
       "\n",
       "    .dataframe thead th {\n",
       "        text-align: right;\n",
       "    }\n",
       "</style>\n",
       "<table border=\"1\" class=\"dataframe\">\n",
       "  <thead>\n",
       "    <tr style=\"text-align: right;\">\n",
       "      <th></th>\n",
       "      <th>PassengerId</th>\n",
       "      <th>Survived</th>\n",
       "      <th>Pclass</th>\n",
       "      <th>Age</th>\n",
       "      <th>SibSp</th>\n",
       "      <th>Parch</th>\n",
       "      <th>Fare</th>\n",
       "    </tr>\n",
       "  </thead>\n",
       "  <tbody>\n",
       "    <tr>\n",
       "      <th>count</th>\n",
       "      <td>891.000000</td>\n",
       "      <td>891.000000</td>\n",
       "      <td>891.000000</td>\n",
       "      <td>714.000000</td>\n",
       "      <td>891.000000</td>\n",
       "      <td>891.000000</td>\n",
       "      <td>891.000000</td>\n",
       "    </tr>\n",
       "    <tr>\n",
       "      <th>mean</th>\n",
       "      <td>446.000000</td>\n",
       "      <td>0.383838</td>\n",
       "      <td>2.308642</td>\n",
       "      <td>29.699118</td>\n",
       "      <td>0.523008</td>\n",
       "      <td>0.381594</td>\n",
       "      <td>32.204208</td>\n",
       "    </tr>\n",
       "    <tr>\n",
       "      <th>std</th>\n",
       "      <td>257.353842</td>\n",
       "      <td>0.486592</td>\n",
       "      <td>0.836071</td>\n",
       "      <td>14.526497</td>\n",
       "      <td>1.102743</td>\n",
       "      <td>0.806057</td>\n",
       "      <td>49.693429</td>\n",
       "    </tr>\n",
       "    <tr>\n",
       "      <th>min</th>\n",
       "      <td>1.000000</td>\n",
       "      <td>0.000000</td>\n",
       "      <td>1.000000</td>\n",
       "      <td>0.420000</td>\n",
       "      <td>0.000000</td>\n",
       "      <td>0.000000</td>\n",
       "      <td>0.000000</td>\n",
       "    </tr>\n",
       "    <tr>\n",
       "      <th>25%</th>\n",
       "      <td>223.500000</td>\n",
       "      <td>0.000000</td>\n",
       "      <td>2.000000</td>\n",
       "      <td>20.125000</td>\n",
       "      <td>0.000000</td>\n",
       "      <td>0.000000</td>\n",
       "      <td>7.910400</td>\n",
       "    </tr>\n",
       "    <tr>\n",
       "      <th>50%</th>\n",
       "      <td>446.000000</td>\n",
       "      <td>0.000000</td>\n",
       "      <td>3.000000</td>\n",
       "      <td>28.000000</td>\n",
       "      <td>0.000000</td>\n",
       "      <td>0.000000</td>\n",
       "      <td>14.454200</td>\n",
       "    </tr>\n",
       "    <tr>\n",
       "      <th>75%</th>\n",
       "      <td>668.500000</td>\n",
       "      <td>1.000000</td>\n",
       "      <td>3.000000</td>\n",
       "      <td>38.000000</td>\n",
       "      <td>1.000000</td>\n",
       "      <td>0.000000</td>\n",
       "      <td>31.000000</td>\n",
       "    </tr>\n",
       "    <tr>\n",
       "      <th>max</th>\n",
       "      <td>891.000000</td>\n",
       "      <td>1.000000</td>\n",
       "      <td>3.000000</td>\n",
       "      <td>80.000000</td>\n",
       "      <td>8.000000</td>\n",
       "      <td>6.000000</td>\n",
       "      <td>512.329200</td>\n",
       "    </tr>\n",
       "  </tbody>\n",
       "</table>\n",
       "</div>"
      ],
      "text/plain": [
       "       PassengerId    Survived      Pclass         Age       SibSp  \\\n",
       "count   891.000000  891.000000  891.000000  714.000000  891.000000   \n",
       "mean    446.000000    0.383838    2.308642   29.699118    0.523008   \n",
       "std     257.353842    0.486592    0.836071   14.526497    1.102743   \n",
       "min       1.000000    0.000000    1.000000    0.420000    0.000000   \n",
       "25%     223.500000    0.000000    2.000000   20.125000    0.000000   \n",
       "50%     446.000000    0.000000    3.000000   28.000000    0.000000   \n",
       "75%     668.500000    1.000000    3.000000   38.000000    1.000000   \n",
       "max     891.000000    1.000000    3.000000   80.000000    8.000000   \n",
       "\n",
       "            Parch        Fare  \n",
       "count  891.000000  891.000000  \n",
       "mean     0.381594   32.204208  \n",
       "std      0.806057   49.693429  \n",
       "min      0.000000    0.000000  \n",
       "25%      0.000000    7.910400  \n",
       "50%      0.000000   14.454200  \n",
       "75%      0.000000   31.000000  \n",
       "max      6.000000  512.329200  "
      ]
     },
     "execution_count": 680,
     "metadata": {},
     "output_type": "execute_result"
    }
   ],
   "source": [
    "df.describe()"
   ]
  },
  {
   "cell_type": "code",
   "execution_count": 681,
   "metadata": {},
   "outputs": [
    {
     "name": "stdout",
     "output_type": "stream",
     "text": [
      "<class 'pandas.core.frame.DataFrame'>\n",
      "RangeIndex: 891 entries, 0 to 890\n",
      "Data columns (total 12 columns):\n",
      " #   Column       Non-Null Count  Dtype  \n",
      "---  ------       --------------  -----  \n",
      " 0   PassengerId  891 non-null    int64  \n",
      " 1   Survived     891 non-null    int64  \n",
      " 2   Pclass       891 non-null    int64  \n",
      " 3   Name         891 non-null    object \n",
      " 4   Sex          891 non-null    object \n",
      " 5   Age          714 non-null    float64\n",
      " 6   SibSp        891 non-null    int64  \n",
      " 7   Parch        891 non-null    int64  \n",
      " 8   Ticket       891 non-null    object \n",
      " 9   Fare         891 non-null    float64\n",
      " 10  Cabin        204 non-null    object \n",
      " 11  Embarked     889 non-null    object \n",
      "dtypes: float64(2), int64(5), object(5)\n",
      "memory usage: 83.7+ KB\n"
     ]
    }
   ],
   "source": [
    "df.info()"
   ]
  },
  {
   "cell_type": "code",
   "execution_count": 682,
   "metadata": {
    "scrolled": true
   },
   "outputs": [
    {
     "data": {
      "text/plain": [
       "PassengerId      0\n",
       "Survived         0\n",
       "Pclass           0\n",
       "Name             0\n",
       "Sex              0\n",
       "Age            177\n",
       "SibSp            0\n",
       "Parch            0\n",
       "Ticket           0\n",
       "Fare             0\n",
       "Cabin          687\n",
       "Embarked         2\n",
       "dtype: int64"
      ]
     },
     "execution_count": 682,
     "metadata": {},
     "output_type": "execute_result"
    }
   ],
   "source": [
    "df.isnull().sum()"
   ]
  },
  {
   "cell_type": "markdown",
   "metadata": {},
   "source": [
    "`Embarked` column has only 2 null values, we will replace those with the most common value.\n",
    "`Age` has 177 missing values, we will try to find any connection between other features that influence `Age`.\n",
    "`Cabin` has 687 missing values, since its an object type we will fill the missing values with the letter `O` for Other."
   ]
  },
  {
   "cell_type": "markdown",
   "metadata": {},
   "source": [
    "## Analyzing and Engineering of features"
   ]
  },
  {
   "cell_type": "markdown",
   "metadata": {},
   "source": [
    "### Pclass vs Survived"
   ]
  },
  {
   "cell_type": "code",
   "execution_count": 683,
   "metadata": {
    "scrolled": false
   },
   "outputs": [
    {
     "data": {
      "image/png": "[encoded data removed]",
      "text/plain": [
       "<Figure size 432x288 with 1 Axes>"
      ]
     },
     "metadata": {
      "needs_background": "light"
     },
     "output_type": "display_data"
    }
   ],
   "source": [
    "df.groupby(\"Pclass\")['Survived'].agg(sum).plot.bar(color=['g', 'b', 'r'])\n",
    "plt.ylabel(\"# of survivors\")\n",
    "plt.show()"
   ]
  },
  {
   "cell_type": "code",
   "execution_count": 684,
   "metadata": {
    "scrolled": true
   },
   "outputs": [
    {
     "data": {
      "text/plain": [
       "Pclass\n",
       "1    136\n",
       "2     87\n",
       "3    119\n",
       "Name: Survived, dtype: int64"
      ]
     },
     "execution_count": 684,
     "metadata": {},
     "output_type": "execute_result"
    }
   ],
   "source": [
    "df.groupby(\"Pclass\")['Survived'].agg(sum)"
   ]
  },
  {
   "cell_type": "code",
   "execution_count": 685,
   "metadata": {},
   "outputs": [
    {
     "data": {
      "text/plain": [
       "<AxesSubplot:>"
      ]
     },
     "execution_count": 685,
     "metadata": {},
     "output_type": "execute_result"
    },
    {
     "data": {
      "image/png": "[encoded data removed]",
      "text/plain": [
       "<Figure size 432x288 with 2 Axes>"
      ]
     },
     "metadata": {
      "needs_background": "light"
     },
     "output_type": "display_data"
    }
   ],
   "source": [
    "sns.heatmap(df[[\"Pclass\", 'Survived']].corr(), annot=True)"
   ]
  },
  {
   "cell_type": "markdown",
   "metadata": {},
   "source": [
    "### Name feature"
   ]
  },
  {
   "cell_type": "markdown",
   "metadata": {},
   "source": [
    "We will try and see if the first letter of the first name or the title of the passenger is affecting the passenger survival."
   ]
  },
  {
   "cell_type": "code",
   "execution_count": 686,
   "metadata": {},
   "outputs": [],
   "source": [
    "title = df['Name'].apply(lambda x: x.replace(\"(\", \"\").replace(\")\", \"\").split(\".\")[0].split(\",\")[1].strip())\n",
    "survived = df['Survived']"
   ]
  },
  {
   "cell_type": "code",
   "execution_count": 687,
   "metadata": {
    "scrolled": false
   },
   "outputs": [],
   "source": [
    "demo = pd.DataFrame({\"Survived\": survived, \"title\": title})"
   ]
  },
  {
   "cell_type": "code",
   "execution_count": 688,
   "metadata": {},
   "outputs": [],
   "source": [
    "title_dummies = pd.get_dummies(demo['title'])\n",
    "demo = pd.concat([demo, title_dummies], axis=1)\n",
    "demo.drop(\"title\", axis=1, inplace=True)"
   ]
  },
  {
   "cell_type": "code",
   "execution_count": 689,
   "metadata": {},
   "outputs": [
    {
     "data": {
      "text/html": [
       "<div>\n",
       "<style scoped>\n",
       "    .dataframe tbody tr th:only-of-type {\n",
       "        vertical-align: middle;\n",
       "    }\n",
       "\n",
       "    .dataframe tbody tr th {\n",
       "        vertical-align: top;\n",
       "    }\n",
       "\n",
       "    .dataframe thead th {\n",
       "        text-align: right;\n",
       "    }\n",
       "</style>\n",
       "<table border=\"1\" class=\"dataframe\">\n",
       "  <thead>\n",
       "    <tr style=\"text-align: right;\">\n",
       "      <th></th>\n",
       "      <th>Survived</th>\n",
       "      <th>Capt</th>\n",
       "      <th>Col</th>\n",
       "      <th>Don</th>\n",
       "      <th>Dr</th>\n",
       "      <th>Jonkheer</th>\n",
       "      <th>Lady</th>\n",
       "      <th>Major</th>\n",
       "      <th>Master</th>\n",
       "      <th>Miss</th>\n",
       "      <th>Mlle</th>\n",
       "      <th>Mme</th>\n",
       "      <th>Mr</th>\n",
       "      <th>Mrs</th>\n",
       "      <th>Ms</th>\n",
       "      <th>Rev</th>\n",
       "      <th>Sir</th>\n",
       "      <th>the Countess</th>\n",
       "    </tr>\n",
       "  </thead>\n",
       "  <tbody>\n",
       "    <tr>\n",
       "      <th>0</th>\n",
       "      <td>0</td>\n",
       "      <td>0</td>\n",
       "      <td>0</td>\n",
       "      <td>0</td>\n",
       "      <td>0</td>\n",
       "      <td>0</td>\n",
       "      <td>0</td>\n",
       "      <td>0</td>\n",
       "      <td>0</td>\n",
       "      <td>0</td>\n",
       "      <td>0</td>\n",
       "      <td>0</td>\n",
       "      <td>1</td>\n",
       "      <td>0</td>\n",
       "      <td>0</td>\n",
       "      <td>0</td>\n",
       "      <td>0</td>\n",
       "      <td>0</td>\n",
       "    </tr>\n",
       "    <tr>\n",
       "      <th>1</th>\n",
       "      <td>1</td>\n",
       "      <td>0</td>\n",
       "      <td>0</td>\n",
       "      <td>0</td>\n",
       "      <td>0</td>\n",
       "      <td>0</td>\n",
       "      <td>0</td>\n",
       "      <td>0</td>\n",
       "      <td>0</td>\n",
       "      <td>0</td>\n",
       "      <td>0</td>\n",
       "      <td>0</td>\n",
       "      <td>0</td>\n",
       "      <td>1</td>\n",
       "      <td>0</td>\n",
       "      <td>0</td>\n",
       "      <td>0</td>\n",
       "      <td>0</td>\n",
       "    </tr>\n",
       "    <tr>\n",
       "      <th>2</th>\n",
       "      <td>1</td>\n",
       "      <td>0</td>\n",
       "      <td>0</td>\n",
       "      <td>0</td>\n",
       "      <td>0</td>\n",
       "      <td>0</td>\n",
       "      <td>0</td>\n",
       "      <td>0</td>\n",
       "      <td>0</td>\n",
       "      <td>1</td>\n",
       "      <td>0</td>\n",
       "      <td>0</td>\n",
       "      <td>0</td>\n",
       "      <td>0</td>\n",
       "      <td>0</td>\n",
       "      <td>0</td>\n",
       "      <td>0</td>\n",
       "      <td>0</td>\n",
       "    </tr>\n",
       "    <tr>\n",
       "      <th>3</th>\n",
       "      <td>1</td>\n",
       "      <td>0</td>\n",
       "      <td>0</td>\n",
       "      <td>0</td>\n",
       "      <td>0</td>\n",
       "      <td>0</td>\n",
       "      <td>0</td>\n",
       "      <td>0</td>\n",
       "      <td>0</td>\n",
       "      <td>0</td>\n",
       "      <td>0</td>\n",
       "      <td>0</td>\n",
       "      <td>0</td>\n",
       "      <td>1</td>\n",
       "      <td>0</td>\n",
       "      <td>0</td>\n",
       "      <td>0</td>\n",
       "      <td>0</td>\n",
       "    </tr>\n",
       "    <tr>\n",
       "      <th>4</th>\n",
       "      <td>0</td>\n",
       "      <td>0</td>\n",
       "      <td>0</td>\n",
       "      <td>0</td>\n",
       "      <td>0</td>\n",
       "      <td>0</td>\n",
       "      <td>0</td>\n",
       "      <td>0</td>\n",
       "      <td>0</td>\n",
       "      <td>0</td>\n",
       "      <td>0</td>\n",
       "      <td>0</td>\n",
       "      <td>1</td>\n",
       "      <td>0</td>\n",
       "      <td>0</td>\n",
       "      <td>0</td>\n",
       "      <td>0</td>\n",
       "      <td>0</td>\n",
       "    </tr>\n",
       "  </tbody>\n",
       "</table>\n",
       "</div>"
      ],
      "text/plain": [
       "   Survived  Capt  Col  Don  Dr  Jonkheer  Lady  Major  Master  Miss  Mlle  \\\n",
       "0         0     0    0    0   0         0     0      0       0     0     0   \n",
       "1         1     0    0    0   0         0     0      0       0     0     0   \n",
       "2         1     0    0    0   0         0     0      0       0     1     0   \n",
       "3         1     0    0    0   0         0     0      0       0     0     0   \n",
       "4         0     0    0    0   0         0     0      0       0     0     0   \n",
       "\n",
       "   Mme  Mr  Mrs  Ms  Rev  Sir  the Countess  \n",
       "0    0   1    0   0    0    0             0  \n",
       "1    0   0    1   0    0    0             0  \n",
       "2    0   0    0   0    0    0             0  \n",
       "3    0   0    1   0    0    0             0  \n",
       "4    0   1    0   0    0    0             0  "
      ]
     },
     "execution_count": 689,
     "metadata": {},
     "output_type": "execute_result"
    }
   ],
   "source": [
    "demo.head()"
   ]
  },
  {
   "cell_type": "code",
   "execution_count": 690,
   "metadata": {},
   "outputs": [
    {
     "data": {
      "image/png": "[encoded data removed]",
      "text/plain": [
       "<Figure size 1080x720 with 2 Axes>"
      ]
     },
     "metadata": {
      "needs_background": "light"
     },
     "output_type": "display_data"
    }
   ],
   "source": [
    "plt.figure(figsize=(15,10))\n",
    "sns.heatmap(demo.corr())\n",
    "plt.show()"
   ]
  },
  {
   "cell_type": "markdown",
   "metadata": {},
   "source": [
    "We are able to **see that there is a connection** between **`title`** attribute of the passenger and his **survival**.  \n",
    "\n",
    "Especially we see a connection between the titles `Miss` and `Mrs` with survival."
   ]
  },
  {
   "cell_type": "code",
   "execution_count": 691,
   "metadata": {},
   "outputs": [],
   "source": [
    "title_dummies = title_dummies[['Miss', 'Mrs']]\n",
    "title_dummies.columns = [0,1]"
   ]
  },
  {
   "cell_type": "markdown",
   "metadata": {},
   "source": [
    "We will add those features to our dataset:"
   ]
  },
  {
   "cell_type": "code",
   "execution_count": 692,
   "metadata": {},
   "outputs": [],
   "source": [
    "df = pd.concat([df, title_dummies], axis = 1)\n",
    "df.drop(['Name'], axis=1, inplace=True)"
   ]
  },
  {
   "cell_type": "code",
   "execution_count": 693,
   "metadata": {
    "scrolled": false
   },
   "outputs": [
    {
     "data": {
      "text/plain": [
       "<AxesSubplot:>"
      ]
     },
     "execution_count": 693,
     "metadata": {},
     "output_type": "execute_result"
    },
    {
     "data": {
      "image/png": "[encoded data removed]",
      "text/plain": [
       "<Figure size 432x288 with 2 Axes>"
      ]
     },
     "metadata": {
      "needs_background": "light"
     },
     "output_type": "display_data"
    }
   ],
   "source": [
    "sns.heatmap(df[[0, 'Survived']].corr(), annot=True)"
   ]
  },
  {
   "cell_type": "code",
   "execution_count": 694,
   "metadata": {},
   "outputs": [
    {
     "data": {
      "text/plain": [
       "<AxesSubplot:>"
      ]
     },
     "execution_count": 694,
     "metadata": {},
     "output_type": "execute_result"
    },
    {
     "data": {
      "image/png": "[encoded data removed]",
      "text/plain": [
       "<Figure size 432x288 with 2 Axes>"
      ]
     },
     "metadata": {
      "needs_background": "light"
     },
     "output_type": "display_data"
    }
   ],
   "source": [
    "sns.heatmap(df[[1, 'Survived']].corr(), annot=True)"
   ]
  },
  {
   "cell_type": "code",
   "execution_count": 695,
   "metadata": {},
   "outputs": [],
   "source": [
    "df.rename(columns={0: \"Miss\", 1: \"Mrs\"}, inplace=True)"
   ]
  },
  {
   "cell_type": "markdown",
   "metadata": {},
   "source": [
    "### Sex feature"
   ]
  },
  {
   "cell_type": "markdown",
   "metadata": {},
   "source": [
    "First we will convert the `male`, `female` labels into numeric values, `0`, `1."
   ]
  },
  {
   "cell_type": "code",
   "execution_count": 696,
   "metadata": {},
   "outputs": [],
   "source": [
    "df['Sex'] = df['Sex'].map({\"male\": 0, \"female\": 1})"
   ]
  },
  {
   "cell_type": "code",
   "execution_count": 697,
   "metadata": {
    "scrolled": true
   },
   "outputs": [
    {
     "data": {
      "text/html": [
       "<div>\n",
       "<style scoped>\n",
       "    .dataframe tbody tr th:only-of-type {\n",
       "        vertical-align: middle;\n",
       "    }\n",
       "\n",
       "    .dataframe tbody tr th {\n",
       "        vertical-align: top;\n",
       "    }\n",
       "\n",
       "    .dataframe thead th {\n",
       "        text-align: right;\n",
       "    }\n",
       "</style>\n",
       "<table border=\"1\" class=\"dataframe\">\n",
       "  <thead>\n",
       "    <tr style=\"text-align: right;\">\n",
       "      <th></th>\n",
       "      <th>PassengerId</th>\n",
       "      <th>Survived</th>\n",
       "      <th>Pclass</th>\n",
       "      <th>Sex</th>\n",
       "      <th>Age</th>\n",
       "      <th>SibSp</th>\n",
       "      <th>Parch</th>\n",
       "      <th>Ticket</th>\n",
       "      <th>Fare</th>\n",
       "      <th>Cabin</th>\n",
       "      <th>Embarked</th>\n",
       "      <th>Miss</th>\n",
       "      <th>Mrs</th>\n",
       "    </tr>\n",
       "  </thead>\n",
       "  <tbody>\n",
       "    <tr>\n",
       "      <th>0</th>\n",
       "      <td>1</td>\n",
       "      <td>0</td>\n",
       "      <td>3</td>\n",
       "      <td>0</td>\n",
       "      <td>22.0</td>\n",
       "      <td>1</td>\n",
       "      <td>0</td>\n",
       "      <td>A/5 21171</td>\n",
       "      <td>7.2500</td>\n",
       "      <td>NaN</td>\n",
       "      <td>S</td>\n",
       "      <td>0</td>\n",
       "      <td>0</td>\n",
       "    </tr>\n",
       "    <tr>\n",
       "      <th>1</th>\n",
       "      <td>2</td>\n",
       "      <td>1</td>\n",
       "      <td>1</td>\n",
       "      <td>1</td>\n",
       "      <td>38.0</td>\n",
       "      <td>1</td>\n",
       "      <td>0</td>\n",
       "      <td>PC 17599</td>\n",
       "      <td>71.2833</td>\n",
       "      <td>C85</td>\n",
       "      <td>C</td>\n",
       "      <td>0</td>\n",
       "      <td>1</td>\n",
       "    </tr>\n",
       "    <tr>\n",
       "      <th>2</th>\n",
       "      <td>3</td>\n",
       "      <td>1</td>\n",
       "      <td>3</td>\n",
       "      <td>1</td>\n",
       "      <td>26.0</td>\n",
       "      <td>0</td>\n",
       "      <td>0</td>\n",
       "      <td>STON/O2. 3101282</td>\n",
       "      <td>7.9250</td>\n",
       "      <td>NaN</td>\n",
       "      <td>S</td>\n",
       "      <td>1</td>\n",
       "      <td>0</td>\n",
       "    </tr>\n",
       "    <tr>\n",
       "      <th>3</th>\n",
       "      <td>4</td>\n",
       "      <td>1</td>\n",
       "      <td>1</td>\n",
       "      <td>1</td>\n",
       "      <td>35.0</td>\n",
       "      <td>1</td>\n",
       "      <td>0</td>\n",
       "      <td>113803</td>\n",
       "      <td>53.1000</td>\n",
       "      <td>C123</td>\n",
       "      <td>S</td>\n",
       "      <td>0</td>\n",
       "      <td>1</td>\n",
       "    </tr>\n",
       "    <tr>\n",
       "      <th>4</th>\n",
       "      <td>5</td>\n",
       "      <td>0</td>\n",
       "      <td>3</td>\n",
       "      <td>0</td>\n",
       "      <td>35.0</td>\n",
       "      <td>0</td>\n",
       "      <td>0</td>\n",
       "      <td>373450</td>\n",
       "      <td>8.0500</td>\n",
       "      <td>NaN</td>\n",
       "      <td>S</td>\n",
       "      <td>0</td>\n",
       "      <td>0</td>\n",
       "    </tr>\n",
       "  </tbody>\n",
       "</table>\n",
       "</div>"
      ],
      "text/plain": [
       "   PassengerId  Survived  Pclass  Sex   Age  SibSp  Parch            Ticket  \\\n",
       "0            1         0       3    0  22.0      1      0         A/5 21171   \n",
       "1            2         1       1    1  38.0      1      0          PC 17599   \n",
       "2            3         1       3    1  26.0      0      0  STON/O2. 3101282   \n",
       "3            4         1       1    1  35.0      1      0            113803   \n",
       "4            5         0       3    0  35.0      0      0            373450   \n",
       "\n",
       "      Fare Cabin Embarked  Miss  Mrs  \n",
       "0   7.2500   NaN        S     0    0  \n",
       "1  71.2833   C85        C     0    1  \n",
       "2   7.9250   NaN        S     1    0  \n",
       "3  53.1000  C123        S     0    1  \n",
       "4   8.0500   NaN        S     0    0  "
      ]
     },
     "execution_count": 697,
     "metadata": {},
     "output_type": "execute_result"
    }
   ],
   "source": [
    "df.head()"
   ]
  },
  {
   "cell_type": "code",
   "execution_count": 698,
   "metadata": {
    "scrolled": true
   },
   "outputs": [
    {
     "data": {
      "image/png": "[encoded data removed]",
      "text/plain": [
       "<Figure size 432x288 with 1 Axes>"
      ]
     },
     "metadata": {
      "needs_background": "light"
     },
     "output_type": "display_data"
    }
   ],
   "source": [
    "df.groupby(\"Sex\")['Survived'].agg(sum).plot.bar(color=['r', 'b'])\n",
    "plt.ylabel(\"# of survivors\")\n",
    "plt.show()"
   ]
  },
  {
   "cell_type": "code",
   "execution_count": 699,
   "metadata": {
    "scrolled": false
   },
   "outputs": [
    {
     "data": {
      "text/plain": [
       "Sex\n",
       "0    109\n",
       "1    233\n",
       "Name: Survived, dtype: int64"
      ]
     },
     "execution_count": 699,
     "metadata": {},
     "output_type": "execute_result"
    }
   ],
   "source": [
    "df.groupby(\"Sex\")['Survived'].agg(sum)"
   ]
  },
  {
   "cell_type": "markdown",
   "metadata": {},
   "source": [
    "Saving the women and children first"
   ]
  },
  {
   "cell_type": "code",
   "execution_count": 700,
   "metadata": {},
   "outputs": [
    {
     "data": {
      "text/plain": [
       "<AxesSubplot:>"
      ]
     },
     "execution_count": 700,
     "metadata": {},
     "output_type": "execute_result"
    },
    {
     "data": {
      "image/png": "[encoded data removed]",
      "text/plain": [
       "<Figure size 432x288 with 2 Axes>"
      ]
     },
     "metadata": {
      "needs_background": "light"
     },
     "output_type": "display_data"
    }
   ],
   "source": [
    "sns.heatmap(df[['Sex', 'Survived']].corr(), annot=True)"
   ]
  },
  {
   "cell_type": "markdown",
   "metadata": {},
   "source": [
    "### Fare feature"
   ]
  },
  {
   "cell_type": "code",
   "execution_count": 701,
   "metadata": {},
   "outputs": [
    {
     "name": "stderr",
     "output_type": "stream",
     "text": [
      "/usr/local/lib/python3.8/site-packages/seaborn/_decorators.py:36: FutureWarning: Pass the following variable as a keyword arg: x. From version 0.12, the only valid positional argument will be `data`, and passing other arguments without an explicit keyword will result in an error or misinterpretation.\n",
      "  warnings.warn(\n"
     ]
    },
    {
     "data": {
      "text/plain": [
       "<AxesSubplot:xlabel='Fare'>"
      ]
     },
     "execution_count": 701,
     "metadata": {},
     "output_type": "execute_result"
    },
    {
     "data": {
      "image/png": "[encoded data removed]",
      "text/plain": [
       "<Figure size 432x288 with 1 Axes>"
      ]
     },
     "metadata": {
      "needs_background": "light"
     },
     "output_type": "display_data"
    }
   ],
   "source": [
    "sns.boxplot(df['Fare'])"
   ]
  },
  {
   "cell_type": "markdown",
   "metadata": {},
   "source": [
    "We can see that there are some extreme high outliers here, let us remove the ones that are above 500:"
   ]
  },
  {
   "cell_type": "code",
   "execution_count": 702,
   "metadata": {},
   "outputs": [
    {
     "data": {
      "text/plain": [
       "3"
      ]
     },
     "execution_count": 702,
     "metadata": {},
     "output_type": "execute_result"
    }
   ],
   "source": [
    "mask = df['Fare'] > 500.0\n",
    "len(df[mask])"
   ]
  },
  {
   "cell_type": "code",
   "execution_count": 703,
   "metadata": {},
   "outputs": [],
   "source": [
    "df.drop(df[mask].index, axis=0, inplace=True)"
   ]
  },
  {
   "cell_type": "code",
   "execution_count": 704,
   "metadata": {},
   "outputs": [
    {
     "data": {
      "text/plain": [
       "<AxesSubplot:>"
      ]
     },
     "execution_count": 704,
     "metadata": {},
     "output_type": "execute_result"
    },
    {
     "data": {
      "image/png": "[encoded data removed]",
      "text/plain": [
       "<Figure size 432x288 with 2 Axes>"
      ]
     },
     "metadata": {
      "needs_background": "light"
     },
     "output_type": "display_data"
    }
   ],
   "source": [
    "sns.heatmap(df[['Fare', 'Survived']].corr(), annot=True)"
   ]
  },
  {
   "cell_type": "markdown",
   "metadata": {},
   "source": [
    "### SibSp feature"
   ]
  },
  {
   "cell_type": "code",
   "execution_count": 705,
   "metadata": {},
   "outputs": [
    {
     "name": "stderr",
     "output_type": "stream",
     "text": [
      "/usr/local/lib/python3.8/site-packages/seaborn/_decorators.py:36: FutureWarning: Pass the following variable as a keyword arg: x. From version 0.12, the only valid positional argument will be `data`, and passing other arguments without an explicit keyword will result in an error or misinterpretation.\n",
      "  warnings.warn(\n"
     ]
    },
    {
     "data": {
      "text/plain": [
       "<AxesSubplot:xlabel='SibSp'>"
      ]
     },
     "execution_count": 705,
     "metadata": {},
     "output_type": "execute_result"
    },
    {
     "data": {
      "image/png": "[encoded data removed]",
      "text/plain": [
       "<Figure size 432x288 with 1 Axes>"
      ]
     },
     "metadata": {
      "needs_background": "light"
     },
     "output_type": "display_data"
    }
   ],
   "source": [
    "sns.boxplot(df['SibSp'])"
   ]
  },
  {
   "cell_type": "code",
   "execution_count": 706,
   "metadata": {},
   "outputs": [
    {
     "data": {
      "text/plain": [
       "7"
      ]
     },
     "execution_count": 706,
     "metadata": {},
     "output_type": "execute_result"
    }
   ],
   "source": [
    "mask_sib = df['SibSp'] > 5\n",
    "len(df[mask_sib])"
   ]
  },
  {
   "cell_type": "markdown",
   "metadata": {},
   "source": [
    "We will remove those outliers observations:"
   ]
  },
  {
   "cell_type": "code",
   "execution_count": 707,
   "metadata": {},
   "outputs": [],
   "source": [
    "df.drop(df[mask_sib].index, axis=0, inplace=True)"
   ]
  },
  {
   "cell_type": "code",
   "execution_count": 708,
   "metadata": {
    "scrolled": true
   },
   "outputs": [
    {
     "data": {
      "image/png": "[encoded data removed]",
      "text/plain": [
       "<Figure size 432x288 with 1 Axes>"
      ]
     },
     "metadata": {
      "needs_background": "light"
     },
     "output_type": "display_data"
    }
   ],
   "source": [
    "df.groupby(\"SibSp\")['Survived'].agg(sum).plot.bar(color=['r', 'b', 'g', 'b', 'y'])\n",
    "plt.ylabel(\"# of Passengers\")\n",
    "plt.xlabel(\"# of siblings and spouses\")\n",
    "plt.show()"
   ]
  },
  {
   "cell_type": "code",
   "execution_count": 709,
   "metadata": {},
   "outputs": [
    {
     "data": {
      "text/plain": [
       "<AxesSubplot:>"
      ]
     },
     "execution_count": 709,
     "metadata": {},
     "output_type": "execute_result"
    },
    {
     "data": {
      "image/png": "[encoded data removed]",
      "text/plain": [
       "<Figure size 432x288 with 2 Axes>"
      ]
     },
     "metadata": {
      "needs_background": "light"
     },
     "output_type": "display_data"
    }
   ],
   "source": [
    "sns.heatmap(df[['SibSp', 'Survived']].corr(), annot=True)"
   ]
  },
  {
   "cell_type": "markdown",
   "metadata": {},
   "source": [
    "### Parch feature"
   ]
  },
  {
   "cell_type": "code",
   "execution_count": 710,
   "metadata": {
    "scrolled": true
   },
   "outputs": [
    {
     "data": {
      "text/plain": [
       "<AxesSubplot:xlabel='Parch'>"
      ]
     },
     "execution_count": 710,
     "metadata": {},
     "output_type": "execute_result"
    },
    {
     "data": {
      "image/png": "[encoded data removed]",
      "text/plain": [
       "<Figure size 432x288 with 1 Axes>"
      ]
     },
     "metadata": {
      "needs_background": "light"
     },
     "output_type": "display_data"
    }
   ],
   "source": [
    "df.groupby('Parch')['Survived'].agg(\"count\").plot.bar(color=['r', 'b', 'g', 'b', 'y', 'c'])"
   ]
  },
  {
   "cell_type": "code",
   "execution_count": 711,
   "metadata": {
    "scrolled": true
   },
   "outputs": [
    {
     "data": {
      "text/plain": [
       "Parch\n",
       "0    676\n",
       "1    117\n",
       "2     73\n",
       "3      5\n",
       "4      4\n",
       "5      5\n",
       "6      1\n",
       "Name: Survived, dtype: int64"
      ]
     },
     "execution_count": 711,
     "metadata": {},
     "output_type": "execute_result"
    }
   ],
   "source": [
    "df.groupby('Parch')['Survived'].agg(\"count\")"
   ]
  },
  {
   "cell_type": "code",
   "execution_count": 712,
   "metadata": {},
   "outputs": [
    {
     "data": {
      "text/plain": [
       "<AxesSubplot:>"
      ]
     },
     "execution_count": 712,
     "metadata": {},
     "output_type": "execute_result"
    },
    {
     "data": {
      "image/png": "[encoded data removed]",
      "text/plain": [
       "<Figure size 432x288 with 2 Axes>"
      ]
     },
     "metadata": {
      "needs_background": "light"
     },
     "output_type": "display_data"
    }
   ],
   "source": [
    "sns.heatmap(df[['Parch', 'Survived']].corr(), annot=True)"
   ]
  },
  {
   "cell_type": "markdown",
   "metadata": {},
   "source": [
    "Also not a very good relationship"
   ]
  },
  {
   "cell_type": "markdown",
   "metadata": {},
   "source": [
    "### Embarked feature"
   ]
  },
  {
   "cell_type": "code",
   "execution_count": 713,
   "metadata": {},
   "outputs": [
    {
     "name": "stderr",
     "output_type": "stream",
     "text": [
      "/usr/local/lib/python3.8/site-packages/seaborn/_decorators.py:36: FutureWarning: Pass the following variable as a keyword arg: x. From version 0.12, the only valid positional argument will be `data`, and passing other arguments without an explicit keyword will result in an error or misinterpretation.\n",
      "  warnings.warn(\n"
     ]
    },
    {
     "data": {
      "text/plain": [
       "<AxesSubplot:xlabel='Embarked', ylabel='count'>"
      ]
     },
     "execution_count": 713,
     "metadata": {},
     "output_type": "execute_result"
    },
    {
     "data": {
      "image/png": "[encoded data removed]",
      "text/plain": [
       "<Figure size 432x288 with 1 Axes>"
      ]
     },
     "metadata": {
      "needs_background": "light"
     },
     "output_type": "display_data"
    }
   ],
   "source": [
    "sns.countplot(df['Embarked'])"
   ]
  },
  {
   "cell_type": "code",
   "execution_count": 714,
   "metadata": {
    "scrolled": true
   },
   "outputs": [
    {
     "data": {
      "text/plain": [
       "Embarked\n",
       "C    165\n",
       "Q     77\n",
       "S    637\n",
       "Name: Survived, dtype: int64"
      ]
     },
     "execution_count": 714,
     "metadata": {},
     "output_type": "execute_result"
    }
   ],
   "source": [
    "df.groupby('Embarked')['Survived'].agg(\"count\")"
   ]
  },
  {
   "cell_type": "code",
   "execution_count": 715,
   "metadata": {},
   "outputs": [],
   "source": [
    "df['Embarked'] = df['Embarked'].map({\"S\": 0, \"C\": 1, \"Q\": 2})"
   ]
  },
  {
   "cell_type": "code",
   "execution_count": 716,
   "metadata": {
    "scrolled": true
   },
   "outputs": [
    {
     "data": {
      "text/plain": [
       "<AxesSubplot:>"
      ]
     },
     "execution_count": 716,
     "metadata": {},
     "output_type": "execute_result"
    },
    {
     "data": {
      "image/png": "[encoded data removed]",
      "text/plain": [
       "<Figure size 432x288 with 2 Axes>"
      ]
     },
     "metadata": {
      "needs_background": "light"
     },
     "output_type": "display_data"
    }
   ],
   "source": [
    "sns.heatmap(df[['Embarked', 'Survived']].corr(), annot=True)"
   ]
  },
  {
   "cell_type": "markdown",
   "metadata": {},
   "source": [
    "**Handling the missing values - replace with the most common, which is `S`**"
   ]
  },
  {
   "cell_type": "code",
   "execution_count": 717,
   "metadata": {},
   "outputs": [],
   "source": [
    "df['Embarked'] = df['Embarked'].fillna(0)"
   ]
  },
  {
   "cell_type": "code",
   "execution_count": 718,
   "metadata": {},
   "outputs": [
    {
     "data": {
      "text/plain": [
       "0"
      ]
     },
     "execution_count": 718,
     "metadata": {},
     "output_type": "execute_result"
    }
   ],
   "source": [
    "df['Embarked'].isnull().sum()"
   ]
  },
  {
   "cell_type": "markdown",
   "metadata": {},
   "source": [
    "### Cabin feature"
   ]
  },
  {
   "cell_type": "code",
   "execution_count": 719,
   "metadata": {
    "scrolled": true
   },
   "outputs": [
    {
     "data": {
      "text/plain": [
       "679"
      ]
     },
     "execution_count": 719,
     "metadata": {},
     "output_type": "execute_result"
    }
   ],
   "source": [
    "df['Cabin'].isnull().sum()"
   ]
  },
  {
   "cell_type": "code",
   "execution_count": 720,
   "metadata": {},
   "outputs": [
    {
     "data": {
      "text/plain": [
       "nan"
      ]
     },
     "execution_count": 720,
     "metadata": {},
     "output_type": "execute_result"
    }
   ],
   "source": [
    "df[df['Cabin'].isnull()]['Cabin'][0]"
   ]
  },
  {
   "cell_type": "code",
   "execution_count": 721,
   "metadata": {
    "scrolled": true
   },
   "outputs": [],
   "source": [
    "def get_first_letter(x):\n",
    "    if pd.isnull(x):\n",
    "        return 10\n",
    "    return x[0]\n",
    "df['Cabin'] = df['Cabin'].apply(get_first_letter)"
   ]
  },
  {
   "cell_type": "code",
   "execution_count": 722,
   "metadata": {},
   "outputs": [],
   "source": [
    "df['Cabin'] = df['Cabin'].map(dict(zip(df['Cabin'].unique()[1:], range(2, 2+len(df['Cabin'].unique()[1:])))))"
   ]
  },
  {
   "cell_type": "code",
   "execution_count": 723,
   "metadata": {
    "scrolled": true
   },
   "outputs": [
    {
     "data": {
      "text/plain": [
       "<AxesSubplot:xlabel='Cabin'>"
      ]
     },
     "execution_count": 723,
     "metadata": {},
     "output_type": "execute_result"
    },
    {
     "data": {
      "image/png": "[encoded data removed]",
      "text/plain": [
       "<Figure size 432x288 with 1 Axes>"
      ]
     },
     "metadata": {
      "needs_background": "light"
     },
     "output_type": "display_data"
    }
   ],
   "source": [
    "df.groupby(\"Cabin\")['Survived'].agg(\"count\").plot.bar(color=['r', 'b', 'g', 'y', 'black', 'pink', 'orange'])"
   ]
  },
  {
   "cell_type": "code",
   "execution_count": 724,
   "metadata": {
    "scrolled": true
   },
   "outputs": [
    {
     "data": {
      "text/plain": [
       "<AxesSubplot:>"
      ]
     },
     "execution_count": 724,
     "metadata": {},
     "output_type": "execute_result"
    },
    {
     "data": {
      "image/png": "[encoded data removed]",
      "text/plain": [
       "<Figure size 432x288 with 2 Axes>"
      ]
     },
     "metadata": {
      "needs_background": "light"
     },
     "output_type": "display_data"
    }
   ],
   "source": [
    "sns.heatmap(df[['Cabin', 'Survived']].corr(), annot=True)"
   ]
  },
  {
   "cell_type": "code",
   "execution_count": 725,
   "metadata": {},
   "outputs": [
    {
     "data": {
      "text/plain": [
       "Index(['PassengerId', 'Survived', 'Pclass', 'Sex', 'Age', 'SibSp', 'Parch',\n",
       "       'Ticket', 'Fare', 'Cabin', 'Embarked', 'Miss', 'Mrs'],\n",
       "      dtype='object')"
      ]
     },
     "execution_count": 725,
     "metadata": {},
     "output_type": "execute_result"
    }
   ],
   "source": [
    "df.columns"
   ]
  },
  {
   "cell_type": "code",
   "execution_count": 726,
   "metadata": {},
   "outputs": [
    {
     "data": {
      "text/html": [
       "<div>\n",
       "<style scoped>\n",
       "    .dataframe tbody tr th:only-of-type {\n",
       "        vertical-align: middle;\n",
       "    }\n",
       "\n",
       "    .dataframe tbody tr th {\n",
       "        vertical-align: top;\n",
       "    }\n",
       "\n",
       "    .dataframe thead th {\n",
       "        text-align: right;\n",
       "    }\n",
       "</style>\n",
       "<table border=\"1\" class=\"dataframe\">\n",
       "  <thead>\n",
       "    <tr style=\"text-align: right;\">\n",
       "      <th></th>\n",
       "      <th>PassengerId</th>\n",
       "      <th>Survived</th>\n",
       "      <th>Pclass</th>\n",
       "      <th>Sex</th>\n",
       "      <th>Age</th>\n",
       "      <th>SibSp</th>\n",
       "      <th>Parch</th>\n",
       "      <th>Ticket</th>\n",
       "      <th>Fare</th>\n",
       "      <th>Cabin</th>\n",
       "      <th>Embarked</th>\n",
       "      <th>Miss</th>\n",
       "      <th>Mrs</th>\n",
       "    </tr>\n",
       "  </thead>\n",
       "  <tbody>\n",
       "    <tr>\n",
       "      <th>0</th>\n",
       "      <td>1</td>\n",
       "      <td>0</td>\n",
       "      <td>3</td>\n",
       "      <td>0</td>\n",
       "      <td>22.0</td>\n",
       "      <td>1</td>\n",
       "      <td>0</td>\n",
       "      <td>A/5 21171</td>\n",
       "      <td>7.2500</td>\n",
       "      <td>NaN</td>\n",
       "      <td>0.0</td>\n",
       "      <td>0</td>\n",
       "      <td>0</td>\n",
       "    </tr>\n",
       "    <tr>\n",
       "      <th>1</th>\n",
       "      <td>2</td>\n",
       "      <td>1</td>\n",
       "      <td>1</td>\n",
       "      <td>1</td>\n",
       "      <td>38.0</td>\n",
       "      <td>1</td>\n",
       "      <td>0</td>\n",
       "      <td>PC 17599</td>\n",
       "      <td>71.2833</td>\n",
       "      <td>2.0</td>\n",
       "      <td>1.0</td>\n",
       "      <td>0</td>\n",
       "      <td>1</td>\n",
       "    </tr>\n",
       "    <tr>\n",
       "      <th>2</th>\n",
       "      <td>3</td>\n",
       "      <td>1</td>\n",
       "      <td>3</td>\n",
       "      <td>1</td>\n",
       "      <td>26.0</td>\n",
       "      <td>0</td>\n",
       "      <td>0</td>\n",
       "      <td>STON/O2. 3101282</td>\n",
       "      <td>7.9250</td>\n",
       "      <td>NaN</td>\n",
       "      <td>0.0</td>\n",
       "      <td>1</td>\n",
       "      <td>0</td>\n",
       "    </tr>\n",
       "    <tr>\n",
       "      <th>3</th>\n",
       "      <td>4</td>\n",
       "      <td>1</td>\n",
       "      <td>1</td>\n",
       "      <td>1</td>\n",
       "      <td>35.0</td>\n",
       "      <td>1</td>\n",
       "      <td>0</td>\n",
       "      <td>113803</td>\n",
       "      <td>53.1000</td>\n",
       "      <td>2.0</td>\n",
       "      <td>0.0</td>\n",
       "      <td>0</td>\n",
       "      <td>1</td>\n",
       "    </tr>\n",
       "    <tr>\n",
       "      <th>4</th>\n",
       "      <td>5</td>\n",
       "      <td>0</td>\n",
       "      <td>3</td>\n",
       "      <td>0</td>\n",
       "      <td>35.0</td>\n",
       "      <td>0</td>\n",
       "      <td>0</td>\n",
       "      <td>373450</td>\n",
       "      <td>8.0500</td>\n",
       "      <td>NaN</td>\n",
       "      <td>0.0</td>\n",
       "      <td>0</td>\n",
       "      <td>0</td>\n",
       "    </tr>\n",
       "  </tbody>\n",
       "</table>\n",
       "</div>"
      ],
      "text/plain": [
       "   PassengerId  Survived  Pclass  Sex   Age  SibSp  Parch            Ticket  \\\n",
       "0            1         0       3    0  22.0      1      0         A/5 21171   \n",
       "1            2         1       1    1  38.0      1      0          PC 17599   \n",
       "2            3         1       3    1  26.0      0      0  STON/O2. 3101282   \n",
       "3            4         1       1    1  35.0      1      0            113803   \n",
       "4            5         0       3    0  35.0      0      0            373450   \n",
       "\n",
       "      Fare  Cabin  Embarked  Miss  Mrs  \n",
       "0   7.2500    NaN       0.0     0    0  \n",
       "1  71.2833    2.0       1.0     0    1  \n",
       "2   7.9250    NaN       0.0     1    0  \n",
       "3  53.1000    2.0       0.0     0    1  \n",
       "4   8.0500    NaN       0.0     0    0  "
      ]
     },
     "execution_count": 726,
     "metadata": {},
     "output_type": "execute_result"
    }
   ],
   "source": [
    "df.head()"
   ]
  },
  {
   "cell_type": "code",
   "execution_count": 727,
   "metadata": {},
   "outputs": [],
   "source": [
    "df.drop(['Ticket'], axis=1, inplace=True)"
   ]
  },
  {
   "cell_type": "markdown",
   "metadata": {},
   "source": [
    "### Age feature"
   ]
  },
  {
   "cell_type": "code",
   "execution_count": 728,
   "metadata": {},
   "outputs": [
    {
     "data": {
      "text/plain": [
       "170"
      ]
     },
     "execution_count": 728,
     "metadata": {},
     "output_type": "execute_result"
    }
   ],
   "source": [
    "df['Age'].isnull().sum()"
   ]
  },
  {
   "cell_type": "markdown",
   "metadata": {},
   "source": [
    "We have 170 missing values for the `Age` feature, lets see if we can fill the missing values with linear regression."
   ]
  },
  {
   "cell_type": "code",
   "execution_count": 729,
   "metadata": {},
   "outputs": [
    {
     "data": {
      "image/png": "[encoded data removed]",
      "text/plain": [
       "<Figure size 1080x1080 with 2 Axes>"
      ]
     },
     "metadata": {
      "needs_background": "light"
     },
     "output_type": "display_data"
    }
   ],
   "source": [
    "plt.figure(figsize=(15,15))\n",
    "sns.heatmap(df.corr(), annot=True)\n",
    "plt.show()"
   ]
  },
  {
   "cell_type": "markdown",
   "metadata": {},
   "source": [
    "We tried to see if there is a connection between `Age` and another feature but it seams that there is no correlation."
   ]
  },
  {
   "cell_type": "markdown",
   "metadata": {},
   "source": [
    "## Model and training"
   ]
  },
  {
   "cell_type": "code",
   "execution_count": 736,
   "metadata": {},
   "outputs": [],
   "source": [
    "y = df['Survived'].values"
   ]
  },
  {
   "cell_type": "code",
   "execution_count": 787,
   "metadata": {
    "scrolled": false
   },
   "outputs": [
    {
     "data": {
      "text/html": [
       "<div>\n",
       "<style scoped>\n",
       "    .dataframe tbody tr th:only-of-type {\n",
       "        vertical-align: middle;\n",
       "    }\n",
       "\n",
       "    .dataframe tbody tr th {\n",
       "        vertical-align: top;\n",
       "    }\n",
       "\n",
       "    .dataframe thead th {\n",
       "        text-align: right;\n",
       "    }\n",
       "</style>\n",
       "<table border=\"1\" class=\"dataframe\">\n",
       "  <thead>\n",
       "    <tr style=\"text-align: right;\">\n",
       "      <th></th>\n",
       "      <th>Pclass</th>\n",
       "      <th>Sex</th>\n",
       "      <th>SibSp</th>\n",
       "      <th>Parch</th>\n",
       "      <th>Fare</th>\n",
       "      <th>Cabin</th>\n",
       "      <th>Embarked</th>\n",
       "      <th>Miss</th>\n",
       "      <th>Mrs</th>\n",
       "    </tr>\n",
       "  </thead>\n",
       "  <tbody>\n",
       "    <tr>\n",
       "      <th>0</th>\n",
       "      <td>3</td>\n",
       "      <td>0</td>\n",
       "      <td>1</td>\n",
       "      <td>0</td>\n",
       "      <td>7.2500</td>\n",
       "      <td>10.0</td>\n",
       "      <td>0.0</td>\n",
       "      <td>0</td>\n",
       "      <td>0</td>\n",
       "    </tr>\n",
       "    <tr>\n",
       "      <th>1</th>\n",
       "      <td>1</td>\n",
       "      <td>1</td>\n",
       "      <td>1</td>\n",
       "      <td>0</td>\n",
       "      <td>71.2833</td>\n",
       "      <td>2.0</td>\n",
       "      <td>1.0</td>\n",
       "      <td>0</td>\n",
       "      <td>1</td>\n",
       "    </tr>\n",
       "    <tr>\n",
       "      <th>2</th>\n",
       "      <td>3</td>\n",
       "      <td>1</td>\n",
       "      <td>0</td>\n",
       "      <td>0</td>\n",
       "      <td>7.9250</td>\n",
       "      <td>10.0</td>\n",
       "      <td>0.0</td>\n",
       "      <td>1</td>\n",
       "      <td>0</td>\n",
       "    </tr>\n",
       "    <tr>\n",
       "      <th>3</th>\n",
       "      <td>1</td>\n",
       "      <td>1</td>\n",
       "      <td>1</td>\n",
       "      <td>0</td>\n",
       "      <td>53.1000</td>\n",
       "      <td>2.0</td>\n",
       "      <td>0.0</td>\n",
       "      <td>0</td>\n",
       "      <td>1</td>\n",
       "    </tr>\n",
       "    <tr>\n",
       "      <th>4</th>\n",
       "      <td>3</td>\n",
       "      <td>0</td>\n",
       "      <td>0</td>\n",
       "      <td>0</td>\n",
       "      <td>8.0500</td>\n",
       "      <td>10.0</td>\n",
       "      <td>0.0</td>\n",
       "      <td>0</td>\n",
       "      <td>0</td>\n",
       "    </tr>\n",
       "    <tr>\n",
       "      <th>...</th>\n",
       "      <td>...</td>\n",
       "      <td>...</td>\n",
       "      <td>...</td>\n",
       "      <td>...</td>\n",
       "      <td>...</td>\n",
       "      <td>...</td>\n",
       "      <td>...</td>\n",
       "      <td>...</td>\n",
       "      <td>...</td>\n",
       "    </tr>\n",
       "    <tr>\n",
       "      <th>886</th>\n",
       "      <td>2</td>\n",
       "      <td>0</td>\n",
       "      <td>0</td>\n",
       "      <td>0</td>\n",
       "      <td>13.0000</td>\n",
       "      <td>10.0</td>\n",
       "      <td>0.0</td>\n",
       "      <td>0</td>\n",
       "      <td>0</td>\n",
       "    </tr>\n",
       "    <tr>\n",
       "      <th>887</th>\n",
       "      <td>1</td>\n",
       "      <td>1</td>\n",
       "      <td>0</td>\n",
       "      <td>0</td>\n",
       "      <td>30.0000</td>\n",
       "      <td>7.0</td>\n",
       "      <td>0.0</td>\n",
       "      <td>1</td>\n",
       "      <td>0</td>\n",
       "    </tr>\n",
       "    <tr>\n",
       "      <th>888</th>\n",
       "      <td>3</td>\n",
       "      <td>1</td>\n",
       "      <td>1</td>\n",
       "      <td>2</td>\n",
       "      <td>23.4500</td>\n",
       "      <td>10.0</td>\n",
       "      <td>0.0</td>\n",
       "      <td>1</td>\n",
       "      <td>0</td>\n",
       "    </tr>\n",
       "    <tr>\n",
       "      <th>889</th>\n",
       "      <td>1</td>\n",
       "      <td>0</td>\n",
       "      <td>0</td>\n",
       "      <td>0</td>\n",
       "      <td>30.0000</td>\n",
       "      <td>2.0</td>\n",
       "      <td>1.0</td>\n",
       "      <td>0</td>\n",
       "      <td>0</td>\n",
       "    </tr>\n",
       "    <tr>\n",
       "      <th>890</th>\n",
       "      <td>3</td>\n",
       "      <td>0</td>\n",
       "      <td>0</td>\n",
       "      <td>0</td>\n",
       "      <td>7.7500</td>\n",
       "      <td>10.0</td>\n",
       "      <td>2.0</td>\n",
       "      <td>0</td>\n",
       "      <td>0</td>\n",
       "    </tr>\n",
       "  </tbody>\n",
       "</table>\n",
       "<p>881 rows × 9 columns</p>\n",
       "</div>"
      ],
      "text/plain": [
       "     Pclass  Sex  SibSp  Parch     Fare  Cabin  Embarked  Miss  Mrs\n",
       "0         3    0      1      0   7.2500   10.0       0.0     0    0\n",
       "1         1    1      1      0  71.2833    2.0       1.0     0    1\n",
       "2         3    1      0      0   7.9250   10.0       0.0     1    0\n",
       "3         1    1      1      0  53.1000    2.0       0.0     0    1\n",
       "4         3    0      0      0   8.0500   10.0       0.0     0    0\n",
       "..      ...  ...    ...    ...      ...    ...       ...   ...  ...\n",
       "886       2    0      0      0  13.0000   10.0       0.0     0    0\n",
       "887       1    1      0      0  30.0000    7.0       0.0     1    0\n",
       "888       3    1      1      2  23.4500   10.0       0.0     1    0\n",
       "889       1    0      0      0  30.0000    2.0       1.0     0    0\n",
       "890       3    0      0      0   7.7500   10.0       2.0     0    0\n",
       "\n",
       "[881 rows x 9 columns]"
      ]
     },
     "execution_count": 787,
     "metadata": {},
     "output_type": "execute_result"
    }
   ],
   "source": [
    "X = X.drop(['Age'], axis=1)\n",
    "X"
   ]
  },
  {
   "cell_type": "markdown",
   "metadata": {},
   "source": [
    "### Using PCA to reduce the number of features"
   ]
  },
  {
   "cell_type": "code",
   "execution_count": 791,
   "metadata": {},
   "outputs": [],
   "source": [
    "from sklearn.decomposition import PCA\n",
    "pca = PCA(2)\n",
    "x_pca = pca.fit_transform(X)"
   ]
  },
  {
   "cell_type": "markdown",
   "metadata": {},
   "source": [
    "### Split the dataset into train and test sets"
   ]
  },
  {
   "cell_type": "code",
   "execution_count": 792,
   "metadata": {},
   "outputs": [],
   "source": [
    "from sklearn.model_selection import train_test_split\n",
    "X_train, X_test, y_train, y_test = train_test_split(x_pca, y)"
   ]
  },
  {
   "cell_type": "markdown",
   "metadata": {},
   "source": [
    "### Selecting the candidates for our ensemble model\n",
    "We will try different algorithms for classification and select several that works best on our data:\n",
    "1. LinearSVC\n",
    "2. KNeighborsClassifier\n",
    "3. LogisticRegression\n",
    "4. AdaBoostClassifier\n",
    "5. RandomForestClassifier\n",
    "6. GradientBoostingClassifier\n",
    "\n",
    "Using cross validation we will get the score of our model performance."
   ]
  },
  {
   "cell_type": "code",
   "execution_count": 793,
   "metadata": {},
   "outputs": [],
   "source": [
    "from sklearn.svm import LinearSVC\n",
    "from sklearn.neighbors import KNeighborsClassifier\n",
    "from sklearn.linear_model import LogisticRegression\n",
    "from sklearn.ensemble import AdaBoostClassifier, RandomForestClassifier, GradientBoostingClassifier\n",
    "from sklearn.tree import DecisionTreeClassifier\n",
    "\n",
    "random_state = 2\n",
    "clfs = {}\n",
    "clfs.update({\"SVM\": LinearSVC(random_state=random_state)})\n",
    "clfs.update({\"KNN\": KNeighborsClassifier()})\n",
    "clfs.update({\"LR\": LogisticRegression(random_state = random_state)})\n",
    "\n",
    "clfs.update({\"ADA\": AdaBoostClassifier(DecisionTreeClassifier(random_state=random_state),random_state=random_state,learning_rate=0.1)})\n",
    "clfs.update({\"RF\": RandomForestClassifier(random_state=random_state)})\n",
    "clfs.update({\"GBC\": GradientBoostingClassifier(random_state=random_state)})"
   ]
  },
  {
   "cell_type": "code",
   "execution_count": 794,
   "metadata": {},
   "outputs": [
    {
     "name": "stderr",
     "output_type": "stream",
     "text": [
      "/usr/local/lib/python3.8/site-packages/sklearn/svm/_base.py:976: ConvergenceWarning: Liblinear failed to converge, increase the number of iterations.\n",
      "  warnings.warn(\"Liblinear failed to converge, increase \"\n",
      "/usr/local/lib/python3.8/site-packages/sklearn/svm/_base.py:976: ConvergenceWarning: Liblinear failed to converge, increase the number of iterations.\n",
      "  warnings.warn(\"Liblinear failed to converge, increase \"\n",
      "/usr/local/lib/python3.8/site-packages/sklearn/svm/_base.py:976: ConvergenceWarning: Liblinear failed to converge, increase the number of iterations.\n",
      "  warnings.warn(\"Liblinear failed to converge, increase \"\n",
      "/usr/local/lib/python3.8/site-packages/sklearn/svm/_base.py:976: ConvergenceWarning: Liblinear failed to converge, increase the number of iterations.\n",
      "  warnings.warn(\"Liblinear failed to converge, increase \"\n",
      "/usr/local/lib/python3.8/site-packages/sklearn/svm/_base.py:976: ConvergenceWarning: Liblinear failed to converge, increase the number of iterations.\n",
      "  warnings.warn(\"Liblinear failed to converge, increase \"\n",
      "/usr/local/lib/python3.8/site-packages/sklearn/svm/_base.py:976: ConvergenceWarning: Liblinear failed to converge, increase the number of iterations.\n",
      "  warnings.warn(\"Liblinear failed to converge, increase \"\n",
      "/usr/local/lib/python3.8/site-packages/sklearn/svm/_base.py:976: ConvergenceWarning: Liblinear failed to converge, increase the number of iterations.\n",
      "  warnings.warn(\"Liblinear failed to converge, increase \"\n",
      "/usr/local/lib/python3.8/site-packages/sklearn/svm/_base.py:976: ConvergenceWarning: Liblinear failed to converge, increase the number of iterations.\n",
      "  warnings.warn(\"Liblinear failed to converge, increase \"\n",
      "/usr/local/lib/python3.8/site-packages/sklearn/svm/_base.py:976: ConvergenceWarning: Liblinear failed to converge, increase the number of iterations.\n",
      "  warnings.warn(\"Liblinear failed to converge, increase \"\n",
      "/usr/local/lib/python3.8/site-packages/sklearn/svm/_base.py:976: ConvergenceWarning: Liblinear failed to converge, increase the number of iterations.\n",
      "  warnings.warn(\"Liblinear failed to converge, increase \"\n"
     ]
    }
   ],
   "source": [
    "from sklearn.model_selection import StratifiedKFold, cross_val_score\n",
    "cv = StratifiedKFold(n_splits=10)\n",
    "results = []\n",
    "for clf in clfs:\n",
    "    results.append(cross_val_score(clfs[clf], X=X_train, y=y_train, cv=cv))"
   ]
  },
  {
   "cell_type": "markdown",
   "metadata": {},
   "source": [
    "### Results of the algorithms"
   ]
  },
  {
   "cell_type": "code",
   "execution_count": 795,
   "metadata": {},
   "outputs": [],
   "source": [
    "clfs_res = dict(zip(clfs.keys(), results))"
   ]
  },
  {
   "cell_type": "code",
   "execution_count": 796,
   "metadata": {},
   "outputs": [],
   "source": [
    "means = []\n",
    "for res in clfs_res:\n",
    "    means.append(np.around(clfs_res[res].mean(), 2))"
   ]
  },
  {
   "cell_type": "code",
   "execution_count": 797,
   "metadata": {
    "scrolled": false
   },
   "outputs": [
    {
     "data": {
      "text/plain": [
       "<Figure size 1080x360 with 0 Axes>"
      ]
     },
     "metadata": {},
     "output_type": "display_data"
    },
    {
     "data": {
      "image/png": "[encoded data removed]",
      "text/plain": [
       "<Figure size 432x288 with 1 Axes>"
      ]
     },
     "metadata": {
      "needs_background": "light"
     },
     "output_type": "display_data"
    }
   ],
   "source": [
    "plt.figure(figsize=(15, 5))\n",
    "values = means\n",
    "\n",
    "width = 0.4 # set the width of the bar\n",
    "bar_locations = np.arange(len(values))\n",
    "\n",
    "fig, ax = plt.subplots() # create a figure and add a bar chart\n",
    "bars = ax.bar(bar_locations, values, width)\n",
    "\n",
    "ax.set_xlabel('Algorithm')\n",
    "ax.set_ylabel('Accuracy')\n",
    "ax.set_title('Algorithms Mean Accuracies')\n",
    "ax.set_xticks(np.array(np.arange(len(values))))\n",
    "ax.set_xticklabels(clfs_res.keys())\n",
    "ax.set_ylim(0, 1)\n",
    "\n",
    "for bar in bars:\n",
    "    h = bar.get_height()\n",
    "    ax.annotate(h, xy=(bar.get_x() + bar.get_width()/2, h), xytext=(0, 3), \n",
    "                textcoords='offset points', ha='center', va='bottom')\n",
    "\n",
    "fig.tight_layout()\n",
    "plt.show()"
   ]
  },
  {
   "cell_type": "markdown",
   "metadata": {},
   "source": [
    "We can see that `ADA`, `GBC`, `KNN` and `RF` did the best out of the 6 algorithms we choose, and we will select them for our ensemble model."
   ]
  },
  {
   "cell_type": "markdown",
   "metadata": {},
   "source": [
    "## Prepare data for XGBoost classefier\n",
    "The ensemble model will get the predictions of the models we selected and train on those predictions."
   ]
  },
  {
   "cell_type": "code",
   "execution_count": 860,
   "metadata": {},
   "outputs": [],
   "source": [
    "from sklearn.model_selection import KFold, RandomizedSearchCV\n",
    "seed = 0\n",
    "n_splits = 5\n",
    "kf = KFold(n_splits=n_splits)"
   ]
  },
  {
   "cell_type": "markdown",
   "metadata": {},
   "source": [
    "### Function for getting the mean predictions of the KFold method\n",
    "Each classifier will train on the data and try to predict the test data."
   ]
  },
  {
   "cell_type": "code",
   "execution_count": 861,
   "metadata": {},
   "outputs": [],
   "source": [
    "def get_mean_class(clf, x_train, y_train, x_test):\n",
    "    mean_train = np.zeros((len(x_train),))\n",
    "    mean_test = np.zeros((len(x_test),))\n",
    "    mean_test_skf = np.empty((n_splits, len(x_test)))\n",
    "    \n",
    "    for i, (train_index, test_index) in enumerate(kf.split(x_train)):\n",
    "        x_tr = x_train[train_index]\n",
    "        y_tr = y_train[train_index]\n",
    "        x_te = x_train[test_index]\n",
    "        \n",
    "        clf.fit(x_tr, y_tr)\n",
    "        \n",
    "        mean_train[test_index] = clf.predict(x_te)\n",
    "        mean_test_skf[i, :] = clf.predict(x_test)\n",
    "    \n",
    "    mean_test[:] = mean_test_skf.mean(axis=0)\n",
    "    return mean_train.reshape(-1, 1), mean_test.reshape(-1, 1)"
   ]
  },
  {
   "cell_type": "markdown",
   "metadata": {},
   "source": [
    "Running the above method with the classifiers we selected earlier.  \n",
    "we combine the results for our ensemble model:"
   ]
  },
  {
   "cell_type": "code",
   "execution_count": 902,
   "metadata": {},
   "outputs": [],
   "source": [
    "gb_params = {\n",
    "    'n_estimators': 200,\n",
    "    'verbose': 0\n",
    "}\n",
    "\n",
    "\n",
    "rf_params = {\n",
    "    'n_jobs': -1,\n",
    "    'n_estimators': 200,\n",
    "    'verbose': 0\n",
    "}\n",
    "\n",
    "clfs = []\n",
    "clfs.append((\"GBC\", GradientBoostingClassifier(**gb_params)))\n",
    "clfs.append((\"KNN\", KNeighborsClassifier(weights='distance', n_neighbors=7)))\n",
    "clfs.append((\"ADA\", AdaBoostClassifier(DecisionTreeClassifier(random_state=random_state),random_state=random_state,learning_rate=0.8, n_estimators= 200)))\n",
    "clfs.append((\"RF\", RandomForestClassifier(**rf_params)))\n",
    "\n",
    "mean_x_tests, mean_x_trains = [], []\n",
    "_y_train = []\n",
    "for clf in clfs:\n",
    "    mean_train, mean_test = get_mean_class(clf[1], X_train, y_train, X_test)\n",
    "    mean_x_tests.extend(mean_test)\n",
    "    mean_x_trains.extend(mean_train)\n",
    "    \n",
    "mean_tests, mean_trains = np.array(mean_x_tests), np.array(mean_x_trains)"
   ]
  },
  {
   "cell_type": "markdown",
   "metadata": {},
   "source": [
    "**Function for printing the results of each candidate in our randomized search**  \n",
    "Showing the validation score and the parameter the specific experiment used."
   ]
  },
  {
   "cell_type": "code",
   "execution_count": 903,
   "metadata": {},
   "outputs": [],
   "source": [
    "def report_best_scores(results, n_top=3):\n",
    "    for i in range(1, n_top + 1):\n",
    "        candidates = np.flatnonzero(results['rank_test_score'] == i)\n",
    "        for candidate in candidates:\n",
    "            print(\"Model with rank: {0}\".format(i))\n",
    "            print(\"Mean validation score: {0:.3f} (std: {1:.3f})\".format(\n",
    "                  results['mean_test_score'][candidate],\n",
    "                  results['std_test_score'][candidate]))\n",
    "            print(\"Parameters: {0}\".format(results['params'][candidate]))\n",
    "            print(\"\")"
   ]
  },
  {
   "cell_type": "markdown",
   "metadata": {},
   "source": [
    "## Train the XGBoost classifier\n",
    "Construct the XGBoost classifier and perform Randomized Search to find the best parameters."
   ]
  },
  {
   "cell_type": "code",
   "execution_count": 904,
   "metadata": {},
   "outputs": [
    {
     "name": "stdout",
     "output_type": "stream",
     "text": [
      "Fitting 3 folds for each of 200 candidates, totalling 600 fits\n"
     ]
    },
    {
     "name": "stderr",
     "output_type": "stream",
     "text": [
      "[Parallel(n_jobs=1)]: Using backend SequentialBackend with 1 concurrent workers.\n"
     ]
    },
    {
     "name": "stdout",
     "output_type": "stream",
     "text": [
      "Model with rank: 1\n",
      "Mean validation score: 0.726 (std: 0.004)\n",
      "Parameters: {'gamma': 0.3621780831931537, 'learning_rate': 0.14507143064099162, 'max_depth': 4, 'min_child_weight': 5, 'n_estimators': 120, 'subsample': 0.6624074561769746}\n",
      "\n",
      "Model with rank: 1\n",
      "Mean validation score: 0.726 (std: 0.004)\n",
      "Parameters: {'gamma': 0.20919616423534185, 'learning_rate': 0.05580836121681995, 'max_depth': 9, 'min_child_weight': 2, 'n_estimators': 135, 'subsample': 0.6571467271687763}\n",
      "\n",
      "Model with rank: 1\n",
      "Mean validation score: 0.726 (std: 0.004)\n",
      "Parameters: {'gamma': 0.555621931064197, 'learning_rate': 0.05564115790271003, 'max_depth': 9, 'min_child_weight': 5, 'n_estimators': 129, 'subsample': 0.6849356442713105}\n",
      "\n",
      "Model with rank: 1\n",
      "Mean validation score: 0.726 (std: 0.004)\n",
      "Parameters: {'gamma': 0.22727747704497042, 'learning_rate': 0.06834045098534339, 'max_depth': 5, 'min_child_weight': 3, 'n_estimators': 121, 'subsample': 0.6028265220878869}\n",
      "\n",
      "Model with rank: 1\n",
      "Mean validation score: 0.726 (std: 0.004)\n",
      "Parameters: {'gamma': 0.11614369752899104, 'learning_rate': 0.10247746602583892, 'max_depth': 8, 'min_child_weight': 3, 'n_estimators': 127, 'subsample': 0.9895022075365837}\n",
      "\n",
      "Model with rank: 1\n",
      "Mean validation score: 0.726 (std: 0.004)\n",
      "Parameters: {'gamma': 0.262939938301213, 'learning_rate': 0.05906064345328208, 'max_depth': 7, 'min_child_weight': 4, 'n_estimators': 143, 'subsample': 0.8056937753654446}\n",
      "\n",
      "Model with rank: 1\n",
      "Mean validation score: 0.726 (std: 0.004)\n",
      "Parameters: {'gamma': 0.5146901982034298, 'learning_rate': 0.054645041271999775, 'max_depth': 4, 'min_child_weight': 4, 'n_estimators': 120, 'subsample': 0.7801997007878172}\n",
      "\n",
      "Model with rank: 1\n",
      "Mean validation score: 0.726 (std: 0.004)\n",
      "Parameters: {'gamma': 0.10928547281190658, 'learning_rate': 0.14422017556848526, 'max_depth': 7, 'min_child_weight': 3, 'n_estimators': 108, 'subsample': 0.6063865008880857}\n",
      "\n",
      "Model with rank: 1\n",
      "Mean validation score: 0.726 (std: 0.004)\n",
      "Parameters: {'gamma': 0.2616256779355043, 'learning_rate': 0.07410254660260118, 'max_depth': 5, 'min_child_weight': 4, 'n_estimators': 143, 'subsample': 0.798070764044508}\n",
      "\n",
      "Model with rank: 1\n",
      "Mean validation score: 0.726 (std: 0.004)\n",
      "Parameters: {'gamma': 0.12407196478065288, 'learning_rate': 0.1409320402078782, 'max_depth': 5, 'min_child_weight': 3, 'n_estimators': 139, 'subsample': 0.902144564127061}\n",
      "\n",
      "Model with rank: 1\n",
      "Mean validation score: 0.726 (std: 0.004)\n",
      "Parameters: {'gamma': 0.3976091121438713, 'learning_rate': 0.0707941662868189, 'max_depth': 5, 'min_child_weight': 3, 'n_estimators': 128, 'subsample': 0.9878338511058234}\n",
      "\n",
      "Model with rank: 1\n",
      "Mean validation score: 0.726 (std: 0.004)\n",
      "Parameters: {'gamma': 0.6425929763527801, 'learning_rate': 0.1439498941564189, 'max_depth': 7, 'min_child_weight': 5, 'n_estimators': 113, 'subsample': 0.8909087983425683}\n",
      "\n",
      "Model with rank: 1\n",
      "Mean validation score: 0.726 (std: 0.004)\n",
      "Parameters: {'gamma': 0.3285785381640848, 'learning_rate': 0.10704439744053995, 'max_depth': 5, 'min_child_weight': 2, 'n_estimators': 139, 'subsample': 0.9378135394712606}\n",
      "\n",
      "Model with rank: 1\n",
      "Mean validation score: 0.726 (std: 0.004)\n",
      "Parameters: {'gamma': 0.6231240770961666, 'learning_rate': 0.10396921323890798, 'max_depth': 9, 'min_child_weight': 3, 'n_estimators': 124, 'subsample': 0.7123738038749523}\n",
      "\n",
      "Model with rank: 1\n",
      "Mean validation score: 0.726 (std: 0.004)\n",
      "Parameters: {'gamma': 0.47988725821077394, 'learning_rate': 0.06409242249747626, 'max_depth': 8, 'min_child_weight': 2, 'n_estimators': 100, 'subsample': 0.6062545626964776}\n",
      "\n",
      "Model with rank: 1\n",
      "Mean validation score: 0.726 (std: 0.004)\n",
      "Parameters: {'gamma': 0.39638103649445877, 'learning_rate': 0.08948815181755698, 'max_depth': 9, 'min_child_weight': 5, 'n_estimators': 110, 'subsample': 0.679536961635522}\n",
      "\n",
      "Model with rank: 1\n",
      "Mean validation score: 0.726 (std: 0.004)\n",
      "Parameters: {'gamma': 0.5979393669240549, 'learning_rate': 0.12901755405312057, 'max_depth': 4, 'min_child_weight': 2, 'n_estimators': 141, 'subsample': 0.7433862914177091}\n",
      "\n",
      "Model with rank: 1\n",
      "Mean validation score: 0.726 (std: 0.004)\n",
      "Parameters: {'gamma': 0.1811083416675908, 'learning_rate': 0.13631034258755936, 'max_depth': 9, 'min_child_weight': 5, 'n_estimators': 133, 'subsample': 0.6381640465961645}\n",
      "\n",
      "Model with rank: 1\n",
      "Mean validation score: 0.726 (std: 0.004)\n",
      "Parameters: {'gamma': 0.3595727765387865, 'learning_rate': 0.11688412526636073, 'max_depth': 6, 'min_child_weight': 4, 'n_estimators': 143, 'subsample': 0.8550229885420852}\n",
      "\n",
      "Model with rank: 1\n",
      "Mean validation score: 0.726 (std: 0.004)\n",
      "Parameters: {'gamma': 0.7210489198034286, 'learning_rate': 0.09722149251619494, 'max_depth': 6, 'min_child_weight': 4, 'n_estimators': 113, 'subsample': 0.9395655297064336}\n",
      "\n",
      "Model with rank: 1\n",
      "Mean validation score: 0.726 (std: 0.004)\n",
      "Parameters: {'gamma': 0.6052106648154112, 'learning_rate': 0.07359849197489558, 'max_depth': 7, 'min_child_weight': 4, 'n_estimators': 126, 'subsample': 0.8090931317527976}\n",
      "\n",
      "Model with rank: 1\n",
      "Mean validation score: 0.726 (std: 0.004)\n",
      "Parameters: {'gamma': 0.3992787128509847, 'learning_rate': 0.052541912674409524, 'max_depth': 6, 'min_child_weight': 4, 'n_estimators': 131, 'subsample': 0.8545641645055122}\n",
      "\n",
      "Model with rank: 1\n",
      "Mean validation score: 0.726 (std: 0.004)\n",
      "Parameters: {'gamma': 0.32004918675342864, 'learning_rate': 0.10085706911647029, 'max_depth': 7, 'min_child_weight': 2, 'n_estimators': 122, 'subsample': 0.8417669517111269}\n",
      "\n",
      "Model with rank: 1\n",
      "Mean validation score: 0.726 (std: 0.004)\n",
      "Parameters: {'gamma': 0.4778887639111712, 'learning_rate': 0.07030612247347695, 'max_depth': 6, 'min_child_weight': 5, 'n_estimators': 106, 'subsample': 0.7159005811655073}\n",
      "\n",
      "Model with rank: 1\n",
      "Mean validation score: 0.726 (std: 0.004)\n",
      "Parameters: {'gamma': 0.21285490107780308, 'learning_rate': 0.1429697652342573, 'max_depth': 6, 'min_child_weight': 3, 'n_estimators': 105, 'subsample': 0.782613828193164}\n",
      "\n",
      "Model with rank: 1\n",
      "Mean validation score: 0.726 (std: 0.004)\n",
      "Parameters: {'gamma': 0.2529083060517835, 'learning_rate': 0.09165099478703663, 'max_depth': 7, 'min_child_weight': 4, 'n_estimators': 127, 'subsample': 0.7425191352307899}\n",
      "\n",
      "Model with rank: 1\n",
      "Mean validation score: 0.726 (std: 0.004)\n",
      "Parameters: {'gamma': 0.7347799090820277, 'learning_rate': 0.07721322493846354, 'max_depth': 4, 'min_child_weight': 3, 'n_estimators': 112, 'subsample': 0.9442922333025374}\n",
      "\n",
      "Model with rank: 1\n",
      "Mean validation score: 0.726 (std: 0.004)\n",
      "Parameters: {'gamma': 0.1048664913718335, 'learning_rate': 0.10107473025775658, 'max_depth': 2, 'min_child_weight': 3, 'n_estimators': 136, 'subsample': 0.8769744131561081}\n",
      "\n",
      "Model with rank: 1\n",
      "Mean validation score: 0.726 (std: 0.004)\n",
      "Parameters: {'gamma': 0.28858863365896503, 'learning_rate': 0.07441255222477743, 'max_depth': 4, 'min_child_weight': 3, 'n_estimators': 131, 'subsample': 0.8075162486973464}\n",
      "\n",
      "Model with rank: 1\n",
      "Mean validation score: 0.726 (std: 0.004)\n",
      "Parameters: {'gamma': 0.5921132712266245, 'learning_rate': 0.0863629602379294, 'max_depth': 2, 'min_child_weight': 3, 'n_estimators': 111, 'subsample': 0.7007129183301457}\n",
      "\n",
      "Model with rank: 1\n",
      "Mean validation score: 0.726 (std: 0.004)\n",
      "Parameters: {'gamma': 0.44807395412466977, 'learning_rate': 0.08008783098167697, 'max_depth': 2, 'min_child_weight': 5, 'n_estimators': 116, 'subsample': 0.706712405710114}\n",
      "\n",
      "Model with rank: 1\n",
      "Mean validation score: 0.726 (std: 0.004)\n",
      "Parameters: {'gamma': 0.7836304690828569, 'learning_rate': 0.09110370133182313, 'max_depth': 8, 'min_child_weight': 2, 'n_estimators': 131, 'subsample': 0.9633063543866615}\n",
      "\n",
      "Model with rank: 1\n",
      "Mean validation score: 0.726 (std: 0.004)\n",
      "Parameters: {'gamma': 0.2676933234668807, 'learning_rate': 0.06448948720912231, 'max_depth': 5, 'min_child_weight': 3, 'n_estimators': 131, 'subsample': 0.8211572356285312}\n",
      "\n",
      "Model with rank: 1\n",
      "Mean validation score: 0.726 (std: 0.004)\n",
      "Parameters: {'gamma': 0.5148877067155755, 'learning_rate': 0.05808533263327153, 'max_depth': 9, 'min_child_weight': 4, 'n_estimators': 116, 'subsample': 0.8912865394447438}\n",
      "\n",
      "Model with rank: 1\n",
      "Mean validation score: 0.726 (std: 0.004)\n",
      "Parameters: {'gamma': 0.3574481929034773, 'learning_rate': 0.11323058305935796, 'max_depth': 7, 'min_child_weight': 3, 'n_estimators': 110, 'subsample': 0.9265727492877536}\n",
      "\n",
      "Model with rank: 1\n",
      "Mean validation score: 0.726 (std: 0.004)\n",
      "Parameters: {'gamma': 0.6588415874891858, 'learning_rate': 0.06507175439654295, 'max_depth': 4, 'min_child_weight': 3, 'n_estimators': 115, 'subsample': 0.6163100566219055}\n",
      "\n",
      "Model with rank: 1\n",
      "Mean validation score: 0.726 (std: 0.004)\n",
      "Parameters: {'gamma': 0.5136250602317692, 'learning_rate': 0.11775643618422825, 'max_depth': 4, 'min_child_weight': 3, 'n_estimators': 102, 'subsample': 0.9238004184558861}\n",
      "\n",
      "Model with rank: 1\n",
      "Mean validation score: 0.726 (std: 0.004)\n",
      "Parameters: {'gamma': 0.34406619110421055, 'learning_rate': 0.059617655109142076, 'max_depth': 2, 'min_child_weight': 2, 'n_estimators': 139, 'subsample': 0.7546941385202149}\n",
      "\n",
      "Model with rank: 1\n",
      "Mean validation score: 0.726 (std: 0.004)\n",
      "Parameters: {'gamma': 0.7557109921157141, 'learning_rate': 0.06375209441459934, 'max_depth': 5, 'min_child_weight': 2, 'n_estimators': 124, 'subsample': 0.6836286482950855}\n",
      "\n",
      "Model with rank: 1\n",
      "Mean validation score: 0.726 (std: 0.004)\n",
      "Parameters: {'gamma': 0.4790135816792961, 'learning_rate': 0.11957843993450823, 'max_depth': 8, 'min_child_weight': 5, 'n_estimators': 115, 'subsample': 0.9268888800804863}\n",
      "\n",
      "Model with rank: 1\n",
      "Mean validation score: 0.726 (std: 0.004)\n",
      "Parameters: {'gamma': 0.48864056811962364, 'learning_rate': 0.10296505783560066, 'max_depth': 3, 'min_child_weight': 2, 'n_estimators': 147, 'subsample': 0.9861677405155175}\n",
      "\n",
      "Model with rank: 1\n",
      "Mean validation score: 0.726 (std: 0.004)\n",
      "Parameters: {'gamma': 0.4908054175249683, 'learning_rate': 0.13826363431893396, 'max_depth': 8, 'min_child_weight': 2, 'n_estimators': 140, 'subsample': 0.7396838298450643}\n",
      "\n",
      "Model with rank: 1\n",
      "Mean validation score: 0.726 (std: 0.004)\n",
      "Parameters: {'gamma': 0.6081689752091675, 'learning_rate': 0.1397110259952577, 'max_depth': 9, 'min_child_weight': 3, 'n_estimators': 132, 'subsample': 0.8568126584617151}\n",
      "\n",
      "Model with rank: 1\n",
      "Mean validation score: 0.726 (std: 0.004)\n",
      "Parameters: {'gamma': 0.15889797549653417, 'learning_rate': 0.06616287140946138, 'max_depth': 7, 'min_child_weight': 5, 'n_estimators': 119, 'subsample': 0.8322746485745819}\n",
      "\n",
      "Model with rank: 1\n",
      "Mean validation score: 0.726 (std: 0.004)\n",
      "Parameters: {'gamma': 0.36059793659322015, 'learning_rate': 0.14401334424577783, 'max_depth': 2, 'min_child_weight': 2, 'n_estimators': 117, 'subsample': 0.6643232205669994}\n",
      "\n",
      "Model with rank: 1\n",
      "Mean validation score: 0.726 (std: 0.004)\n",
      "Parameters: {'gamma': 0.4841136525566103, 'learning_rate': 0.11918951976926934, 'max_depth': 9, 'min_child_weight': 2, 'n_estimators': 140, 'subsample': 0.6703701010709381}\n",
      "\n",
      "Model with rank: 1\n",
      "Mean validation score: 0.726 (std: 0.004)\n",
      "Parameters: {'gamma': 0.11265275453086461, 'learning_rate': 0.09938937151834347, 'max_depth': 9, 'min_child_weight': 5, 'n_estimators': 107, 'subsample': 0.9396893641976711}\n",
      "\n",
      "Model with rank: 1\n",
      "Mean validation score: 0.726 (std: 0.004)\n",
      "Parameters: {'gamma': 0.5603290246102404, 'learning_rate': 0.10683086033354716, 'max_depth': 5, 'min_child_weight': 4, 'n_estimators': 121, 'subsample': 0.7060809470726902}\n",
      "\n",
      "Model with rank: 1\n",
      "Mean validation score: 0.726 (std: 0.004)\n",
      "Parameters: {'gamma': 0.2707927503653585, 'learning_rate': 0.14730105547524458, 'max_depth': 6, 'min_child_weight': 4, 'n_estimators': 107, 'subsample': 0.8524554503989051}\n",
      "\n",
      "Model with rank: 1\n",
      "Mean validation score: 0.726 (std: 0.004)\n",
      "Parameters: {'gamma': 0.6563679124791538, 'learning_rate': 0.10026370931051921, 'max_depth': 5, 'min_child_weight': 4, 'n_estimators': 132, 'subsample': 0.6780971951192178}\n",
      "\n",
      "Model with rank: 1\n",
      "Mean validation score: 0.726 (std: 0.004)\n",
      "Parameters: {'gamma': 0.6057164806830537, 'learning_rate': 0.07807723624408558, 'max_depth': 4, 'min_child_weight': 5, 'n_estimators': 148, 'subsample': 0.6174415087017735}\n",
      "\n",
      "Model with rank: 1\n",
      "Mean validation score: 0.726 (std: 0.004)\n",
      "Parameters: {'gamma': 0.7961853575581387, 'learning_rate': 0.0969944513990943, 'max_depth': 7, 'min_child_weight': 2, 'n_estimators': 105, 'subsample': 0.7480634801021777}\n",
      "\n",
      "Model with rank: 1\n",
      "Mean validation score: 0.726 (std: 0.004)\n",
      "Parameters: {'gamma': 0.1108196315702072, 'learning_rate': 0.14283185625877254, 'max_depth': 2, 'min_child_weight': 3, 'n_estimators': 130, 'subsample': 0.9854479908357011}\n",
      "\n",
      "Model with rank: 1\n",
      "Mean validation score: 0.726 (std: 0.004)\n",
      "Parameters: {'gamma': 0.697106618827152, 'learning_rate': 0.07944488920695858, 'max_depth': 6, 'min_child_weight': 5, 'n_estimators': 122, 'subsample': 0.7073899427560627}\n",
      "\n",
      "Model with rank: 1\n",
      "Mean validation score: 0.726 (std: 0.004)\n",
      "Parameters: {'gamma': 0.43969591199342095, 'learning_rate': 0.08726868670940494, 'max_depth': 3, 'min_child_weight': 4, 'n_estimators': 102, 'subsample': 0.828024468035746}\n",
      "\n",
      "Model with rank: 1\n",
      "Mean validation score: 0.726 (std: 0.004)\n",
      "Parameters: {'gamma': 0.16802354563953797, 'learning_rate': 0.11150072266991698, 'max_depth': 7, 'min_child_weight': 4, 'n_estimators': 101, 'subsample': 0.7016654596278955}\n",
      "\n",
      "Model with rank: 1\n",
      "Mean validation score: 0.726 (std: 0.004)\n",
      "Parameters: {'gamma': 0.3067034118932571, 'learning_rate': 0.08225507642386005, 'max_depth': 9, 'min_child_weight': 2, 'n_estimators': 108, 'subsample': 0.8809936335948436}\n",
      "\n",
      "Model with rank: 1\n",
      "Mean validation score: 0.726 (std: 0.004)\n",
      "Parameters: {'gamma': 0.3516438058538286, 'learning_rate': 0.07935918442644935, 'max_depth': 8, 'min_child_weight': 3, 'n_estimators': 134, 'subsample': 0.7024827774377832}\n",
      "\n",
      "Model with rank: 1\n",
      "Mean validation score: 0.726 (std: 0.004)\n",
      "Parameters: {'gamma': 0.5280595976059763, 'learning_rate': 0.05815941804002404, 'max_depth': 8, 'min_child_weight': 2, 'n_estimators': 135, 'subsample': 0.9193180715867101}\n",
      "\n",
      "Model with rank: 1\n",
      "Mean validation score: 0.726 (std: 0.004)\n",
      "Parameters: {'gamma': 0.5549747515444355, 'learning_rate': 0.12019668772577034, 'max_depth': 9, 'min_child_weight': 3, 'n_estimators': 111, 'subsample': 0.954646859580264}\n",
      "\n",
      "Model with rank: 1\n",
      "Mean validation score: 0.726 (std: 0.004)\n",
      "Parameters: {'gamma': 0.1193317403115933, 'learning_rate': 0.10788648955075587, 'max_depth': 9, 'min_child_weight': 4, 'n_estimators': 121, 'subsample': 0.7312610669898928}\n",
      "\n",
      "Model with rank: 1\n",
      "Mean validation score: 0.726 (std: 0.004)\n",
      "Parameters: {'gamma': 0.20852913170942095, 'learning_rate': 0.1481840888310531, 'max_depth': 7, 'min_child_weight': 3, 'n_estimators': 121, 'subsample': 0.7001005442063456}\n",
      "\n",
      "Model with rank: 1\n",
      "Mean validation score: 0.726 (std: 0.004)\n",
      "Parameters: {'gamma': 0.12718431410059625, 'learning_rate': 0.08032655146732229, 'max_depth': 4, 'min_child_weight': 5, 'n_estimators': 136, 'subsample': 0.8088973040219217}\n",
      "\n",
      "Model with rank: 1\n",
      "Mean validation score: 0.726 (std: 0.004)\n",
      "Parameters: {'gamma': 0.6389954871690275, 'learning_rate': 0.07158210274968432, 'max_depth': 6, 'min_child_weight': 4, 'n_estimators': 103, 'subsample': 0.9368092300047925}\n",
      "\n",
      "Model with rank: 1\n",
      "Mean validation score: 0.726 (std: 0.004)\n",
      "Parameters: {'gamma': 0.23606602379641112, 'learning_rate': 0.09113539050566787, 'max_depth': 4, 'min_child_weight': 4, 'n_estimators': 139, 'subsample': 0.8904365334890646}\n",
      "\n",
      "Model with rank: 1\n",
      "Mean validation score: 0.726 (std: 0.004)\n",
      "Parameters: {'gamma': 0.7830964556237742, 'learning_rate': 0.10163003483011954, 'max_depth': 7, 'min_child_weight': 4, 'n_estimators': 116, 'subsample': 0.7595283605779178}\n",
      "\n",
      "Model with rank: 1\n",
      "Mean validation score: 0.726 (std: 0.004)\n",
      "Parameters: {'gamma': 0.40346451630651947, 'learning_rate': 0.12440426429991154, 'max_depth': 3, 'min_child_weight': 2, 'n_estimators': 125, 'subsample': 0.98505936587117}\n",
      "\n",
      "Model with rank: 1\n",
      "Mean validation score: 0.726 (std: 0.004)\n",
      "Parameters: {'gamma': 0.685186084358544, 'learning_rate': 0.1195974206093698, 'max_depth': 6, 'min_child_weight': 2, 'n_estimators': 100, 'subsample': 0.7769408918924418}\n",
      "\n",
      "Model with rank: 1\n",
      "Mean validation score: 0.726 (std: 0.004)\n",
      "Parameters: {'gamma': 0.26785115141018223, 'learning_rate': 0.05938732900812918, 'max_depth': 2, 'min_child_weight': 5, 'n_estimators': 144, 'subsample': 0.7119735587783771}\n",
      "\n",
      "Model with rank: 1\n",
      "Mean validation score: 0.726 (std: 0.004)\n",
      "Parameters: {'gamma': 0.7684056964642358, 'learning_rate': 0.12378969166957686, 'max_depth': 8, 'min_child_weight': 2, 'n_estimators': 121, 'subsample': 0.8920157266247274}\n",
      "\n",
      "Model with rank: 1\n",
      "Mean validation score: 0.726 (std: 0.004)\n",
      "Parameters: {'gamma': 0.13340128938415416, 'learning_rate': 0.10660372104940763, 'max_depth': 4, 'min_child_weight': 2, 'n_estimators': 121, 'subsample': 0.6057573954519023}\n",
      "\n",
      "Model with rank: 1\n",
      "Mean validation score: 0.726 (std: 0.004)\n",
      "Parameters: {'gamma': 0.18125084835484137, 'learning_rate': 0.05460026420217528, 'max_depth': 2, 'min_child_weight': 3, 'n_estimators': 145, 'subsample': 0.9918042114486034}\n",
      "\n",
      "Model with rank: 1\n",
      "Mean validation score: 0.726 (std: 0.004)\n",
      "Parameters: {'gamma': 0.22273118892253696, 'learning_rate': 0.051716110183175026, 'max_depth': 3, 'min_child_weight': 5, 'n_estimators': 120, 'subsample': 0.7893887083122263}\n",
      "\n",
      "Model with rank: 1\n",
      "Mean validation score: 0.726 (std: 0.004)\n",
      "Parameters: {'gamma': 0.2212413089370106, 'learning_rate': 0.09338516492379731, 'max_depth': 8, 'min_child_weight': 3, 'n_estimators': 109, 'subsample': 0.9796582926365544}\n",
      "\n",
      "Model with rank: 1\n",
      "Mean validation score: 0.726 (std: 0.004)\n",
      "Parameters: {'gamma': 0.7206762711086332, 'learning_rate': 0.0760893623341714, 'max_depth': 3, 'min_child_weight': 3, 'n_estimators': 118, 'subsample': 0.8012545034320351}\n",
      "\n",
      "Model with rank: 1\n",
      "Mean validation score: 0.726 (std: 0.004)\n",
      "Parameters: {'gamma': 0.6995428888318256, 'learning_rate': 0.1158693631618945, 'max_depth': 5, 'min_child_weight': 5, 'n_estimators': 123, 'subsample': 0.9775566418243029}\n",
      "\n",
      "Model with rank: 1\n",
      "Mean validation score: 0.726 (std: 0.004)\n",
      "Parameters: {'gamma': 0.7609761179876171, 'learning_rate': 0.1367198933555004, 'max_depth': 9, 'min_child_weight': 4, 'n_estimators': 119, 'subsample': 0.8301896711503516}\n",
      "\n",
      "Model with rank: 1\n",
      "Mean validation score: 0.726 (std: 0.004)\n",
      "Parameters: {'gamma': 0.3717189483445653, 'learning_rate': 0.11432882184423532, 'max_depth': 2, 'min_child_weight': 2, 'n_estimators': 142, 'subsample': 0.97658592351061}\n",
      "\n",
      "Model with rank: 1\n",
      "Mean validation score: 0.726 (std: 0.004)\n",
      "Parameters: {'gamma': 0.370271846460542, 'learning_rate': 0.14611905638239142, 'max_depth': 3, 'min_child_weight': 4, 'n_estimators': 143, 'subsample': 0.7095844509284535}\n",
      "\n",
      "Model with rank: 1\n",
      "Mean validation score: 0.726 (std: 0.004)\n",
      "Parameters: {'gamma': 0.25021238379586186, 'learning_rate': 0.08772590832279759, 'max_depth': 6, 'min_child_weight': 4, 'n_estimators': 149, 'subsample': 0.8732027093665427}\n",
      "\n",
      "Model with rank: 1\n",
      "Mean validation score: 0.726 (std: 0.004)\n",
      "Parameters: {'gamma': 0.14983205392216029, 'learning_rate': 0.08189756302937613, 'max_depth': 3, 'min_child_weight': 3, 'n_estimators': 125, 'subsample': 0.736249827785696}\n",
      "\n",
      "Model with rank: 1\n",
      "Mean validation score: 0.726 (std: 0.004)\n",
      "Parameters: {'gamma': 0.2824861697651322, 'learning_rate': 0.09960374542934063, 'max_depth': 3, 'min_child_weight': 2, 'n_estimators': 149, 'subsample': 0.8515771387119535}\n",
      "\n",
      "Model with rank: 1\n",
      "Mean validation score: 0.726 (std: 0.004)\n",
      "Parameters: {'gamma': 0.714230409468937, 'learning_rate': 0.12350710438038859, 'max_depth': 6, 'min_child_weight': 2, 'n_estimators': 135, 'subsample': 0.6709758175118891}\n",
      "\n",
      "Model with rank: 1\n",
      "Mean validation score: 0.726 (std: 0.004)\n",
      "Parameters: {'gamma': 0.6254303261486007, 'learning_rate': 0.1306834739267264, 'max_depth': 2, 'min_child_weight': 4, 'n_estimators': 147, 'subsample': 0.6510758917689862}\n",
      "\n",
      "Model with rank: 1\n",
      "Mean validation score: 0.726 (std: 0.004)\n",
      "Parameters: {'gamma': 0.27501151445127325, 'learning_rate': 0.10805440123439099, 'max_depth': 8, 'min_child_weight': 3, 'n_estimators': 131, 'subsample': 0.9433651007372047}\n",
      "\n",
      "Model with rank: 1\n",
      "Mean validation score: 0.726 (std: 0.004)\n",
      "Parameters: {'gamma': 0.4002958191625128, 'learning_rate': 0.12508710677914975, 'max_depth': 2, 'min_child_weight': 4, 'n_estimators': 140, 'subsample': 0.7510915544705179}\n",
      "\n",
      "Model with rank: 1\n",
      "Mean validation score: 0.726 (std: 0.004)\n",
      "Parameters: {'gamma': 0.4740292314713944, 'learning_rate': 0.09965611906830778, 'max_depth': 2, 'min_child_weight': 3, 'n_estimators': 112, 'subsample': 0.9582092913984802}\n",
      "\n",
      "Model with rank: 1\n",
      "Mean validation score: 0.726 (std: 0.004)\n",
      "Parameters: {'gamma': 0.37244117511391417, 'learning_rate': 0.05108376514802984, 'max_depth': 2, 'min_child_weight': 4, 'n_estimators': 111, 'subsample': 0.7419620761850882}\n",
      "\n",
      "Model with rank: 1\n",
      "Mean validation score: 0.726 (std: 0.004)\n",
      "Parameters: {'gamma': 0.7697606195885194, 'learning_rate': 0.11767699044243034, 'max_depth': 5, 'min_child_weight': 4, 'n_estimators': 146, 'subsample': 0.6333137644781038}\n",
      "\n",
      "Model with rank: 1\n",
      "Mean validation score: 0.726 (std: 0.004)\n",
      "Parameters: {'gamma': 0.16419290308093676, 'learning_rate': 0.1102440925901119, 'max_depth': 5, 'min_child_weight': 4, 'n_estimators': 120, 'subsample': 0.900949811775072}\n",
      "\n",
      "Model with rank: 1\n",
      "Mean validation score: 0.726 (std: 0.004)\n",
      "Parameters: {'gamma': 0.654105330608094, 'learning_rate': 0.1289618142794554, 'max_depth': 6, 'min_child_weight': 2, 'n_estimators': 141, 'subsample': 0.9896992834137641}\n",
      "\n",
      "Model with rank: 1\n",
      "Mean validation score: 0.726 (std: 0.004)\n",
      "Parameters: {'gamma': 0.7971518694212303, 'learning_rate': 0.05558711546773501, 'max_depth': 4, 'min_child_weight': 4, 'n_estimators': 128, 'subsample': 0.7403660050208315}\n",
      "\n",
      "Model with rank: 1\n",
      "Mean validation score: 0.726 (std: 0.004)\n",
      "Parameters: {'gamma': 0.1819469114993241, 'learning_rate': 0.06429916820528359, 'max_depth': 3, 'min_child_weight': 3, 'n_estimators': 143, 'subsample': 0.9467474821243366}\n",
      "\n",
      "Model with rank: 1\n",
      "Mean validation score: 0.726 (std: 0.004)\n",
      "Parameters: {'gamma': 0.6869365346347894, 'learning_rate': 0.09260914750469412, 'max_depth': 9, 'min_child_weight': 3, 'n_estimators': 108, 'subsample': 0.9287440237161425}\n",
      "\n",
      "Model with rank: 1\n",
      "Mean validation score: 0.726 (std: 0.004)\n",
      "Parameters: {'gamma': 0.5943695590095474, 'learning_rate': 0.05813487806418998, 'max_depth': 6, 'min_child_weight': 3, 'n_estimators': 118, 'subsample': 0.8325221668907129}\n",
      "\n",
      "Model with rank: 1\n",
      "Mean validation score: 0.726 (std: 0.004)\n",
      "Parameters: {'gamma': 0.7041969653923027, 'learning_rate': 0.1380359968638417, 'max_depth': 2, 'min_child_weight': 4, 'n_estimators': 106, 'subsample': 0.9944004255291483}\n",
      "\n",
      "Model with rank: 1\n",
      "Mean validation score: 0.726 (std: 0.004)\n",
      "Parameters: {'gamma': 0.6273647296812591, 'learning_rate': 0.08762595855309158, 'max_depth': 8, 'min_child_weight': 4, 'n_estimators': 143, 'subsample': 0.8233616998943221}\n",
      "\n",
      "Model with rank: 1\n",
      "Mean validation score: 0.726 (std: 0.004)\n",
      "Parameters: {'gamma': 0.3969554064728834, 'learning_rate': 0.1406354385094736, 'max_depth': 8, 'min_child_weight': 3, 'n_estimators': 102, 'subsample': 0.7014728695492555}\n",
      "\n",
      "Model with rank: 1\n",
      "Mean validation score: 0.726 (std: 0.004)\n",
      "Parameters: {'gamma': 0.383641460746992, 'learning_rate': 0.10714730252050107, 'max_depth': 5, 'min_child_weight': 5, 'n_estimators': 107, 'subsample': 0.6470104987108419}\n",
      "\n",
      "Model with rank: 1\n",
      "Mean validation score: 0.726 (std: 0.004)\n",
      "Parameters: {'gamma': 0.5544472114812444, 'learning_rate': 0.12460448792654233, 'max_depth': 6, 'min_child_weight': 5, 'n_estimators': 148, 'subsample': 0.6331565286773416}\n",
      "\n",
      "Model with rank: 1\n",
      "Mean validation score: 0.726 (std: 0.004)\n",
      "Parameters: {'gamma': 0.4698590849080464, 'learning_rate': 0.0936335831606556, 'max_depth': 3, 'min_child_weight': 5, 'n_estimators': 144, 'subsample': 0.9879515306830556}\n",
      "\n",
      "Model with rank: 1\n",
      "Mean validation score: 0.726 (std: 0.004)\n",
      "Parameters: {'gamma': 0.1302119383654033, 'learning_rate': 0.13911431136980712, 'max_depth': 7, 'min_child_weight': 2, 'n_estimators': 110, 'subsample': 0.9676462861114637}\n",
      "\n",
      "Model with rank: 1\n",
      "Mean validation score: 0.726 (std: 0.004)\n",
      "Parameters: {'gamma': 0.2770931175924688, 'learning_rate': 0.11954111231066476, 'max_depth': 2, 'min_child_weight': 3, 'n_estimators': 146, 'subsample': 0.851759455254105}\n",
      "\n",
      "Model with rank: 1\n",
      "Mean validation score: 0.726 (std: 0.004)\n",
      "Parameters: {'gamma': 0.587024082289232, 'learning_rate': 0.09545410647677732, 'max_depth': 6, 'min_child_weight': 3, 'n_estimators': 102, 'subsample': 0.9604632041963956}\n",
      "\n",
      "Model with rank: 1\n",
      "Mean validation score: 0.726 (std: 0.004)\n",
      "Parameters: {'gamma': 0.13181246623902051, 'learning_rate': 0.07809631895922303, 'max_depth': 9, 'min_child_weight': 5, 'n_estimators': 107, 'subsample': 0.7578087194432519}\n",
      "\n",
      "Model with rank: 1\n",
      "Mean validation score: 0.726 (std: 0.004)\n",
      "Parameters: {'gamma': 0.17472924615511906, 'learning_rate': 0.08356600647969632, 'max_depth': 3, 'min_child_weight': 5, 'n_estimators': 135, 'subsample': 0.7854793619759929}\n",
      "\n",
      "Model with rank: 1\n",
      "Mean validation score: 0.726 (std: 0.004)\n",
      "Parameters: {'gamma': 0.34734655961823696, 'learning_rate': 0.10836561118508721, 'max_depth': 5, 'min_child_weight': 2, 'n_estimators': 140, 'subsample': 0.703979945141705}\n",
      "\n",
      "Model with rank: 1\n",
      "Mean validation score: 0.726 (std: 0.004)\n",
      "Parameters: {'gamma': 0.4172685927801817, 'learning_rate': 0.05323159511096505, 'max_depth': 2, 'min_child_weight': 2, 'n_estimators': 119, 'subsample': 0.8411127528093194}\n",
      "\n",
      "Model with rank: 1\n",
      "Mean validation score: 0.726 (std: 0.004)\n",
      "Parameters: {'gamma': 0.2896703497605909, 'learning_rate': 0.06331851252237497, 'max_depth': 4, 'min_child_weight': 2, 'n_estimators': 105, 'subsample': 0.9799199653167696}\n",
      "\n",
      "Model with rank: 1\n",
      "Mean validation score: 0.726 (std: 0.004)\n",
      "Parameters: {'gamma': 0.6080036558718519, 'learning_rate': 0.11134151959357899, 'max_depth': 3, 'min_child_weight': 3, 'n_estimators': 129, 'subsample': 0.9464255558001633}\n",
      "\n",
      "Model with rank: 1\n",
      "Mean validation score: 0.726 (std: 0.004)\n",
      "Parameters: {'gamma': 0.13165306907433258, 'learning_rate': 0.052636697449725205, 'max_depth': 2, 'min_child_weight': 3, 'n_estimators': 100, 'subsample': 0.7921480327465419}\n",
      "\n",
      "Model with rank: 1\n",
      "Mean validation score: 0.726 (std: 0.004)\n",
      "Parameters: {'gamma': 0.789700235465853, 'learning_rate': 0.08767389699379408, 'max_depth': 3, 'min_child_weight': 4, 'n_estimators': 124, 'subsample': 0.9879657591258413}\n",
      "\n",
      "Model with rank: 1\n",
      "Mean validation score: 0.726 (std: 0.004)\n",
      "Parameters: {'gamma': 0.689483246194996, 'learning_rate': 0.1338328704711138, 'max_depth': 3, 'min_child_weight': 2, 'n_estimators': 134, 'subsample': 0.6535408475202532}\n",
      "\n",
      "Model with rank: 1\n",
      "Mean validation score: 0.726 (std: 0.004)\n",
      "Parameters: {'gamma': 0.1095703753788981, 'learning_rate': 0.057535906035246234, 'max_depth': 5, 'min_child_weight': 2, 'n_estimators': 104, 'subsample': 0.9998870693144523}\n",
      "\n",
      "Model with rank: 1\n",
      "Mean validation score: 0.726 (std: 0.004)\n",
      "Parameters: {'gamma': 0.7976457859517337, 'learning_rate': 0.10554317056026274, 'max_depth': 6, 'min_child_weight': 2, 'n_estimators': 136, 'subsample': 0.9028324808169823}\n",
      "\n",
      "Model with rank: 1\n",
      "Mean validation score: 0.726 (std: 0.004)\n",
      "Parameters: {'gamma': 0.3644953844930505, 'learning_rate': 0.0741084832329632, 'max_depth': 2, 'min_child_weight': 3, 'n_estimators': 100, 'subsample': 0.981620410903489}\n",
      "\n",
      "Model with rank: 1\n",
      "Mean validation score: 0.726 (std: 0.004)\n",
      "Parameters: {'gamma': 0.524322244115616, 'learning_rate': 0.07286428055034627, 'max_depth': 2, 'min_child_weight': 5, 'n_estimators': 131, 'subsample': 0.6187585871164879}\n",
      "\n",
      "Model with rank: 1\n",
      "Mean validation score: 0.726 (std: 0.004)\n",
      "Parameters: {'gamma': 0.28807073741771516, 'learning_rate': 0.05221847420303016, 'max_depth': 3, 'min_child_weight': 3, 'n_estimators': 102, 'subsample': 0.8080654004447974}\n",
      "\n",
      "Model with rank: 1\n",
      "Mean validation score: 0.726 (std: 0.004)\n",
      "Parameters: {'gamma': 0.696527050222978, 'learning_rate': 0.10519068387744857, 'max_depth': 6, 'min_child_weight': 3, 'n_estimators': 129, 'subsample': 0.9167271357878531}\n",
      "\n",
      "Model with rank: 1\n",
      "Mean validation score: 0.726 (std: 0.004)\n",
      "Parameters: {'gamma': 0.5129691279963452, 'learning_rate': 0.09800459670184752, 'max_depth': 8, 'min_child_weight': 4, 'n_estimators': 136, 'subsample': 0.8481238205413859}\n",
      "\n",
      "Model with rank: 1\n",
      "Mean validation score: 0.726 (std: 0.004)\n",
      "Parameters: {'gamma': 0.5928558376694565, 'learning_rate': 0.07129641615089108, 'max_depth': 7, 'min_child_weight': 5, 'n_estimators': 133, 'subsample': 0.7402350235226388}\n",
      "\n",
      "Model with rank: 1\n",
      "Mean validation score: 0.726 (std: 0.004)\n",
      "Parameters: {'gamma': 0.5129423807982432, 'learning_rate': 0.08922440450997324, 'max_depth': 4, 'min_child_weight': 4, 'n_estimators': 133, 'subsample': 0.7393021868093201}\n",
      "\n",
      "Model with rank: 1\n",
      "Mean validation score: 0.726 (std: 0.004)\n",
      "Parameters: {'gamma': 0.45979264241186757, 'learning_rate': 0.12836530127411433, 'max_depth': 5, 'min_child_weight': 3, 'n_estimators': 141, 'subsample': 0.9449454834986981}\n",
      "\n",
      "Model with rank: 1\n",
      "Mean validation score: 0.726 (std: 0.004)\n",
      "Parameters: {'gamma': 0.7646644365603494, 'learning_rate': 0.0647073480929038, 'max_depth': 9, 'min_child_weight': 2, 'n_estimators': 109, 'subsample': 0.907567096526159}\n",
      "\n",
      "Model with rank: 1\n",
      "Mean validation score: 0.726 (std: 0.004)\n",
      "Parameters: {'gamma': 0.1463651844963061, 'learning_rate': 0.0545861266404633, 'max_depth': 7, 'min_child_weight': 2, 'n_estimators': 101, 'subsample': 0.7315006441150033}\n",
      "\n",
      "Model with rank: 1\n",
      "Mean validation score: 0.726 (std: 0.004)\n",
      "Parameters: {'gamma': 0.543380598021708, 'learning_rate': 0.07401456187781931, 'max_depth': 4, 'min_child_weight': 4, 'n_estimators': 122, 'subsample': 0.6512183355831089}\n",
      "\n",
      "Model with rank: 1\n",
      "Mean validation score: 0.726 (std: 0.004)\n",
      "Parameters: {'gamma': 0.20633188545860603, 'learning_rate': 0.06388271726494102, 'max_depth': 9, 'min_child_weight': 5, 'n_estimators': 139, 'subsample': 0.8786005864908315}\n",
      "\n",
      "Model with rank: 1\n",
      "Mean validation score: 0.726 (std: 0.004)\n",
      "Parameters: {'gamma': 0.3881628500502696, 'learning_rate': 0.1374317604854417, 'max_depth': 4, 'min_child_weight': 2, 'n_estimators': 131, 'subsample': 0.668927948480652}\n",
      "\n",
      "Model with rank: 1\n",
      "Mean validation score: 0.726 (std: 0.004)\n",
      "Parameters: {'gamma': 0.23460231316606953, 'learning_rate': 0.054086861626647886, 'max_depth': 6, 'min_child_weight': 3, 'n_estimators': 127, 'subsample': 0.7390476857930735}\n",
      "\n",
      "Model with rank: 1\n",
      "Mean validation score: 0.726 (std: 0.004)\n",
      "Parameters: {'gamma': 0.12226327703961559, 'learning_rate': 0.10487153092074086, 'max_depth': 6, 'min_child_weight': 2, 'n_estimators': 111, 'subsample': 0.682533487362317}\n",
      "\n",
      "Model with rank: 1\n",
      "Mean validation score: 0.726 (std: 0.004)\n",
      "Parameters: {'gamma': 0.3549889027336528, 'learning_rate': 0.1003417270854857, 'max_depth': 6, 'min_child_weight': 4, 'n_estimators': 108, 'subsample': 0.6369162344914984}\n",
      "\n",
      "Model with rank: 1\n",
      "Mean validation score: 0.726 (std: 0.004)\n",
      "Parameters: {'gamma': 0.43680177583940527, 'learning_rate': 0.11877847170960831, 'max_depth': 9, 'min_child_weight': 3, 'n_estimators': 142, 'subsample': 0.9683489602127253}\n",
      "\n",
      "Model with rank: 1\n",
      "Mean validation score: 0.726 (std: 0.004)\n",
      "Parameters: {'gamma': 0.14275457189840463, 'learning_rate': 0.07768776481472038, 'max_depth': 2, 'min_child_weight': 5, 'n_estimators': 148, 'subsample': 0.8389112329021722}\n",
      "\n",
      "Model with rank: 1\n",
      "Mean validation score: 0.726 (std: 0.004)\n",
      "Parameters: {'gamma': 0.7903798971067706, 'learning_rate': 0.10365906459873325, 'max_depth': 9, 'min_child_weight': 3, 'n_estimators': 113, 'subsample': 0.8473019086121184}\n",
      "\n",
      "Model with rank: 1\n",
      "Mean validation score: 0.726 (std: 0.004)\n",
      "Parameters: {'gamma': 0.3582395476988407, 'learning_rate': 0.0962534716133148, 'max_depth': 6, 'min_child_weight': 3, 'n_estimators': 113, 'subsample': 0.6590956367624906}\n",
      "\n",
      "Model with rank: 1\n",
      "Mean validation score: 0.726 (std: 0.004)\n",
      "Parameters: {'gamma': 0.19318185001123478, 'learning_rate': 0.11871655054033312, 'max_depth': 8, 'min_child_weight': 3, 'n_estimators': 142, 'subsample': 0.8128453941061262}\n",
      "\n",
      "Model with rank: 1\n",
      "Mean validation score: 0.726 (std: 0.004)\n",
      "Parameters: {'gamma': 0.17502040793784324, 'learning_rate': 0.09474123668234546, 'max_depth': 4, 'min_child_weight': 4, 'n_estimators': 114, 'subsample': 0.6419476666129923}\n",
      "\n",
      "Model with rank: 1\n",
      "Mean validation score: 0.726 (std: 0.004)\n",
      "Parameters: {'gamma': 0.6161836442656733, 'learning_rate': 0.06822838784759581, 'max_depth': 8, 'min_child_weight': 2, 'n_estimators': 116, 'subsample': 0.6845792027986178}\n",
      "\n",
      "Model with rank: 1\n",
      "Mean validation score: 0.726 (std: 0.004)\n",
      "Parameters: {'gamma': 0.32924814652454026, 'learning_rate': 0.06197621318192512, 'max_depth': 2, 'min_child_weight': 2, 'n_estimators': 119, 'subsample': 0.7895879765722225}\n",
      "\n",
      "Model with rank: 1\n",
      "Mean validation score: 0.726 (std: 0.004)\n",
      "Parameters: {'gamma': 0.3485730122955133, 'learning_rate': 0.11488228402915761, 'max_depth': 3, 'min_child_weight': 4, 'n_estimators': 135, 'subsample': 0.8148426167274191}\n",
      "\n",
      "Model with rank: 1\n",
      "Mean validation score: 0.726 (std: 0.004)\n",
      "Parameters: {'gamma': 0.5107887826146154, 'learning_rate': 0.124543947418433, 'max_depth': 2, 'min_child_weight': 5, 'n_estimators': 118, 'subsample': 0.7515090503805157}\n",
      "\n",
      "Model with rank: 1\n",
      "Mean validation score: 0.726 (std: 0.004)\n",
      "Parameters: {'gamma': 0.3362127837103427, 'learning_rate': 0.13996473971450124, 'max_depth': 9, 'min_child_weight': 3, 'n_estimators': 144, 'subsample': 0.7321393925123656}\n",
      "\n",
      "Model with rank: 1\n",
      "Mean validation score: 0.726 (std: 0.004)\n",
      "Parameters: {'gamma': 0.7535842766319122, 'learning_rate': 0.05075343631340748, 'max_depth': 6, 'min_child_weight': 3, 'n_estimators': 105, 'subsample': 0.6983830913538033}\n",
      "\n",
      "Model with rank: 1\n",
      "Mean validation score: 0.726 (std: 0.004)\n",
      "Parameters: {'gamma': 0.21247696128168897, 'learning_rate': 0.06865670240513058, 'max_depth': 7, 'min_child_weight': 3, 'n_estimators': 130, 'subsample': 0.6222613957427902}\n",
      "\n",
      "Model with rank: 1\n",
      "Mean validation score: 0.726 (std: 0.004)\n",
      "Parameters: {'gamma': 0.6896198247087271, 'learning_rate': 0.055163547787451285, 'max_depth': 8, 'min_child_weight': 5, 'n_estimators': 136, 'subsample': 0.9929514467634426}\n",
      "\n",
      "Model with rank: 1\n",
      "Mean validation score: 0.726 (std: 0.004)\n",
      "Parameters: {'gamma': 0.17842723151763665, 'learning_rate': 0.08978555990457417, 'max_depth': 5, 'min_child_weight': 4, 'n_estimators': 103, 'subsample': 0.6021200025590422}\n",
      "\n",
      "Model with rank: 1\n",
      "Mean validation score: 0.726 (std: 0.004)\n",
      "Parameters: {'gamma': 0.7825470140615997, 'learning_rate': 0.09907487792587845, 'max_depth': 7, 'min_child_weight': 4, 'n_estimators': 101, 'subsample': 0.8227051572055719}\n",
      "\n",
      "Model with rank: 1\n",
      "Mean validation score: 0.726 (std: 0.004)\n",
      "Parameters: {'gamma': 0.5001288826289298, 'learning_rate': 0.07799790936602842, 'max_depth': 5, 'min_child_weight': 2, 'n_estimators': 105, 'subsample': 0.9871976266016937}\n",
      "\n",
      "Model with rank: 1\n",
      "Mean validation score: 0.726 (std: 0.004)\n",
      "Parameters: {'gamma': 0.5976667351857238, 'learning_rate': 0.06995069273383198, 'max_depth': 5, 'min_child_weight': 2, 'n_estimators': 111, 'subsample': 0.6459347298956813}\n",
      "\n",
      "Model with rank: 1\n",
      "Mean validation score: 0.726 (std: 0.004)\n",
      "Parameters: {'gamma': 0.5274340297091428, 'learning_rate': 0.07886305532402559, 'max_depth': 6, 'min_child_weight': 3, 'n_estimators': 110, 'subsample': 0.9728057369027736}\n",
      "\n",
      "Model with rank: 1\n",
      "Mean validation score: 0.726 (std: 0.004)\n",
      "Parameters: {'gamma': 0.32444953451166, 'learning_rate': 0.10938830975578989, 'max_depth': 7, 'min_child_weight': 3, 'n_estimators': 109, 'subsample': 0.8194412471752612}\n",
      "\n",
      "Model with rank: 1\n",
      "Mean validation score: 0.726 (std: 0.004)\n",
      "Parameters: {'gamma': 0.48424538592228406, 'learning_rate': 0.07017304623302359, 'max_depth': 9, 'min_child_weight': 3, 'n_estimators': 119, 'subsample': 0.7018562619055055}\n",
      "\n",
      "Model with rank: 1\n",
      "Mean validation score: 0.726 (std: 0.004)\n",
      "Parameters: {'gamma': 0.5770519055567505, 'learning_rate': 0.12602278598896866, 'max_depth': 4, 'min_child_weight': 4, 'n_estimators': 123, 'subsample': 0.8424407524223354}\n",
      "\n",
      "Model with rank: 1\n",
      "Mean validation score: 0.726 (std: 0.004)\n",
      "Parameters: {'gamma': 0.6560026149765237, 'learning_rate': 0.060669925011343606, 'max_depth': 6, 'min_child_weight': 3, 'n_estimators': 143, 'subsample': 0.7634073171743667}\n",
      "\n",
      "Model with rank: 1\n",
      "Mean validation score: 0.726 (std: 0.004)\n",
      "Parameters: {'gamma': 0.7530566469699682, 'learning_rate': 0.14909294764573905, 'max_depth': 3, 'min_child_weight': 5, 'n_estimators': 134, 'subsample': 0.6265985069467109}\n",
      "\n",
      "Model with rank: 1\n",
      "Mean validation score: 0.726 (std: 0.004)\n",
      "Parameters: {'gamma': 0.6187844545030413, 'learning_rate': 0.10744731131799119, 'max_depth': 9, 'min_child_weight': 2, 'n_estimators': 107, 'subsample': 0.9311763548709968}\n",
      "\n",
      "Model with rank: 1\n",
      "Mean validation score: 0.726 (std: 0.004)\n",
      "Parameters: {'gamma': 0.6253513473357194, 'learning_rate': 0.12995371309195158, 'max_depth': 4, 'min_child_weight': 2, 'n_estimators': 136, 'subsample': 0.9258298880925528}\n",
      "\n",
      "Model with rank: 1\n",
      "Mean validation score: 0.726 (std: 0.004)\n",
      "Parameters: {'gamma': 0.5656380544873401, 'learning_rate': 0.10230654247691194, 'max_depth': 5, 'min_child_weight': 2, 'n_estimators': 144, 'subsample': 0.8353226703180227}\n",
      "\n",
      "Model with rank: 1\n",
      "Mean validation score: 0.726 (std: 0.004)\n",
      "Parameters: {'gamma': 0.5780874443919927, 'learning_rate': 0.09519486012990393, 'max_depth': 9, 'min_child_weight': 3, 'n_estimators': 131, 'subsample': 0.7850719142678426}\n",
      "\n",
      "Model with rank: 1\n",
      "Mean validation score: 0.726 (std: 0.004)\n",
      "Parameters: {'gamma': 0.3109645119148995, 'learning_rate': 0.12476093801762511, 'max_depth': 8, 'min_child_weight': 2, 'n_estimators': 124, 'subsample': 0.7421449807273583}\n",
      "\n",
      "Model with rank: 1\n",
      "Mean validation score: 0.726 (std: 0.004)\n",
      "Parameters: {'gamma': 0.3740374771410513, 'learning_rate': 0.10318574796881741, 'max_depth': 6, 'min_child_weight': 5, 'n_estimators': 139, 'subsample': 0.8496951983655968}\n",
      "\n",
      "Model with rank: 1\n",
      "Mean validation score: 0.726 (std: 0.004)\n",
      "Parameters: {'gamma': 0.18182862849585485, 'learning_rate': 0.14398321236134753, 'max_depth': 8, 'min_child_weight': 4, 'n_estimators': 107, 'subsample': 0.8774870429613353}\n",
      "\n",
      "Model with rank: 1\n",
      "Mean validation score: 0.726 (std: 0.004)\n",
      "Parameters: {'gamma': 0.2167115319953682, 'learning_rate': 0.1378629115373438, 'max_depth': 2, 'min_child_weight': 5, 'n_estimators': 129, 'subsample': 0.9575570332203831}\n",
      "\n",
      "Model with rank: 1\n",
      "Mean validation score: 0.726 (std: 0.004)\n",
      "Parameters: {'gamma': 0.6520180478571714, 'learning_rate': 0.06516748797327512, 'max_depth': 2, 'min_child_weight': 2, 'n_estimators': 136, 'subsample': 0.9114287756203004}\n",
      "\n",
      "Model with rank: 1\n",
      "Mean validation score: 0.726 (std: 0.004)\n",
      "Parameters: {'gamma': 0.20018958988392874, 'learning_rate': 0.07045445931694633, 'max_depth': 3, 'min_child_weight': 3, 'n_estimators': 104, 'subsample': 0.9507062547046998}\n",
      "\n",
      "Model with rank: 1\n",
      "Mean validation score: 0.726 (std: 0.004)\n",
      "Parameters: {'gamma': 0.3394572241011352, 'learning_rate': 0.13212573046720127, 'max_depth': 8, 'min_child_weight': 4, 'n_estimators': 135, 'subsample': 0.7828000877126713}\n",
      "\n",
      "Model with rank: 1\n",
      "Mean validation score: 0.726 (std: 0.004)\n",
      "Parameters: {'gamma': 0.5227705104507587, 'learning_rate': 0.10022883474625302, 'max_depth': 9, 'min_child_weight': 2, 'n_estimators': 128, 'subsample': 0.6917005580930566}\n",
      "\n",
      "Model with rank: 1\n",
      "Mean validation score: 0.726 (std: 0.004)\n",
      "Parameters: {'gamma': 0.6055767978751464, 'learning_rate': 0.12200365365460744, 'max_depth': 8, 'min_child_weight': 4, 'n_estimators': 135, 'subsample': 0.8170897773390384}\n",
      "\n",
      "Model with rank: 1\n",
      "Mean validation score: 0.726 (std: 0.004)\n",
      "Parameters: {'gamma': 0.27625934123486695, 'learning_rate': 0.08456959935039195, 'max_depth': 4, 'min_child_weight': 3, 'n_estimators': 109, 'subsample': 0.7370097028714173}\n",
      "\n",
      "Model with rank: 1\n",
      "Mean validation score: 0.726 (std: 0.004)\n",
      "Parameters: {'gamma': 0.2591456881209909, 'learning_rate': 0.0923596862420483, 'max_depth': 3, 'min_child_weight': 3, 'n_estimators': 142, 'subsample': 0.661340561246432}\n",
      "\n",
      "Model with rank: 1\n",
      "Mean validation score: 0.726 (std: 0.004)\n",
      "Parameters: {'gamma': 0.510360882411758, 'learning_rate': 0.1005888678884466, 'max_depth': 2, 'min_child_weight': 2, 'n_estimators': 146, 'subsample': 0.8904382344249603}\n",
      "\n",
      "Model with rank: 1\n",
      "Mean validation score: 0.726 (std: 0.004)\n",
      "Parameters: {'gamma': 0.5150740336811751, 'learning_rate': 0.06022126642251996, 'max_depth': 9, 'min_child_weight': 5, 'n_estimators': 104, 'subsample': 0.9689997524709183}\n",
      "\n",
      "Model with rank: 1\n",
      "Mean validation score: 0.726 (std: 0.004)\n",
      "Parameters: {'gamma': 0.595067044019379, 'learning_rate': 0.06525390429142613, 'max_depth': 5, 'min_child_weight': 4, 'n_estimators': 108, 'subsample': 0.7696522685209544}\n",
      "\n",
      "Model with rank: 1\n",
      "Mean validation score: 0.726 (std: 0.004)\n",
      "Parameters: {'gamma': 0.615510964937306, 'learning_rate': 0.1434367014769015, 'max_depth': 7, 'min_child_weight': 4, 'n_estimators': 122, 'subsample': 0.6491243127382935}\n",
      "\n",
      "Model with rank: 1\n",
      "Mean validation score: 0.726 (std: 0.004)\n",
      "Parameters: {'gamma': 0.26513422421655686, 'learning_rate': 0.06655205103672898, 'max_depth': 5, 'min_child_weight': 3, 'n_estimators': 122, 'subsample': 0.9683367530469489}\n",
      "\n",
      "Model with rank: 1\n",
      "Mean validation score: 0.726 (std: 0.004)\n",
      "Parameters: {'gamma': 0.7089274534434897, 'learning_rate': 0.10188380571260722, 'max_depth': 9, 'min_child_weight': 4, 'n_estimators': 120, 'subsample': 0.7517222793542195}\n",
      "\n",
      "Model with rank: 1\n",
      "Mean validation score: 0.726 (std: 0.004)\n",
      "Parameters: {'gamma': 0.6209747562903022, 'learning_rate': 0.07055798083756376, 'max_depth': 2, 'min_child_weight': 2, 'n_estimators': 125, 'subsample': 0.7333996686764577}\n",
      "\n",
      "Model with rank: 1\n",
      "Mean validation score: 0.726 (std: 0.004)\n",
      "Parameters: {'gamma': 0.37871808551366026, 'learning_rate': 0.10373956029379229, 'max_depth': 4, 'min_child_weight': 3, 'n_estimators': 101, 'subsample': 0.7862800489275252}\n",
      "\n",
      "Model with rank: 1\n",
      "Mean validation score: 0.726 (std: 0.004)\n",
      "Parameters: {'gamma': 0.4365858846623515, 'learning_rate': 0.14184547249393012, 'max_depth': 9, 'min_child_weight': 4, 'n_estimators': 143, 'subsample': 0.9650997851516515}\n",
      "\n",
      "Model with rank: 1\n",
      "Mean validation score: 0.726 (std: 0.004)\n",
      "Parameters: {'gamma': 0.2737585099300063, 'learning_rate': 0.10776319540915473, 'max_depth': 5, 'min_child_weight': 3, 'n_estimators': 123, 'subsample': 0.724589268453103}\n",
      "\n",
      "Model with rank: 1\n",
      "Mean validation score: 0.726 (std: 0.004)\n",
      "Parameters: {'gamma': 0.6463469952822612, 'learning_rate': 0.07775871726294181, 'max_depth': 3, 'min_child_weight': 5, 'n_estimators': 149, 'subsample': 0.8654149488066842}\n",
      "\n",
      "Model with rank: 1\n",
      "Mean validation score: 0.726 (std: 0.004)\n",
      "Parameters: {'gamma': 0.224625176808826, 'learning_rate': 0.1461070317469455, 'max_depth': 2, 'min_child_weight': 5, 'n_estimators': 121, 'subsample': 0.6341398672314575}\n",
      "\n",
      "Model with rank: 1\n",
      "Mean validation score: 0.726 (std: 0.004)\n",
      "Parameters: {'gamma': 0.797811976292163, 'learning_rate': 0.10021950103312427, 'max_depth': 2, 'min_child_weight': 5, 'n_estimators': 112, 'subsample': 0.7589272461830392}\n",
      "\n",
      "Model with rank: 1\n",
      "Mean validation score: 0.726 (std: 0.004)\n",
      "Parameters: {'gamma': 0.39875223373572455, 'learning_rate': 0.12997820220742695, 'max_depth': 7, 'min_child_weight': 5, 'n_estimators': 129, 'subsample': 0.6762750882654667}\n",
      "\n",
      "Model with rank: 1\n",
      "Mean validation score: 0.726 (std: 0.004)\n",
      "Parameters: {'gamma': 0.12558476749366643, 'learning_rate': 0.09720669451099993, 'max_depth': 9, 'min_child_weight': 4, 'n_estimators': 117, 'subsample': 0.7176178716883886}\n",
      "\n",
      "Model with rank: 1\n",
      "Mean validation score: 0.726 (std: 0.004)\n",
      "Parameters: {'gamma': 0.5998414398528797, 'learning_rate': 0.10276477301447859, 'max_depth': 7, 'min_child_weight': 5, 'n_estimators': 148, 'subsample': 0.7603052243501304}\n",
      "\n",
      "Model with rank: 1\n",
      "Mean validation score: 0.726 (std: 0.004)\n",
      "Parameters: {'gamma': 0.49174823191575245, 'learning_rate': 0.06552402459307126, 'max_depth': 2, 'min_child_weight': 5, 'n_estimators': 128, 'subsample': 0.6302013455215557}\n",
      "\n",
      "Model with rank: 1\n",
      "Mean validation score: 0.726 (std: 0.004)\n",
      "Parameters: {'gamma': 0.6272723545232155, 'learning_rate': 0.07723018547202995, 'max_depth': 4, 'min_child_weight': 3, 'n_estimators': 133, 'subsample': 0.7634936684392386}\n",
      "\n",
      "Model with rank: 1\n",
      "Mean validation score: 0.726 (std: 0.004)\n",
      "Parameters: {'gamma': 0.11777044896224141, 'learning_rate': 0.06561525973661904, 'max_depth': 3, 'min_child_weight': 4, 'n_estimators': 128, 'subsample': 0.7631937981459379}\n",
      "\n",
      "Model with rank: 1\n",
      "Mean validation score: 0.726 (std: 0.004)\n",
      "Parameters: {'gamma': 0.48620581668153784, 'learning_rate': 0.07538885640433043, 'max_depth': 8, 'min_child_weight': 4, 'n_estimators': 107, 'subsample': 0.6416434327938295}\n",
      "\n",
      "Model with rank: 1\n",
      "Mean validation score: 0.726 (std: 0.004)\n",
      "Parameters: {'gamma': 0.6599412597612325, 'learning_rate': 0.06785446620543337, 'max_depth': 2, 'min_child_weight': 5, 'n_estimators': 146, 'subsample': 0.8883252385242026}\n",
      "\n",
      "Model with rank: 1\n",
      "Mean validation score: 0.726 (std: 0.004)\n",
      "Parameters: {'gamma': 0.6637204771505335, 'learning_rate': 0.1488728781955443, 'max_depth': 9, 'min_child_weight': 5, 'n_estimators': 145, 'subsample': 0.9320879458267967}\n",
      "\n",
      "Model with rank: 1\n",
      "Mean validation score: 0.726 (std: 0.004)\n",
      "Parameters: {'gamma': 0.37802847073291834, 'learning_rate': 0.11680851365706463, 'max_depth': 6, 'min_child_weight': 3, 'n_estimators': 130, 'subsample': 0.7295960244427199}\n",
      "\n",
      "Model with rank: 1\n",
      "Mean validation score: 0.726 (std: 0.004)\n",
      "Parameters: {'gamma': 0.16084751046524454, 'learning_rate': 0.11332407749109606, 'max_depth': 2, 'min_child_weight': 4, 'n_estimators': 120, 'subsample': 0.6106128815495279}\n",
      "\n",
      "Model with rank: 1\n",
      "Mean validation score: 0.726 (std: 0.004)\n",
      "Parameters: {'gamma': 0.22700480456285813, 'learning_rate': 0.10830415609696922, 'max_depth': 5, 'min_child_weight': 3, 'n_estimators': 101, 'subsample': 0.9642496014161216}\n",
      "\n",
      "Model with rank: 1\n",
      "Mean validation score: 0.726 (std: 0.004)\n",
      "Parameters: {'gamma': 0.5373328897302757, 'learning_rate': 0.08358658571498351, 'max_depth': 8, 'min_child_weight': 3, 'n_estimators': 102, 'subsample': 0.836117977005923}\n",
      "\n",
      "Model with rank: 1\n",
      "Mean validation score: 0.726 (std: 0.004)\n",
      "Parameters: {'gamma': 0.2876445485760134, 'learning_rate': 0.1124148907849134, 'max_depth': 7, 'min_child_weight': 5, 'n_estimators': 129, 'subsample': 0.7451031578663782}\n",
      "\n",
      "Model with rank: 1\n",
      "Mean validation score: 0.726 (std: 0.004)\n",
      "Parameters: {'gamma': 0.702747613982305, 'learning_rate': 0.07195105250809587, 'max_depth': 3, 'min_child_weight': 3, 'n_estimators': 143, 'subsample': 0.656045270306581}\n",
      "\n",
      "Model with rank: 1\n",
      "Mean validation score: 0.726 (std: 0.004)\n",
      "Parameters: {'gamma': 0.7079275831285389, 'learning_rate': 0.09874311982495138, 'max_depth': 7, 'min_child_weight': 4, 'n_estimators': 131, 'subsample': 0.7700854017876934}\n",
      "\n",
      "Model with rank: 1\n",
      "Mean validation score: 0.726 (std: 0.004)\n",
      "Parameters: {'gamma': 0.11572851582408218, 'learning_rate': 0.07686773593849461, 'max_depth': 9, 'min_child_weight': 3, 'n_estimators': 144, 'subsample': 0.7610200174387922}\n",
      "\n"
     ]
    },
    {
     "name": "stderr",
     "output_type": "stream",
     "text": [
      "[Parallel(n_jobs=1)]: Done 600 out of 600 | elapsed:   14.3s finished\n"
     ]
    }
   ],
   "source": [
    "import xgboost as xgb\n",
    "import scipy\n",
    "xgb_params = {\n",
    "    \"gamma\": scipy.stats.uniform(0.1, 0.7),\n",
    "    \"learning_rate\": scipy.stats.uniform(0.05, 0.1), # default 0.1 \n",
    "    \"max_depth\": scipy.stats.randint(2, 10), # default 3\n",
    "    \"n_estimators\": scipy.stats.randint(100, 150), # default 100\n",
    "    \"subsample\": scipy.stats.uniform(0.6, 0.4),\n",
    "    \"min_child_weight\": scipy.stats.randint(2,6)\n",
    "}\n",
    "gbm = xgb.XGBClassifier()\n",
    "search = RandomizedSearchCV(gbm, \n",
    "                            param_distributions=xgb_params, \n",
    "                            random_state=42, \n",
    "                            n_iter=200, \n",
    "                            cv=3, \n",
    "                            verbose=1, \n",
    "                            n_jobs=1, \n",
    "                            return_train_score=True)\n",
    "_y_train = np.array([y_train] * len(clfs)).flatten()\n",
    "search.fit(mean_trains, _y_train)\n",
    "report_best_scores(search.cv_results_, 1)"
   ]
  },
  {
   "cell_type": "markdown",
   "metadata": {},
   "source": [
    "## Build the model using the tuned parameters we found"
   ]
  },
  {
   "cell_type": "code",
   "execution_count": 920,
   "metadata": {},
   "outputs": [
    {
     "data": {
      "text/plain": [
       "XGBClassifier(base_score=0.5, booster='gbtree', colsample_bylevel=1,\n",
       "              colsample_bynode=1, colsample_bytree=1, gamma=0.1811083416675908,\n",
       "              gpu_id=-1, importance_type='gain', interaction_constraints='',\n",
       "              learning_rate=0.13631034258755936, max_delta_step=0, max_depth=9,\n",
       "              min_child_weight=5, missing=nan, monotone_constraints='()',\n",
       "              n_estimators=133, n_jobs=0, num_parallel_tree=1, random_state=0,\n",
       "              reg_alpha=0, reg_lambda=1, scale_pos_weight=1,\n",
       "              subsample=0.6381640465961645, tree_method='exact',\n",
       "              validate_parameters=1, verbosity=None)"
      ]
     },
     "execution_count": 920,
     "metadata": {},
     "output_type": "execute_result"
    }
   ],
   "source": [
    "tuned_params = {'gamma': 0.1811083416675908, 'learning_rate': 0.13631034258755936, 'max_depth': 9, 'min_child_weight': 5, 'n_estimators': 133, 'subsample': 0.6381640465961645}\n",
    "gbm = xgb.XGBClassifier(**tuned_params)\n",
    "gbm.fit(X_train, y_train)"
   ]
  },
  {
   "cell_type": "markdown",
   "metadata": {},
   "source": [
    "## Results of the classifier"
   ]
  },
  {
   "cell_type": "markdown",
   "metadata": {},
   "source": [
    "**Mean cross validation test**"
   ]
  },
  {
   "cell_type": "code",
   "execution_count": 925,
   "metadata": {},
   "outputs": [],
   "source": [
    "from sklearn.model_selection import cross_val_score\n",
    "results = cross_val_score(gbm, X_test, y_test, cv=kf)"
   ]
  },
  {
   "cell_type": "code",
   "execution_count": 926,
   "metadata": {},
   "outputs": [
    {
     "data": {
      "text/plain": [
       "72.85858585858585"
      ]
     },
     "execution_count": 926,
     "metadata": {},
     "output_type": "execute_result"
    }
   ],
   "source": [
    "results.mean()*100"
   ]
  },
  {
   "cell_type": "markdown",
   "metadata": {},
   "source": [
    "**ROC curve and Accuracy score**"
   ]
  },
  {
   "cell_type": "code",
   "execution_count": 936,
   "metadata": {},
   "outputs": [
    {
     "name": "stdout",
     "output_type": "stream",
     "text": [
      "Accuracy Score: 0.7601809954751131\n",
      "ROC curve:\n",
      "\n",
      "\n"
     ]
    },
    {
     "data": {
      "image/png": "[encoded data removed]",
      "text/plain": [
       "<Figure size 432x288 with 1 Axes>"
      ]
     },
     "metadata": {
      "needs_background": "light"
     },
     "output_type": "display_data"
    }
   ],
   "source": [
    "from sklearn.metrics import accuracy_score, plot_roc_curve, confusion_matrix\n",
    "res = gbm.predict(X_test)\n",
    "print(\"Accuracy Score: {}\".format(accuracy_score(y_test, res)))\n",
    "print(\"ROC curve:\")\n",
    "plot_roc_curve(gbm, X_test, y_test)\n",
    "plt.show\n",
    "print(\"\\n\")"
   ]
  },
  {
   "cell_type": "markdown",
   "metadata": {},
   "source": [
    "**Confusion Matrix**"
   ]
  },
  {
   "cell_type": "code",
   "execution_count": 945,
   "metadata": {},
   "outputs": [
    {
     "name": "stdout",
     "output_type": "stream",
     "text": [
      "Confusion Matrix:\n"
     ]
    },
    {
     "data": {
      "image/png": "[encoded data removed]",
      "text/plain": [
       "<Figure size 432x288 with 2 Axes>"
      ]
     },
     "metadata": {
      "needs_background": "light"
     },
     "output_type": "display_data"
    }
   ],
   "source": [
    "print(\"Confusion Matrix:\")\n",
    "sns.heatmap(confusion_matrix(y_test, res), annot=True)\n",
    "plt.xticks([0.5, 1.5], ['Not Survived', 'Survived'])\n",
    "plt.yticks([0.5, 1.5], ['Not Survived', 'Survived'])\n",
    "plt.show()"
   ]
  }
 ],
 "metadata": {
  "kernelspec": {
   "display_name": "Python 3",
   "language": "python",
   "name": "python3"
  },
  "language_info": {
   "codemirror_mode": {
    "name": "ipython",
    "version": 3
   },
   "file_extension": ".py",
   "mimetype": "text/x-python",
   "name": "python",
   "nbconvert_exporter": "python",
   "pygments_lexer": "ipython3",
   "version": "3.8.5"
  }
 },
 "nbformat": 4,
 "nbformat_minor": 4
}
