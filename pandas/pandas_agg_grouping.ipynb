{
 "cells": [
  {
   "cell_type": "markdown",
   "metadata": {},
   "source": [
    "# Aggregation & Grouping"
   ]
  },
  {
   "cell_type": "markdown",
   "metadata": {},
   "source": [
    "There are several built-in aggregation functions that Numpy (and by extension, Pandas) has to offer us.  \n",
    "`sum()`, `mean()`, `median()`, `min()` and `max()` can give us insights on a large dataset.  \n",
    "Later in this notebook we will explore also the `groupby()` function that Pandas implemented for more sophisticated queries and insights."
   ]
  },
  {
   "cell_type": "code",
   "execution_count": 1,
   "metadata": {},
   "outputs": [],
   "source": [
    "import pandas as pd\n",
    "import numpy as np"
   ]
  },
  {
   "cell_type": "markdown",
   "metadata": {},
   "source": [
    "We will use the same function to visualize some tables"
   ]
  },
  {
   "cell_type": "code",
   "execution_count": 2,
   "metadata": {},
   "outputs": [],
   "source": [
    "from IPython.display import display_html\n",
    "def display_pds(*args):\n",
    "    html_str=''\n",
    "    for _df in args:\n",
    "        html_str += _df.to_html()\n",
    "    display_html(html_str.replace('table','table style=\"display:inline; margin:5px;\"'),raw=True)"
   ]
  },
  {
   "cell_type": "markdown",
   "metadata": {},
   "source": [
    "### Countries Dataset"
   ]
  },
  {
   "cell_type": "markdown",
   "metadata": {},
   "source": [
    "We will load the Countries dataset (from Kaggle) and explore it"
   ]
  },
  {
   "cell_type": "code",
   "execution_count": 6,
   "metadata": {},
   "outputs": [
    {
     "data": {
      "text/html": [
       "<div>\n",
       "<style scoped>\n",
       "    .dataframe tbody tr th:only-of-type {\n",
       "        vertical-align: middle;\n",
       "    }\n",
       "\n",
       "    .dataframe tbody tr th {\n",
       "        vertical-align: top;\n",
       "    }\n",
       "\n",
       "    .dataframe thead th {\n",
       "        text-align: right;\n",
       "    }\n",
       "</style>\n",
       "<table border=\"1\" class=\"dataframe\">\n",
       "  <thead>\n",
       "    <tr style=\"text-align: right;\">\n",
       "      <th></th>\n",
       "      <th>Country</th>\n",
       "      <th>Region</th>\n",
       "      <th>Population</th>\n",
       "      <th>Area (sq. mi.)</th>\n",
       "      <th>Pop. Density (per sq. mi.)</th>\n",
       "      <th>Coastline (coast/area ratio)</th>\n",
       "      <th>Net migration</th>\n",
       "      <th>Infant mortality (per 1000 births)</th>\n",
       "      <th>GDP ($ per capita)</th>\n",
       "      <th>Literacy (%)</th>\n",
       "      <th>Phones (per 1000)</th>\n",
       "      <th>Arable (%)</th>\n",
       "      <th>Crops (%)</th>\n",
       "      <th>Other (%)</th>\n",
       "      <th>Climate</th>\n",
       "      <th>Birthrate</th>\n",
       "      <th>Deathrate</th>\n",
       "      <th>Agriculture</th>\n",
       "      <th>Industry</th>\n",
       "      <th>Service</th>\n",
       "    </tr>\n",
       "  </thead>\n",
       "  <tbody>\n",
       "    <tr>\n",
       "      <th>0</th>\n",
       "      <td>Afghanistan</td>\n",
       "      <td>ASIA (EX. NEAR EAST)</td>\n",
       "      <td>31056997</td>\n",
       "      <td>647500</td>\n",
       "      <td>48,0</td>\n",
       "      <td>0,00</td>\n",
       "      <td>23,06</td>\n",
       "      <td>163,07</td>\n",
       "      <td>700.0</td>\n",
       "      <td>36,0</td>\n",
       "      <td>3,2</td>\n",
       "      <td>12,13</td>\n",
       "      <td>0,22</td>\n",
       "      <td>87,65</td>\n",
       "      <td>1</td>\n",
       "      <td>46,6</td>\n",
       "      <td>20,34</td>\n",
       "      <td>0,38</td>\n",
       "      <td>0,24</td>\n",
       "      <td>0,38</td>\n",
       "    </tr>\n",
       "    <tr>\n",
       "      <th>1</th>\n",
       "      <td>Albania</td>\n",
       "      <td>EASTERN EUROPE</td>\n",
       "      <td>3581655</td>\n",
       "      <td>28748</td>\n",
       "      <td>124,6</td>\n",
       "      <td>1,26</td>\n",
       "      <td>-4,93</td>\n",
       "      <td>21,52</td>\n",
       "      <td>4500.0</td>\n",
       "      <td>86,5</td>\n",
       "      <td>71,2</td>\n",
       "      <td>21,09</td>\n",
       "      <td>4,42</td>\n",
       "      <td>74,49</td>\n",
       "      <td>3</td>\n",
       "      <td>15,11</td>\n",
       "      <td>5,22</td>\n",
       "      <td>0,232</td>\n",
       "      <td>0,188</td>\n",
       "      <td>0,579</td>\n",
       "    </tr>\n",
       "    <tr>\n",
       "      <th>2</th>\n",
       "      <td>Algeria</td>\n",
       "      <td>NORTHERN AFRICA</td>\n",
       "      <td>32930091</td>\n",
       "      <td>2381740</td>\n",
       "      <td>13,8</td>\n",
       "      <td>0,04</td>\n",
       "      <td>-0,39</td>\n",
       "      <td>31</td>\n",
       "      <td>6000.0</td>\n",
       "      <td>70,0</td>\n",
       "      <td>78,1</td>\n",
       "      <td>3,22</td>\n",
       "      <td>0,25</td>\n",
       "      <td>96,53</td>\n",
       "      <td>1</td>\n",
       "      <td>17,14</td>\n",
       "      <td>4,61</td>\n",
       "      <td>0,101</td>\n",
       "      <td>0,6</td>\n",
       "      <td>0,298</td>\n",
       "    </tr>\n",
       "    <tr>\n",
       "      <th>3</th>\n",
       "      <td>American Samoa</td>\n",
       "      <td>OCEANIA</td>\n",
       "      <td>57794</td>\n",
       "      <td>199</td>\n",
       "      <td>290,4</td>\n",
       "      <td>58,29</td>\n",
       "      <td>-20,71</td>\n",
       "      <td>9,27</td>\n",
       "      <td>8000.0</td>\n",
       "      <td>97,0</td>\n",
       "      <td>259,5</td>\n",
       "      <td>10</td>\n",
       "      <td>15</td>\n",
       "      <td>75</td>\n",
       "      <td>2</td>\n",
       "      <td>22,46</td>\n",
       "      <td>3,27</td>\n",
       "      <td>NaN</td>\n",
       "      <td>NaN</td>\n",
       "      <td>NaN</td>\n",
       "    </tr>\n",
       "    <tr>\n",
       "      <th>4</th>\n",
       "      <td>Andorra</td>\n",
       "      <td>WESTERN EUROPE</td>\n",
       "      <td>71201</td>\n",
       "      <td>468</td>\n",
       "      <td>152,1</td>\n",
       "      <td>0,00</td>\n",
       "      <td>6,6</td>\n",
       "      <td>4,05</td>\n",
       "      <td>19000.0</td>\n",
       "      <td>100,0</td>\n",
       "      <td>497,2</td>\n",
       "      <td>2,22</td>\n",
       "      <td>0</td>\n",
       "      <td>97,78</td>\n",
       "      <td>3</td>\n",
       "      <td>8,71</td>\n",
       "      <td>6,25</td>\n",
       "      <td>NaN</td>\n",
       "      <td>NaN</td>\n",
       "      <td>NaN</td>\n",
       "    </tr>\n",
       "  </tbody>\n",
       "</table>\n",
       "</div>"
      ],
      "text/plain": [
       "           Country                               Region  Population  \\\n",
       "0     Afghanistan         ASIA (EX. NEAR EAST)             31056997   \n",
       "1         Albania   EASTERN EUROPE                          3581655   \n",
       "2         Algeria   NORTHERN AFRICA                        32930091   \n",
       "3  American Samoa   OCEANIA                                   57794   \n",
       "4         Andorra   WESTERN EUROPE                            71201   \n",
       "\n",
       "   Area (sq. mi.) Pop. Density (per sq. mi.) Coastline (coast/area ratio)  \\\n",
       "0          647500                       48,0                         0,00   \n",
       "1           28748                      124,6                         1,26   \n",
       "2         2381740                       13,8                         0,04   \n",
       "3             199                      290,4                        58,29   \n",
       "4             468                      152,1                         0,00   \n",
       "\n",
       "  Net migration Infant mortality (per 1000 births)  GDP ($ per capita)  \\\n",
       "0         23,06                             163,07               700.0   \n",
       "1         -4,93                              21,52              4500.0   \n",
       "2         -0,39                                 31              6000.0   \n",
       "3        -20,71                               9,27              8000.0   \n",
       "4           6,6                               4,05             19000.0   \n",
       "\n",
       "  Literacy (%) Phones (per 1000) Arable (%) Crops (%) Other (%) Climate  \\\n",
       "0         36,0               3,2      12,13      0,22     87,65       1   \n",
       "1         86,5              71,2      21,09      4,42     74,49       3   \n",
       "2         70,0              78,1       3,22      0,25     96,53       1   \n",
       "3         97,0             259,5         10        15        75       2   \n",
       "4        100,0             497,2       2,22         0     97,78       3   \n",
       "\n",
       "  Birthrate Deathrate Agriculture Industry Service  \n",
       "0      46,6     20,34        0,38     0,24    0,38  \n",
       "1     15,11      5,22       0,232    0,188   0,579  \n",
       "2     17,14      4,61       0,101      0,6   0,298  \n",
       "3     22,46      3,27         NaN      NaN     NaN  \n",
       "4      8,71      6,25         NaN      NaN     NaN  "
      ]
     },
     "execution_count": 6,
     "metadata": {},
     "output_type": "execute_result"
    }
   ],
   "source": [
    "countries = pd.read_csv(\"../countries.csv\")\n",
    "countries.head()"
   ]
  },
  {
   "cell_type": "markdown",
   "metadata": {},
   "source": [
    "Using the aggregation function lets see what is the highest, lowest population in the dataset:"
   ]
  },
  {
   "cell_type": "code",
   "execution_count": 11,
   "metadata": {},
   "outputs": [
    {
     "data": {
      "text/plain": [
       "1313973713"
      ]
     },
     "execution_count": 11,
     "metadata": {},
     "output_type": "execute_result"
    }
   ],
   "source": [
    "countries['Population'].max()"
   ]
  },
  {
   "cell_type": "code",
   "execution_count": 12,
   "metadata": {},
   "outputs": [
    {
     "data": {
      "text/plain": [
       "7026"
      ]
     },
     "execution_count": 12,
     "metadata": {},
     "output_type": "execute_result"
    }
   ],
   "source": [
    "countries['Population'].min()"
   ]
  },
  {
   "cell_type": "markdown",
   "metadata": {},
   "source": [
    "we can also check the median, mean and sum of the population:"
   ]
  },
  {
   "cell_type": "code",
   "execution_count": 13,
   "metadata": {},
   "outputs": [
    {
     "data": {
      "text/plain": [
       "6524044551"
      ]
     },
     "execution_count": 13,
     "metadata": {},
     "output_type": "execute_result"
    }
   ],
   "source": [
    "countries['Population'].sum()"
   ]
  },
  {
   "cell_type": "code",
   "execution_count": 14,
   "metadata": {},
   "outputs": [
    {
     "data": {
      "text/plain": [
       "4786994.0"
      ]
     },
     "execution_count": 14,
     "metadata": {},
     "output_type": "execute_result"
    }
   ],
   "source": [
    "countries['Population'].median()"
   ]
  },
  {
   "cell_type": "code",
   "execution_count": 15,
   "metadata": {},
   "outputs": [
    {
     "data": {
      "text/plain": [
       "28740284.365638766"
      ]
     },
     "execution_count": 15,
     "metadata": {},
     "output_type": "execute_result"
    }
   ],
   "source": [
    "countries['Population'].mean()"
   ]
  },
  {
   "cell_type": "markdown",
   "metadata": {},
   "source": [
    "Some of those aggregation built-in functions are included in another method, `describe()`, we used it before in the [Introduction section](https://github.com/TomerGoldfeder/data-science-notebooks/blob/main/pandas/pandas_introduction.ipynb)  \n",
    "Before using the describe method we will check if there are any columns with NaN values:"
   ]
  },
  {
   "cell_type": "code",
   "execution_count": 18,
   "metadata": {
    "scrolled": true
   },
   "outputs": [
    {
     "data": {
      "text/plain": [
       "Country                               False\n",
       "Region                                False\n",
       "Population                            False\n",
       "Area (sq. mi.)                        False\n",
       "Pop. Density (per sq. mi.)            False\n",
       "Coastline (coast/area ratio)          False\n",
       "Net migration                          True\n",
       "Infant mortality (per 1000 births)     True\n",
       "GDP ($ per capita)                     True\n",
       "Literacy (%)                           True\n",
       "Phones (per 1000)                      True\n",
       "Arable (%)                             True\n",
       "Crops (%)                              True\n",
       "Other (%)                              True\n",
       "Climate                                True\n",
       "Birthrate                              True\n",
       "Deathrate                              True\n",
       "Agriculture                            True\n",
       "Industry                               True\n",
       "Service                                True\n",
       "dtype: bool"
      ]
     },
     "execution_count": 18,
     "metadata": {},
     "output_type": "execute_result"
    }
   ],
   "source": [
    "countries.isnull().any()"
   ]
  },
  {
   "cell_type": "markdown",
   "metadata": {},
   "source": [
    "We can see that we have some columns with NaN values, we will drop them before using the `describe()` method"
   ]
  },
  {
   "cell_type": "code",
   "execution_count": 24,
   "metadata": {
    "scrolled": true
   },
   "outputs": [
    {
     "data": {
      "text/html": [
       "<div>\n",
       "<style scoped>\n",
       "    .dataframe tbody tr th:only-of-type {\n",
       "        vertical-align: middle;\n",
       "    }\n",
       "\n",
       "    .dataframe tbody tr th {\n",
       "        vertical-align: top;\n",
       "    }\n",
       "\n",
       "    .dataframe thead th {\n",
       "        text-align: right;\n",
       "    }\n",
       "</style>\n",
       "<table border=\"1\" class=\"dataframe\">\n",
       "  <thead>\n",
       "    <tr style=\"text-align: right;\">\n",
       "      <th></th>\n",
       "      <th>Population</th>\n",
       "      <th>Area (sq. mi.)</th>\n",
       "      <th>GDP ($ per capita)</th>\n",
       "    </tr>\n",
       "  </thead>\n",
       "  <tbody>\n",
       "    <tr>\n",
       "      <th>count</th>\n",
       "      <td>1.790000e+02</td>\n",
       "      <td>1.790000e+02</td>\n",
       "      <td>179.000000</td>\n",
       "    </tr>\n",
       "    <tr>\n",
       "      <th>mean</th>\n",
       "      <td>3.421415e+07</td>\n",
       "      <td>5.641830e+05</td>\n",
       "      <td>9125.698324</td>\n",
       "    </tr>\n",
       "    <tr>\n",
       "      <th>std</th>\n",
       "      <td>1.317639e+08</td>\n",
       "      <td>1.395657e+06</td>\n",
       "      <td>9644.123141</td>\n",
       "    </tr>\n",
       "    <tr>\n",
       "      <th>min</th>\n",
       "      <td>1.347700e+04</td>\n",
       "      <td>2.800000e+01</td>\n",
       "      <td>500.000000</td>\n",
       "    </tr>\n",
       "    <tr>\n",
       "      <th>25%</th>\n",
       "      <td>1.188580e+06</td>\n",
       "      <td>1.991500e+04</td>\n",
       "      <td>1800.000000</td>\n",
       "    </tr>\n",
       "    <tr>\n",
       "      <th>50%</th>\n",
       "      <td>6.940432e+06</td>\n",
       "      <td>1.184800e+05</td>\n",
       "      <td>5100.000000</td>\n",
       "    </tr>\n",
       "    <tr>\n",
       "      <th>75%</th>\n",
       "      <td>2.086014e+07</td>\n",
       "      <td>4.964410e+05</td>\n",
       "      <td>12950.000000</td>\n",
       "    </tr>\n",
       "    <tr>\n",
       "      <th>max</th>\n",
       "      <td>1.313974e+09</td>\n",
       "      <td>9.631420e+06</td>\n",
       "      <td>37800.000000</td>\n",
       "    </tr>\n",
       "  </tbody>\n",
       "</table>\n",
       "</div>"
      ],
      "text/plain": [
       "         Population  Area (sq. mi.)  GDP ($ per capita)\n",
       "count  1.790000e+02    1.790000e+02          179.000000\n",
       "mean   3.421415e+07    5.641830e+05         9125.698324\n",
       "std    1.317639e+08    1.395657e+06         9644.123141\n",
       "min    1.347700e+04    2.800000e+01          500.000000\n",
       "25%    1.188580e+06    1.991500e+04         1800.000000\n",
       "50%    6.940432e+06    1.184800e+05         5100.000000\n",
       "75%    2.086014e+07    4.964410e+05        12950.000000\n",
       "max    1.313974e+09    9.631420e+06        37800.000000"
      ]
     },
     "execution_count": 24,
     "metadata": {},
     "output_type": "execute_result"
    }
   ],
   "source": [
    "countries.dropna().describe()"
   ]
  },
  {
   "cell_type": "markdown",
   "metadata": {},
   "source": [
    "The `describe()` method is giving us some first insights about the dataset like the GDP range spread from 500$ to 37800$ but the mean is only 9125$."
   ]
  },
  {
   "cell_type": "markdown",
   "metadata": {},
   "source": [
    ">There are some other built-in aggregation functions:\n",
    "    <ul>\n",
    "    <li>`count()` - total number of elements</li>\n",
    "    <li>`sum()` - sum of elements</li>\n",
    "    <li>`min()`, `max()` - minimum and maximum</li>\n",
    "    <li>`mad()` - mean absolute deviation</li>\n",
    "    <li>`prod()` - product of elements</li>\n",
    "    <li>`first()`, `last()` - first and last elements</li>\n",
    "    <li>`mean()`, `median()` - mean and median of the elements</li>\n",
    "    <li>`std()`, `var()` - standart deviation and variance</li>\n",
    "    </ul>"
   ]
  },
  {
   "cell_type": "markdown",
   "metadata": {},
   "source": [
    "## GroupBy Aggregation"
   ]
  },
  {
   "cell_type": "markdown",
   "metadata": {},
   "source": [
    "The `groupby()` aggregation got the name from the SQL language, but it has some hidden 'layers' under the hood.   \n",
    "while the user does not notice it but the `groupby()` function can iterate over the data just once and updating the aggregation function that he called.  \n",
    "\n",
    "The GroupBy does not returns a `DataFrame` object but a `DataFrameGroupBy` object which can handle more complex aggregations."
   ]
  },
  {
   "cell_type": "code",
   "execution_count": 25,
   "metadata": {
    "scrolled": true
   },
   "outputs": [
    {
     "data": {
      "text/plain": [
       "<pandas.core.groupby.generic.DataFrameGroupBy object at 0x123487640>"
      ]
     },
     "execution_count": 25,
     "metadata": {},
     "output_type": "execute_result"
    }
   ],
   "source": [
    "countries.groupby('Climate')"
   ]
  },
  {
   "cell_type": "code",
   "execution_count": 48,
   "metadata": {},
   "outputs": [
    {
     "data": {
      "text/plain": [
       "<pandas.core.groupby.generic.SeriesGroupBy object at 0x1236f42e0>"
      ]
     },
     "execution_count": 48,
     "metadata": {},
     "output_type": "execute_result"
    }
   ],
   "source": [
    "countries.groupby('Climate')['Population']"
   ]
  },
  {
   "cell_type": "markdown",
   "metadata": {},
   "source": [
    "The `DataFrameGroupBy` object is kind of a 'view' (like in SQL) which he does not perform the aggregation until the function is called. That means the user can implement any aggregation function that he needs by using the `agg()` method of the object."
   ]
  },
  {
   "cell_type": "code",
   "execution_count": 41,
   "metadata": {},
   "outputs": [
    {
     "data": {
      "text/plain": [
       "Climate\n",
       "1      2.150973e+07\n",
       "1,5    2.059263e+08\n",
       "2      1.425539e+07\n",
       "2,5    3.672341e+08\n",
       "3      2.281059e+07\n",
       "4      1.565195e+07\n",
       "Name: Population, dtype: float64"
      ]
     },
     "execution_count": 41,
     "metadata": {},
     "output_type": "execute_result"
    }
   ],
   "source": [
    "countries.groupby('Climate')['Population'].agg(lambda x: x.mean())"
   ]
  },
  {
   "cell_type": "markdown",
   "metadata": {},
   "source": [
    "Under the hood the `groupby()` method has 3 'steps':\n",
    "<ol>\n",
    "    <li>Split</li>\n",
    "    <li>Apply</li>\n",
    "    <li>Combine</li>\n",
    "</ol>"
   ]
  },
  {
   "cell_type": "markdown",
   "metadata": {},
   "source": [
    "The `groupby()` is spliting the data into the unique values of the column we selected, then apply the aggregation function that we want and finally it combine the results for each unique value into a dataframe."
   ]
  },
  {
   "attachments": {
    "groupby.png": {
     "image/png": "[encoded data removed]"
    }
   },
   "cell_type": "markdown",
   "metadata": {},
   "source": [
    "![groupby.png](attachment:groupby.png)"
   ]
  },
  {
   "cell_type": "markdown",
   "metadata": {},
   "source": [
    "We can iterate over the `DataFrameGroupBy` object using a regular iteration loop, though it is much faster and easy to use the `apply()` built-in function."
   ]
  },
  {
   "cell_type": "code",
   "execution_count": 47,
   "metadata": {
    "scrolled": true
   },
   "outputs": [
    {
     "name": "stdout",
     "output_type": "stream",
     "text": [
      "method: 1   , shape: (29, 20)\n",
      "method: 1,5 , shape: (8, 20)\n",
      "method: 2   , shape: (111, 20)\n",
      "method: 2,5 , shape: (3, 20)\n",
      "method: 3   , shape: (48, 20)\n",
      "method: 4   , shape: (6, 20)\n"
     ]
    }
   ],
   "source": [
    "for (met, group) in countries.groupby('Climate'):\n",
    "    print(\"method: {0:4s}, shape: {1}\".format(met, group.shape))"
   ]
  },
  {
   "cell_type": "markdown",
   "metadata": {},
   "source": [
    "Another advantage of the `groupby()` method is the ability to apply the `describe()` on each of the groups."
   ]
  },
  {
   "cell_type": "code",
   "execution_count": 49,
   "metadata": {},
   "outputs": [
    {
     "data": {
      "text/html": [
       "<div>\n",
       "<style scoped>\n",
       "    .dataframe tbody tr th:only-of-type {\n",
       "        vertical-align: middle;\n",
       "    }\n",
       "\n",
       "    .dataframe tbody tr th {\n",
       "        vertical-align: top;\n",
       "    }\n",
       "\n",
       "    .dataframe thead th {\n",
       "        text-align: right;\n",
       "    }\n",
       "</style>\n",
       "<table border=\"1\" class=\"dataframe\">\n",
       "  <thead>\n",
       "    <tr style=\"text-align: right;\">\n",
       "      <th></th>\n",
       "      <th>count</th>\n",
       "      <th>mean</th>\n",
       "      <th>std</th>\n",
       "      <th>min</th>\n",
       "      <th>25%</th>\n",
       "      <th>50%</th>\n",
       "      <th>75%</th>\n",
       "      <th>max</th>\n",
       "    </tr>\n",
       "    <tr>\n",
       "      <th>Climate</th>\n",
       "      <th></th>\n",
       "      <th></th>\n",
       "      <th></th>\n",
       "      <th></th>\n",
       "      <th></th>\n",
       "      <th></th>\n",
       "      <th></th>\n",
       "      <th></th>\n",
       "    </tr>\n",
       "  </thead>\n",
       "  <tbody>\n",
       "    <tr>\n",
       "      <th>1</th>\n",
       "      <td>29.0</td>\n",
       "      <td>2.150973e+07</td>\n",
       "      <td>3.424947e+07</td>\n",
       "      <td>56361.0</td>\n",
       "      <td>2418393.00</td>\n",
       "      <td>7961619.0</td>\n",
       "      <td>2.701973e+07</td>\n",
       "      <td>1.658036e+08</td>\n",
       "    </tr>\n",
       "    <tr>\n",
       "      <th>1,5</th>\n",
       "      <td>8.0</td>\n",
       "      <td>2.059263e+08</td>\n",
       "      <td>4.501784e+08</td>\n",
       "      <td>4786994.0</td>\n",
       "      <td>15252788.00</td>\n",
       "      <td>31505210.0</td>\n",
       "      <td>1.135521e+08</td>\n",
       "      <td>1.313974e+09</td>\n",
       "    </tr>\n",
       "    <tr>\n",
       "      <th>2</th>\n",
       "      <td>111.0</td>\n",
       "      <td>1.425539e+07</td>\n",
       "      <td>3.523835e+07</td>\n",
       "      <td>9439.0</td>\n",
       "      <td>185160.50</td>\n",
       "      <td>1641564.0</td>\n",
       "      <td>1.160942e+07</td>\n",
       "      <td>2.454527e+08</td>\n",
       "    </tr>\n",
       "    <tr>\n",
       "      <th>2,5</th>\n",
       "      <td>3.0</td>\n",
       "      <td>3.672341e+08</td>\n",
       "      <td>6.305719e+08</td>\n",
       "      <td>1136334.0</td>\n",
       "      <td>3175116.00</td>\n",
       "      <td>5213898.0</td>\n",
       "      <td>5.502829e+08</td>\n",
       "      <td>1.095352e+09</td>\n",
       "    </tr>\n",
       "    <tr>\n",
       "      <th>3</th>\n",
       "      <td>48.0</td>\n",
       "      <td>2.281059e+07</td>\n",
       "      <td>4.789990e+07</td>\n",
       "      <td>65409.0</td>\n",
       "      <td>2414052.75</td>\n",
       "      <td>7454650.5</td>\n",
       "      <td>1.794448e+07</td>\n",
       "      <td>2.984442e+08</td>\n",
       "    </tr>\n",
       "    <tr>\n",
       "      <th>4</th>\n",
       "      <td>6.0</td>\n",
       "      <td>1.565195e+07</td>\n",
       "      <td>2.281710e+07</td>\n",
       "      <td>33987.0</td>\n",
       "      <td>3357023.00</td>\n",
       "      <td>7395993.5</td>\n",
       "      <td>1.399819e+07</td>\n",
       "      <td>6.087614e+07</td>\n",
       "    </tr>\n",
       "  </tbody>\n",
       "</table>\n",
       "</div>"
      ],
      "text/plain": [
       "         count          mean           std        min          25%  \\\n",
       "Climate                                                              \n",
       "1         29.0  2.150973e+07  3.424947e+07    56361.0   2418393.00   \n",
       "1,5        8.0  2.059263e+08  4.501784e+08  4786994.0  15252788.00   \n",
       "2        111.0  1.425539e+07  3.523835e+07     9439.0    185160.50   \n",
       "2,5        3.0  3.672341e+08  6.305719e+08  1136334.0   3175116.00   \n",
       "3         48.0  2.281059e+07  4.789990e+07    65409.0   2414052.75   \n",
       "4          6.0  1.565195e+07  2.281710e+07    33987.0   3357023.00   \n",
       "\n",
       "                50%           75%           max  \n",
       "Climate                                          \n",
       "1         7961619.0  2.701973e+07  1.658036e+08  \n",
       "1,5      31505210.0  1.135521e+08  1.313974e+09  \n",
       "2         1641564.0  1.160942e+07  2.454527e+08  \n",
       "2,5       5213898.0  5.502829e+08  1.095352e+09  \n",
       "3         7454650.5  1.794448e+07  2.984442e+08  \n",
       "4         7395993.5  1.399819e+07  6.087614e+07  "
      ]
     },
     "execution_count": 49,
     "metadata": {},
     "output_type": "execute_result"
    }
   ],
   "source": [
    "countries.groupby('Climate')['Population'].describe()"
   ]
  },
  {
   "cell_type": "markdown",
   "metadata": {},
   "source": [
    "This gives us the ability to draw more insigths on the data.  \n",
    "for example in this dataset we can see that the majority of the countries has a type 2 Climate."
   ]
  },
  {
   "cell_type": "markdown",
   "metadata": {},
   "source": [
    "### Agg, Filter, Transform & Apply"
   ]
  },
  {
   "cell_type": "markdown",
   "metadata": {},
   "source": [
    "We mentioned before that the `DataFrameGroupBy` object has the `agg()` method, in addition to this method the object has `filter()`, `transform()` and `apply()` methods for various operations"
   ]
  },
  {
   "cell_type": "markdown",
   "metadata": {},
   "source": [
    "**Agg**  \n",
    "When using the `agg()` method we can use more complex aggregation functions. previously we used it to calculate the mean of population of each climate group.  \n",
    "\n",
    "we can extend the query by passing to the `agg()` method the functions that we want, lets see an example for multiple aggregation in one command:"
   ]
  },
  {
   "cell_type": "code",
   "execution_count": 56,
   "metadata": {},
   "outputs": [
    {
     "data": {
      "text/html": [
       "<div>\n",
       "<style scoped>\n",
       "    .dataframe tbody tr th:only-of-type {\n",
       "        vertical-align: middle;\n",
       "    }\n",
       "\n",
       "    .dataframe tbody tr th {\n",
       "        vertical-align: top;\n",
       "    }\n",
       "\n",
       "    .dataframe thead tr th {\n",
       "        text-align: left;\n",
       "    }\n",
       "\n",
       "    .dataframe thead tr:last-of-type th {\n",
       "        text-align: right;\n",
       "    }\n",
       "</style>\n",
       "<table border=\"1\" class=\"dataframe\">\n",
       "  <thead>\n",
       "    <tr>\n",
       "      <th></th>\n",
       "      <th colspan=\"3\" halign=\"left\">Population</th>\n",
       "      <th colspan=\"3\" halign=\"left\">Area (sq. mi.)</th>\n",
       "      <th colspan=\"3\" halign=\"left\">GDP ($ per capita)</th>\n",
       "    </tr>\n",
       "    <tr>\n",
       "      <th></th>\n",
       "      <th>min</th>\n",
       "      <th>mean</th>\n",
       "      <th>max</th>\n",
       "      <th>min</th>\n",
       "      <th>mean</th>\n",
       "      <th>max</th>\n",
       "      <th>min</th>\n",
       "      <th>mean</th>\n",
       "      <th>max</th>\n",
       "    </tr>\n",
       "    <tr>\n",
       "      <th>Climate</th>\n",
       "      <th></th>\n",
       "      <th></th>\n",
       "      <th></th>\n",
       "      <th></th>\n",
       "      <th></th>\n",
       "      <th></th>\n",
       "      <th></th>\n",
       "      <th></th>\n",
       "      <th></th>\n",
       "    </tr>\n",
       "  </thead>\n",
       "  <tbody>\n",
       "    <tr>\n",
       "      <th>1</th>\n",
       "      <td>56361</td>\n",
       "      <td>2.150973e+07</td>\n",
       "      <td>165803560</td>\n",
       "      <td>665</td>\n",
       "      <td>9.765588e+05</td>\n",
       "      <td>7686850</td>\n",
       "      <td>500.0</td>\n",
       "      <td>8150.000000</td>\n",
       "      <td>29000.0</td>\n",
       "    </tr>\n",
       "    <tr>\n",
       "      <th>1,5</th>\n",
       "      <td>4786994</td>\n",
       "      <td>2.059263e+08</td>\n",
       "      <td>1313973713</td>\n",
       "      <td>121320</td>\n",
       "      <td>2.007061e+06</td>\n",
       "      <td>9596960</td>\n",
       "      <td>700.0</td>\n",
       "      <td>3237.500000</td>\n",
       "      <td>9000.0</td>\n",
       "    </tr>\n",
       "    <tr>\n",
       "      <th>2</th>\n",
       "      <td>9439</td>\n",
       "      <td>1.425539e+07</td>\n",
       "      <td>245452739</td>\n",
       "      <td>21</td>\n",
       "      <td>2.915636e+05</td>\n",
       "      <td>8511965</td>\n",
       "      <td>500.0</td>\n",
       "      <td>6526.126126</td>\n",
       "      <td>36000.0</td>\n",
       "    </tr>\n",
       "    <tr>\n",
       "      <th>2,5</th>\n",
       "      <td>1136334</td>\n",
       "      <td>3.672341e+08</td>\n",
       "      <td>1095351995</td>\n",
       "      <td>17363</td>\n",
       "      <td>1.167818e+06</td>\n",
       "      <td>3287590</td>\n",
       "      <td>1600.0</td>\n",
       "      <td>3133.333333</td>\n",
       "      <td>4900.0</td>\n",
       "    </tr>\n",
       "    <tr>\n",
       "      <th>3</th>\n",
       "      <td>65409</td>\n",
       "      <td>2.281059e+07</td>\n",
       "      <td>298444215</td>\n",
       "      <td>78</td>\n",
       "      <td>4.128123e+05</td>\n",
       "      <td>9631420</td>\n",
       "      <td>600.0</td>\n",
       "      <td>16970.833333</td>\n",
       "      <td>37800.0</td>\n",
       "    </tr>\n",
       "    <tr>\n",
       "      <th>4</th>\n",
       "      <td>33987</td>\n",
       "      <td>1.565195e+07</td>\n",
       "      <td>60876136</td>\n",
       "      <td>160</td>\n",
       "      <td>5.921698e+05</td>\n",
       "      <td>2717300</td>\n",
       "      <td>3500.0</td>\n",
       "      <td>12433.333333</td>\n",
       "      <td>27600.0</td>\n",
       "    </tr>\n",
       "  </tbody>\n",
       "</table>\n",
       "</div>"
      ],
      "text/plain": [
       "        Population                           Area (sq. mi.)                \\\n",
       "               min          mean         max            min          mean   \n",
       "Climate                                                                     \n",
       "1            56361  2.150973e+07   165803560            665  9.765588e+05   \n",
       "1,5        4786994  2.059263e+08  1313973713         121320  2.007061e+06   \n",
       "2             9439  1.425539e+07   245452739             21  2.915636e+05   \n",
       "2,5        1136334  3.672341e+08  1095351995          17363  1.167818e+06   \n",
       "3            65409  2.281059e+07   298444215             78  4.128123e+05   \n",
       "4            33987  1.565195e+07    60876136            160  5.921698e+05   \n",
       "\n",
       "                 GDP ($ per capita)                         \n",
       "             max                min          mean      max  \n",
       "Climate                                                     \n",
       "1        7686850              500.0   8150.000000  29000.0  \n",
       "1,5      9596960              700.0   3237.500000   9000.0  \n",
       "2        8511965              500.0   6526.126126  36000.0  \n",
       "2,5      3287590             1600.0   3133.333333   4900.0  \n",
       "3        9631420              600.0  16970.833333  37800.0  \n",
       "4        2717300             3500.0  12433.333333  27600.0  "
      ]
     },
     "execution_count": 56,
     "metadata": {},
     "output_type": "execute_result"
    }
   ],
   "source": [
    "countries.groupby('Climate').agg(['min', np.mean, max])"
   ]
  },
  {
   "cell_type": "markdown",
   "metadata": {},
   "source": [
    "Another way is to pass a dictionary of columns and what aggregation we want to perform on them:  \n",
    "The dictionary can be also a list of aggregations that we want to check on a specific column."
   ]
  },
  {
   "cell_type": "code",
   "execution_count": 58,
   "metadata": {},
   "outputs": [
    {
     "data": {
      "text/html": [
       "<div>\n",
       "<style scoped>\n",
       "    .dataframe tbody tr th:only-of-type {\n",
       "        vertical-align: middle;\n",
       "    }\n",
       "\n",
       "    .dataframe tbody tr th {\n",
       "        vertical-align: top;\n",
       "    }\n",
       "\n",
       "    .dataframe thead tr th {\n",
       "        text-align: left;\n",
       "    }\n",
       "\n",
       "    .dataframe thead tr:last-of-type th {\n",
       "        text-align: right;\n",
       "    }\n",
       "</style>\n",
       "<table border=\"1\" class=\"dataframe\">\n",
       "  <thead>\n",
       "    <tr>\n",
       "      <th></th>\n",
       "      <th colspan=\"2\" halign=\"left\">Population</th>\n",
       "      <th>Area (sq. mi.)</th>\n",
       "      <th>GDP ($ per capita)</th>\n",
       "    </tr>\n",
       "    <tr>\n",
       "      <th></th>\n",
       "      <th>min</th>\n",
       "      <th>max</th>\n",
       "      <th>max</th>\n",
       "      <th>mean</th>\n",
       "    </tr>\n",
       "    <tr>\n",
       "      <th>Climate</th>\n",
       "      <th></th>\n",
       "      <th></th>\n",
       "      <th></th>\n",
       "      <th></th>\n",
       "    </tr>\n",
       "  </thead>\n",
       "  <tbody>\n",
       "    <tr>\n",
       "      <th>1</th>\n",
       "      <td>56361</td>\n",
       "      <td>165803560</td>\n",
       "      <td>7686850</td>\n",
       "      <td>8150.000000</td>\n",
       "    </tr>\n",
       "    <tr>\n",
       "      <th>1,5</th>\n",
       "      <td>4786994</td>\n",
       "      <td>1313973713</td>\n",
       "      <td>9596960</td>\n",
       "      <td>3237.500000</td>\n",
       "    </tr>\n",
       "    <tr>\n",
       "      <th>2</th>\n",
       "      <td>9439</td>\n",
       "      <td>245452739</td>\n",
       "      <td>8511965</td>\n",
       "      <td>6526.126126</td>\n",
       "    </tr>\n",
       "    <tr>\n",
       "      <th>2,5</th>\n",
       "      <td>1136334</td>\n",
       "      <td>1095351995</td>\n",
       "      <td>3287590</td>\n",
       "      <td>3133.333333</td>\n",
       "    </tr>\n",
       "    <tr>\n",
       "      <th>3</th>\n",
       "      <td>65409</td>\n",
       "      <td>298444215</td>\n",
       "      <td>9631420</td>\n",
       "      <td>16970.833333</td>\n",
       "    </tr>\n",
       "    <tr>\n",
       "      <th>4</th>\n",
       "      <td>33987</td>\n",
       "      <td>60876136</td>\n",
       "      <td>2717300</td>\n",
       "      <td>12433.333333</td>\n",
       "    </tr>\n",
       "  </tbody>\n",
       "</table>\n",
       "</div>"
      ],
      "text/plain": [
       "        Population             Area (sq. mi.) GDP ($ per capita)\n",
       "               min         max            max               mean\n",
       "Climate                                                         \n",
       "1            56361   165803560        7686850        8150.000000\n",
       "1,5        4786994  1313973713        9596960        3237.500000\n",
       "2             9439   245452739        8511965        6526.126126\n",
       "2,5        1136334  1095351995        3287590        3133.333333\n",
       "3            65409   298444215        9631420       16970.833333\n",
       "4            33987    60876136        2717300       12433.333333"
      ]
     },
     "execution_count": 58,
     "metadata": {},
     "output_type": "execute_result"
    }
   ],
   "source": [
    "countries.groupby('Climate').agg({\n",
    "    \"Population\": [min, max],\n",
    "    \"Area (sq. mi.)\": max,\n",
    "    \"GDP ($ per capita)\": np.mean\n",
    "})"
   ]
  },
  {
   "cell_type": "markdown",
   "metadata": {},
   "source": [
    "**Filter**  \n",
    "The `filter()` method allows us to drop data based on cretiria:"
   ]
  },
  {
   "cell_type": "code",
   "execution_count": 81,
   "metadata": {},
   "outputs": [
    {
     "data": {
      "text/html": [
       "<div>\n",
       "<style scoped>\n",
       "    .dataframe tbody tr th:only-of-type {\n",
       "        vertical-align: middle;\n",
       "    }\n",
       "\n",
       "    .dataframe tbody tr th {\n",
       "        vertical-align: top;\n",
       "    }\n",
       "\n",
       "    .dataframe thead th {\n",
       "        text-align: right;\n",
       "    }\n",
       "</style>\n",
       "<table border=\"1\" class=\"dataframe\">\n",
       "  <thead>\n",
       "    <tr style=\"text-align: right;\">\n",
       "      <th></th>\n",
       "      <th>Country</th>\n",
       "      <th>Region</th>\n",
       "      <th>Population</th>\n",
       "      <th>Area (sq. mi.)</th>\n",
       "      <th>Pop. Density (per sq. mi.)</th>\n",
       "      <th>Coastline (coast/area ratio)</th>\n",
       "      <th>Net migration</th>\n",
       "      <th>Infant mortality (per 1000 births)</th>\n",
       "      <th>GDP ($ per capita)</th>\n",
       "      <th>Literacy (%)</th>\n",
       "      <th>Phones (per 1000)</th>\n",
       "      <th>Arable (%)</th>\n",
       "      <th>Crops (%)</th>\n",
       "      <th>Other (%)</th>\n",
       "      <th>Climate</th>\n",
       "      <th>Birthrate</th>\n",
       "      <th>Deathrate</th>\n",
       "      <th>Agriculture</th>\n",
       "      <th>Industry</th>\n",
       "      <th>Service</th>\n",
       "    </tr>\n",
       "  </thead>\n",
       "  <tbody>\n",
       "    <tr>\n",
       "      <th>94</th>\n",
       "      <td>India</td>\n",
       "      <td>ASIA (EX. NEAR EAST)</td>\n",
       "      <td>1095351995</td>\n",
       "      <td>3287590</td>\n",
       "      <td>333,2</td>\n",
       "      <td>0,21</td>\n",
       "      <td>-0,07</td>\n",
       "      <td>56,29</td>\n",
       "      <td>2900.0</td>\n",
       "      <td>59,5</td>\n",
       "      <td>45,4</td>\n",
       "      <td>54,4</td>\n",
       "      <td>2,74</td>\n",
       "      <td>42,86</td>\n",
       "      <td>2,5</td>\n",
       "      <td>22,01</td>\n",
       "      <td>8,18</td>\n",
       "      <td>0,186</td>\n",
       "      <td>0,276</td>\n",
       "      <td>0,538</td>\n",
       "    </tr>\n",
       "    <tr>\n",
       "      <th>112</th>\n",
       "      <td>Kyrgyzstan</td>\n",
       "      <td>C.W. OF IND. STATES</td>\n",
       "      <td>5213898</td>\n",
       "      <td>198500</td>\n",
       "      <td>26,3</td>\n",
       "      <td>0,00</td>\n",
       "      <td>-2,45</td>\n",
       "      <td>35,64</td>\n",
       "      <td>1600.0</td>\n",
       "      <td>97,0</td>\n",
       "      <td>84,0</td>\n",
       "      <td>7,3</td>\n",
       "      <td>0,35</td>\n",
       "      <td>92,35</td>\n",
       "      <td>2,5</td>\n",
       "      <td>22,8</td>\n",
       "      <td>7,08</td>\n",
       "      <td>0,353</td>\n",
       "      <td>0,208</td>\n",
       "      <td>0,439</td>\n",
       "    </tr>\n",
       "    <tr>\n",
       "      <th>194</th>\n",
       "      <td>Swaziland</td>\n",
       "      <td>SUB-SAHARAN AFRICA</td>\n",
       "      <td>1136334</td>\n",
       "      <td>17363</td>\n",
       "      <td>65,5</td>\n",
       "      <td>0,00</td>\n",
       "      <td>0</td>\n",
       "      <td>69,27</td>\n",
       "      <td>4900.0</td>\n",
       "      <td>81,6</td>\n",
       "      <td>30,8</td>\n",
       "      <td>10,35</td>\n",
       "      <td>0,7</td>\n",
       "      <td>88,95</td>\n",
       "      <td>2,5</td>\n",
       "      <td>27,41</td>\n",
       "      <td>29,74</td>\n",
       "      <td>0,119</td>\n",
       "      <td>0,515</td>\n",
       "      <td>0,366</td>\n",
       "    </tr>\n",
       "  </tbody>\n",
       "</table>\n",
       "</div>"
      ],
      "text/plain": [
       "         Country                               Region  Population  \\\n",
       "94        India         ASIA (EX. NEAR EAST)           1095351995   \n",
       "112  Kyrgyzstan                  C.W. OF IND. STATES      5213898   \n",
       "194   Swaziland   SUB-SAHARAN AFRICA                      1136334   \n",
       "\n",
       "     Area (sq. mi.) Pop. Density (per sq. mi.) Coastline (coast/area ratio)  \\\n",
       "94          3287590                      333,2                         0,21   \n",
       "112          198500                       26,3                         0,00   \n",
       "194           17363                       65,5                         0,00   \n",
       "\n",
       "    Net migration Infant mortality (per 1000 births)  GDP ($ per capita)  \\\n",
       "94          -0,07                              56,29              2900.0   \n",
       "112         -2,45                              35,64              1600.0   \n",
       "194             0                              69,27              4900.0   \n",
       "\n",
       "    Literacy (%) Phones (per 1000) Arable (%) Crops (%) Other (%) Climate  \\\n",
       "94          59,5              45,4       54,4      2,74     42,86     2,5   \n",
       "112         97,0              84,0        7,3      0,35     92,35     2,5   \n",
       "194         81,6              30,8      10,35       0,7     88,95     2,5   \n",
       "\n",
       "    Birthrate Deathrate Agriculture Industry Service  \n",
       "94      22,01      8,18       0,186    0,276   0,538  \n",
       "112      22,8      7,08       0,353    0,208   0,439  \n",
       "194     27,41     29,74       0,119    0,515   0,366  "
      ]
     },
     "execution_count": 81,
     "metadata": {},
     "output_type": "execute_result"
    }
   ],
   "source": [
    "def filter_function(a):\n",
    "    return a['Population'].std() > 6e8\n",
    "\n",
    "countries.groupby('Climate').filter(filter_function)"
   ]
  },
  {
   "cell_type": "markdown",
   "metadata": {},
   "source": [
    "**Transform**  \n",
    "In contrast to the `agg()` and `filter()` methods, which reduce our data so we can deduce insights, the `transform()` method is used to adjust our data for our needs, this means that the shape of the output will be the same as input shape.  \n",
    "\n",
    "For example: in machine learning training we usually want to normalize the data, for that use we can use the `transform()` method. (in a second we will see that we can also use the `apply()` method for that)"
   ]
  },
  {
   "cell_type": "code",
   "execution_count": 137,
   "metadata": {},
   "outputs": [
    {
     "data": {
      "text/plain": [
       "0      7.966155e+06\n",
       "1     -2.417326e+07\n",
       "2      9.839249e+06\n",
       "6     -1.627429e+07\n",
       "7     -1.621866e+07\n",
       "           ...     \n",
       "218    9.442669e+06\n",
       "219    6.811520e+07\n",
       "224   -1.634654e+06\n",
       "225   -4.785756e+06\n",
       "226   -4.050961e+06\n",
       "Name: Population, Length: 179, dtype: float64"
      ]
     },
     "execution_count": 137,
     "metadata": {},
     "output_type": "execute_result"
    }
   ],
   "source": [
    "countries.dropna().groupby('Climate')['Population'].transform(lambda x: x - x.mean())"
   ]
  },
  {
   "cell_type": "markdown",
   "metadata": {},
   "source": [
    "**Apply**  \n"
   ]
  }
 ],
 "metadata": {
  "kernelspec": {
   "display_name": "Python 3",
   "language": "python",
   "name": "python3"
  },
  "language_info": {
   "codemirror_mode": {
    "name": "ipython",
    "version": 3
   },
   "file_extension": ".py",
   "mimetype": "text/x-python",
   "name": "python",
   "nbconvert_exporter": "python",
   "pygments_lexer": "ipython3",
   "version": "3.8.5"
  }
 },
 "nbformat": 4,
 "nbformat_minor": 4
}
