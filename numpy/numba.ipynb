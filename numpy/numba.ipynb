{
 "cells": [
  {
   "cell_type": "markdown",
   "metadata": {},
   "source": [
    "# Numba and Numpy fast calculations"
   ]
  },
  {
   "cell_type": "code",
   "execution_count": 1,
   "metadata": {},
   "outputs": [],
   "source": [
    "import numba as nb\n",
    "import numpy as np\n",
    "from numba import jit, njit\n",
    "import time"
   ]
  },
  {
   "cell_type": "markdown",
   "metadata": {},
   "source": [
    "**Creating a function for displaying the results of each comparation**"
   ]
  },
  {
   "cell_type": "code",
   "execution_count": 111,
   "metadata": {},
   "outputs": [],
   "source": [
    "def display_res(title, xlabel, ylabel, values, names):\n",
    "    _values = values\n",
    "    width = 0.4 # set the width of the bar\n",
    "\n",
    "    fig, ax = plt.subplots(figsize=(13,5)) # create a figure and add a bar chart\n",
    "    bars = ax.bar(np.arange(len(values)), _values, width)\n",
    "\n",
    "    ax.set_xlabel(xlabel)\n",
    "    ax.set_ylabel(ylabel)\n",
    "    ax.set_title(title)\n",
    "    ax.set_xticks(np.arange(len(names)))\n",
    "    ax.set_xticklabels(names)\n",
    "    ax.set_ylim(0, max(values) + max(values)/10)\n",
    "\n",
    "    for bar in bars:\n",
    "        h = bar.get_height()\n",
    "        ax.annotate(h, xy=(bar.get_x() + bar.get_width()/2, h), xytext=(0, 3), \n",
    "                    textcoords='offset points', ha='center', va='bottom')\n",
    "\n",
    "    fig.tight_layout()\n",
    "    plt.show()"
   ]
  },
  {
   "cell_type": "markdown",
   "metadata": {},
   "source": [
    "## njit, jit Decorators"
   ]
  },
  {
   "cell_type": "code",
   "execution_count": null,
   "metadata": {},
   "outputs": [],
   "source": [
    "xs = np.arange(10)\n",
    "ys = np.arange(10,20, 1)"
   ]
  },
  {
   "cell_type": "code",
   "execution_count": 21,
   "metadata": {},
   "outputs": [
    {
     "name": "stdout",
     "output_type": "stream",
     "text": [
      "Normal operation took: 0.00016117095947265625 seconds\n"
     ]
    }
   ],
   "source": [
    "def return_sum(_xs, _ys):\n",
    "    return np.add(_xs,_ys)\n",
    "\n",
    "start_norm = time.time()\n",
    "zs = return_sum(xs,ys)\n",
    "end_norm = time.time()\n",
    "total_norm = end_norm-start_norm\n",
    "print(\"Normal operation took: {} seconds\".format(total_norm))"
   ]
  },
  {
   "cell_type": "code",
   "execution_count": 30,
   "metadata": {},
   "outputs": [
    {
     "name": "stdout",
     "output_type": "stream",
     "text": [
      "time took before compilation jit-no-python: 0.14188790321350098\n",
      "time took after compilation jit-no-python: 5.91278076171875e-05\n"
     ]
    }
   ],
   "source": [
    "@jit(nopython=True)\n",
    "def return_sum(_xs, _ys):\n",
    "    return np.add(_xs, _ys)\n",
    "\n",
    "start_jit = time.time()\n",
    "zs = return_sum(xs,ys)\n",
    "end_jit = time.time()\n",
    "print(\"time took before compilation jit-no-python: {}\".format(end_jit - start_jit))\n",
    "\n",
    "start_jit = time.time()\n",
    "zs = return_sum(xs,ys)\n",
    "end_jit = time.time()\n",
    "total_jit_np = end_jit - start_jit\n",
    "print(\"time took after compilation jit-no-python: {}\".format(total_jit_np))"
   ]
  },
  {
   "cell_type": "code",
   "execution_count": 32,
   "metadata": {
    "scrolled": true
   },
   "outputs": [
    {
     "name": "stdout",
     "output_type": "stream",
     "text": [
      "time took before compilation jit: 0.1394178867340088 seconds\n",
      "time took after compilation jit: 6.794929504394531e-05 seconds\n"
     ]
    }
   ],
   "source": [
    "@jit\n",
    "def return_sum(_xs, _ys):\n",
    "    return np.add(_xs, _ys)\n",
    "\n",
    "start_jit1 = time.time()\n",
    "zs = return_sum(xs,ys)\n",
    "end_jit1 = time.time()\n",
    "print(\"time took before compilation jit: {} seconds\".format(end_jit1 - start_jit1))\n",
    "\n",
    "start_jit = time.time()\n",
    "zs = return_sum(xs,ys)\n",
    "end_jit = time.time()\n",
    "total_jit = end_jit - start_jit\n",
    "print(\"time took after compilation jit: {} seconds\".format(total_jit))"
   ]
  },
  {
   "cell_type": "code",
   "execution_count": 43,
   "metadata": {},
   "outputs": [
    {
     "name": "stdout",
     "output_type": "stream",
     "text": [
      "time took before compilation jit-parallel-np: 0.3147318363189697 seconds\n",
      "time took after compilation jit-parallel-np: 0.0003829002380371094 seconds\n"
     ]
    }
   ],
   "source": [
    "@jit(nopython=True, parallel=True)\n",
    "def return_sum(_xs, _ys):\n",
    "    return np.add(_xs, _ys)\n",
    "\n",
    "start_jit_parallel = time.time()\n",
    "zs = return_sum(xs,ys)\n",
    "end_jit_parallel = time.time()\n",
    "print(\"time took before compilation jit-parallel-np: {} seconds\".format(end_jit_parallel - start_jit_parallel))\n",
    "\n",
    "start_jit_parallel_np = time.time()\n",
    "zs = return_sum(xs,ys)\n",
    "end_jit_parallel_np = time.time()\n",
    "total_jit_parallel_np = end_jit_parallel_np - start_jit_parallel_np\n",
    "print(\"time took after compilation jit-parallel-np: {} seconds\".format(total_jit_parallel_np))"
   ]
  },
  {
   "cell_type": "code",
   "execution_count": 24,
   "metadata": {},
   "outputs": [
    {
     "name": "stdout",
     "output_type": "stream",
     "text": [
      "time took before compilation njit: 0.13097023963928223 seconds\n",
      "time took after compilation njit: 5.602836608886719e-05 seconds\n"
     ]
    }
   ],
   "source": [
    "@njit\n",
    "def return_sum(_xs, _ys):\n",
    "    return np.add(_xs, _ys)\n",
    "\n",
    "start_njit = time.time()\n",
    "zs = return_sum(xs,ys)\n",
    "end_njit = time.time()\n",
    "print(\"time took before compilation njit: {} seconds\".format(end_njit - start_njit))\n",
    "\n",
    "start_njit = time.time()\n",
    "zs = return_sum(xs,ys)\n",
    "end_njit = time.time()\n",
    "total_njit = end_njit - start_njit\n",
    "print(\"time took after compilation njit: {} seconds\".format(total_njit))"
   ]
  },
  {
   "cell_type": "code",
   "execution_count": 19,
   "metadata": {},
   "outputs": [],
   "source": [
    "import matplotlib.pyplot as plt"
   ]
  },
  {
   "cell_type": "code",
   "execution_count": 168,
   "metadata": {},
   "outputs": [
    {
     "data": {
      "image/png": "[encoded data removed]",
      "text/plain": [
       "<Figure size 936x360 with 1 Axes>"
      ]
     },
     "metadata": {
      "needs_background": "light"
     },
     "output_type": "display_data"
    }
   ],
   "source": [
    "totals = [total_norm, total_jit, total_jit1, total_njit, total_jit_parallel_np]\n",
    "names = [\"Normal\", \"jit nopython\", \"jit\", \"njit\", \"jit parallel nopython\"]\n",
    "display_res(\"Comparation between Numba decorator\",\n",
    "            \"Decoration\", \n",
    "            \"Total Seconds\", totals, names)"
   ]
  },
  {
   "cell_type": "markdown",
   "metadata": {},
   "source": [
    "## vectorize, guvectorize Decorators"
   ]
  },
  {
   "cell_type": "markdown",
   "metadata": {},
   "source": [
    "### vectorize\n",
    "Works with one element at a time, the decorator create the iteration loop"
   ]
  },
  {
   "cell_type": "code",
   "execution_count": 53,
   "metadata": {},
   "outputs": [],
   "source": [
    "a = np.arange(5)\n",
    "b = np.arange(5,10, 1)"
   ]
  },
  {
   "cell_type": "markdown",
   "metadata": {},
   "source": [
    "**Vectorizing**"
   ]
  },
  {
   "cell_type": "code",
   "execution_count": 61,
   "metadata": {},
   "outputs": [
    {
     "name": "stdout",
     "output_type": "stream",
     "text": [
      "vectorize took: 7.200241088867188e-05\n"
     ]
    }
   ],
   "source": [
    "from numba import vectorize\n",
    "\n",
    "@vectorize\n",
    "def sumup(x, y):\n",
    "    return np.add(x, y)\n",
    "\n",
    "start_vec = time.time()\n",
    "sumup(a, b)\n",
    "end_vec = time.time()\n",
    "total_vec = end_vec - start_vec\n",
    "\n",
    "start_vec = time.time()\n",
    "sumup(a, b)\n",
    "end_vec = time.time()\n",
    "total_vec = end_vec - start_vec\n",
    "print(\"vectorize took: {}\".format(total_vec))"
   ]
  },
  {
   "cell_type": "markdown",
   "metadata": {},
   "source": [
    "**Vectorizing with types specified**"
   ]
  },
  {
   "cell_type": "code",
   "execution_count": 74,
   "metadata": {},
   "outputs": [
    {
     "name": "stdout",
     "output_type": "stream",
     "text": [
      "vectorize_specs took: 6.389617919921875e-05\n"
     ]
    }
   ],
   "source": [
    "from numba import float32\n",
    "\n",
    "@vectorize([float32(float32, float32)])\n",
    "def sumup(x, y):\n",
    "    return np.add(x, y)\n",
    "\n",
    "_a = _b = np.arange(5, dtype=np.float32)\n",
    "start_vec_specs = time.time()\n",
    "s = sumup(_a, _b)\n",
    "end_vec_specs = time.time()\n",
    "total_vec_specs = end_vec_specs - start_vec_specs\n",
    "\n",
    "start_vec_specs = time.time()\n",
    "s = sumup(_a, _b)\n",
    "end_vec_specs = time.time()\n",
    "total_vec_specs = end_vec_specs - start_vec_specs\n",
    "print(\"vectorize_specs took: {}\".format(total_vec_specs))"
   ]
  },
  {
   "cell_type": "markdown",
   "metadata": {},
   "source": [
    "**Vectorizing with types specified and Parallel**"
   ]
  },
  {
   "cell_type": "code",
   "execution_count": 76,
   "metadata": {},
   "outputs": [
    {
     "name": "stdout",
     "output_type": "stream",
     "text": [
      "vectorize_parallel took: 0.00023293495178222656\n"
     ]
    }
   ],
   "source": [
    "from numba import float32\n",
    "\n",
    "@vectorize([float32(float32, float32)],target=\"parallel\")\n",
    "def sumup(x, y):\n",
    "    return np.add(x, y)\n",
    "\n",
    "_a = _b = np.arange(5, dtype=np.float32)\n",
    "start_vec_prl = time.time()\n",
    "s = sumup(_a, _b)\n",
    "end_vec_prl = time.time()\n",
    "total_vec_prl = end_vec_prl - start_vec_prl\n",
    "\n",
    "start_vec_prl = time.time()\n",
    "s = sumup(_a, _b)\n",
    "end_vec_prl = time.time()\n",
    "total_vec_prl = end_vec_prl - start_vec_prl\n",
    "print(\"vectorize_parallel took: {}\".format(total_vec_prl))"
   ]
  },
  {
   "cell_type": "code",
   "execution_count": 169,
   "metadata": {},
   "outputs": [
    {
     "data": {
      "image/png": "[encoded data removed]",
      "text/plain": [
       "<Figure size 936x360 with 1 Axes>"
      ]
     },
     "metadata": {
      "needs_background": "light"
     },
     "output_type": "display_data"
    }
   ],
   "source": [
    "totals_vecs = [total_vec, total_vec_specs, total_vec_prl]\n",
    "names_vecs = ['Vectorize', 'Vectorize with specs', 'Vectorize with parallel']\n",
    "display_res(title=\"Comparation of Vectorizations with Number\",\n",
    "            xlabel=\"Vectorizatoins\", \n",
    "            ylabel=\"Total Seconds\", values=totals_vecs, names=names_vecs)"
   ]
  },
  {
   "cell_type": "markdown",
   "metadata": {},
   "source": [
    "### guvectorize"
   ]
  },
  {
   "cell_type": "markdown",
   "metadata": {},
   "source": [
    "This decorator can work with multiple elements"
   ]
  },
  {
   "cell_type": "markdown",
   "metadata": {},
   "source": [
    "Specifying that we are getting an array, scalar and another array, and adding the scalar for the result:"
   ]
  },
  {
   "cell_type": "code",
   "execution_count": 171,
   "metadata": {},
   "outputs": [],
   "source": [
    "from numba import guvectorize, int64\n",
    "@guvectorize([(int64[:], int64, int64[:])], '(n),()->(n)')\n",
    "def adding(x,scalar, y):\n",
    "    for i in range(len(x)):\n",
    "        y[i] = x[i] + scalar"
   ]
  },
  {
   "cell_type": "code",
   "execution_count": 172,
   "metadata": {},
   "outputs": [
    {
     "name": "stdout",
     "output_type": "stream",
     "text": [
      "guvectorize took 9.608268737792969e-05 seconds\n"
     ]
    }
   ],
   "source": [
    "x = np.arange(5, dtype=np.int64)\n",
    "y = np.empty(5, dtype=np.int64)\n",
    "scalar = 1\n",
    "start_guvec = time.time()\n",
    "adding(x,scalar, y)\n",
    "end_guvec = time.time()\n",
    "total_guvec = end_guvec - start_guvec\n",
    "print(\"guvectorize took {} seconds\".format(total_guvec))"
   ]
  },
  {
   "cell_type": "code",
   "execution_count": 173,
   "metadata": {},
   "outputs": [
    {
     "name": "stdout",
     "output_type": "stream",
     "text": [
      "normal calculation took 8.702278137207031e-05 seconds\n"
     ]
    }
   ],
   "source": [
    "def adding(x,scalar, y):\n",
    "    for i in range(len(x)):\n",
    "        y[i] = x[i] + scalar\n",
    "        \n",
    "start_gunorm = time.time()\n",
    "adding(x,scalar, y)\n",
    "end_gunorm = time.time()\n",
    "total_gunorm = end_gunorm - start_gunorm\n",
    "print(\"normal calculation took {} seconds\".format(total_gunorm))"
   ]
  },
  {
   "cell_type": "code",
   "execution_count": 174,
   "metadata": {},
   "outputs": [
    {
     "data": {
      "image/png": "[encoded data removed]",
      "text/plain": [
       "<Figure size 936x360 with 1 Axes>"
      ]
     },
     "metadata": {
      "needs_background": "light"
     },
     "output_type": "display_data"
    }
   ],
   "source": [
    "totals_guvec = [total_guvec, total_gunorm]\n",
    "names = ['guvectorize', 'Normal']\n",
    "display_res(title=\"Normal and guvectorize Comparation\", xlabel=\"Type of Calculation\", ylabel=\"Total Seconds\", \n",
    "            values = totals_guvec, names=names)"
   ]
  },
  {
   "cell_type": "code",
   "execution_count": 175,
   "metadata": {},
   "outputs": [],
   "source": [
    "@guvectorize([\"int64[:], int64[:, :], int64[:, :]\"], '(n), (r, c) -> (r, c)')\n",
    "def adding(x,y, res):\n",
    "    r, c = y.shape\n",
    "    for i in range(r):\n",
    "        for j in range(c):\n",
    "            res[i][j] = y[i][j] + x[i*j%len(x)]"
   ]
  },
  {
   "cell_type": "code",
   "execution_count": 176,
   "metadata": {},
   "outputs": [
    {
     "name": "stdout",
     "output_type": "stream",
     "text": [
      "guvectorize over multi-dim arrays took: 8.225440979003906e-05\n"
     ]
    }
   ],
   "source": [
    "x = np.arange(5)\n",
    "y = np.arange(12).reshape((3,4))\n",
    "res = np.empty(12).reshape((3,4))\n",
    "start_guvec = time.time()\n",
    "adding(x,y,res)\n",
    "end_guvec = time.time()\n",
    "total_guvec = end_guvec - start_guvec\n",
    "print(\"guvectorize over multi-dim arrays took: {}\".format(total_guvec))"
   ]
  },
  {
   "cell_type": "code",
   "execution_count": 177,
   "metadata": {},
   "outputs": [
    {
     "name": "stdout",
     "output_type": "stream",
     "text": [
      "normal operations over multi-dim arrays took: 0.00010180473327636719\n"
     ]
    }
   ],
   "source": [
    "def adding(x,y, res):\n",
    "    r, c = y.shape\n",
    "    for i in range(r):\n",
    "        for j in range(c):\n",
    "            res[i][j] = y[i][j] + x[i*j%len(x)]\n",
    "            \n",
    "start_norm = time.time()\n",
    "adding(x,y,res)\n",
    "end_norm = time.time()\n",
    "total_norm = end_norm - start_norm\n",
    "print(\"normal operations over multi-dim arrays took: {}\".format(total_norm))"
   ]
  },
  {
   "cell_type": "code",
   "execution_count": 178,
   "metadata": {},
   "outputs": [
    {
     "data": {
      "image/png": "[encoded data removed]",
      "text/plain": [
       "<Figure size 936x360 with 1 Axes>"
      ]
     },
     "metadata": {
      "needs_background": "light"
     },
     "output_type": "display_data"
    }
   ],
   "source": [
    "totals_guvec_norm = [total_guvec, total_norm]\n",
    "names_guvec_norm = [\"guvectorize\", \"Normal\"]\n",
    "display_res(title=\"Comparation between guvectorize and normal operations on multi-dim arrays\", xlabel=\"guvectorize VS normal\", ylabel=\"Total Seconds\", values=totals_guvec_norm, names=names_guvec_norm)"
   ]
  }
 ],
 "metadata": {
  "kernelspec": {
   "display_name": "Python 3",
   "language": "python",
   "name": "python3"
  },
  "language_info": {
   "codemirror_mode": {
    "name": "ipython",
    "version": 3
   },
   "file_extension": ".py",
   "mimetype": "text/x-python",
   "name": "python",
   "nbconvert_exporter": "python",
   "pygments_lexer": "ipython3",
   "version": "3.8.5"
  }
 },
 "nbformat": 4,
 "nbformat_minor": 4
}
